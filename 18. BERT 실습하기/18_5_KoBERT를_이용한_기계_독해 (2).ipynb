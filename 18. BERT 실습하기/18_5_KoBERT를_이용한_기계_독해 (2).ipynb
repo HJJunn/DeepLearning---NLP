{
  "nbformat": 4,
  "nbformat_minor": 0,
  "metadata": {
    "colab": {
      "provenance": [],
      "gpuType": "T4"
    },
    "kernelspec": {
      "name": "python3",
      "display_name": "Python 3"
    },
    "language_info": {
      "name": "python"
    },
    "accelerator": "GPU",
    "widgets": {
      "application/vnd.jupyter.widget-state+json": {
        "b5adfd76bacd429da2c6e680dd0513e0": {
          "model_module": "@jupyter-widgets/controls",
          "model_name": "HBoxModel",
          "model_module_version": "1.5.0",
          "state": {
            "_dom_classes": [],
            "_model_module": "@jupyter-widgets/controls",
            "_model_module_version": "1.5.0",
            "_model_name": "HBoxModel",
            "_view_count": null,
            "_view_module": "@jupyter-widgets/controls",
            "_view_module_version": "1.5.0",
            "_view_name": "HBoxView",
            "box_style": "",
            "children": [
              "IPY_MODEL_ea4bcb1d1298427dbd385bacab6bf2d6",
              "IPY_MODEL_4df1067b09a94ebf8a6608dd49af8adf",
              "IPY_MODEL_2a9f91f58ad346488bca5a5bc94e7556"
            ],
            "layout": "IPY_MODEL_c285142f7ac44008b37ef5f649e638b8"
          }
        },
        "ea4bcb1d1298427dbd385bacab6bf2d6": {
          "model_module": "@jupyter-widgets/controls",
          "model_name": "HTMLModel",
          "model_module_version": "1.5.0",
          "state": {
            "_dom_classes": [],
            "_model_module": "@jupyter-widgets/controls",
            "_model_module_version": "1.5.0",
            "_model_name": "HTMLModel",
            "_view_count": null,
            "_view_module": "@jupyter-widgets/controls",
            "_view_module_version": "1.5.0",
            "_view_name": "HTMLView",
            "description": "",
            "description_tooltip": null,
            "layout": "IPY_MODEL_17db3de0516c4abfad4b4a55d054440a",
            "placeholder": "​",
            "style": "IPY_MODEL_d96e7ed0b714410195a4a8b0e1ec22fb",
            "value": "tokenizer_config.json: 100%"
          }
        },
        "4df1067b09a94ebf8a6608dd49af8adf": {
          "model_module": "@jupyter-widgets/controls",
          "model_name": "FloatProgressModel",
          "model_module_version": "1.5.0",
          "state": {
            "_dom_classes": [],
            "_model_module": "@jupyter-widgets/controls",
            "_model_module_version": "1.5.0",
            "_model_name": "FloatProgressModel",
            "_view_count": null,
            "_view_module": "@jupyter-widgets/controls",
            "_view_module_version": "1.5.0",
            "_view_name": "ProgressView",
            "bar_style": "success",
            "description": "",
            "description_tooltip": null,
            "layout": "IPY_MODEL_85352a4300034f45b133006ed5d97446",
            "max": 373,
            "min": 0,
            "orientation": "horizontal",
            "style": "IPY_MODEL_807dae70f6054d0197373cf12b4562ef",
            "value": 373
          }
        },
        "2a9f91f58ad346488bca5a5bc94e7556": {
          "model_module": "@jupyter-widgets/controls",
          "model_name": "HTMLModel",
          "model_module_version": "1.5.0",
          "state": {
            "_dom_classes": [],
            "_model_module": "@jupyter-widgets/controls",
            "_model_module_version": "1.5.0",
            "_model_name": "HTMLModel",
            "_view_count": null,
            "_view_module": "@jupyter-widgets/controls",
            "_view_module_version": "1.5.0",
            "_view_name": "HTMLView",
            "description": "",
            "description_tooltip": null,
            "layout": "IPY_MODEL_65ab0b1c0c094d638a81e8c8cb6a38d2",
            "placeholder": "​",
            "style": "IPY_MODEL_cd7842ecfc8342ab93ebdbd54482d82d",
            "value": " 373/373 [00:00&lt;00:00, 24.4kB/s]"
          }
        },
        "c285142f7ac44008b37ef5f649e638b8": {
          "model_module": "@jupyter-widgets/base",
          "model_name": "LayoutModel",
          "model_module_version": "1.2.0",
          "state": {
            "_model_module": "@jupyter-widgets/base",
            "_model_module_version": "1.2.0",
            "_model_name": "LayoutModel",
            "_view_count": null,
            "_view_module": "@jupyter-widgets/base",
            "_view_module_version": "1.2.0",
            "_view_name": "LayoutView",
            "align_content": null,
            "align_items": null,
            "align_self": null,
            "border": null,
            "bottom": null,
            "display": null,
            "flex": null,
            "flex_flow": null,
            "grid_area": null,
            "grid_auto_columns": null,
            "grid_auto_flow": null,
            "grid_auto_rows": null,
            "grid_column": null,
            "grid_gap": null,
            "grid_row": null,
            "grid_template_areas": null,
            "grid_template_columns": null,
            "grid_template_rows": null,
            "height": null,
            "justify_content": null,
            "justify_items": null,
            "left": null,
            "margin": null,
            "max_height": null,
            "max_width": null,
            "min_height": null,
            "min_width": null,
            "object_fit": null,
            "object_position": null,
            "order": null,
            "overflow": null,
            "overflow_x": null,
            "overflow_y": null,
            "padding": null,
            "right": null,
            "top": null,
            "visibility": null,
            "width": null
          }
        },
        "17db3de0516c4abfad4b4a55d054440a": {
          "model_module": "@jupyter-widgets/base",
          "model_name": "LayoutModel",
          "model_module_version": "1.2.0",
          "state": {
            "_model_module": "@jupyter-widgets/base",
            "_model_module_version": "1.2.0",
            "_model_name": "LayoutModel",
            "_view_count": null,
            "_view_module": "@jupyter-widgets/base",
            "_view_module_version": "1.2.0",
            "_view_name": "LayoutView",
            "align_content": null,
            "align_items": null,
            "align_self": null,
            "border": null,
            "bottom": null,
            "display": null,
            "flex": null,
            "flex_flow": null,
            "grid_area": null,
            "grid_auto_columns": null,
            "grid_auto_flow": null,
            "grid_auto_rows": null,
            "grid_column": null,
            "grid_gap": null,
            "grid_row": null,
            "grid_template_areas": null,
            "grid_template_columns": null,
            "grid_template_rows": null,
            "height": null,
            "justify_content": null,
            "justify_items": null,
            "left": null,
            "margin": null,
            "max_height": null,
            "max_width": null,
            "min_height": null,
            "min_width": null,
            "object_fit": null,
            "object_position": null,
            "order": null,
            "overflow": null,
            "overflow_x": null,
            "overflow_y": null,
            "padding": null,
            "right": null,
            "top": null,
            "visibility": null,
            "width": null
          }
        },
        "d96e7ed0b714410195a4a8b0e1ec22fb": {
          "model_module": "@jupyter-widgets/controls",
          "model_name": "DescriptionStyleModel",
          "model_module_version": "1.5.0",
          "state": {
            "_model_module": "@jupyter-widgets/controls",
            "_model_module_version": "1.5.0",
            "_model_name": "DescriptionStyleModel",
            "_view_count": null,
            "_view_module": "@jupyter-widgets/base",
            "_view_module_version": "1.2.0",
            "_view_name": "StyleView",
            "description_width": ""
          }
        },
        "85352a4300034f45b133006ed5d97446": {
          "model_module": "@jupyter-widgets/base",
          "model_name": "LayoutModel",
          "model_module_version": "1.2.0",
          "state": {
            "_model_module": "@jupyter-widgets/base",
            "_model_module_version": "1.2.0",
            "_model_name": "LayoutModel",
            "_view_count": null,
            "_view_module": "@jupyter-widgets/base",
            "_view_module_version": "1.2.0",
            "_view_name": "LayoutView",
            "align_content": null,
            "align_items": null,
            "align_self": null,
            "border": null,
            "bottom": null,
            "display": null,
            "flex": null,
            "flex_flow": null,
            "grid_area": null,
            "grid_auto_columns": null,
            "grid_auto_flow": null,
            "grid_auto_rows": null,
            "grid_column": null,
            "grid_gap": null,
            "grid_row": null,
            "grid_template_areas": null,
            "grid_template_columns": null,
            "grid_template_rows": null,
            "height": null,
            "justify_content": null,
            "justify_items": null,
            "left": null,
            "margin": null,
            "max_height": null,
            "max_width": null,
            "min_height": null,
            "min_width": null,
            "object_fit": null,
            "object_position": null,
            "order": null,
            "overflow": null,
            "overflow_x": null,
            "overflow_y": null,
            "padding": null,
            "right": null,
            "top": null,
            "visibility": null,
            "width": null
          }
        },
        "807dae70f6054d0197373cf12b4562ef": {
          "model_module": "@jupyter-widgets/controls",
          "model_name": "ProgressStyleModel",
          "model_module_version": "1.5.0",
          "state": {
            "_model_module": "@jupyter-widgets/controls",
            "_model_module_version": "1.5.0",
            "_model_name": "ProgressStyleModel",
            "_view_count": null,
            "_view_module": "@jupyter-widgets/base",
            "_view_module_version": "1.2.0",
            "_view_name": "StyleView",
            "bar_color": null,
            "description_width": ""
          }
        },
        "65ab0b1c0c094d638a81e8c8cb6a38d2": {
          "model_module": "@jupyter-widgets/base",
          "model_name": "LayoutModel",
          "model_module_version": "1.2.0",
          "state": {
            "_model_module": "@jupyter-widgets/base",
            "_model_module_version": "1.2.0",
            "_model_name": "LayoutModel",
            "_view_count": null,
            "_view_module": "@jupyter-widgets/base",
            "_view_module_version": "1.2.0",
            "_view_name": "LayoutView",
            "align_content": null,
            "align_items": null,
            "align_self": null,
            "border": null,
            "bottom": null,
            "display": null,
            "flex": null,
            "flex_flow": null,
            "grid_area": null,
            "grid_auto_columns": null,
            "grid_auto_flow": null,
            "grid_auto_rows": null,
            "grid_column": null,
            "grid_gap": null,
            "grid_row": null,
            "grid_template_areas": null,
            "grid_template_columns": null,
            "grid_template_rows": null,
            "height": null,
            "justify_content": null,
            "justify_items": null,
            "left": null,
            "margin": null,
            "max_height": null,
            "max_width": null,
            "min_height": null,
            "min_width": null,
            "object_fit": null,
            "object_position": null,
            "order": null,
            "overflow": null,
            "overflow_x": null,
            "overflow_y": null,
            "padding": null,
            "right": null,
            "top": null,
            "visibility": null,
            "width": null
          }
        },
        "cd7842ecfc8342ab93ebdbd54482d82d": {
          "model_module": "@jupyter-widgets/controls",
          "model_name": "DescriptionStyleModel",
          "model_module_version": "1.5.0",
          "state": {
            "_model_module": "@jupyter-widgets/controls",
            "_model_module_version": "1.5.0",
            "_model_name": "DescriptionStyleModel",
            "_view_count": null,
            "_view_module": "@jupyter-widgets/base",
            "_view_module_version": "1.2.0",
            "_view_name": "StyleView",
            "description_width": ""
          }
        },
        "41ed2390993141839b41557170e2faf5": {
          "model_module": "@jupyter-widgets/controls",
          "model_name": "HBoxModel",
          "model_module_version": "1.5.0",
          "state": {
            "_dom_classes": [],
            "_model_module": "@jupyter-widgets/controls",
            "_model_module_version": "1.5.0",
            "_model_name": "HBoxModel",
            "_view_count": null,
            "_view_module": "@jupyter-widgets/controls",
            "_view_module_version": "1.5.0",
            "_view_name": "HBoxView",
            "box_style": "",
            "children": [
              "IPY_MODEL_926153cc2ead4066afbad5639dae6029",
              "IPY_MODEL_3ee4d24c8b384c87a8f57c39b2772ba5",
              "IPY_MODEL_72191973947d48b58459f7ea627bc64d"
            ],
            "layout": "IPY_MODEL_0cb93cfbed564054a43c9624b5b169df"
          }
        },
        "926153cc2ead4066afbad5639dae6029": {
          "model_module": "@jupyter-widgets/controls",
          "model_name": "HTMLModel",
          "model_module_version": "1.5.0",
          "state": {
            "_dom_classes": [],
            "_model_module": "@jupyter-widgets/controls",
            "_model_module_version": "1.5.0",
            "_model_name": "HTMLModel",
            "_view_count": null,
            "_view_module": "@jupyter-widgets/controls",
            "_view_module_version": "1.5.0",
            "_view_name": "HTMLView",
            "description": "",
            "description_tooltip": null,
            "layout": "IPY_MODEL_58f8609adc224d9ca44e7f564931b5fd",
            "placeholder": "​",
            "style": "IPY_MODEL_3a156507bc9144378c6a91708d64b3d7",
            "value": "vocab.txt: 100%"
          }
        },
        "3ee4d24c8b384c87a8f57c39b2772ba5": {
          "model_module": "@jupyter-widgets/controls",
          "model_name": "FloatProgressModel",
          "model_module_version": "1.5.0",
          "state": {
            "_dom_classes": [],
            "_model_module": "@jupyter-widgets/controls",
            "_model_module_version": "1.5.0",
            "_model_name": "FloatProgressModel",
            "_view_count": null,
            "_view_module": "@jupyter-widgets/controls",
            "_view_module_version": "1.5.0",
            "_view_name": "ProgressView",
            "bar_style": "success",
            "description": "",
            "description_tooltip": null,
            "layout": "IPY_MODEL_b4a38b0320a64145b13905f1fd8d91ad",
            "max": 241171,
            "min": 0,
            "orientation": "horizontal",
            "style": "IPY_MODEL_511e1756d7fb40d0802f8c5ad83df0ee",
            "value": 241171
          }
        },
        "72191973947d48b58459f7ea627bc64d": {
          "model_module": "@jupyter-widgets/controls",
          "model_name": "HTMLModel",
          "model_module_version": "1.5.0",
          "state": {
            "_dom_classes": [],
            "_model_module": "@jupyter-widgets/controls",
            "_model_module_version": "1.5.0",
            "_model_name": "HTMLModel",
            "_view_count": null,
            "_view_module": "@jupyter-widgets/controls",
            "_view_module_version": "1.5.0",
            "_view_name": "HTMLView",
            "description": "",
            "description_tooltip": null,
            "layout": "IPY_MODEL_042fa7697b414c598442d4a350a851a2",
            "placeholder": "​",
            "style": "IPY_MODEL_03ea7eeb3ff9434abb8704e8648c4a26",
            "value": " 241k/241k [00:00&lt;00:00, 3.58MB/s]"
          }
        },
        "0cb93cfbed564054a43c9624b5b169df": {
          "model_module": "@jupyter-widgets/base",
          "model_name": "LayoutModel",
          "model_module_version": "1.2.0",
          "state": {
            "_model_module": "@jupyter-widgets/base",
            "_model_module_version": "1.2.0",
            "_model_name": "LayoutModel",
            "_view_count": null,
            "_view_module": "@jupyter-widgets/base",
            "_view_module_version": "1.2.0",
            "_view_name": "LayoutView",
            "align_content": null,
            "align_items": null,
            "align_self": null,
            "border": null,
            "bottom": null,
            "display": null,
            "flex": null,
            "flex_flow": null,
            "grid_area": null,
            "grid_auto_columns": null,
            "grid_auto_flow": null,
            "grid_auto_rows": null,
            "grid_column": null,
            "grid_gap": null,
            "grid_row": null,
            "grid_template_areas": null,
            "grid_template_columns": null,
            "grid_template_rows": null,
            "height": null,
            "justify_content": null,
            "justify_items": null,
            "left": null,
            "margin": null,
            "max_height": null,
            "max_width": null,
            "min_height": null,
            "min_width": null,
            "object_fit": null,
            "object_position": null,
            "order": null,
            "overflow": null,
            "overflow_x": null,
            "overflow_y": null,
            "padding": null,
            "right": null,
            "top": null,
            "visibility": null,
            "width": null
          }
        },
        "58f8609adc224d9ca44e7f564931b5fd": {
          "model_module": "@jupyter-widgets/base",
          "model_name": "LayoutModel",
          "model_module_version": "1.2.0",
          "state": {
            "_model_module": "@jupyter-widgets/base",
            "_model_module_version": "1.2.0",
            "_model_name": "LayoutModel",
            "_view_count": null,
            "_view_module": "@jupyter-widgets/base",
            "_view_module_version": "1.2.0",
            "_view_name": "LayoutView",
            "align_content": null,
            "align_items": null,
            "align_self": null,
            "border": null,
            "bottom": null,
            "display": null,
            "flex": null,
            "flex_flow": null,
            "grid_area": null,
            "grid_auto_columns": null,
            "grid_auto_flow": null,
            "grid_auto_rows": null,
            "grid_column": null,
            "grid_gap": null,
            "grid_row": null,
            "grid_template_areas": null,
            "grid_template_columns": null,
            "grid_template_rows": null,
            "height": null,
            "justify_content": null,
            "justify_items": null,
            "left": null,
            "margin": null,
            "max_height": null,
            "max_width": null,
            "min_height": null,
            "min_width": null,
            "object_fit": null,
            "object_position": null,
            "order": null,
            "overflow": null,
            "overflow_x": null,
            "overflow_y": null,
            "padding": null,
            "right": null,
            "top": null,
            "visibility": null,
            "width": null
          }
        },
        "3a156507bc9144378c6a91708d64b3d7": {
          "model_module": "@jupyter-widgets/controls",
          "model_name": "DescriptionStyleModel",
          "model_module_version": "1.5.0",
          "state": {
            "_model_module": "@jupyter-widgets/controls",
            "_model_module_version": "1.5.0",
            "_model_name": "DescriptionStyleModel",
            "_view_count": null,
            "_view_module": "@jupyter-widgets/base",
            "_view_module_version": "1.2.0",
            "_view_name": "StyleView",
            "description_width": ""
          }
        },
        "b4a38b0320a64145b13905f1fd8d91ad": {
          "model_module": "@jupyter-widgets/base",
          "model_name": "LayoutModel",
          "model_module_version": "1.2.0",
          "state": {
            "_model_module": "@jupyter-widgets/base",
            "_model_module_version": "1.2.0",
            "_model_name": "LayoutModel",
            "_view_count": null,
            "_view_module": "@jupyter-widgets/base",
            "_view_module_version": "1.2.0",
            "_view_name": "LayoutView",
            "align_content": null,
            "align_items": null,
            "align_self": null,
            "border": null,
            "bottom": null,
            "display": null,
            "flex": null,
            "flex_flow": null,
            "grid_area": null,
            "grid_auto_columns": null,
            "grid_auto_flow": null,
            "grid_auto_rows": null,
            "grid_column": null,
            "grid_gap": null,
            "grid_row": null,
            "grid_template_areas": null,
            "grid_template_columns": null,
            "grid_template_rows": null,
            "height": null,
            "justify_content": null,
            "justify_items": null,
            "left": null,
            "margin": null,
            "max_height": null,
            "max_width": null,
            "min_height": null,
            "min_width": null,
            "object_fit": null,
            "object_position": null,
            "order": null,
            "overflow": null,
            "overflow_x": null,
            "overflow_y": null,
            "padding": null,
            "right": null,
            "top": null,
            "visibility": null,
            "width": null
          }
        },
        "511e1756d7fb40d0802f8c5ad83df0ee": {
          "model_module": "@jupyter-widgets/controls",
          "model_name": "ProgressStyleModel",
          "model_module_version": "1.5.0",
          "state": {
            "_model_module": "@jupyter-widgets/controls",
            "_model_module_version": "1.5.0",
            "_model_name": "ProgressStyleModel",
            "_view_count": null,
            "_view_module": "@jupyter-widgets/base",
            "_view_module_version": "1.2.0",
            "_view_name": "StyleView",
            "bar_color": null,
            "description_width": ""
          }
        },
        "042fa7697b414c598442d4a350a851a2": {
          "model_module": "@jupyter-widgets/base",
          "model_name": "LayoutModel",
          "model_module_version": "1.2.0",
          "state": {
            "_model_module": "@jupyter-widgets/base",
            "_model_module_version": "1.2.0",
            "_model_name": "LayoutModel",
            "_view_count": null,
            "_view_module": "@jupyter-widgets/base",
            "_view_module_version": "1.2.0",
            "_view_name": "LayoutView",
            "align_content": null,
            "align_items": null,
            "align_self": null,
            "border": null,
            "bottom": null,
            "display": null,
            "flex": null,
            "flex_flow": null,
            "grid_area": null,
            "grid_auto_columns": null,
            "grid_auto_flow": null,
            "grid_auto_rows": null,
            "grid_column": null,
            "grid_gap": null,
            "grid_row": null,
            "grid_template_areas": null,
            "grid_template_columns": null,
            "grid_template_rows": null,
            "height": null,
            "justify_content": null,
            "justify_items": null,
            "left": null,
            "margin": null,
            "max_height": null,
            "max_width": null,
            "min_height": null,
            "min_width": null,
            "object_fit": null,
            "object_position": null,
            "order": null,
            "overflow": null,
            "overflow_x": null,
            "overflow_y": null,
            "padding": null,
            "right": null,
            "top": null,
            "visibility": null,
            "width": null
          }
        },
        "03ea7eeb3ff9434abb8704e8648c4a26": {
          "model_module": "@jupyter-widgets/controls",
          "model_name": "DescriptionStyleModel",
          "model_module_version": "1.5.0",
          "state": {
            "_model_module": "@jupyter-widgets/controls",
            "_model_module_version": "1.5.0",
            "_model_name": "DescriptionStyleModel",
            "_view_count": null,
            "_view_module": "@jupyter-widgets/base",
            "_view_module_version": "1.2.0",
            "_view_name": "StyleView",
            "description_width": ""
          }
        },
        "2bc2f971613046a295531ea2dfd1dd19": {
          "model_module": "@jupyter-widgets/controls",
          "model_name": "HBoxModel",
          "model_module_version": "1.5.0",
          "state": {
            "_dom_classes": [],
            "_model_module": "@jupyter-widgets/controls",
            "_model_module_version": "1.5.0",
            "_model_name": "HBoxModel",
            "_view_count": null,
            "_view_module": "@jupyter-widgets/controls",
            "_view_module_version": "1.5.0",
            "_view_name": "HBoxView",
            "box_style": "",
            "children": [
              "IPY_MODEL_edbdb4960c5840cb9bbdd7a2c40385fc",
              "IPY_MODEL_897cf1f23b5341d38bd15709bb6449ed",
              "IPY_MODEL_0fb2ed200086402993b9e010454d7a78"
            ],
            "layout": "IPY_MODEL_0808bde1e92048ee9b95dc43c9089786"
          }
        },
        "edbdb4960c5840cb9bbdd7a2c40385fc": {
          "model_module": "@jupyter-widgets/controls",
          "model_name": "HTMLModel",
          "model_module_version": "1.5.0",
          "state": {
            "_dom_classes": [],
            "_model_module": "@jupyter-widgets/controls",
            "_model_module_version": "1.5.0",
            "_model_name": "HTMLModel",
            "_view_count": null,
            "_view_module": "@jupyter-widgets/controls",
            "_view_module_version": "1.5.0",
            "_view_name": "HTMLView",
            "description": "",
            "description_tooltip": null,
            "layout": "IPY_MODEL_12242dd62d514382a4ff4d855056716e",
            "placeholder": "​",
            "style": "IPY_MODEL_b4ed98e563f049f8b69bcd7f29efe43a",
            "value": "tokenizer.json: 100%"
          }
        },
        "897cf1f23b5341d38bd15709bb6449ed": {
          "model_module": "@jupyter-widgets/controls",
          "model_name": "FloatProgressModel",
          "model_module_version": "1.5.0",
          "state": {
            "_dom_classes": [],
            "_model_module": "@jupyter-widgets/controls",
            "_model_module_version": "1.5.0",
            "_model_name": "FloatProgressModel",
            "_view_count": null,
            "_view_module": "@jupyter-widgets/controls",
            "_view_module_version": "1.5.0",
            "_view_name": "ProgressView",
            "bar_style": "success",
            "description": "",
            "description_tooltip": null,
            "layout": "IPY_MODEL_ec53cb61a77342adb048e84f601a070f",
            "max": 491774,
            "min": 0,
            "orientation": "horizontal",
            "style": "IPY_MODEL_a432e5a75c274c7dbe7c049f3dcf48c2",
            "value": 491774
          }
        },
        "0fb2ed200086402993b9e010454d7a78": {
          "model_module": "@jupyter-widgets/controls",
          "model_name": "HTMLModel",
          "model_module_version": "1.5.0",
          "state": {
            "_dom_classes": [],
            "_model_module": "@jupyter-widgets/controls",
            "_model_module_version": "1.5.0",
            "_model_name": "HTMLModel",
            "_view_count": null,
            "_view_module": "@jupyter-widgets/controls",
            "_view_module_version": "1.5.0",
            "_view_name": "HTMLView",
            "description": "",
            "description_tooltip": null,
            "layout": "IPY_MODEL_b5ed151e91884b6f84863968e48dbf25",
            "placeholder": "​",
            "style": "IPY_MODEL_29914bb177034473b8d7b7203bbd9f55",
            "value": " 492k/492k [00:00&lt;00:00, 7.57MB/s]"
          }
        },
        "0808bde1e92048ee9b95dc43c9089786": {
          "model_module": "@jupyter-widgets/base",
          "model_name": "LayoutModel",
          "model_module_version": "1.2.0",
          "state": {
            "_model_module": "@jupyter-widgets/base",
            "_model_module_version": "1.2.0",
            "_model_name": "LayoutModel",
            "_view_count": null,
            "_view_module": "@jupyter-widgets/base",
            "_view_module_version": "1.2.0",
            "_view_name": "LayoutView",
            "align_content": null,
            "align_items": null,
            "align_self": null,
            "border": null,
            "bottom": null,
            "display": null,
            "flex": null,
            "flex_flow": null,
            "grid_area": null,
            "grid_auto_columns": null,
            "grid_auto_flow": null,
            "grid_auto_rows": null,
            "grid_column": null,
            "grid_gap": null,
            "grid_row": null,
            "grid_template_areas": null,
            "grid_template_columns": null,
            "grid_template_rows": null,
            "height": null,
            "justify_content": null,
            "justify_items": null,
            "left": null,
            "margin": null,
            "max_height": null,
            "max_width": null,
            "min_height": null,
            "min_width": null,
            "object_fit": null,
            "object_position": null,
            "order": null,
            "overflow": null,
            "overflow_x": null,
            "overflow_y": null,
            "padding": null,
            "right": null,
            "top": null,
            "visibility": null,
            "width": null
          }
        },
        "12242dd62d514382a4ff4d855056716e": {
          "model_module": "@jupyter-widgets/base",
          "model_name": "LayoutModel",
          "model_module_version": "1.2.0",
          "state": {
            "_model_module": "@jupyter-widgets/base",
            "_model_module_version": "1.2.0",
            "_model_name": "LayoutModel",
            "_view_count": null,
            "_view_module": "@jupyter-widgets/base",
            "_view_module_version": "1.2.0",
            "_view_name": "LayoutView",
            "align_content": null,
            "align_items": null,
            "align_self": null,
            "border": null,
            "bottom": null,
            "display": null,
            "flex": null,
            "flex_flow": null,
            "grid_area": null,
            "grid_auto_columns": null,
            "grid_auto_flow": null,
            "grid_auto_rows": null,
            "grid_column": null,
            "grid_gap": null,
            "grid_row": null,
            "grid_template_areas": null,
            "grid_template_columns": null,
            "grid_template_rows": null,
            "height": null,
            "justify_content": null,
            "justify_items": null,
            "left": null,
            "margin": null,
            "max_height": null,
            "max_width": null,
            "min_height": null,
            "min_width": null,
            "object_fit": null,
            "object_position": null,
            "order": null,
            "overflow": null,
            "overflow_x": null,
            "overflow_y": null,
            "padding": null,
            "right": null,
            "top": null,
            "visibility": null,
            "width": null
          }
        },
        "b4ed98e563f049f8b69bcd7f29efe43a": {
          "model_module": "@jupyter-widgets/controls",
          "model_name": "DescriptionStyleModel",
          "model_module_version": "1.5.0",
          "state": {
            "_model_module": "@jupyter-widgets/controls",
            "_model_module_version": "1.5.0",
            "_model_name": "DescriptionStyleModel",
            "_view_count": null,
            "_view_module": "@jupyter-widgets/base",
            "_view_module_version": "1.2.0",
            "_view_name": "StyleView",
            "description_width": ""
          }
        },
        "ec53cb61a77342adb048e84f601a070f": {
          "model_module": "@jupyter-widgets/base",
          "model_name": "LayoutModel",
          "model_module_version": "1.2.0",
          "state": {
            "_model_module": "@jupyter-widgets/base",
            "_model_module_version": "1.2.0",
            "_model_name": "LayoutModel",
            "_view_count": null,
            "_view_module": "@jupyter-widgets/base",
            "_view_module_version": "1.2.0",
            "_view_name": "LayoutView",
            "align_content": null,
            "align_items": null,
            "align_self": null,
            "border": null,
            "bottom": null,
            "display": null,
            "flex": null,
            "flex_flow": null,
            "grid_area": null,
            "grid_auto_columns": null,
            "grid_auto_flow": null,
            "grid_auto_rows": null,
            "grid_column": null,
            "grid_gap": null,
            "grid_row": null,
            "grid_template_areas": null,
            "grid_template_columns": null,
            "grid_template_rows": null,
            "height": null,
            "justify_content": null,
            "justify_items": null,
            "left": null,
            "margin": null,
            "max_height": null,
            "max_width": null,
            "min_height": null,
            "min_width": null,
            "object_fit": null,
            "object_position": null,
            "order": null,
            "overflow": null,
            "overflow_x": null,
            "overflow_y": null,
            "padding": null,
            "right": null,
            "top": null,
            "visibility": null,
            "width": null
          }
        },
        "a432e5a75c274c7dbe7c049f3dcf48c2": {
          "model_module": "@jupyter-widgets/controls",
          "model_name": "ProgressStyleModel",
          "model_module_version": "1.5.0",
          "state": {
            "_model_module": "@jupyter-widgets/controls",
            "_model_module_version": "1.5.0",
            "_model_name": "ProgressStyleModel",
            "_view_count": null,
            "_view_module": "@jupyter-widgets/base",
            "_view_module_version": "1.2.0",
            "_view_name": "StyleView",
            "bar_color": null,
            "description_width": ""
          }
        },
        "b5ed151e91884b6f84863968e48dbf25": {
          "model_module": "@jupyter-widgets/base",
          "model_name": "LayoutModel",
          "model_module_version": "1.2.0",
          "state": {
            "_model_module": "@jupyter-widgets/base",
            "_model_module_version": "1.2.0",
            "_model_name": "LayoutModel",
            "_view_count": null,
            "_view_module": "@jupyter-widgets/base",
            "_view_module_version": "1.2.0",
            "_view_name": "LayoutView",
            "align_content": null,
            "align_items": null,
            "align_self": null,
            "border": null,
            "bottom": null,
            "display": null,
            "flex": null,
            "flex_flow": null,
            "grid_area": null,
            "grid_auto_columns": null,
            "grid_auto_flow": null,
            "grid_auto_rows": null,
            "grid_column": null,
            "grid_gap": null,
            "grid_row": null,
            "grid_template_areas": null,
            "grid_template_columns": null,
            "grid_template_rows": null,
            "height": null,
            "justify_content": null,
            "justify_items": null,
            "left": null,
            "margin": null,
            "max_height": null,
            "max_width": null,
            "min_height": null,
            "min_width": null,
            "object_fit": null,
            "object_position": null,
            "order": null,
            "overflow": null,
            "overflow_x": null,
            "overflow_y": null,
            "padding": null,
            "right": null,
            "top": null,
            "visibility": null,
            "width": null
          }
        },
        "29914bb177034473b8d7b7203bbd9f55": {
          "model_module": "@jupyter-widgets/controls",
          "model_name": "DescriptionStyleModel",
          "model_module_version": "1.5.0",
          "state": {
            "_model_module": "@jupyter-widgets/controls",
            "_model_module_version": "1.5.0",
            "_model_name": "DescriptionStyleModel",
            "_view_count": null,
            "_view_module": "@jupyter-widgets/base",
            "_view_module_version": "1.2.0",
            "_view_name": "StyleView",
            "description_width": ""
          }
        },
        "c3781b80a10644b3be7e1c62573e441b": {
          "model_module": "@jupyter-widgets/controls",
          "model_name": "HBoxModel",
          "model_module_version": "1.5.0",
          "state": {
            "_dom_classes": [],
            "_model_module": "@jupyter-widgets/controls",
            "_model_module_version": "1.5.0",
            "_model_name": "HBoxModel",
            "_view_count": null,
            "_view_module": "@jupyter-widgets/controls",
            "_view_module_version": "1.5.0",
            "_view_name": "HBoxView",
            "box_style": "",
            "children": [
              "IPY_MODEL_dc9398076d694acc807c948f0ad86a50",
              "IPY_MODEL_6df8ae785d4f411ea4edc04ebaf0c2be",
              "IPY_MODEL_b4df9d10219f45a4ad5f876064a22c75"
            ],
            "layout": "IPY_MODEL_8aef37a0a7ce4876a7ba50820b039582"
          }
        },
        "dc9398076d694acc807c948f0ad86a50": {
          "model_module": "@jupyter-widgets/controls",
          "model_name": "HTMLModel",
          "model_module_version": "1.5.0",
          "state": {
            "_dom_classes": [],
            "_model_module": "@jupyter-widgets/controls",
            "_model_module_version": "1.5.0",
            "_model_name": "HTMLModel",
            "_view_count": null,
            "_view_module": "@jupyter-widgets/controls",
            "_view_module_version": "1.5.0",
            "_view_name": "HTMLView",
            "description": "",
            "description_tooltip": null,
            "layout": "IPY_MODEL_4893e89dbdb24f9c976291810ee0438e",
            "placeholder": "​",
            "style": "IPY_MODEL_e72215b4b6dd4cd19cb6836b320c5275",
            "value": "special_tokens_map.json: 100%"
          }
        },
        "6df8ae785d4f411ea4edc04ebaf0c2be": {
          "model_module": "@jupyter-widgets/controls",
          "model_name": "FloatProgressModel",
          "model_module_version": "1.5.0",
          "state": {
            "_dom_classes": [],
            "_model_module": "@jupyter-widgets/controls",
            "_model_module_version": "1.5.0",
            "_model_name": "FloatProgressModel",
            "_view_count": null,
            "_view_module": "@jupyter-widgets/controls",
            "_view_module_version": "1.5.0",
            "_view_name": "ProgressView",
            "bar_style": "success",
            "description": "",
            "description_tooltip": null,
            "layout": "IPY_MODEL_e8018e57bf724180832ebdb48a8fb1f2",
            "max": 169,
            "min": 0,
            "orientation": "horizontal",
            "style": "IPY_MODEL_0bac7bec3cbf49e6bd1f83a81578e0f2",
            "value": 169
          }
        },
        "b4df9d10219f45a4ad5f876064a22c75": {
          "model_module": "@jupyter-widgets/controls",
          "model_name": "HTMLModel",
          "model_module_version": "1.5.0",
          "state": {
            "_dom_classes": [],
            "_model_module": "@jupyter-widgets/controls",
            "_model_module_version": "1.5.0",
            "_model_name": "HTMLModel",
            "_view_count": null,
            "_view_module": "@jupyter-widgets/controls",
            "_view_module_version": "1.5.0",
            "_view_name": "HTMLView",
            "description": "",
            "description_tooltip": null,
            "layout": "IPY_MODEL_c0682ec0e96f4da491709626763d68ff",
            "placeholder": "​",
            "style": "IPY_MODEL_f2d444998220420a951c20efcd045851",
            "value": " 169/169 [00:00&lt;00:00, 10.7kB/s]"
          }
        },
        "8aef37a0a7ce4876a7ba50820b039582": {
          "model_module": "@jupyter-widgets/base",
          "model_name": "LayoutModel",
          "model_module_version": "1.2.0",
          "state": {
            "_model_module": "@jupyter-widgets/base",
            "_model_module_version": "1.2.0",
            "_model_name": "LayoutModel",
            "_view_count": null,
            "_view_module": "@jupyter-widgets/base",
            "_view_module_version": "1.2.0",
            "_view_name": "LayoutView",
            "align_content": null,
            "align_items": null,
            "align_self": null,
            "border": null,
            "bottom": null,
            "display": null,
            "flex": null,
            "flex_flow": null,
            "grid_area": null,
            "grid_auto_columns": null,
            "grid_auto_flow": null,
            "grid_auto_rows": null,
            "grid_column": null,
            "grid_gap": null,
            "grid_row": null,
            "grid_template_areas": null,
            "grid_template_columns": null,
            "grid_template_rows": null,
            "height": null,
            "justify_content": null,
            "justify_items": null,
            "left": null,
            "margin": null,
            "max_height": null,
            "max_width": null,
            "min_height": null,
            "min_width": null,
            "object_fit": null,
            "object_position": null,
            "order": null,
            "overflow": null,
            "overflow_x": null,
            "overflow_y": null,
            "padding": null,
            "right": null,
            "top": null,
            "visibility": null,
            "width": null
          }
        },
        "4893e89dbdb24f9c976291810ee0438e": {
          "model_module": "@jupyter-widgets/base",
          "model_name": "LayoutModel",
          "model_module_version": "1.2.0",
          "state": {
            "_model_module": "@jupyter-widgets/base",
            "_model_module_version": "1.2.0",
            "_model_name": "LayoutModel",
            "_view_count": null,
            "_view_module": "@jupyter-widgets/base",
            "_view_module_version": "1.2.0",
            "_view_name": "LayoutView",
            "align_content": null,
            "align_items": null,
            "align_self": null,
            "border": null,
            "bottom": null,
            "display": null,
            "flex": null,
            "flex_flow": null,
            "grid_area": null,
            "grid_auto_columns": null,
            "grid_auto_flow": null,
            "grid_auto_rows": null,
            "grid_column": null,
            "grid_gap": null,
            "grid_row": null,
            "grid_template_areas": null,
            "grid_template_columns": null,
            "grid_template_rows": null,
            "height": null,
            "justify_content": null,
            "justify_items": null,
            "left": null,
            "margin": null,
            "max_height": null,
            "max_width": null,
            "min_height": null,
            "min_width": null,
            "object_fit": null,
            "object_position": null,
            "order": null,
            "overflow": null,
            "overflow_x": null,
            "overflow_y": null,
            "padding": null,
            "right": null,
            "top": null,
            "visibility": null,
            "width": null
          }
        },
        "e72215b4b6dd4cd19cb6836b320c5275": {
          "model_module": "@jupyter-widgets/controls",
          "model_name": "DescriptionStyleModel",
          "model_module_version": "1.5.0",
          "state": {
            "_model_module": "@jupyter-widgets/controls",
            "_model_module_version": "1.5.0",
            "_model_name": "DescriptionStyleModel",
            "_view_count": null,
            "_view_module": "@jupyter-widgets/base",
            "_view_module_version": "1.2.0",
            "_view_name": "StyleView",
            "description_width": ""
          }
        },
        "e8018e57bf724180832ebdb48a8fb1f2": {
          "model_module": "@jupyter-widgets/base",
          "model_name": "LayoutModel",
          "model_module_version": "1.2.0",
          "state": {
            "_model_module": "@jupyter-widgets/base",
            "_model_module_version": "1.2.0",
            "_model_name": "LayoutModel",
            "_view_count": null,
            "_view_module": "@jupyter-widgets/base",
            "_view_module_version": "1.2.0",
            "_view_name": "LayoutView",
            "align_content": null,
            "align_items": null,
            "align_self": null,
            "border": null,
            "bottom": null,
            "display": null,
            "flex": null,
            "flex_flow": null,
            "grid_area": null,
            "grid_auto_columns": null,
            "grid_auto_flow": null,
            "grid_auto_rows": null,
            "grid_column": null,
            "grid_gap": null,
            "grid_row": null,
            "grid_template_areas": null,
            "grid_template_columns": null,
            "grid_template_rows": null,
            "height": null,
            "justify_content": null,
            "justify_items": null,
            "left": null,
            "margin": null,
            "max_height": null,
            "max_width": null,
            "min_height": null,
            "min_width": null,
            "object_fit": null,
            "object_position": null,
            "order": null,
            "overflow": null,
            "overflow_x": null,
            "overflow_y": null,
            "padding": null,
            "right": null,
            "top": null,
            "visibility": null,
            "width": null
          }
        },
        "0bac7bec3cbf49e6bd1f83a81578e0f2": {
          "model_module": "@jupyter-widgets/controls",
          "model_name": "ProgressStyleModel",
          "model_module_version": "1.5.0",
          "state": {
            "_model_module": "@jupyter-widgets/controls",
            "_model_module_version": "1.5.0",
            "_model_name": "ProgressStyleModel",
            "_view_count": null,
            "_view_module": "@jupyter-widgets/base",
            "_view_module_version": "1.2.0",
            "_view_name": "StyleView",
            "bar_color": null,
            "description_width": ""
          }
        },
        "c0682ec0e96f4da491709626763d68ff": {
          "model_module": "@jupyter-widgets/base",
          "model_name": "LayoutModel",
          "model_module_version": "1.2.0",
          "state": {
            "_model_module": "@jupyter-widgets/base",
            "_model_module_version": "1.2.0",
            "_model_name": "LayoutModel",
            "_view_count": null,
            "_view_module": "@jupyter-widgets/base",
            "_view_module_version": "1.2.0",
            "_view_name": "LayoutView",
            "align_content": null,
            "align_items": null,
            "align_self": null,
            "border": null,
            "bottom": null,
            "display": null,
            "flex": null,
            "flex_flow": null,
            "grid_area": null,
            "grid_auto_columns": null,
            "grid_auto_flow": null,
            "grid_auto_rows": null,
            "grid_column": null,
            "grid_gap": null,
            "grid_row": null,
            "grid_template_areas": null,
            "grid_template_columns": null,
            "grid_template_rows": null,
            "height": null,
            "justify_content": null,
            "justify_items": null,
            "left": null,
            "margin": null,
            "max_height": null,
            "max_width": null,
            "min_height": null,
            "min_width": null,
            "object_fit": null,
            "object_position": null,
            "order": null,
            "overflow": null,
            "overflow_x": null,
            "overflow_y": null,
            "padding": null,
            "right": null,
            "top": null,
            "visibility": null,
            "width": null
          }
        },
        "f2d444998220420a951c20efcd045851": {
          "model_module": "@jupyter-widgets/controls",
          "model_name": "DescriptionStyleModel",
          "model_module_version": "1.5.0",
          "state": {
            "_model_module": "@jupyter-widgets/controls",
            "_model_module_version": "1.5.0",
            "_model_name": "DescriptionStyleModel",
            "_view_count": null,
            "_view_module": "@jupyter-widgets/base",
            "_view_module_version": "1.2.0",
            "_view_name": "StyleView",
            "description_width": ""
          }
        }
      }
    }
  },
  "cells": [
    {
      "cell_type": "code",
      "execution_count": 1,
      "metadata": {
        "id": "1EVRQFFNASSr",
        "colab": {
          "base_uri": "https://localhost:8080/"
        },
        "outputId": "b7656247-dfdb-4c31-c041-f25047bbb6d3"
      },
      "outputs": [
        {
          "output_type": "stream",
          "name": "stdout",
          "text": [
            "Requirement already satisfied: transformers in /usr/local/lib/python3.11/dist-packages (4.52.4)\n",
            "Requirement already satisfied: filelock in /usr/local/lib/python3.11/dist-packages (from transformers) (3.18.0)\n",
            "Requirement already satisfied: huggingface-hub<1.0,>=0.30.0 in /usr/local/lib/python3.11/dist-packages (from transformers) (0.33.0)\n",
            "Requirement already satisfied: numpy>=1.17 in /usr/local/lib/python3.11/dist-packages (from transformers) (2.0.2)\n",
            "Requirement already satisfied: packaging>=20.0 in /usr/local/lib/python3.11/dist-packages (from transformers) (24.2)\n",
            "Requirement already satisfied: pyyaml>=5.1 in /usr/local/lib/python3.11/dist-packages (from transformers) (6.0.2)\n",
            "Requirement already satisfied: regex!=2019.12.17 in /usr/local/lib/python3.11/dist-packages (from transformers) (2024.11.6)\n",
            "Requirement already satisfied: requests in /usr/local/lib/python3.11/dist-packages (from transformers) (2.32.3)\n",
            "Requirement already satisfied: tokenizers<0.22,>=0.21 in /usr/local/lib/python3.11/dist-packages (from transformers) (0.21.1)\n",
            "Requirement already satisfied: safetensors>=0.4.3 in /usr/local/lib/python3.11/dist-packages (from transformers) (0.5.3)\n",
            "Requirement already satisfied: tqdm>=4.27 in /usr/local/lib/python3.11/dist-packages (from transformers) (4.67.1)\n",
            "Requirement already satisfied: fsspec>=2023.5.0 in /usr/local/lib/python3.11/dist-packages (from huggingface-hub<1.0,>=0.30.0->transformers) (2025.3.2)\n",
            "Requirement already satisfied: typing-extensions>=3.7.4.3 in /usr/local/lib/python3.11/dist-packages (from huggingface-hub<1.0,>=0.30.0->transformers) (4.14.0)\n",
            "Requirement already satisfied: hf-xet<2.0.0,>=1.1.2 in /usr/local/lib/python3.11/dist-packages (from huggingface-hub<1.0,>=0.30.0->transformers) (1.1.4)\n",
            "Requirement already satisfied: charset-normalizer<4,>=2 in /usr/local/lib/python3.11/dist-packages (from requests->transformers) (3.4.2)\n",
            "Requirement already satisfied: idna<4,>=2.5 in /usr/local/lib/python3.11/dist-packages (from requests->transformers) (3.10)\n",
            "Requirement already satisfied: urllib3<3,>=1.21.1 in /usr/local/lib/python3.11/dist-packages (from requests->transformers) (2.4.0)\n",
            "Requirement already satisfied: certifi>=2017.4.17 in /usr/local/lib/python3.11/dist-packages (from requests->transformers) (2025.6.15)\n"
          ]
        }
      ],
      "source": [
        "!pip install transformers"
      ]
    },
    {
      "cell_type": "markdown",
      "source": [
        "# 1) 데이터 전처리\n"
      ],
      "metadata": {
        "id": "B8n8558vAcBL"
      }
    },
    {
      "cell_type": "code",
      "source": [
        " import os\n",
        " import json\n",
        " import numpy as np\n",
        " from tqdm import tqdm\n",
        " from pathlib import Path\n",
        " from transformers import BertTokenizerFast\n",
        " import tensorflow as tf\n",
        " !wget https://korquad.github.io/dataset/KorQuAD_v1.0_train.json -O KorQuAD_v1.0_train.json\n",
        " !wget https://korquad.github.io/dataset/KorQuAD_v1.0_dev.json -O KorQuAD_v1.0_dev.json"
      ],
      "metadata": {
        "id": "CAINl9RQAbGZ",
        "colab": {
          "base_uri": "https://localhost:8080/"
        },
        "outputId": "68c6f767-a4f1-4897-d961-8f6269ca6b9b"
      },
      "execution_count": 2,
      "outputs": [
        {
          "output_type": "stream",
          "name": "stdout",
          "text": [
            "--2025-06-25 08:49:46--  https://korquad.github.io/dataset/KorQuAD_v1.0_train.json\n",
            "Resolving korquad.github.io (korquad.github.io)... 185.199.108.153, 185.199.109.153, 185.199.110.153, ...\n",
            "Connecting to korquad.github.io (korquad.github.io)|185.199.108.153|:443... connected.\n",
            "HTTP request sent, awaiting response... 200 OK\n",
            "Length: 38527475 (37M) [application/json]\n",
            "Saving to: ‘KorQuAD_v1.0_train.json’\n",
            "\n",
            "KorQuAD_v1.0_train. 100%[===================>]  36.74M   192MB/s    in 0.2s    \n",
            "\n",
            "2025-06-25 08:49:47 (192 MB/s) - ‘KorQuAD_v1.0_train.json’ saved [38527475/38527475]\n",
            "\n",
            "--2025-06-25 08:49:47--  https://korquad.github.io/dataset/KorQuAD_v1.0_dev.json\n",
            "Resolving korquad.github.io (korquad.github.io)... 185.199.108.153, 185.199.109.153, 185.199.110.153, ...\n",
            "Connecting to korquad.github.io (korquad.github.io)|185.199.108.153|:443... connected.\n",
            "HTTP request sent, awaiting response... 200 OK\n",
            "Length: 3881058 (3.7M) [application/json]\n",
            "Saving to: ‘KorQuAD_v1.0_dev.json’\n",
            "\n",
            "KorQuAD_v1.0_dev.js 100%[===================>]   3.70M  --.-KB/s    in 0.08s   \n",
            "\n",
            "2025-06-25 08:49:48 (47.1 MB/s) - ‘KorQuAD_v1.0_dev.json’ saved [3881058/3881058]\n",
            "\n"
          ]
        }
      ]
    },
    {
      "cell_type": "code",
      "source": [
        "def read_squad(path):\n",
        "  path = Path(path)\n",
        "  with open(path, 'rb') as f:\n",
        "    squad_dict = json.load(f)\n",
        "\n",
        "    contexts = []\n",
        "    questions = []\n",
        "    answers = []\n",
        "    for group in squad_dict['data']:\n",
        "        for passage in group['paragraphs']:\n",
        "            context = passage['context']\n",
        "            for qa in passage['qas']:\n",
        "                question = qa['question']\n",
        "                for answer in qa['answers']:\n",
        "                    contexts.append(context)\n",
        "                    questions.append(question)\n",
        "                    answers.append(answer)\n",
        "\n",
        "    return contexts, questions, answers\n",
        "\n",
        "train_contexts, train_questions, train_answers = read_squad(\"KorQuAD_v1.0_train.json\")\n",
        "val_contexts, val_questions, val_answers = read_squad(\"KorQuAD_v1.0_dev.json\")"
      ],
      "metadata": {
        "id": "pOxRFQptAbCd"
      },
      "execution_count": 3,
      "outputs": []
    },
    {
      "cell_type": "code",
      "source": [
        "print(\"훈련 데이터의 본문 개수:\", len(train_contexts))\n",
        "print(\"훈련 데이터의 질문 개수:\", len(train_questions))\n",
        "print(\"훈련 데이터의 답변 개수:\", len(train_answers))\n",
        "print(\"테스트 데이터의 본문 개수:\", len(val_contexts))\n",
        "print(\"테스트 데이터의 질문 개수:\", len(val_questions))\n",
        "print(\"테스트 데이터의 답변 개수:\", len(val_answers))"
      ],
      "metadata": {
        "id": "K7PqJ-A2Aa-q",
        "colab": {
          "base_uri": "https://localhost:8080/"
        },
        "outputId": "9a1e00ff-63bc-4708-a563-e13347bf70b6"
      },
      "execution_count": 4,
      "outputs": [
        {
          "output_type": "stream",
          "name": "stdout",
          "text": [
            "훈련 데이터의 본문 개수: 60407\n",
            "훈련 데이터의 질문 개수: 60407\n",
            "훈련 데이터의 답변 개수: 60407\n",
            "테스트 데이터의 본문 개수: 5774\n",
            "테스트 데이터의 질문 개수: 5774\n",
            "테스트 데이터의 답변 개수: 5774\n"
          ]
        }
      ]
    },
    {
      "cell_type": "code",
      "source": [
        "print(\"첫번째 샘플의 본문\", train_contexts[0])"
      ],
      "metadata": {
        "id": "bMpNhGj_CIZ5",
        "colab": {
          "base_uri": "https://localhost:8080/"
        },
        "outputId": "e480a2a4-5332-40b5-d428-fed79bce58ba"
      },
      "execution_count": 5,
      "outputs": [
        {
          "output_type": "stream",
          "name": "stdout",
          "text": [
            "첫번째 샘플의 본문 1839년 바그너는 괴테의 파우스트을 처음 읽고 그 내용에 마음이 끌려 이를 소재로 해서 하나의 교향곡을 쓰려는 뜻을 갖는다. 이 시기 바그너는 1838년에 빛 독촉으로 산전수전을 다 걲은 상황이라 좌절과 실망에 가득했으며 메피스토펠레스를 만나는 파우스트의 심경에 공감했다고 한다. 또한 파리에서 아브네크의 지휘로 파리 음악원 관현악단이 연주하는 베토벤의 교향곡 9번을 듣고 깊은 감명을 받았는데, 이것이 이듬해 1월에 파우스트의 서곡으로 쓰여진 이 작품에 조금이라도 영향을 끼쳤으리라는 것은 의심할 여지가 없다. 여기의 라단조 조성의 경우에도 그의 전기에 적혀 있는 것처럼 단순한 정신적 피로나 실의가 반영된 것이 아니라 베토벤의 합창교향곡 조성의 영향을 받은 것을 볼 수 있다. 그렇게 교향곡 작곡을 1839년부터 40년에 걸쳐 파리에서 착수했으나 1악장을 쓴 뒤에 중단했다. 또한 작품의 완성과 동시에 그는 이 서곡(1악장)을 파리 음악원의 연주회에서 연주할 파트보까지 준비하였으나, 실제로는 이루어지지는 않았다. 결국 초연은 4년 반이 지난 후에 드레스덴에서 연주되었고 재연도 이루어졌지만, 이후에 그대로 방치되고 말았다. 그 사이에 그는 리엔치와 방황하는 네덜란드인을 완성하고 탄호이저에도 착수하는 등 분주한 시간을 보냈는데, 그런 바쁜 생활이 이 곡을 잊게 한 것이 아닌가 하는 의견도 있다.\n"
          ]
        }
      ]
    },
    {
      "cell_type": "code",
      "source": [
        "print(\"첫번째 샘플의 질문\", train_questions[0])"
      ],
      "metadata": {
        "id": "USginujICTD2",
        "colab": {
          "base_uri": "https://localhost:8080/"
        },
        "outputId": "b00c5c9f-32cf-4491-b6fe-8b1e4ede2916"
      },
      "execution_count": 6,
      "outputs": [
        {
          "output_type": "stream",
          "name": "stdout",
          "text": [
            "첫번째 샘플의 질문 바그너는 괴테의 파우스트를 읽고 무엇을 쓰고자 했는가?\n"
          ]
        }
      ]
    },
    {
      "cell_type": "code",
      "source": [
        "print(\"첫번째 샘플의 답변\", train_answers[0])"
      ],
      "metadata": {
        "id": "Ti4KiHeAAa74",
        "colab": {
          "base_uri": "https://localhost:8080/"
        },
        "outputId": "9acbaf41-fd8f-4eb4-8731-56bc5f81c16a"
      },
      "execution_count": 7,
      "outputs": [
        {
          "output_type": "stream",
          "name": "stdout",
          "text": [
            "첫번째 샘플의 답변 {'text': '교향곡', 'answer_start': 54}\n"
          ]
        }
      ]
    },
    {
      "cell_type": "code",
      "source": [
        "#train_answers에 종료 인덱스 추가 => 시작 인덱스에 정답 텍스트 길이 더함\n",
        "def add_end_idx(answers, contexts):\n",
        "    for answer, context in zip(answers, contexts):\n",
        "        answer['text'] = answer['text'].rstrip()\n",
        "\n",
        "        gold_text = answer['text']\n",
        "        start_idx = answer['answer_start']\n",
        "        end_idx = start_idx + len(gold_text)\n",
        "\n",
        "        assert context[start_idx:end_idx] == gold_text, \"end_idx 계산에 에러가 있습니다.\"\n",
        "        answer['answer_end'] = end_idx\n",
        "\n",
        "add_end_idx(train_answers, train_contexts)\n",
        "add_end_idx(val_answers, val_contexts)"
      ],
      "metadata": {
        "id": "0aQZfDTFCjRS"
      },
      "execution_count": 8,
      "outputs": []
    },
    {
      "cell_type": "code",
      "source": [
        "print(\"첫번째 샘플의 답변:\", train_answers[0])"
      ],
      "metadata": {
        "id": "0Fo-cjOZDxX0",
        "colab": {
          "base_uri": "https://localhost:8080/"
        },
        "outputId": "efd92164-a337-4841-efeb-b8eb65d7c0c2"
      },
      "execution_count": 9,
      "outputs": [
        {
          "output_type": "stream",
          "name": "stdout",
          "text": [
            "첫번째 샘플의 답변: {'text': '교향곡', 'answer_start': 54, 'answer_end': 57}\n"
          ]
        }
      ]
    },
    {
      "cell_type": "code",
      "source": [
        "train_contexts[0][54:57]"
      ],
      "metadata": {
        "id": "n0wrOqUeDxU1",
        "colab": {
          "base_uri": "https://localhost:8080/",
          "height": 36
        },
        "outputId": "3a16caee-9037-4aab-8d52-9de349a4cb45"
      },
      "execution_count": 10,
      "outputs": [
        {
          "output_type": "execute_result",
          "data": {
            "text/plain": [
              "'교향곡'"
            ],
            "application/vnd.google.colaboratory.intrinsic+json": {
              "type": "string"
            }
          },
          "metadata": {},
          "execution_count": 10
        }
      ]
    },
    {
      "cell_type": "code",
      "source": [
        "#토크나이저, 본문과 질문을 토크나이저 입력으로\n",
        "tokenizer = BertTokenizerFast.from_pretrained('klue/bert-base')\n",
        "\n",
        "train_encodings = tokenizer(train_contexts, train_questions, max_length = 256, truncation = True, padding = 'max_length')\n",
        "val_encodings = tokenizer(val_contexts, val_questions, max_length = 256, truncation = True, padding = 'max_length')"
      ],
      "metadata": {
        "id": "i8HQguPXDxSF",
        "colab": {
          "base_uri": "https://localhost:8080/"
        },
        "outputId": "18b10b92-281b-4775-feef-ca39af2e44de"
      },
      "execution_count": 11,
      "outputs": [
        {
          "output_type": "stream",
          "name": "stderr",
          "text": [
            "/usr/local/lib/python3.11/dist-packages/huggingface_hub/utils/_auth.py:94: UserWarning: \n",
            "The secret `HF_TOKEN` does not exist in your Colab secrets.\n",
            "To authenticate with the Hugging Face Hub, create a token in your settings tab (https://huggingface.co/settings/tokens), set it as secret in your Google Colab and restart your session.\n",
            "You will be able to reuse this secret in all of your notebooks.\n",
            "Please note that authentication is recommended but still optional to access public models or datasets.\n",
            "  warnings.warn(\n"
          ]
        }
      ]
    },
    {
      "cell_type": "code",
      "source": [
        "print('첫번째샘플의토큰화결과:', train_encodings[0].tokens)"
      ],
      "metadata": {
        "id": "hMI5rtznIJmm",
        "colab": {
          "base_uri": "https://localhost:8080/"
        },
        "outputId": "0cf02a8c-d569-4f6a-9d14-22d92de66c3f"
      },
      "execution_count": 12,
      "outputs": [
        {
          "output_type": "stream",
          "name": "stdout",
          "text": [
            "첫번째샘플의토큰화결과: ['[CLS]', '183', '##9', '##년', '바그너', '##는', '괴테', '##의', '파우', '##스트', '##을', '처음', '읽', '##고', '그', '내용', '##에', '마음', '##이', '끌려', '이를', '소재', '##로', '해서', '하나', '##의', '교향곡', '##을', '쓰', '##려', '##는', '뜻', '##을', '갖', '##는', '##다', '.', '이', '시기', '바그너', '##는', '183', '##8', '##년', '##에', '빛', '독촉', '##으로', '산전', '##수', '##전', '##을', '다', '[UNK]', '상황', '##이', '##라', '좌절', '##과', '실망', '##에', '가득', '##했', '##으며', '메', '##피스', '##토', '##펠', '##레스', '##를', '만나', '##는', '파우', '##스트', '##의', '심경', '##에', '공감', '##했', '##다고', '한다', '.', '또한', '파리', '##에서', '아', '##브', '##네', '##크', '##의', '지휘', '##로', '파리', '음악', '##원', '관현', '##악단', '##이', '연주', '##하', '##는', '베토벤', '##의', '교향곡', '9', '##번', '##을', '듣', '##고', '깊', '##은', '감명', '##을', '받', '##았', '##는데', ',', '이것', '##이', '이듬해', '1', '##월', '##에', '파우', '##스트', '##의', '서', '##곡', '##으로', '쓰여진', '이', '작품', '##에', '조금', '##이', '##라도', '영향', '##을', '끼쳤', '##으리', '##라는', '것', '##은', '의심', '##할', '여지', '##가', '없', '##다', '.', '여기', '##의', '라', '##단', '##조', '조성', '##의', '경우', '##에도', '그', '##의', '전기', '##에', '적혀', '있', '##는', '것', '##처럼', '단순', '##한', '정신', '##적', '피로', '##나', '실', '##의', '##가', '반영', '##된', '것', '##이', '아니', '##라', '베토벤', '##의', '합창', '##교', '##향', '##곡', '조성', '##의', '영향', '##을', '받', '##은', '것', '##을', '볼', '수', '있', '##다', '.', '그렇게', '교향곡', '작곡', '##을', '183', '##9', '##년', '##부터', '40', '##년', '##에', '걸쳐', '파리', '##에서', '착수', '##했', '##으나', '1', '##악', '##장', '##을', '쓴', '뒤', '##에', '중단', '##했', '##다', '.', '또한', '작품', '##의', '완성', '##과', '동시', '[SEP]', '바그너', '##는', '괴테', '##의', '파우', '##스트', '##를', '읽', '##고', '무엇', '##을', '쓰', '##고', '##자', '했', '##는', '##가', '?', '[SEP]']\n"
          ]
        }
      ]
    },
    {
      "cell_type": "code",
      "source": [
        "print(len(train_encodings[0].tokens))"
      ],
      "metadata": {
        "id": "omGMBSezIMlC",
        "colab": {
          "base_uri": "https://localhost:8080/"
        },
        "outputId": "d4b6ff61-bb7c-4000-980d-3021918ddd88"
      },
      "execution_count": 13,
      "outputs": [
        {
          "output_type": "stream",
          "name": "stdout",
          "text": [
            "256\n"
          ]
        }
      ]
    },
    {
      "cell_type": "code",
      "source": [
        " print('첫 번째 샘플의 정수 인코딩 :', train_encodings[0].ids)"
      ],
      "metadata": {
        "id": "XtKomCnsIMhU",
        "colab": {
          "base_uri": "https://localhost:8080/"
        },
        "outputId": "2a7503bc-d39a-4020-cd66-c9da312cc2ae"
      },
      "execution_count": 14,
      "outputs": [
        {
          "output_type": "stream",
          "name": "stdout",
          "text": [
            "첫 번째 샘플의 정수 인코딩 : [2, 13934, 2236, 2440, 27982, 2259, 21310, 2079, 11994, 3791, 2069, 3790, 1508, 2088, 636, 3800, 2170, 3717, 2052, 9001, 8345, 4642, 2200, 3689, 3657, 2079, 19282, 2069, 1363, 2370, 2259, 936, 2069, 554, 2259, 2062, 18, 1504, 4342, 27982, 2259, 13934, 2196, 2440, 2170, 1195, 23260, 6233, 17370, 2113, 2165, 2069, 809, 1, 3706, 2052, 2181, 8642, 2145, 7334, 2170, 4983, 2371, 4007, 1065, 5917, 2386, 2559, 4443, 2138, 4026, 2259, 11994, 3791, 2079, 15864, 2170, 5487, 2371, 4683, 3605, 18, 3819, 5986, 27135, 1376, 2645, 2203, 2292, 2079, 5872, 2200, 5986, 4152, 2252, 22835, 16706, 2052, 5485, 2205, 2259, 17087, 2079, 19282, 29, 2517, 2069, 881, 2088, 652, 2073, 23404, 2069, 1122, 2886, 13964, 16, 3982, 2052, 9944, 21, 2429, 2170, 11994, 3791, 2079, 1258, 2465, 6233, 24294, 1504, 3967, 2170, 4027, 2052, 5121, 3979, 2069, 18274, 21575, 23548, 575, 2073, 5292, 2085, 7251, 2116, 1415, 2062, 18, 3776, 2079, 942, 2286, 2446, 4196, 2079, 3640, 6509, 636, 2079, 4450, 2170, 10329, 1513, 2259, 575, 7925, 4488, 2470, 4006, 2125, 7874, 2075, 1329, 2079, 2116, 4523, 2897, 575, 2052, 3614, 2181, 17087, 2079, 10044, 2120, 2482, 2465, 4196, 2079, 3979, 2069, 1122, 2073, 575, 2069, 1164, 1295, 1513, 2062, 18, 3914, 19282, 8067, 2069, 13934, 2236, 2440, 3797, 4064, 2440, 2170, 5314, 5986, 27135, 7615, 2371, 4381, 21, 2376, 2121, 2069, 1365, 873, 2170, 4967, 2371, 2062, 18, 3819, 3967, 2079, 4976, 2145, 4213, 3, 27982, 2259, 21310, 2079, 11994, 3791, 2138, 1508, 2088, 3890, 2069, 1363, 2088, 2155, 1902, 2259, 2116, 35, 3]\n"
          ]
        }
      ]
    },
    {
      "cell_type": "code",
      "source": [
        " print('첫 번째 샘플의 어텐션 마스크 :', train_encodings[0].attention_mask)"
      ],
      "metadata": {
        "id": "LJxtJ24OIMeg",
        "colab": {
          "base_uri": "https://localhost:8080/"
        },
        "outputId": "d814a12d-cd4e-4849-9207-9e07e07ee5f4"
      },
      "execution_count": 15,
      "outputs": [
        {
          "output_type": "stream",
          "name": "stdout",
          "text": [
            "첫 번째 샘플의 어텐션 마스크 : [1, 1, 1, 1, 1, 1, 1, 1, 1, 1, 1, 1, 1, 1, 1, 1, 1, 1, 1, 1, 1, 1, 1, 1, 1, 1, 1, 1, 1, 1, 1, 1, 1, 1, 1, 1, 1, 1, 1, 1, 1, 1, 1, 1, 1, 1, 1, 1, 1, 1, 1, 1, 1, 1, 1, 1, 1, 1, 1, 1, 1, 1, 1, 1, 1, 1, 1, 1, 1, 1, 1, 1, 1, 1, 1, 1, 1, 1, 1, 1, 1, 1, 1, 1, 1, 1, 1, 1, 1, 1, 1, 1, 1, 1, 1, 1, 1, 1, 1, 1, 1, 1, 1, 1, 1, 1, 1, 1, 1, 1, 1, 1, 1, 1, 1, 1, 1, 1, 1, 1, 1, 1, 1, 1, 1, 1, 1, 1, 1, 1, 1, 1, 1, 1, 1, 1, 1, 1, 1, 1, 1, 1, 1, 1, 1, 1, 1, 1, 1, 1, 1, 1, 1, 1, 1, 1, 1, 1, 1, 1, 1, 1, 1, 1, 1, 1, 1, 1, 1, 1, 1, 1, 1, 1, 1, 1, 1, 1, 1, 1, 1, 1, 1, 1, 1, 1, 1, 1, 1, 1, 1, 1, 1, 1, 1, 1, 1, 1, 1, 1, 1, 1, 1, 1, 1, 1, 1, 1, 1, 1, 1, 1, 1, 1, 1, 1, 1, 1, 1, 1, 1, 1, 1, 1, 1, 1, 1, 1, 1, 1, 1, 1, 1, 1, 1, 1, 1, 1, 1, 1, 1, 1, 1, 1, 1, 1, 1, 1, 1, 1, 1, 1, 1, 1, 1, 1]\n"
          ]
        }
      ]
    },
    {
      "cell_type": "code",
      "source": [
        "def add_token_positions(encodings, answers):\n",
        "    start_positions, end_positions, deleting_list = [], [], []\n",
        "    for i in tqdm(range(len(answers))):\n",
        "        #토큰화 전 문자의 인덱스(start, end)로 토큰화 후 문자의 인덱스(start, end) 찾아냄\n",
        "        start_positions.append(encodings.char_to_token(i, answers[i]['answer_start']))\n",
        "        end_positions.append(encodings.char_to_token(i, answers[i]['answer_end'] -1))\n",
        "\n",
        "        #시작 인덱스가 비정상인 경우 -> 본문에 정답이 없는 경우\n",
        "        if start_positions[-1] is None:\n",
        "            start_positions[-1] = tokenizer.model_max_length\n",
        "            deleting_list.append(i)\n",
        "\n",
        "        #종료 인덱스가 비정상인 경우 -> 본문에 정답이 없는 경우\n",
        "        if end_positions[-1] is None:\n",
        "            end_positions[-1] = tokenizer.model_max_length\n",
        "            deleting_list.append(i)\n",
        "\n",
        "\n",
        "    encodings.update({'start_positions' : start_positions, 'end_positions' : end_positions})\n",
        "    return deleting_list\n",
        "\n"
      ],
      "metadata": {
        "id": "UTJsCc5vIdqu"
      },
      "execution_count": 16,
      "outputs": []
    },
    {
      "cell_type": "code",
      "source": [
        "deleting_list_for_train = add_token_positions(train_encodings, train_answers)\n",
        "deleting_list_for_val = add_token_positions(val_encodings, val_answers)"
      ],
      "metadata": {
        "id": "vGsfHRRDN4Ho",
        "colab": {
          "base_uri": "https://localhost:8080/"
        },
        "outputId": "97d66c1f-1ee0-4a18-a8c9-c2941f1361cc"
      },
      "execution_count": 17,
      "outputs": [
        {
          "output_type": "stream",
          "name": "stderr",
          "text": [
            "100%|██████████| 60407/60407 [00:00<00:00, 412521.47it/s]\n",
            "100%|██████████| 5774/5774 [00:00<00:00, 410493.95it/s]\n"
          ]
        }
      ]
    },
    {
      "cell_type": "code",
      "source": [
        "print('삭제예정인훈련샘플:', deleting_list_for_train)\n",
        "print('삭제예정인테스트샘플:',deleting_list_for_val)"
      ],
      "metadata": {
        "id": "fdyRiFFHOZ3F",
        "colab": {
          "base_uri": "https://localhost:8080/"
        },
        "outputId": "99435851-c829-4943-f35c-05016c0493ea"
      },
      "execution_count": 18,
      "outputs": [
        {
          "output_type": "stream",
          "name": "stdout",
          "text": [
            "삭제예정인훈련샘플: [7, 7, 41, 41, 80, 80, 82, 82, 84, 84, 85, 85, 91, 91, 112, 112, 113, 113, 116, 116, 146, 146, 159, 159, 186, 186, 211, 211, 224, 224, 225, 225, 232, 232, 239, 239, 241, 241, 312, 312, 315, 315, 317, 317, 357, 357, 362, 362, 366, 366, 369, 369, 373, 373, 375, 375, 376, 376, 383, 383, 393, 393, 397, 397, 441, 441, 460, 460, 463, 463, 485, 485, 493, 493, 497, 497, 498, 498, 504, 504, 538, 538, 632, 632, 635, 635, 652, 652, 653, 653, 655, 655, 688, 688, 690, 690, 710, 710, 711, 711, 722, 722, 726, 726, 727, 727, 728, 728, 729, 729, 731, 731, 742, 742, 745, 745, 746, 746, 748, 748, 749, 749, 750, 750, 757, 757, 758, 758, 761, 761, 765, 765, 767, 767, 768, 768, 784, 784, 785, 785, 786, 786, 796, 796, 799, 799, 805, 805, 822, 822, 823, 823, 824, 824, 825, 825, 826, 826, 828, 828, 829, 829, 833, 833, 839, 839, 840, 840, 842, 842, 844, 844, 846, 846, 849, 849, 872, 872, 895, 895, 918, 918, 919, 919, 921, 921, 922, 922, 926, 973, 973, 990, 1013, 1013, 1014, 1014, 1017, 1020, 1020, 1037, 1037, 1040, 1040, 1049, 1049, 1051, 1051, 1055, 1055, 1058, 1058, 1064, 1064, 1066, 1066, 1067, 1067, 1073, 1073, 1105, 1105, 1121, 1121, 1165, 1165, 1168, 1168, 1170, 1170, 1171, 1171, 1174, 1174, 1178, 1178, 1196, 1196, 1197, 1197, 1202, 1202, 1208, 1208, 1217, 1217, 1218, 1218, 1219, 1219, 1221, 1221, 1226, 1226, 1229, 1229, 1231, 1231, 1251, 1251, 1253, 1253, 1255, 1255, 1268, 1268, 1299, 1299, 1301, 1301, 1315, 1315, 1318, 1318, 1320, 1320, 1323, 1323, 1345, 1345, 1350, 1350, 1352, 1352, 1355, 1355, 1376, 1376, 1378, 1378, 1379, 1379, 1380, 1380, 1381, 1381, 1383, 1383, 1386, 1386, 1394, 1394, 1395, 1395, 1399, 1399, 1402, 1402, 1405, 1439, 1439, 1443, 1443, 1467, 1467, 1468, 1468, 1469, 1469, 1543, 1543, 1553, 1553, 1556, 1556, 1557, 1557, 1558, 1558, 1560, 1560, 1561, 1561, 1580, 1580, 1584, 1584, 1608, 1608, 1613, 1613, 1630, 1630, 1654, 1654, 1656, 1656, 1659, 1659, 1661, 1661, 1664, 1664, 1690, 1690, 1694, 1696, 1696, 1729, 1729, 1735, 1735, 1764, 1764, 1771, 1771, 1772, 1772, 1775, 1775, 1778, 1778, 1782, 1782, 1797, 1797, 1832, 1832, 1833, 1833, 1834, 1834, 1835, 1835, 1844, 1844, 1856, 1856, 1870, 1870, 1871, 1871, 1885, 1885, 1947, 1947, 1952, 1960, 1960, 1965, 1965, 1975, 1975, 1981, 1981, 2033, 2033, 2077, 2084, 2084, 2089, 2089, 2096, 2096, 2105, 2105, 2124, 2124, 2147, 2147, 2175, 2175, 2214, 2214, 2250, 2250, 2255, 2255, 2258, 2258, 2319, 2319, 2325, 2325, 2408, 2408, 2416, 2416, 2460, 2460, 2462, 2462, 2523, 2523, 2526, 2526, 2529, 2529, 2535, 2535, 2586, 2586, 2587, 2587, 2588, 2588, 2592, 2592, 2634, 2634, 2635, 2635, 2680, 2680, 2697, 2697, 2698, 2698, 2701, 2701, 2707, 2707, 2709, 2709, 2713, 2713, 2715, 2715, 2722, 2722, 2723, 2723, 2724, 2724, 2725, 2725, 2728, 2728, 2729, 2729, 2730, 2730, 2731, 2731, 2774, 2774, 2775, 2775, 2776, 2776, 2893, 2893, 2909, 2909, 2910, 2910, 2912, 2912, 2937, 2937, 2956, 2956, 2961, 2961, 2964, 2964, 2967, 3042, 3042, 3134, 3134, 3148, 3148, 3149, 3149, 3226, 3240, 3240, 3243, 3243, 3248, 3248, 3251, 3251, 3299, 3299, 3375, 3375, 3378, 3378, 3392, 3392, 3394, 3394, 3396, 3396, 3440, 3440, 3443, 3443, 3444, 3444, 3447, 3447, 3462, 3462, 3464, 3464, 3465, 3465, 3466, 3466, 3470, 3470, 3474, 3474, 3475, 3475, 3478, 3478, 3481, 3481, 3482, 3482, 3485, 3485, 3487, 3487, 3488, 3488, 3490, 3490, 3491, 3491, 3492, 3492, 3495, 3495, 3498, 3498, 3499, 3499, 3505, 3505, 3509, 3509, 3511, 3511, 3512, 3512, 3513, 3513, 3515, 3515, 3550, 3550, 3554, 3554, 3558, 3558, 3561, 3561, 3562, 3562, 3564, 3564, 3565, 3565, 3573, 3573, 3577, 3577, 3604, 3604, 3612, 3612, 3614, 3614, 3658, 3658, 3660, 3660, 3661, 3661, 3662, 3662, 3663, 3663, 3673, 3673, 3676, 3676, 3692, 3692, 3699, 3699, 3701, 3701, 3704, 3704, 3730, 3730, 3736, 3736, 3739, 3739, 3742, 3742, 3780, 3780, 3783, 3783, 3792, 3792, 3798, 3805, 3805, 3807, 3807, 3808, 3808, 3810, 3810, 3812, 3812, 3819, 3819, 3822, 3822, 3830, 3830, 3831, 3831, 3832, 3832, 3833, 3833, 3845, 3850, 3850, 3898, 3898, 3910, 3910, 3913, 3913, 3915, 3915, 3916, 3916, 3919, 3919, 3920, 3920, 3931, 3931, 3954, 3954, 3955, 3955, 3983, 3983, 4008, 4008, 4011, 4011, 4066, 4066, 4068, 4068, 4069, 4069, 4070, 4070, 4084, 4084, 4085, 4085, 4099, 4099, 4108, 4108, 4117, 4117, 4119, 4119, 4129, 4129, 4145, 4145, 4146, 4146, 4147, 4147, 4149, 4149, 4185, 4185, 4191, 4191, 4203, 4203, 4205, 4205, 4206, 4206, 4226, 4226, 4229, 4229, 4295, 4295, 4297, 4297, 4300, 4300, 4337, 4337, 4340, 4340, 4343, 4343, 4347, 4347, 4368, 4368, 4370, 4370, 4373, 4373, 4374, 4374, 4375, 4375, 4378, 4378, 4381, 4381, 4385, 4385, 4408, 4408, 4410, 4410, 4413, 4413, 4430, 4430, 4451, 4451, 4457, 4457, 4462, 4462, 4465, 4465, 4468, 4468, 4470, 4470, 4472, 4472, 4474, 4474, 4478, 4478, 4485, 4485, 4487, 4487, 4489, 4489, 4491, 4491, 4494, 4494, 4502, 4502, 4504, 4504, 4506, 4506, 4508, 4508, 4513, 4513, 4515, 4515, 4517, 4517, 4518, 4518, 4519, 4519, 4520, 4520, 4524, 4524, 4525, 4525, 4526, 4526, 4527, 4527, 4530, 4530, 4532, 4532, 4534, 4534, 4536, 4536, 4537, 4537, 4556, 4556, 4559, 4559, 4561, 4561, 4562, 4562, 4564, 4564, 4565, 4565, 4573, 4573, 4575, 4575, 4605, 4605, 4607, 4607, 4654, 4655, 4655, 4656, 4656, 4657, 4657, 4658, 4658, 4702, 4702, 4705, 4705, 4715, 4715, 4722, 4722, 4728, 4728, 4729, 4729, 4731, 4731, 4738, 4738, 4739, 4739, 4743, 4743, 4746, 4746, 4747, 4747, 4748, 4748, 4749, 4749, 4750, 4750, 4754, 4754, 4757, 4757, 4762, 4762, 4765, 4765, 4766, 4766, 4771, 4771, 4772, 4772, 4773, 4773, 4774, 4774, 4775, 4775, 4778, 4778, 4779, 4779, 4781, 4781, 4783, 4783, 4785, 4785, 4789, 4789, 4813, 4813, 4815, 4815, 4816, 4816, 4820, 4820, 4829, 4829, 4831, 4831, 4860, 4860, 4912, 4912, 4918, 4918, 4944, 4944, 4947, 4947, 4950, 4950, 4952, 4952, 4956, 4956, 4972, 4972, 4981, 4981, 5212, 5212, 5277, 5277, 5283, 5283, 5301, 5301, 5302, 5302, 5334, 5334, 5336, 5336, 5337, 5337, 5363, 5363, 5364, 5364, 5406, 5406, 5408, 5408, 5411, 5411, 5465, 5465, 5483, 5483, 5505, 5505, 5565, 5565, 5592, 5592, 5619, 5619, 5621, 5621, 5623, 5623, 5660, 5660, 5678, 5678, 5680, 5680, 5682, 5682, 5683, 5683, 5684, 5684, 5715, 5715, 5772, 5772, 5776, 5776, 5797, 5797, 5801, 5801, 5808, 5808, 5809, 5809, 5810, 5810, 5812, 5812, 5814, 5814, 5815, 5815, 5818, 5818, 5819, 5819, 5839, 5839, 5842, 5842, 5860, 5860, 5869, 5870, 5870, 5872, 5893, 5893, 5895, 5895, 5896, 5896, 5898, 5898, 5899, 5899, 5902, 5902, 5903, 5903, 5909, 5909, 5945, 5945, 5948, 5948, 5975, 5975, 5982, 5982, 5983, 5983, 5984, 5984, 5985, 5985, 6043, 6043, 6076, 6076, 6134, 6134, 6137, 6137, 6138, 6138, 6209, 6209, 6292, 6292, 6311, 6311, 6316, 6324, 6324, 6330, 6330, 6331, 6331, 6332, 6332, 6334, 6334, 6335, 6335, 6367, 6367, 6396, 6396, 6398, 6398, 6399, 6399, 6466, 6466, 6468, 6468, 6472, 6472, 6510, 6510, 6513, 6513, 6514, 6514, 6520, 6520, 6522, 6522, 6526, 6526, 6529, 6529, 6531, 6531, 6532, 6532, 6541, 6541, 6544, 6544, 6576, 6576, 6597, 6597, 6600, 6600, 6603, 6603, 6611, 6611, 6612, 6612, 6614, 6614, 6615, 6615, 6617, 6617, 6618, 6618, 6621, 6621, 6636, 6636, 6638, 6638, 6639, 6639, 6640, 6640, 6651, 6651, 6653, 6653, 6681, 6681, 6692, 6692, 6709, 6721, 6721, 6730, 6730, 6748, 6748, 6749, 6749, 6750, 6750, 6752, 6752, 6753, 6753, 6763, 6763, 6765, 6765, 6766, 6766, 6767, 6767, 6770, 6770, 6771, 6771, 6773, 6773, 6774, 6774, 6776, 6776, 6797, 6797, 6800, 6800, 6815, 6815, 6816, 6816, 6820, 6834, 6834, 6850, 6850, 6855, 6857, 6860, 6860, 6864, 6864, 6884, 6884, 6893, 6893, 6897, 6897, 6898, 6898, 6900, 6900, 6906, 6906, 6970, 6970, 6974, 6974, 6985, 6985, 6986, 6986, 7030, 7030, 7037, 7037, 7038, 7038, 7053, 7053, 7068, 7068, 7069, 7069, 7071, 7071, 7072, 7072, 7073, 7073, 7081, 7081, 7082, 7082, 7111, 7111, 7112, 7112, 7113, 7113, 7117, 7117, 7135, 7135, 7143, 7143, 7144, 7144, 7149, 7149, 7151, 7151, 7172, 7172, 7177, 7177, 7192, 7192, 7194, 7194, 7214, 7214, 7216, 7216, 7217, 7217, 7220, 7220, 7222, 7222, 7224, 7224, 7225, 7225, 7227, 7227, 7235, 7235, 7236, 7236, 7238, 7238, 7240, 7240, 7241, 7241, 7243, 7243, 7249, 7249, 7250, 7250, 7253, 7253, 7256, 7256, 7283, 7283, 7292, 7292, 7296, 7296, 7307, 7307, 7308, 7308, 7311, 7311, 7314, 7314, 7323, 7323, 7337, 7337, 7343, 7343, 7344, 7344, 7346, 7346, 7348, 7348, 7349, 7349, 7362, 7362, 7367, 7367, 7381, 7381, 7384, 7384, 7416, 7416, 7418, 7418, 7420, 7420, 7424, 7424, 7427, 7427, 7431, 7431, 7432, 7432, 7439, 7439, 7448, 7448, 7451, 7451, 7468, 7468, 7469, 7469, 7471, 7471, 7476, 7476, 7489, 7489, 7491, 7491, 7493, 7493, 7497, 7497, 7499, 7499, 7501, 7501, 7503, 7503, 7509, 7509, 7510, 7510, 7512, 7512, 7513, 7513, 7534, 7537, 7537, 7539, 7540, 7540, 7543, 7543, 7546, 7546, 7583, 7583, 7587, 7587, 7588, 7588, 7589, 7589, 7592, 7592, 7597, 7597, 7601, 7601, 7603, 7603, 7629, 7629, 7641, 7641, 7649, 7649, 7654, 7654, 7660, 7660, 7662, 7662, 7663, 7663, 7665, 7665, 7674, 7674, 7676, 7676, 7679, 7679, 7682, 7682, 7686, 7686, 7687, 7687, 7690, 7690, 7692, 7692, 7698, 7698, 7699, 7699, 7702, 7702, 7704, 7704, 7718, 7718, 7720, 7720, 7724, 7724, 7729, 7729, 7733, 7733, 7738, 7738, 7739, 7739, 7740, 7740, 7741, 7741, 7744, 7744, 7746, 7746, 7753, 7753, 7780, 7780, 7781, 7781, 7783, 7783, 7784, 7784, 7785, 7785, 7787, 7787, 7789, 7789, 7793, 7793, 7797, 7797, 7802, 7802, 7810, 7810, 7814, 7814, 7816, 7816, 7819, 7819, 7828, 7828, 7848, 7848, 7850, 7850, 7852, 7852, 7853, 7853, 7860, 7860, 7863, 7863, 7866, 7866, 7910, 7910, 7911, 7911, 7915, 7915, 7916, 7916, 7917, 7917, 7921, 7921, 7925, 7925, 7936, 7936, 7941, 7941, 7943, 7943, 7944, 7944, 7956, 7956, 7957, 7957, 7959, 7959, 7961, 7961, 7962, 7962, 7965, 7965, 7966, 7966, 7976, 7976, 7978, 7978, 7999, 8002, 8002, 8037, 8037, 8046, 8046, 8049, 8049, 8096, 8096, 8099, 8099, 8100, 8100, 8105, 8105, 8109, 8109, 8111, 8111, 8131, 8131, 8132, 8132, 8134, 8134, 8136, 8136, 8137, 8137, 8171, 8171, 8174, 8174, 8197, 8197, 8198, 8198, 8200, 8200, 8204, 8204, 8230, 8230, 8239, 8239, 8251, 8251, 8265, 8265, 8286, 8286, 8290, 8290, 8320, 8320, 8321, 8321, 8324, 8324, 8326, 8326, 8328, 8328, 8338, 8338, 8351, 8351, 8354, 8354, 8355, 8355, 8357, 8357, 8359, 8359, 8379, 8379, 8382, 8382, 8425, 8425, 8428, 8428, 8432, 8432, 8436, 8436, 8438, 8438, 8440, 8440, 8492, 8492, 8499, 8499, 8502, 8502, 8504, 8504, 8506, 8506, 8507, 8507, 8509, 8509, 8510, 8510, 8562, 8562, 8564, 8564, 8588, 8588, 8592, 8592, 8595, 8595, 8613, 8613, 8648, 8648, 8652, 8652, 8658, 8658, 8668, 8668, 8670, 8670, 8693, 8693, 8697, 8697, 8700, 8700, 8707, 8707, 8713, 8713, 8764, 8764, 8767, 8767, 8769, 8769, 8770, 8770, 8772, 8772, 8775, 8775, 8778, 8778, 8790, 8822, 8822, 8825, 8825, 8828, 8828, 8830, 8830, 8832, 8832, 8834, 8835, 8835, 8865, 8865, 8867, 8867, 8868, 8868, 8870, 8870, 8871, 8871, 8885, 8885, 8892, 8892, 8894, 8894, 8897, 8897, 8926, 8926, 8934, 8934, 8935, 8935, 8938, 8938, 8969, 8969, 8970, 8970, 8976, 8976, 9004, 9004, 9012, 9012, 9020, 9020, 9023, 9023, 9066, 9066, 9089, 9089, 9091, 9091, 9092, 9092, 9094, 9094, 9096, 9096, 9097, 9097, 9117, 9117, 9118, 9118, 9140, 9140, 9141, 9141, 9142, 9142, 9154, 9154, 9156, 9156, 9165, 9165, 9170, 9170, 9172, 9172, 9203, 9203, 9206, 9206, 9210, 9210, 9211, 9211, 9214, 9214, 9216, 9216, 9217, 9217, 9219, 9219, 9220, 9220, 9221, 9221, 9228, 9228, 9231, 9231, 9254, 9254, 9256, 9256, 9311, 9311, 9315, 9315, 9411, 9411, 9443, 9443, 9445, 9445, 9446, 9446, 9474, 9474, 9479, 9479, 9488, 9522, 9522, 9602, 9602, 9608, 9608, 9619, 9619, 9620, 9620, 9635, 9635, 9636, 9636, 9639, 9639, 9640, 9640, 9641, 9641, 9642, 9642, 9647, 9647, 9653, 9653, 9655, 9655, 9657, 9657, 9658, 9658, 9660, 9660, 9668, 9668, 9697, 9697, 9703, 9703, 9704, 9704, 9718, 9718, 9720, 9720, 9743, 9743, 9759, 9759, 9774, 9774, 9775, 9775, 9779, 9779, 9780, 9780, 9788, 9788, 9790, 9790, 9791, 9791, 9858, 9858, 9859, 9859, 9868, 9868, 9870, 9870, 9872, 9872, 9913, 9950, 9950, 9973, 9979, 9979, 10010, 10010, 10043, 10049, 10049, 10051, 10051, 10055, 10055, 10086, 10086, 10150, 10150, 10152, 10152, 10155, 10155, 10200, 10200, 10255, 10255, 10319, 10319, 10322, 10322, 10387, 10387, 10393, 10393, 10402, 10402, 10408, 10408, 10411, 10411, 10414, 10414, 10416, 10416, 10419, 10419, 10427, 10444, 10444, 10445, 10445, 10446, 10446, 10448, 10448, 10449, 10449, 10452, 10452, 10476, 10476, 10478, 10478, 10483, 10483, 10484, 10484, 10493, 10493, 10494, 10494, 10495, 10495, 10496, 10496, 10498, 10498, 10499, 10499, 10511, 10511, 10514, 10514, 10519, 10519, 10525, 10525, 10532, 10532, 10534, 10534, 10537, 10537, 10539, 10539, 10591, 10591, 10600, 10600, 10610, 10610, 10653, 10653, 10662, 10662, 10664, 10664, 10677, 10677, 10683, 10683, 10697, 10697, 10699, 10699, 10702, 10702, 10711, 10711, 10712, 10712, 10719, 10719, 10721, 10721, 10723, 10723, 10725, 10725, 10728, 10728, 10731, 10731, 10767, 10767, 10773, 10773, 10784, 10784, 10792, 10792, 10813, 10813, 10815, 10815, 10837, 10837, 10838, 10838, 10839, 10839, 10854, 10854, 10860, 10860, 10872, 10872, 10874, 10874, 10880, 10880, 10888, 10888, 10910, 10910, 10912, 10912, 10914, 10914, 10915, 10915, 10917, 10917, 10919, 10919, 10949, 10949, 10951, 10951, 10954, 10954, 10972, 10972, 10974, 10974, 10992, 10992, 11002, 11002, 11005, 11005, 11016, 11016, 11018, 11018, 11037, 11037, 11039, 11039, 11041, 11041, 11044, 11044, 11045, 11045, 11048, 11048, 11081, 11081, 11097, 11097, 11134, 11137, 11137, 11176, 11176, 11181, 11181, 11202, 11202, 11207, 11207, 11211, 11211, 11212, 11212, 11230, 11230, 11232, 11232, 11233, 11233, 11239, 11239, 11248, 11248, 11250, 11250, 11257, 11257, 11284, 11284, 11286, 11286, 11311, 11311, 11333, 11333, 11334, 11334, 11368, 11368, 11370, 11370, 11373, 11373, 11390, 11390, 11418, 11418, 11447, 11447, 11448, 11448, 11451, 11451, 11461, 11461, 11498, 11498, 11501, 11501, 11646, 11646, 11726, 11726, 11727, 11727, 11729, 11729, 11768, 11768, 11773, 11773, 11774, 11774, 11775, 11775, 11776, 11776, 11777, 11777, 11778, 11778, 11781, 11781, 11788, 11788, 11789, 11789, 11791, 11791, 11797, 11797, 11920, 11920, 11985, 11985, 11986, 11986, 11999, 11999, 12004, 12004, 12015, 12015, 12019, 12021, 12021, 12022, 12022, 12024, 12024, 12026, 12026, 12030, 12030, 12031, 12031, 12032, 12032, 12034, 12034, 12055, 12055, 12057, 12057, 12061, 12061, 12062, 12062, 12063, 12063, 12068, 12068, 12091, 12091, 12106, 12106, 12108, 12108, 12112, 12125, 12125, 12127, 12127, 12128, 12128, 12138, 12138, 12139, 12139, 12140, 12140, 12150, 12150, 12151, 12151, 12155, 12155, 12157, 12157, 12160, 12160, 12168, 12168, 12169, 12169, 12184, 12184, 12213, 12213, 12214, 12214, 12250, 12250, 12278, 12278, 12282, 12282, 12288, 12288, 12298, 12298, 12299, 12299, 12304, 12304, 12324, 12324, 12326, 12326, 12329, 12329, 12356, 12356, 12359, 12359, 12362, 12362, 12363, 12363, 12390, 12390, 12392, 12392, 12393, 12393, 12394, 12394, 12395, 12395, 12419, 12419, 12420, 12420, 12424, 12424, 12425, 12425, 12505, 12505, 12535, 12535, 12544, 12544, 12545, 12545, 12576, 12576, 12597, 12597, 12643, 12643, 12648, 12648, 12683, 12683, 12716, 12716, 12720, 12720, 12724, 12724, 12726, 12726, 12750, 12750, 12752, 12752, 12758, 12758, 12775, 12775, 12792, 12792, 12798, 12798, 12807, 12807, 12808, 12808, 12819, 12819, 12823, 12823, 12826, 12826, 12827, 12827, 12831, 12831, 12851, 12851, 12871, 12871, 12872, 12872, 12873, 12873, 12875, 12875, 12877, 12877, 12883, 12883, 12942, 12942, 12945, 12945, 12947, 12947, 12948, 12948, 12949, 12949, 12950, 12950, 12951, 12951, 12959, 12959, 12961, 12961, 13012, 13012, 13051, 13051, 13072, 13072, 13084, 13084, 13118, 13118, 13178, 13178, 13184, 13184, 13230, 13230, 13241, 13241, 13245, 13245, 13275, 13275, 13366, 13366, 13386, 13386, 13387, 13387, 13389, 13389, 13390, 13390, 13410, 13410, 13422, 13422, 13423, 13424, 13424, 13429, 13429, 13432, 13432, 13440, 13452, 13452, 13454, 13454, 13461, 13461, 13462, 13462, 13463, 13463, 13481, 13481, 13482, 13482, 13484, 13484, 13504, 13504, 13542, 13542, 13606, 13606, 13608, 13608, 13667, 13667, 13680, 13680, 13699, 13699, 13702, 13702, 13704, 13704, 13706, 13706, 13708, 13708, 13709, 13709, 13710, 13710, 13711, 13711, 13750, 13750, 13756, 13756, 13779, 13779, 13847, 13847, 13889, 13889, 13913, 13913, 13943, 13943, 13947, 13947, 13972, 13972, 13996, 14013, 14013, 14014, 14014, 14017, 14017, 14019, 14019, 14022, 14022, 14025, 14025, 14027, 14027, 14030, 14030, 14047, 14047, 14051, 14051, 14075, 14075, 14078, 14078, 14079, 14079, 14082, 14082, 14085, 14085, 14086, 14086, 14135, 14135, 14142, 14142, 14147, 14147, 14149, 14149, 14152, 14152, 14172, 14172, 14173, 14173, 14178, 14178, 14204, 14204, 14231, 14339, 14352, 14352, 14358, 14358, 14363, 14363, 14371, 14371, 14374, 14418, 14418, 14426, 14426, 14444, 14444, 14447, 14447, 14448, 14448, 14450, 14450, 14452, 14452, 14454, 14454, 14455, 14455, 14458, 14458, 14460, 14460, 14461, 14461, 14475, 14475, 14477, 14477, 14479, 14479, 14481, 14481, 14482, 14482, 14483, 14483, 14485, 14485, 14487, 14487, 14488, 14488, 14490, 14490, 14491, 14491, 14501, 14501, 14541, 14541, 14543, 14543, 14545, 14545, 14559, 14559, 14561, 14561, 14563, 14563, 14571, 14571, 14576, 14576, 14614, 14614, 14615, 14615, 14618, 14618, 14638, 14638, 14640, 14640, 14642, 14642, 14659, 14659, 14663, 14663, 14664, 14664, 14670, 14670, 14674, 14674, 14716, 14716, 14721, 14721, 14724, 14724, 14729, 14729, 14733, 14733, 14768, 14768, 14769, 14769, 14771, 14771, 14773, 14773, 14774, 14774, 14777, 14777, 14803, 14803, 14806, 14806, 14812, 14812, 14815, 14815, 14825, 14825, 14829, 14829, 14831, 14831, 14839, 14852, 14852, 14871, 14871, 14872, 14872, 14874, 14874, 14877, 14877, 14879, 14879, 14880, 14880, 14883, 14883, 14884, 14884, 14885, 14885, 14944, 14944, 14961, 14961, 14962, 14962, 14964, 14964, 14965, 14966, 14966, 15006, 15006, 15011, 15011, 15023, 15023, 15026, 15026, 15034, 15034, 15035, 15035, 15066, 15066, 15067, 15067, 15082, 15082, 15111, 15111, 15150, 15150, 15160, 15160, 15181, 15181, 15203, 15203, 15233, 15233, 15237, 15237, 15270, 15270, 15273, 15273, 15275, 15275, 15286, 15286, 15287, 15287, 15290, 15290, 15332, 15332, 15353, 15353, 15359, 15359, 15363, 15363, 15374, 15374, 15387, 15387, 15392, 15392, 15406, 15406, 15407, 15407, 15410, 15410, 15413, 15413, 15416, 15416, 15460, 15460, 15471, 15471, 15498, 15498, 15500, 15500, 15503, 15503, 15507, 15507, 15508, 15508, 15562, 15562, 15563, 15563, 15564, 15564, 15598, 15598, 15599, 15599, 15601, 15601, 15603, 15603, 15610, 15610, 15624, 15624, 15636, 15636, 15637, 15637, 15665, 15665, 15666, 15666, 15674, 15674, 15687, 15687, 15696, 15696, 15697, 15697, 15699, 15699, 15737, 15737, 15739, 15739, 15757, 15757, 15764, 15764, 15770, 15770, 15776, 15776, 15793, 15793, 15797, 15797, 15800, 15800, 15871, 15871, 15918, 15918, 15920, 15920, 15922, 15922, 15935, 15950, 15950, 15952, 15952, 15954, 15954, 15957, 15957, 15959, 15959, 15962, 15962, 15970, 15970, 15971, 15971, 15973, 15973, 15974, 15974, 15976, 15976, 15977, 15977, 15979, 15979, 15980, 15980, 15982, 15982, 15985, 15985, 15986, 15986, 15987, 15987, 15989, 15989, 15991, 15991, 15992, 15992, 15993, 15993, 15995, 15995, 15997, 15997, 16026, 16026, 16027, 16027, 16029, 16029, 16031, 16031, 16075, 16075, 16077, 16077, 16080, 16080, 16082, 16082, 16085, 16085, 16089, 16089, 16090, 16090, 16102, 16102, 16103, 16103, 16161, 16161, 16192, 16192, 16193, 16193, 16197, 16197, 16199, 16199, 16201, 16201, 16280, 16280, 16282, 16287, 16287, 16293, 16293, 16294, 16294, 16356, 16356, 16394, 16394, 16397, 16397, 16412, 16412, 16421, 16421, 16470, 16470, 16537, 16537, 16597, 16597, 16599, 16599, 16601, 16601, 16608, 16608, 16610, 16610, 16618, 16618, 16630, 16630, 16636, 16636, 16662, 16662, 16740, 16740, 16745, 16745, 16798, 16798, 16800, 16800, 16803, 16803, 16837, 16837, 16839, 16839, 16841, 16841, 16842, 16842, 16850, 16850, 16858, 16858, 16869, 16869, 16872, 16880, 16880, 16883, 16883, 16937, 16937, 16966, 16966, 16967, 16967, 16968, 16968, 16990, 16990, 16991, 16991, 16994, 16994, 17000, 17000, 17017, 17017, 17020, 17020, 17038, 17038, 17092, 17092, 17102, 17105, 17105, 17117, 17117, 17121, 17121, 17132, 17132, 17137, 17137, 17140, 17140, 17161, 17161, 17164, 17164, 17174, 17174, 17175, 17175, 17177, 17177, 17180, 17180, 17182, 17182, 17185, 17185, 17186, 17186, 17189, 17189, 17191, 17191, 17192, 17192, 17194, 17194, 17223, 17223, 17226, 17226, 17230, 17230, 17239, 17242, 17242, 17251, 17251, 17254, 17254, 17259, 17259, 17263, 17263, 17266, 17266, 17280, 17280, 17281, 17281, 17282, 17282, 17283, 17283, 17290, 17290, 17291, 17291, 17293, 17293, 17313, 17313, 17316, 17316, 17335, 17335, 17337, 17337, 17338, 17338, 17348, 17348, 17351, 17351, 17356, 17356, 17359, 17359, 17366, 17366, 17368, 17368, 17369, 17369, 17394, 17397, 17399, 17399, 17402, 17402, 17406, 17406, 17411, 17411, 17431, 17431, 17432, 17432, 17433, 17433, 17444, 17444, 17457, 17457, 17458, 17458, 17461, 17461, 17466, 17466, 17478, 17478, 17480, 17480, 17481, 17481, 17482, 17482, 17555, 17555, 17571, 17571, 17576, 17576, 17588, 17588, 17591, 17591, 17606, 17606, 17610, 17610, 17657, 17657, 17667, 17667, 17681, 17681, 17683, 17683, 17704, 17704, 17745, 17745, 17747, 17747, 17764, 17764, 17767, 17767, 17777, 17777, 17808, 17808, 17813, 17813, 17815, 17815, 17818, 17818, 17819, 17819, 17820, 17820, 17823, 17823, 17828, 17828, 17833, 17833, 17852, 17852, 17862, 17862, 17877, 17877, 17883, 17883, 17885, 17885, 17886, 17886, 17891, 17891, 17893, 17893, 17894, 17894, 17897, 17897, 17901, 17901, 17912, 17912, 17914, 17914, 17915, 17915, 17918, 17918, 17921, 17921, 17932, 17932, 17935, 17935, 17941, 17941, 17942, 17942, 17947, 17947, 17954, 17954, 17957, 17957, 17973, 17973, 17980, 17980, 17981, 17981, 17983, 17984, 17984, 18009, 18011, 18011, 18044, 18044, 18047, 18047, 18050, 18050, 18080, 18080, 18083, 18083, 18088, 18088, 18089, 18089, 18093, 18093, 18095, 18095, 18101, 18101, 18111, 18111, 18112, 18112, 18114, 18114, 18115, 18115, 18118, 18118, 18153, 18153, 18176, 18199, 18199, 18219, 18219, 18240, 18240, 18243, 18268, 18268, 18269, 18269, 18271, 18271, 18273, 18273, 18274, 18274, 18276, 18276, 18278, 18278, 18279, 18279, 18293, 18293, 18322, 18322, 18353, 18353, 18358, 18358, 18359, 18359, 18363, 18363, 18364, 18364, 18373, 18373, 18385, 18385, 18389, 18389, 18392, 18392, 18396, 18396, 18415, 18415, 18423, 18423, 18434, 18434, 18436, 18436, 18437, 18437, 18476, 18507, 18507, 18567, 18567, 18570, 18570, 18578, 18578, 18630, 18630, 18632, 18632, 18634, 18634, 18643, 18643, 18644, 18644, 18674, 18674, 18708, 18708, 18711, 18711, 18713, 18713, 18715, 18715, 18716, 18716, 18728, 18728, 18730, 18730, 18773, 18773, 18792, 18792, 18811, 18811, 18834, 18834, 18838, 18838, 18898, 18898, 18925, 18925, 18930, 18930, 18932, 18932, 18956, 18956, 18961, 18961, 18969, 18969, 18971, 18971, 18976, 18976, 18981, 18981, 19037, 19037, 19038, 19038, 19041, 19041, 19043, 19043, 19045, 19045, 19047, 19047, 19049, 19049, 19050, 19050, 19052, 19052, 19053, 19053, 19063, 19063, 19068, 19068, 19084, 19084, 19085, 19085, 19121, 19121, 19123, 19123, 19125, 19125, 19126, 19126, 19155, 19155, 19166, 19166, 19170, 19170, 19182, 19182, 19184, 19186, 19186, 19195, 19195, 19199, 19199, 19204, 19204, 19223, 19223, 19251, 19251, 19256, 19256, 19258, 19258, 19264, 19264, 19286, 19286, 19288, 19288, 19303, 19303, 19307, 19307, 19323, 19323, 19329, 19329, 19330, 19330, 19333, 19333, 19339, 19339, 19341, 19341, 19344, 19344, 19353, 19353, 19369, 19369, 19370, 19370, 19373, 19373, 19385, 19385, 19388, 19388, 19402, 19402, 19404, 19404, 19411, 19411, 19414, 19414, 19417, 19417, 19418, 19418, 19420, 19420, 19423, 19423, 19425, 19431, 19431, 19432, 19432, 19435, 19436, 19439, 19439, 19451, 19451, 19455, 19455, 19457, 19457, 19471, 19471, 19496, 19496, 19502, 19502, 19528, 19533, 19533, 19536, 19536, 19556, 19556, 19575, 19575, 19583, 19583, 19588, 19588, 19590, 19590, 19600, 19600, 19602, 19602, 19604, 19606, 19606, 19607, 19607, 19609, 19609, 19616, 19616, 19621, 19621, 19635, 19635, 19636, 19636, 19637, 19637, 19638, 19638, 19640, 19640, 19653, 19653, 19655, 19655, 19656, 19656, 19662, 19662, 19663, 19663, 19676, 19676, 19693, 19693, 19694, 19694, 19696, 19696, 19697, 19697, 19699, 19699, 19701, 19701, 19705, 19705, 19714, 19714, 19716, 19716, 19717, 19717, 19718, 19718, 19720, 19720, 19721, 19721, 19733, 19733, 19741, 19741, 19744, 19744, 19760, 19760, 19761, 19761, 19762, 19762, 19763, 19763, 19764, 19764, 19765, 19765, 19784, 19784, 19785, 19785, 19788, 19788, 19826, 19826, 19829, 19829, 19834, 19834, 19836, 19836, 19842, 19842, 19856, 19856, 19858, 19858, 19880, 20021, 20021, 20049, 20049, 20055, 20055, 20102, 20102, 20105, 20105, 20109, 20109, 20110, 20110, 20113, 20113, 20116, 20116, 20121, 20121, 20122, 20122, 20126, 20126, 20144, 20144, 20175, 20175, 20206, 20206, 20211, 20211, 20237, 20237, 20239, 20239, 20243, 20243, 20254, 20254, 20269, 20269, 20303, 20303, 20305, 20305, 20347, 20347, 20353, 20353, 20395, 20395, 20396, 20396, 20417, 20417, 20430, 20430, 20433, 20433, 20574, 20574, 20594, 20594, 20596, 20596, 20598, 20598, 20614, 20614, 20616, 20616, 20618, 20618, 20625, 20625, 20626, 20626, 20634, 20634, 20636, 20636, 20656, 20656, 20658, 20658, 20715, 20715, 20717, 20717, 20719, 20719, 20722, 20722, 20723, 20723, 20839, 20839, 20840, 20840, 20862, 20862, 20865, 20868, 20868, 20918, 20918, 20921, 20921, 20943, 20943, 20959, 20959, 20976, 20976, 20988, 20988, 20991, 20991, 21000, 21000, 21003, 21003, 21005, 21005, 21028, 21028, 21030, 21030, 21033, 21033, 21100, 21100, 21103, 21103, 21144, 21144, 21190, 21190, 21224, 21224, 21229, 21229, 21232, 21232, 21235, 21235, 21236, 21236, 21237, 21237, 21238, 21238, 21240, 21240, 21242, 21242, 21243, 21243, 21269, 21269, 21271, 21271, 21272, 21272, 21275, 21275, 21295, 21295, 21298, 21298, 21300, 21300, 21303, 21303, 21305, 21305, 21307, 21307, 21311, 21311, 21314, 21314, 21317, 21317, 21324, 21324, 21329, 21329, 21333, 21333, 21334, 21334, 21335, 21335, 21337, 21337, 21338, 21338, 21346, 21346, 21347, 21347, 21350, 21350, 21358, 21358, 21359, 21359, 21361, 21361, 21369, 21369, 21370, 21370, 21373, 21373, 21391, 21391, 21397, 21397, 21400, 21400, 21437, 21437, 21442, 21442, 21477, 21477, 21489, 21489, 21493, 21493, 21496, 21496, 21497, 21497, 21511, 21511, 21514, 21514, 21516, 21516, 21518, 21518, 21520, 21520, 21521, 21521, 21522, 21522, 21525, 21525, 21530, 21530, 21668, 21668, 21701, 21701, 21707, 21707, 21708, 21708, 21711, 21711, 21743, 21743, 21748, 21749, 21749, 21765, 21765, 21766, 21766, 21815, 21815, 21849, 21849, 21850, 21850, 21853, 21855, 21855, 21918, 21918, 21945, 21945, 21948, 21953, 21953, 21956, 21956, 21994, 21994, 22017, 22017, 22037, 22037, 22042, 22042, 22051, 22051, 22052, 22052, 22059, 22059, 22063, 22063, 22065, 22065, 22103, 22103, 22112, 22112, 22118, 22118, 22126, 22126, 22140, 22140, 22161, 22162, 22162, 22164, 22164, 22178, 22178, 22190, 22213, 22213, 22215, 22215, 22273, 22273, 22275, 22275, 22277, 22277, 22278, 22278, 22279, 22279, 22281, 22281, 22282, 22282, 22285, 22285, 22297, 22297, 22312, 22312, 22319, 22319, 22320, 22320, 22322, 22322, 22323, 22323, 22327, 22327, 22330, 22330, 22381, 22381, 22382, 22382, 22384, 22384, 22415, 22415, 22417, 22417, 22420, 22420, 22421, 22421, 22443, 22443, 22447, 22447, 22462, 22462, 22473, 22473, 22474, 22474, 22476, 22476, 22479, 22479, 22492, 22492, 22493, 22493, 22495, 22495, 22516, 22516, 22520, 22520, 22523, 22523, 22578, 22578, 22581, 22581, 22600, 22600, 22611, 22611, 22614, 22614, 22623, 22623, 22627, 22627, 22628, 22628, 22630, 22630, 22633, 22633, 22655, 22655, 22656, 22656, 22658, 22658, 22660, 22660, 22722, 22722, 22724, 22724, 22726, 22726, 22751, 22751, 22785, 22785, 22788, 22788, 22802, 22802, 22840, 22840, 22844, 22844, 22847, 22847, 22850, 22850, 22869, 22869, 22872, 22872, 22884, 22884, 22935, 22935, 22937, 22937, 22942, 22942, 22943, 22943, 22947, 22947, 22950, 22950, 22971, 22971, 22983, 22983, 23019, 23019, 23021, 23021, 23023, 23023, 23040, 23040, 23041, 23041, 23043, 23043, 23045, 23045, 23048, 23048, 23054, 23054, 23056, 23056, 23086, 23086, 23089, 23089, 23094, 23142, 23142, 23144, 23144, 23145, 23145, 23147, 23147, 23167, 23167, 23173, 23173, 23179, 23179, 23182, 23182, 23198, 23201, 23201, 23213, 23213, 23217, 23217, 23218, 23218, 23231, 23231, 23232, 23232, 23251, 23251, 23252, 23252, 23255, 23255, 23257, 23257, 23272, 23272, 23325, 23328, 23328, 23331, 23363, 23364, 23364, 23367, 23367, 23370, 23370, 23399, 23399, 23411, 23411, 23413, 23413, 23415, 23415, 23418, 23418, 23430, 23430, 23434, 23434, 23459, 23459, 23462, 23462, 23464, 23464, 23466, 23466, 23467, 23467, 23472, 23472, 23500, 23500, 23503, 23503, 23505, 23505, 23506, 23506, 23507, 23507, 23509, 23509, 23561, 23561, 23562, 23562, 23631, 23631, 23641, 23641, 23644, 23644, 23645, 23645, 23653, 23653, 23659, 23659, 23662, 23664, 23664, 23670, 23670, 23676, 23676, 23682, 23682, 23684, 23684, 23689, 23689, 23725, 23725, 23733, 23733, 23735, 23735, 23774, 23774, 23777, 23777, 23780, 23780, 23782, 23782, 23786, 23786, 23788, 23788, 23793, 23793, 23795, 23795, 23798, 23798, 23800, 23800, 23802, 23807, 23807, 23816, 23816, 23826, 23826, 23831, 23831, 23832, 23832, 23920, 23920, 23921, 23921, 23924, 23924, 23926, 23926, 23954, 23954, 23956, 23956, 23959, 23959, 23968, 23968, 23970, 23970, 23973, 23973, 24003, 24003, 24008, 24008, 24019, 24019, 24021, 24021, 24022, 24022, 24046, 24046, 24056, 24056, 24057, 24057, 24061, 24061, 24064, 24064, 24066, 24066, 24068, 24068, 24083, 24083, 24084, 24084, 24094, 24094, 24125, 24125, 24211, 24211, 24212, 24212, 24214, 24214, 24215, 24215, 24216, 24216, 24220, 24220, 24221, 24221, 24222, 24222, 24224, 24224, 24225, 24225, 24309, 24309, 24311, 24311, 24326, 24326, 24330, 24330, 24368, 24368, 24369, 24369, 24372, 24372, 24376, 24376, 24390, 24390, 24398, 24398, 24399, 24399, 24401, 24401, 24402, 24402, 24404, 24404, 24416, 24416, 24418, 24418, 24426, 24426, 24427, 24427, 24459, 24459, 24460, 24486, 24486, 24518, 24518, 24521, 24521, 24526, 24526, 24531, 24537, 24537, 24538, 24538, 24539, 24539, 24540, 24540, 24541, 24541, 24558, 24558, 24560, 24560, 24565, 24565, 24571, 24571, 24572, 24572, 24574, 24574, 24577, 24577, 24579, 24579, 24580, 24580, 24612, 24612, 24614, 24614, 24644, 24644, 24645, 24645, 24648, 24648, 24649, 24649, 24672, 24672, 24710, 24710, 24751, 24751, 24752, 24752, 24754, 24754, 24766, 24766, 24768, 24768, 24773, 24773, 24775, 24775, 24776, 24776, 24777, 24777, 24800, 24800, 24802, 24802, 24805, 24805, 24809, 24809, 24810, 24810, 24857, 24874, 24874, 24880, 24880, 24882, 24882, 24889, 24889, 24913, 24913, 24915, 24915, 24937, 24937, 24938, 24938, 24943, 24963, 24963, 25001, 25001, 25024, 25024, 25025, 25025, 25039, 25039, 25041, 25041, 25044, 25044, 25049, 25049, 25105, 25105, 25107, 25107, 25108, 25108, 25109, 25109, 25111, 25111, 25129, 25129, 25132, 25133, 25133, 25136, 25136, 25147, 25147, 25148, 25148, 25149, 25149, 25150, 25150, 25153, 25153, 25156, 25156, 25157, 25157, 25158, 25158, 25159, 25159, 25161, 25161, 25162, 25162, 25164, 25164, 25165, 25165, 25167, 25167, 25168, 25168, 25169, 25169, 25171, 25171, 25173, 25173, 25174, 25174, 25176, 25176, 25178, 25178, 25179, 25179, 25180, 25180, 25181, 25181, 25182, 25182, 25183, 25183, 25184, 25184, 25185, 25185, 25186, 25186, 25187, 25187, 25188, 25188, 25196, 25196, 25211, 25211, 25213, 25213, 25214, 25214, 25216, 25216, 25217, 25217, 25245, 25245, 25246, 25246, 25249, 25249, 25251, 25251, 25252, 25252, 25255, 25255, 25271, 25271, 25272, 25272, 25277, 25277, 25362, 25362, 25365, 25365, 25368, 25368, 25398, 25398, 25399, 25399, 25401, 25401, 25402, 25402, 25405, 25405, 25407, 25407, 25408, 25408, 25413, 25413, 25415, 25415, 25416, 25416, 25417, 25417, 25418, 25418, 25419, 25419, 25431, 25431, 25433, 25433, 25436, 25436, 25439, 25439, 25443, 25443, 25446, 25446, 25448, 25448, 25450, 25450, 25451, 25451, 25454, 25454, 25456, 25456, 25457, 25457, 25459, 25459, 25460, 25460, 25463, 25463, 25466, 25466, 25468, 25468, 25477, 25477, 25483, 25483, 25484, 25484, 25485, 25485, 25502, 25502, 25503, 25503, 25504, 25504, 25507, 25507, 25536, 25536, 25614, 25614, 25616, 25616, 25627, 25627, 25630, 25630, 25633, 25633, 25641, 25641, 25643, 25643, 25647, 25647, 25649, 25649, 25650, 25650, 25654, 25654, 25689, 25689, 25690, 25690, 25692, 25692, 25695, 25695, 25699, 25699, 25741, 25741, 25778, 25778, 25885, 25885, 25929, 25929, 25936, 25936, 25939, 25939, 25941, 25941, 25942, 25942, 25945, 25945, 25952, 25952, 25953, 25953, 25970, 25970, 25987, 25987, 25989, 25989, 25991, 25991, 25993, 25993, 25994, 25994, 25997, 25997, 26000, 26000, 26008, 26008, 26009, 26009, 26012, 26012, 26015, 26015, 26120, 26120, 26134, 26174, 26174, 26221, 26221, 26223, 26223, 26224, 26224, 26236, 26236, 26238, 26238, 26240, 26240, 26281, 26281, 26330, 26330, 26423, 26423, 26511, 26511, 26513, 26513, 26529, 26529, 26555, 26564, 26564, 26567, 26567, 26577, 26577, 26578, 26578, 26580, 26580, 26591, 26591, 26592, 26592, 26630, 26630, 26637, 26637, 26681, 26681, 26685, 26687, 26687, 26707, 26707, 26709, 26709, 26766, 26766, 26767, 26767, 26768, 26768, 26769, 26769, 26770, 26770, 26854, 26859, 26859, 26901, 26901, 26905, 26905, 26907, 26907, 26912, 26912, 26914, 26914, 26947, 26947, 26970, 26970, 27013, 27013, 27019, 27019, 27020, 27020, 27082, 27082, 27099, 27099, 27105, 27105, 27110, 27110, 27112, 27112, 27113, 27113, 27114, 27114, 27115, 27115, 27116, 27116, 27117, 27117, 27118, 27118, 27120, 27120, 27121, 27121, 27124, 27124, 27125, 27125, 27131, 27131, 27132, 27132, 27133, 27133, 27134, 27134, 27145, 27145, 27153, 27153, 27154, 27154, 27159, 27159, 27178, 27178, 27182, 27182, 27189, 27189, 27194, 27194, 27204, 27204, 27206, 27206, 27218, 27218, 27222, 27222, 27233, 27233, 27235, 27235, 27238, 27238, 27264, 27264, 27266, 27266, 27267, 27267, 27268, 27268, 27269, 27269, 27271, 27271, 27274, 27274, 27284, 27284, 27291, 27291, 27292, 27292, 27293, 27293, 27295, 27295, 27337, 27337, 27342, 27342, 27344, 27344, 27372, 27372, 27376, 27376, 27395, 27395, 27447, 27447, 27448, 27448, 27483, 27483, 27540, 27540, 27541, 27541, 27555, 27555, 27558, 27558, 27563, 27563, 27565, 27565, 27566, 27566, 27589, 27589, 27591, 27594, 27594, 27617, 27617, 27625, 27625, 27627, 27627, 27630, 27630, 27635, 27635, 27636, 27636, 27637, 27637, 27638, 27638, 27640, 27640, 27642, 27642, 27643, 27643, 27662, 27662, 27687, 27687, 27688, 27688, 27696, 27696, 27697, 27697, 27701, 27701, 27706, 27706, 27729, 27729, 27742, 27742, 27766, 27766, 27771, 27771, 27783, 27783, 27786, 27786, 27790, 27790, 27801, 27801, 27802, 27802, 27807, 27807, 27900, 27900, 27933, 27933, 27964, 27964, 27966, 27966, 27970, 27970, 27974, 27974, 27975, 27975, 27976, 27976, 27979, 28025, 28025, 28029, 28029, 28030, 28030, 28031, 28031, 28034, 28034, 28040, 28040, 28042, 28042, 28057, 28057, 28058, 28058, 28062, 28062, 28079, 28079, 28081, 28081, 28085, 28085, 28090, 28090, 28091, 28091, 28094, 28094, 28097, 28097, 28099, 28099, 28100, 28100, 28140, 28140, 28143, 28143, 28146, 28146, 28166, 28166, 28172, 28172, 28175, 28175, 28178, 28178, 28181, 28181, 28191, 28191, 28192, 28192, 28195, 28195, 28196, 28196, 28197, 28197, 28200, 28205, 28205, 28215, 28215, 28218, 28218, 28220, 28220, 28232, 28232, 28235, 28235, 28240, 28240, 28313, 28313, 28316, 28316, 28318, 28318, 28329, 28329, 28331, 28331, 28337, 28337, 28338, 28338, 28341, 28341, 28344, 28344, 28358, 28358, 28364, 28364, 28366, 28366, 28371, 28371, 28379, 28379, 28400, 28400, 28403, 28403, 28433, 28433, 28435, 28435, 28438, 28438, 28441, 28441, 28443, 28443, 28474, 28474, 28519, 28519, 28520, 28520, 28523, 28523, 28526, 28526, 28552, 28552, 28554, 28554, 28560, 28560, 28568, 28568, 28570, 28570, 28573, 28573, 28582, 28582, 28585, 28585, 28588, 28588, 28599, 28599, 28602, 28602, 28604, 28604, 28608, 28608, 28610, 28610, 28611, 28611, 28655, 28655, 28657, 28657, 28658, 28658, 28661, 28661, 28663, 28663, 28664, 28664, 28666, 28666, 28667, 28667, 28696, 28697, 28697, 28705, 28732, 28732, 28735, 28735, 28747, 28747, 28749, 28749, 28765, 28770, 28770, 28772, 28772, 28779, 28779, 28799, 28799, 28801, 28801, 28803, 28803, 28806, 28806, 28818, 28818, 28822, 28823, 28823, 28824, 28824, 28825, 28825, 28828, 28828, 28829, 28829, 28830, 28830, 28838, 28838, 28841, 28841, 28842, 28842, 28844, 28844, 28889, 28889, 28892, 28892, 28924, 28924, 28930, 28930, 28983, 28983, 28986, 28986, 28987, 28987, 29014, 29014, 29019, 29019, 29053, 29053, 29056, 29056, 29058, 29058, 29059, 29059, 29078, 29078, 29079, 29079, 29082, 29082, 29162, 29162, 29168, 29168, 29177, 29177, 29184, 29184, 29188, 29188, 29189, 29189, 29204, 29204, 29207, 29207, 29217, 29217, 29225, 29225, 29228, 29228, 29231, 29231, 29249, 29249, 29253, 29263, 29263, 29279, 29279, 29281, 29281, 29282, 29282, 29285, 29285, 29287, 29287, 29289, 29289, 29290, 29290, 29293, 29293, 29298, 29298, 29301, 29301, 29303, 29303, 29317, 29317, 29318, 29318, 29321, 29321, 29323, 29323, 29324, 29324, 29357, 29357, 29358, 29358, 29373, 29373, 29378, 29378, 29380, 29380, 29401, 29401, 29430, 29430, 29457, 29457, 29458, 29458, 29464, 29464, 29471, 29471, 29477, 29477, 29483, 29483, 29484, 29484, 29488, 29488, 29491, 29491, 29563, 29563, 29572, 29572, 29590, 29590, 29614, 29614, 29634, 29634, 29637, 29637, 29640, 29640, 29642, 29642, 29676, 29676, 29682, 29682, 29720, 29720, 29732, 29732, 29733, 29733, 29735, 29735, 29748, 29748, 29750, 29750, 29751, 29751, 29800, 29800, 29810, 29810, 29813, 29813, 29829, 29829, 29855, 29855, 29858, 29858, 29859, 29859, 29861, 29861, 29862, 29862, 29901, 29901, 29903, 29903, 29904, 29904, 29906, 29906, 29915, 29915, 29917, 29917, 29921, 29921, 29928, 29928, 29929, 29929, 29932, 29932, 29936, 29936, 29945, 29945, 29952, 29952, 29963, 29963, 29966, 29966, 29968, 29968, 29971, 29971, 30020, 30020, 30035, 30035, 30083, 30083, 30091, 30091, 30094, 30094, 30096, 30096, 30098, 30098, 30108, 30108, 30136, 30136, 30149, 30149, 30151, 30151, 30154, 30154, 30168, 30168, 30176, 30176, 30177, 30177, 30180, 30180, 30183, 30183, 30198, 30198, 30254, 30254, 30261, 30261, 30263, 30263, 30264, 30264, 30269, 30269, 30270, 30270, 30273, 30273, 30286, 30286, 30288, 30288, 30296, 30296, 30299, 30299, 30302, 30302, 30313, 30313, 30318, 30318, 30319, 30319, 30325, 30325, 30336, 30336, 30338, 30338, 30344, 30344, 30369, 30369, 30372, 30372, 30403, 30404, 30404, 30405, 30405, 30407, 30410, 30410, 30417, 30417, 30422, 30422, 30425, 30425, 30426, 30426, 30428, 30428, 30432, 30432, 30434, 30434, 30436, 30436, 30455, 30455, 30460, 30460, 30462, 30462, 30482, 30482, 30483, 30483, 30485, 30485, 30486, 30486, 30488, 30488, 30514, 30514, 30572, 30572, 30576, 30576, 30623, 30623, 30626, 30626, 30628, 30628, 30629, 30629, 30630, 30630, 30717, 30717, 30720, 30720, 30726, 30726, 30729, 30729, 30733, 30733, 30746, 30746, 30747, 30747, 30750, 30750, 30753, 30753, 30768, 30768, 30770, 30770, 30816, 30820, 30820, 30843, 30873, 30873, 30898, 30898, 30900, 30900, 30902, 30902, 30932, 30946, 30946, 30947, 30947, 30952, 30952, 30957, 30957, 30958, 30958, 30962, 30962, 30985, 30985, 31004, 31004, 31008, 31008, 31084, 31084, 31085, 31085, 31087, 31087, 31130, 31130, 31133, 31133, 31135, 31135, 31136, 31136, 31138, 31138, 31140, 31140, 31146, 31146, 31155, 31155, 31156, 31156, 31162, 31162, 31163, 31163, 31165, 31165, 31174, 31174, 31185, 31185, 31265, 31265, 31272, 31272, 31276, 31276, 31313, 31313, 31332, 31332, 31333, 31333, 31334, 31334, 31335, 31335, 31336, 31336, 31359, 31359, 31364, 31364, 31366, 31366, 31369, 31369, 31372, 31372, 31396, 31396, 31398, 31398, 31401, 31401, 31419, 31419, 31433, 31433, 31445, 31445, 31457, 31457, 31465, 31465, 31468, 31468, 31470, 31470, 31472, 31472, 31513, 31513, 31515, 31515, 31530, 31530, 31568, 31568, 31572, 31572, 31607, 31607, 31669, 31669, 31672, 31672, 31675, 31675, 31678, 31678, 31680, 31680, 31681, 31681, 31700, 31700, 31735, 31735, 31738, 31738, 31763, 31763, 31764, 31764, 31766, 31766, 31767, 31767, 31770, 31770, 31791, 31791, 31805, 31805, 31827, 31827, 31828, 31828, 31831, 31831, 31836, 31836, 31839, 31839, 31841, 31841, 31842, 31842, 31851, 31851, 31855, 31855, 31862, 31862, 31876, 31876, 31879, 31879, 31883, 31883, 31889, 31889, 31890, 31890, 31891, 31891, 31893, 31893, 31894, 31894, 31896, 31896, 31899, 31899, 31902, 31902, 31904, 31904, 31905, 31905, 31908, 31908, 31918, 31918, 31920, 31920, 31954, 31954, 32021, 32021, 32027, 32027, 32028, 32028, 32029, 32029, 32030, 32030, 32036, 32036, 32048, 32048, 32049, 32049, 32050, 32050, 32051, 32051, 32053, 32053, 32055, 32055, 32057, 32057, 32058, 32058, 32059, 32059, 32080, 32080, 32081, 32081, 32082, 32082, 32083, 32083, 32084, 32084, 32087, 32087, 32088, 32088, 32162, 32162, 32165, 32165, 32207, 32207, 32224, 32224, 32227, 32227, 32292, 32292, 32295, 32295, 32298, 32298, 32301, 32301, 32306, 32306, 32309, 32309, 32326, 32326, 32331, 32331, 32337, 32337, 32342, 32342, 32345, 32345, 32349, 32349, 32351, 32351, 32352, 32352, 32353, 32353, 32354, 32354, 32357, 32357, 32360, 32360, 32362, 32362, 32365, 32365, 32370, 32370, 32371, 32371, 32380, 32380, 32383, 32383, 32388, 32388, 32391, 32391, 32394, 32394, 32395, 32395, 32396, 32396, 32407, 32407, 32412, 32412, 32415, 32415, 32418, 32418, 32420, 32420, 32423, 32423, 32426, 32426, 32428, 32428, 32430, 32430, 32431, 32431, 32434, 32434, 32436, 32436, 32438, 32438, 32439, 32439, 32443, 32443, 32444, 32444, 32452, 32452, 32455, 32455, 32461, 32461, 32462, 32462, 32467, 32467, 32472, 32472, 32475, 32475, 32476, 32476, 32477, 32477, 32480, 32480, 32481, 32481, 32506, 32506, 32507, 32507, 32508, 32508, 32511, 32511, 32539, 32539, 32541, 32541, 32557, 32557, 32558, 32558, 32562, 32562, 32585, 32585, 32587, 32587, 32592, 32592, 32593, 32593, 32595, 32595, 32596, 32596, 32598, 32598, 32608, 32608, 32638, 32638, 32650, 32650, 32654, 32654, 32670, 32670, 32727, 32727, 32776, 32776, 32779, 32779, 32780, 32780, 32850, 32864, 32864, 32865, 32865, 32870, 32870, 32872, 32872, 32873, 32873, 32886, 32886, 32888, 32888, 32891, 32891, 32892, 32892, 32893, 32893, 32901, 32901, 32906, 32906, 32915, 32915, 32916, 32916, 32920, 32920, 32921, 32921, 32935, 32935, 32937, 32937, 32941, 32941, 32947, 32947, 32960, 32960, 32966, 32966, 32969, 32969, 32974, 32974, 33003, 33003, 33009, 33009, 33029, 33029, 33031, 33031, 33055, 33055, 33060, 33060, 33115, 33131, 33131, 33134, 33134, 33135, 33135, 33137, 33137, 33152, 33152, 33155, 33155, 33255, 33255, 33256, 33256, 33257, 33257, 33258, 33258, 33259, 33259, 33261, 33261, 33263, 33263, 33266, 33266, 33282, 33282, 33293, 33293, 33294, 33294, 33366, 33366, 33385, 33385, 33386, 33386, 33427, 33427, 33440, 33440, 33444, 33444, 33473, 33473, 33480, 33480, 33487, 33487, 33488, 33488, 33544, 33544, 33545, 33545, 33547, 33547, 33549, 33549, 33573, 33573, 33579, 33579, 33589, 33589, 33590, 33590, 33593, 33593, 33606, 33606, 33611, 33611, 33613, 33613, 33616, 33616, 33620, 33620, 33623, 33623, 33627, 33627, 33714, 33714, 33723, 33723, 33729, 33729, 33739, 33739, 33766, 33767, 33767, 33769, 33769, 33771, 33771, 33772, 33772, 33828, 33828, 33834, 33834, 33836, 33839, 33839, 33844, 33844, 33848, 33848, 33854, 33854, 33857, 33857, 33885, 33885, 33887, 33887, 33893, 33893, 33894, 33894, 33898, 33898, 33933, 33933, 33936, 33936, 33938, 33938, 33939, 33939, 33948, 33948, 33951, 33951, 33954, 33954, 33956, 33956, 33957, 33957, 33959, 33959, 33960, 33960, 33962, 33962, 33963, 33963, 33968, 33968, 33970, 33970, 33983, 33983, 34006, 34006, 34011, 34011, 34024, 34024, 34026, 34026, 34036, 34036, 34039, 34039, 34097, 34098, 34098, 34155, 34155, 34158, 34158, 34182, 34182, 34192, 34192, 34195, 34195, 34197, 34197, 34200, 34200, 34208, 34208, 34209, 34209, 34362, 34362, 34373, 34373, 34379, 34379, 34453, 34453, 34457, 34457, 34459, 34460, 34460, 34463, 34463, 34546, 34546, 34563, 34563, 34574, 34574, 34575, 34575, 34578, 34578, 34580, 34580, 34581, 34581, 34586, 34586, 34587, 34587, 34631, 34631, 34636, 34636, 34639, 34639, 34642, 34642, 34644, 34644, 34666, 34666, 34667, 34667, 34668, 34668, 34669, 34669, 34670, 34670, 34671, 34671, 34672, 34672, 34684, 34684, 34686, 34686, 34701, 34701, 34714, 34714, 34730, 34730, 34731, 34731, 34734, 34734, 34775, 34775, 34799, 34799, 34819, 34819, 34820, 34820, 34821, 34821, 34822, 34822, 34824, 34824, 34833, 34833, 34834, 34834, 34837, 34837, 34846, 34846, 34914, 34914, 34916, 34916, 34924, 34924, 34935, 34935, 34975, 34975, 34978, 34978, 34983, 34986, 34986, 34995, 34995, 35005, 35005, 35006, 35006, 35059, 35059, 35072, 35072, 35114, 35114, 35118, 35118, 35131, 35131, 35136, 35136, 35137, 35137, 35138, 35138, 35140, 35140, 35142, 35142, 35143, 35143, 35146, 35146, 35149, 35149, 35151, 35151, 35154, 35154, 35160, 35160, 35171, 35171, 35173, 35173, 35175, 35175, 35183, 35183, 35184, 35184, 35185, 35185, 35186, 35186, 35187, 35187, 35196, 35196, 35198, 35198, 35265, 35265, 35267, 35267, 35270, 35270, 35279, 35279, 35281, 35281, 35284, 35284, 35311, 35311, 35317, 35317, 35318, 35318, 35321, 35321, 35322, 35322, 35324, 35324, 35325, 35325, 35333, 35333, 35334, 35334, 35335, 35335, 35336, 35336, 35342, 35342, 35364, 35364, 35372, 35372, 35375, 35375, 35421, 35421, 35426, 35426, 35431, 35431, 35449, 35449, 35485, 35485, 35487, 35500, 35500, 35503, 35503, 35506, 35506, 35546, 35546, 35561, 35561, 35564, 35564, 35567, 35567, 35573, 35576, 35576, 35605, 35605, 35609, 35609, 35630, 35630, 35632, 35632, 35633, 35633, 35636, 35636, 35647, 35647, 35653, 35653, 35662, 35662, 35665, 35665, 35668, 35668, 35671, 35671, 35679, 35679, 35683, 35683, 35685, 35685, 35686, 35686, 35730, 35730, 35732, 35732, 35733, 35733, 35745, 35745, 35780, 35780, 35783, 35783, 35788, 35788, 35810, 35810, 35812, 35812, 35819, 35819, 35827, 35827, 35839, 35839, 35843, 35843, 35848, 35848, 35851, 35851, 35860, 35860, 35866, 35866, 35868, 35868, 35874, 35874, 35876, 35876, 35890, 35890, 35894, 35894, 35896, 35896, 35906, 35906, 35908, 35908, 35910, 35910, 35912, 35912, 35945, 35945, 35947, 35947, 35949, 35949, 35980, 35980, 35981, 35981, 35988, 35988, 36000, 36000, 36006, 36006, 36008, 36008, 36009, 36009, 36011, 36011, 36023, 36023, 36024, 36024, 36028, 36028, 36031, 36031, 36040, 36040, 36042, 36042, 36043, 36043, 36048, 36048, 36060, 36060, 36065, 36065, 36068, 36068, 36070, 36070, 36074, 36074, 36075, 36075, 36076, 36076, 36079, 36079, 36101, 36101, 36106, 36106, 36128, 36128, 36130, 36130, 36131, 36131, 36142, 36142, 36163, 36163, 36165, 36165, 36166, 36166, 36178, 36178, 36182, 36182, 36187, 36187, 36202, 36202, 36224, 36224, 36229, 36229, 36232, 36232, 36234, 36234, 36251, 36251, 36254, 36254, 36261, 36261, 36272, 36272, 36275, 36275, 36310, 36310, 36369, 36369, 36372, 36372, 36377, 36377, 36387, 36387, 36394, 36394, 36397, 36397, 36404, 36404, 36413, 36413, 36414, 36414, 36417, 36417, 36444, 36444, 36498, 36498, 36501, 36501, 36504, 36504, 36513, 36513, 36514, 36514, 36516, 36516, 36534, 36534, 36587, 36587, 36591, 36591, 36592, 36592, 36593, 36593, 36595, 36595, 36597, 36597, 36598, 36598, 36603, 36603, 36627, 36627, 36632, 36632, 36643, 36643, 36646, 36646, 36648, 36648, 36654, 36654, 36655, 36655, 36657, 36657, 36658, 36658, 36659, 36659, 36660, 36660, 36669, 36669, 36671, 36671, 36672, 36672, 36673, 36673, 36694, 36694, 36699, 36699, 36709, 36709, 36713, 36713, 36714, 36714, 36746, 36746, 36760, 36760, 36821, 36821, 36822, 36822, 36823, 36823, 36828, 36828, 36842, 36842, 36849, 36849, 36851, 36851, 36853, 36853, 36872, 36872, 36877, 36877, 36891, 36891, 36895, 36895, 36896, 36896, 36924, 36924, 36926, 36926, 36950, 36950, 36954, 36954, 36980, 36980, 36984, 36984, 36985, 36985, 36987, 36987, 36989, 36989, 36990, 36990, 37026, 37026, 37054, 37059, 37059, 37060, 37060, 37061, 37061, 37062, 37062, 37081, 37081, 37084, 37084, 37087, 37087, 37092, 37092, 37093, 37093, 37095, 37095, 37106, 37106, 37109, 37109, 37114, 37114, 37115, 37115, 37118, 37118, 37126, 37126, 37137, 37137, 37141, 37141, 37144, 37144, 37146, 37146, 37148, 37148, 37151, 37151, 37152, 37152, 37161, 37161, 37164, 37164, 37166, 37166, 37177, 37212, 37212, 37222, 37222, 37291, 37291, 37343, 37343, 37347, 37347, 37357, 37357, 37361, 37361, 37395, 37395, 37397, 37397, 37404, 37404, 37406, 37406, 37411, 37411, 37413, 37413, 37416, 37416, 37432, 37432, 37438, 37438, 37441, 37441, 37445, 37445, 37448, 37448, 37462, 37462, 37467, 37467, 37475, 37475, 37476, 37476, 37501, 37501, 37506, 37506, 37507, 37507, 37509, 37509, 37511, 37511, 37513, 37513, 37514, 37514, 37516, 37516, 37517, 37517, 37519, 37519, 37531, 37531, 37534, 37534, 37664, 37664, 37691, 37691, 37694, 37694, 37695, 37695, 37697, 37697, 37702, 37702, 37704, 37704, 37708, 37708, 37713, 37713, 37716, 37716, 37719, 37719, 37732, 37732, 37766, 37766, 37767, 37767, 37769, 37769, 37774, 37774, 37776, 37776, 37777, 37777, 37798, 37798, 37801, 37801, 37808, 37808, 37812, 37812, 37820, 37820, 37831, 37831, 37833, 37833, 37902, 37902, 37903, 37903, 37904, 37904, 37905, 37905, 37906, 37906, 37907, 37907, 37916, 37916, 37925, 37925, 37934, 37934, 37935, 37935, 37936, 37936, 37967, 37967, 37970, 37970, 38017, 38017, 38018, 38018, 38020, 38020, 38021, 38021, 38022, 38022, 38023, 38023, 38032, 38032, 38035, 38035, 38037, 38037, 38040, 38040, 38043, 38043, 38046, 38046, 38073, 38073, 38109, 38109, 38140, 38140, 38141, 38141, 38146, 38146, 38193, 38193, 38194, 38194, 38195, 38195, 38201, 38201, 38217, 38217, 38235, 38235, 38284, 38284, 38287, 38287, 38289, 38289, 38290, 38290, 38291, 38291, 38296, 38296, 38325, 38325, 38329, 38329, 38331, 38331, 38383, 38383, 38411, 38411, 38419, 38419, 38422, 38422, 38423, 38423, 38424, 38424, 38448, 38448, 38449, 38449, 38450, 38450, 38462, 38462, 38463, 38463, 38506, 38506, 38520, 38520, 38552, 38552, 38585, 38585, 38588, 38588, 38630, 38630, 38631, 38631, 38650, 38650, 38733, 38733, 38737, 38737, 38817, 38817, 38820, 38820, 38822, 38822, 38837, 38837, 38842, 38842, 38866, 38866, 38886, 38886, 38889, 38889, 38908, 38908, 38920, 38920, 38926, 38926, 38927, 38927, 38928, 38928, 38929, 38929, 38930, 38930, 38952, 38952, 38957, 38957, 38961, 38961, 39003, 39003, 39004, 39004, 39014, 39014, 39016, 39016, 39024, 39024, 39026, 39026, 39029, 39029, 39034, 39034, 39035, 39035, 39039, 39039, 39041, 39041, 39042, 39042, 39043, 39043, 39044, 39044, 39056, 39056, 39085, 39118, 39118, 39120, 39120, 39138, 39138, 39142, 39142, 39264, 39264, 39265, 39265, 39269, 39269, 39275, 39275, 39277, 39277, 39279, 39279, 39298, 39298, 39300, 39300, 39303, 39303, 39305, 39305, 39307, 39308, 39308, 39309, 39309, 39310, 39310, 39312, 39312, 39315, 39315, 39320, 39320, 39329, 39329, 39335, 39335, 39338, 39338, 39342, 39342, 39343, 39343, 39346, 39346, 39356, 39356, 39358, 39358, 39359, 39359, 39360, 39360, 39372, 39372, 39374, 39374, 39376, 39376, 39384, 39387, 39390, 39390, 39393, 39393, 39395, 39395, 39410, 39410, 39460, 39460, 39461, 39461, 39462, 39462, 39463, 39463, 39464, 39464, 39512, 39515, 39539, 39539, 39571, 39571, 39573, 39573, 39590, 39590, 39593, 39593, 39633, 39633, 39639, 39639, 39675, 39675, 39677, 39677, 39686, 39686, 39688, 39688, 39690, 39690, 39710, 39710, 39719, 39719, 39723, 39723, 39756, 39756, 39757, 39757, 39762, 39762, 39764, 39764, 39765, 39765, 39766, 39766, 39767, 39767, 39769, 39770, 39770, 39775, 39775, 39780, 39780, 39801, 39801, 39804, 39804, 39818, 39818, 39821, 39821, 39822, 39822, 39849, 39883, 39883, 39979, 39979, 40004, 40004, 40011, 40011, 40029, 40029, 40048, 40048, 40050, 40050, 40071, 40071, 40073, 40073, 40076, 40076, 40083, 40083, 40085, 40085, 40086, 40086, 40093, 40093, 40094, 40094, 40096, 40096, 40097, 40097, 40101, 40101, 40109, 40109, 40111, 40111, 40112, 40112, 40126, 40126, 40129, 40129, 40140, 40140, 40143, 40143, 40151, 40151, 40152, 40152, 40161, 40161, 40176, 40176, 40178, 40178, 40183, 40183, 40187, 40187, 40188, 40188, 40191, 40191, 40195, 40195, 40198, 40198, 40200, 40200, 40204, 40204, 40215, 40215, 40217, 40217, 40219, 40219, 40228, 40228, 40236, 40236, 40237, 40237, 40243, 40243, 40250, 40250, 40252, 40252, 40275, 40275, 40313, 40313, 40351, 40351, 40358, 40358, 40361, 40361, 40364, 40364, 40408, 40408, 40430, 40430, 40435, 40435, 40463, 40463, 40464, 40464, 40479, 40479, 40480, 40480, 40484, 40484, 40492, 40492, 40498, 40498, 40521, 40521, 40536, 40536, 40550, 40550, 40554, 40554, 40561, 40561, 40565, 40565, 40572, 40572, 40573, 40573, 40576, 40576, 40580, 40580, 40583, 40583, 40622, 40622, 40624, 40624, 40626, 40626, 40647, 40647, 40648, 40648, 40649, 40649, 40650, 40650, 40651, 40651, 40683, 40683, 40684, 40684, 40691, 40691, 40694, 40694, 40713, 40713, 40715, 40715, 40758, 40758, 40775, 40775, 40779, 40779, 40781, 40781, 40787, 40787, 40789, 40789, 40790, 40790, 40791, 40792, 40792, 40820, 40820, 40850, 40850, 40868, 40868, 40870, 40870, 40874, 40874, 40896, 40896, 40900, 40900, 40901, 40901, 40906, 40906, 40995, 40995, 40997, 40997, 41014, 41014, 41015, 41015, 41016, 41016, 41017, 41017, 41020, 41020, 41021, 41021, 41025, 41025, 41026, 41026, 41028, 41028, 41029, 41029, 41037, 41037, 41040, 41040, 41041, 41041, 41054, 41054, 41056, 41056, 41057, 41057, 41059, 41059, 41063, 41063, 41064, 41064, 41068, 41068, 41071, 41071, 41097, 41097, 41105, 41105, 41106, 41106, 41110, 41110, 41118, 41118, 41119, 41119, 41120, 41120, 41122, 41122, 41123, 41123, 41126, 41126, 41135, 41135, 41139, 41139, 41149, 41149, 41195, 41195, 41199, 41199, 41224, 41224, 41234, 41234, 41236, 41236, 41238, 41238, 41247, 41247, 41248, 41248, 41250, 41250, 41252, 41252, 41306, 41306, 41309, 41309, 41310, 41310, 41311, 41311, 41363, 41363, 41380, 41380, 41381, 41381, 41382, 41382, 41383, 41383, 41386, 41386, 41397, 41397, 41400, 41400, 41401, 41401, 41403, 41403, 41405, 41405, 41480, 41480, 41482, 41482, 41502, 41502, 41534, 41534, 41558, 41558, 41562, 41562, 41580, 41580, 41583, 41583, 41597, 41597, 41598, 41598, 41599, 41599, 41628, 41628, 41631, 41631, 41644, 41644, 41647, 41647, 41667, 41667, 41668, 41668, 41671, 41671, 41685, 41685, 41725, 41725, 41728, 41728, 41757, 41757, 41758, 41758, 41760, 41760, 41762, 41762, 41846, 41846, 41847, 41847, 41848, 41848, 41849, 41849, 41853, 41853, 41857, 41857, 41888, 41965, 41965, 42025, 42025, 42068, 42068, 42069, 42069, 42071, 42071, 42073, 42073, 42080, 42080, 42090, 42090, 42092, 42092, 42097, 42097, 42111, 42113, 42113, 42115, 42115, 42131, 42131, 42132, 42132, 42133, 42133, 42134, 42134, 42159, 42159, 42168, 42168, 42173, 42173, 42179, 42179, 42186, 42186, 42234, 42234, 42246, 42246, 42248, 42248, 42250, 42250, 42251, 42251, 42253, 42253, 42267, 42267, 42268, 42268, 42270, 42270, 42273, 42273, 42279, 42279, 42282, 42282, 42287, 42287, 42289, 42289, 42301, 42301, 42326, 42326, 42335, 42335, 42339, 42341, 42341, 42365, 42365, 42366, 42367, 42367, 42369, 42369, 42371, 42371, 42411, 42411, 42413, 42413, 42417, 42417, 42436, 42436, 42444, 42444, 42446, 42446, 42448, 42448, 42535, 42535, 42536, 42536, 42538, 42538, 42539, 42539, 42540, 42540, 42572, 42572, 42583, 42584, 42584, 42595, 42595, 42607, 42607, 42610, 42610, 42638, 42638, 42674, 42674, 42677, 42677, 42714, 42714, 42715, 42715, 42731, 42731, 42755, 42755, 42757, 42757, 42760, 42760, 42761, 42761, 42769, 42769, 42770, 42770, 42772, 42772, 42775, 42775, 42795, 42795, 42798, 42798, 42832, 42832, 42834, 42834, 42901, 42901, 42905, 42905, 42920, 42920, 42921, 42921, 42929, 42929, 42936, 42936, 42940, 42940, 42978, 42978, 42998, 42998, 43039, 43039, 43040, 43040, 43043, 43043, 43052, 43056, 43056, 43095, 43095, 43098, 43098, 43101, 43101, 43138, 43142, 43142, 43158, 43158, 43188, 43188, 43345, 43345, 43362, 43362, 43383, 43383, 43389, 43389, 43401, 43401, 43430, 43430, 43451, 43451, 43454, 43454, 43455, 43455, 43460, 43460, 43476, 43476, 43477, 43477, 43482, 43482, 43561, 43561, 43563, 43563, 43566, 43566, 43577, 43577, 43603, 43603, 43662, 43662, 43665, 43665, 43668, 43668, 43671, 43671, 43674, 43674, 43675, 43675, 43677, 43689, 43689, 43691, 43691, 43708, 43723, 43723, 43726, 43726, 43742, 43742, 43779, 43779, 43784, 43784, 43794, 43794, 43795, 43795, 43796, 43796, 43797, 43797, 43869, 43869, 43875, 43875, 43920, 43920, 43923, 43923, 43925, 43925, 43927, 43927, 43928, 43928, 43930, 43930, 43931, 43931, 43933, 43933, 43957, 43957, 43958, 43958, 43962, 43962, 43965, 43965, 43967, 43967, 43968, 43968, 43971, 43971, 43972, 43972, 43975, 43975, 43987, 43987, 43990, 43990, 43992, 43992, 44002, 44002, 44009, 44009, 44010, 44010, 44013, 44013, 44014, 44014, 44019, 44019, 44044, 44044, 44053, 44053, 44056, 44056, 44061, 44061, 44063, 44063, 44077, 44077, 44079, 44079, 44080, 44080, 44081, 44081, 44083, 44083, 44085, 44085, 44102, 44102, 44103, 44103, 44104, 44104, 44109, 44109, 44136, 44136, 44168, 44171, 44197, 44197, 44207, 44207, 44208, 44208, 44209, 44209, 44211, 44211, 44266, 44266, 44270, 44270, 44280, 44280, 44287, 44287, 44311, 44311, 44338, 44338, 44343, 44343, 44350, 44350, 44352, 44352, 44353, 44353, 44357, 44357, 44365, 44365, 44366, 44366, 44368, 44368, 44381, 44381, 44388, 44388, 44396, 44396, 44399, 44399, 44424, 44424, 44445, 44445, 44446, 44446, 44449, 44449, 44451, 44451, 44466, 44466, 44499, 44499, 44502, 44502, 44531, 44531, 44534, 44534, 44536, 44536, 44557, 44557, 44558, 44558, 44567, 44567, 44569, 44569, 44571, 44571, 44575, 44575, 44578, 44578, 44580, 44580, 44582, 44582, 44585, 44585, 44586, 44586, 44589, 44589, 44590, 44590, 44594, 44594, 44596, 44596, 44625, 44638, 44638, 44639, 44639, 44641, 44641, 44642, 44642, 44643, 44643, 44647, 44647, 44699, 44699, 44717, 44717, 44723, 44723, 44725, 44725, 44738, 44756, 44756, 44759, 44759, 44762, 44762, 44771, 44771, 44826, 44826, 44827, 44827, 44831, 44831, 44832, 44832, 44845, 44862, 44862, 44886, 44886, 44888, 44888, 44928, 44928, 44936, 44936, 44940, 44940, 44941, 44941, 44959, 44959, 44960, 44960, 44971, 44971, 44987, 44987, 45003, 45003, 45005, 45005, 45006, 45006, 45009, 45009, 45011, 45011, 45013, 45013, 45014, 45014, 45019, 45019, 45021, 45021, 45022, 45022, 45025, 45025, 45029, 45029, 45031, 45031, 45032, 45032, 45034, 45034, 45037, 45037, 45038, 45038, 45039, 45039, 45040, 45040, 45041, 45041, 45042, 45042, 45044, 45044, 45046, 45046, 45047, 45047, 45049, 45049, 45052, 45052, 45055, 45055, 45056, 45056, 45057, 45057, 45061, 45061, 45063, 45063, 45071, 45071, 45074, 45074, 45077, 45077, 45079, 45079, 45081, 45081, 45082, 45082, 45084, 45084, 45085, 45085, 45087, 45087, 45088, 45088, 45089, 45089, 45090, 45090, 45091, 45091, 45092, 45092, 45093, 45093, 45102, 45102, 45104, 45104, 45105, 45105, 45107, 45107, 45108, 45108, 45113, 45113, 45116, 45123, 45123, 45138, 45138, 45143, 45143, 45145, 45145, 45148, 45148, 45149, 45149, 45151, 45151, 45152, 45152, 45155, 45155, 45161, 45161, 45163, 45163, 45164, 45164, 45166, 45166, 45171, 45171, 45178, 45178, 45180, 45180, 45219, 45219, 45220, 45220, 45221, 45221, 45222, 45222, 45228, 45228, 45230, 45230, 45245, 45245, 45246, 45246, 45247, 45247, 45254, 45254, 45256, 45256, 45257, 45257, 45272, 45272, 45304, 45304, 45305, 45305, 45309, 45309, 45312, 45312, 45313, 45313, 45361, 45361, 45363, 45363, 45377, 45377, 45379, 45379, 45446, 45446, 45448, 45448, 45449, 45449, 45451, 45451, 45568, 45568, 45569, 45569, 45571, 45571, 45603, 45603, 45605, 45605, 45610, 45610, 45618, 45618, 45630, 45630, 45636, 45636, 45708, 45708, 45752, 45752, 45756, 45756, 45805, 45805, 45834, 45834, 45836, 45836, 45849, 45849, 45878, 45878, 45884, 45884, 45887, 45887, 45888, 45888, 45890, 45890, 45892, 45892, 45903, 45903, 45906, 45906, 45908, 45908, 45909, 45909, 45912, 45912, 45914, 45914, 45922, 45922, 45927, 45927, 45963, 45963, 45988, 45988, 45996, 45996, 46023, 46023, 46026, 46026, 46028, 46028, 46108, 46108, 46114, 46114, 46146, 46146, 46148, 46148, 46159, 46159, 46160, 46160, 46161, 46161, 46174, 46174, 46192, 46192, 46193, 46193, 46198, 46198, 46221, 46221, 46238, 46238, 46243, 46243, 46246, 46246, 46249, 46298, 46298, 46299, 46299, 46300, 46300, 46302, 46302, 46304, 46304, 46380, 46380, 46400, 46400, 46415, 46415, 46430, 46430, 46433, 46433, 46435, 46435, 46436, 46436, 46442, 46442, 46448, 46448, 46451, 46451, 46463, 46463, 46472, 46472, 46475, 46475, 46483, 46483, 46520, 46520, 46546, 46546, 46552, 46552, 46555, 46555, 46574, 46574, 46576, 46576, 46582, 46582, 46585, 46585, 46589, 46589, 46590, 46590, 46593, 46593, 46597, 46597, 46599, 46599, 46600, 46600, 46602, 46602, 46622, 46622, 46623, 46623, 46633, 46637, 46637, 46638, 46638, 46639, 46639, 46641, 46641, 46649, 46649, 46652, 46652, 46679, 46679, 46708, 46708, 46710, 46710, 46711, 46711, 46713, 46713, 46723, 46723, 46724, 46724, 46773, 46773, 46775, 46775, 46776, 46776, 46787, 46787, 46799, 46799, 46854, 46854, 46856, 46856, 46867, 46867, 46873, 46873, 46903, 46903, 46942, 46942, 46967, 46967, 46984, 46984, 46985, 46985, 46987, 46987, 46988, 46988, 46990, 46990, 46991, 46991, 47033, 47033, 47036, 47036, 47093, 47093, 47104, 47104, 47110, 47110, 47112, 47112, 47114, 47114, 47115, 47115, 47125, 47125, 47126, 47126, 47137, 47137, 47138, 47138, 47139, 47139, 47142, 47142, 47143, 47143, 47145, 47145, 47149, 47149, 47150, 47164, 47164, 47189, 47189, 47193, 47193, 47195, 47195, 47197, 47197, 47199, 47199, 47222, 47222, 47223, 47223, 47226, 47226, 47227, 47227, 47230, 47230, 47231, 47231, 47248, 47248, 47288, 47295, 47295, 47297, 47297, 47300, 47300, 47301, 47301, 47335, 47335, 47342, 47342, 47347, 47347, 47350, 47350, 47375, 47375, 47377, 47377, 47427, 47427, 47433, 47471, 47471, 47486, 47486, 47499, 47499, 47504, 47504, 47515, 47515, 47554, 47554, 47558, 47558, 47583, 47583, 47729, 47731, 47731, 47732, 47732, 47740, 47740, 47746, 47746, 47750, 47750, 47751, 47751, 47754, 47754, 47756, 47756, 47851, 47851, 47854, 47854, 47857, 47857, 47859, 47859, 47860, 47860, 47861, 47861, 47862, 47862, 47863, 47863, 47864, 47864, 47874, 47874, 47879, 47879, 47883, 47883, 47884, 47884, 47887, 47887, 47888, 47888, 47898, 47898, 47899, 47899, 47904, 47910, 47910, 47951, 47951, 47954, 47954, 47969, 47969, 47985, 47985, 47986, 47986, 47987, 47987, 47988, 47988, 47990, 47990, 48063, 48063, 48068, 48068, 48072, 48072, 48083, 48083, 48089, 48089, 48114, 48114, 48116, 48116, 48117, 48117, 48119, 48119, 48138, 48138, 48175, 48175, 48200, 48200, 48203, 48203, 48209, 48209, 48214, 48214, 48249, 48249, 48263, 48263, 48266, 48266, 48306, 48306, 48314, 48314, 48316, 48316, 48329, 48329, 48337, 48337, 48338, 48338, 48356, 48356, 48380, 48380, 48383, 48383, 48386, 48386, 48388, 48388, 48389, 48389, 48400, 48400, 48402, 48402, 48404, 48404, 48405, 48405, 48406, 48406, 48407, 48407, 48409, 48409, 48411, 48411, 48414, 48414, 48416, 48416, 48417, 48417, 48420, 48420, 48422, 48422, 48428, 48428, 48429, 48429, 48436, 48436, 48444, 48444, 48445, 48445, 48450, 48450, 48457, 48457, 48459, 48459, 48463, 48463, 48466, 48466, 48476, 48476, 48479, 48479, 48514, 48514, 48515, 48515, 48554, 48554, 48615, 48615, 48635, 48635, 48639, 48639, 48642, 48642, 48647, 48647, 48660, 48660, 48666, 48666, 48676, 48676, 48677, 48677, 48680, 48680, 48681, 48681, 48733, 48740, 48740, 48764, 48764, 48768, 48768, 48771, 48771, 48781, 48781, 48801, 48801, 48814, 48814, 48816, 48816, 48817, 48817, 48818, 48818, 48819, 48819, 48871, 48871, 48892, 48892, 48907, 48907, 48945, 48945, 48948, 48948, 48953, 48953, 48956, 48956, 48970, 48970, 48975, 48975, 48976, 48976, 48978, 48978, 48982, 48982, 48992, 48992, 48994, 48994, 48997, 48997, 49029, 49029, 49045, 49045, 49068, 49068, 49072, 49072, 49074, 49074, 49084, 49084, 49117, 49117, 49132, 49133, 49133, 49155, 49155, 49157, 49157, 49169, 49169, 49174, 49174, 49208, 49208, 49213, 49213, 49216, 49216, 49236, 49236, 49270, 49270, 49298, 49298, 49310, 49310, 49313, 49313, 49318, 49318, 49350, 49350, 49353, 49353, 49356, 49356, 49359, 49359, 49367, 49367, 49371, 49371, 49372, 49372, 49373, 49373, 49375, 49375, 49376, 49376, 49377, 49377, 49383, 49383, 49384, 49384, 49385, 49385, 49387, 49387, 49389, 49389, 49390, 49390, 49393, 49393, 49398, 49398, 49402, 49402, 49407, 49407, 49409, 49409, 49410, 49410, 49411, 49411, 49414, 49414, 49419, 49419, 49422, 49422, 49469, 49469, 49496, 49496, 49497, 49497, 49501, 49501, 49548, 49548, 49609, 49609, 49614, 49614, 49615, 49615, 49616, 49616, 49619, 49619, 49736, 49736, 49738, 49738, 49794, 49794, 49796, 49796, 49797, 49797, 49800, 49800, 49837, 49837, 49857, 49857, 49865, 49865, 49869, 49869, 49871, 49871, 49872, 49872, 49874, 49874, 49898, 49898, 49899, 49899, 49901, 49901, 49902, 49902, 49904, 49904, 49971, 49971, 50008, 50008, 50009, 50009, 50011, 50011, 50014, 50014, 50027, 50027, 50028, 50028, 50030, 50030, 50033, 50033, 50068, 50068, 50069, 50069, 50072, 50072, 50075, 50075, 50130, 50130, 50133, 50133, 50158, 50158, 50160, 50160, 50161, 50161, 50173, 50173, 50182, 50182, 50185, 50185, 50186, 50186, 50239, 50239, 50277, 50277, 50313, 50313, 50326, 50326, 50329, 50329, 50384, 50384, 50386, 50386, 50387, 50387, 50390, 50390, 50404, 50404, 50410, 50410, 50439, 50439, 50440, 50440, 50450, 50450, 50456, 50456, 50458, 50458, 50471, 50471, 50473, 50473, 50480, 50480, 50483, 50483, 50494, 50494, 50495, 50495, 50496, 50496, 50519, 50519, 50538, 50538, 50542, 50542, 50545, 50545, 50547, 50547, 50552, 50554, 50554, 50559, 50559, 50563, 50563, 50566, 50566, 50573, 50573, 50587, 50587, 50588, 50588, 50591, 50591, 50593, 50593, 50596, 50596, 50599, 50599, 50602, 50602, 50604, 50604, 50607, 50607, 50614, 50614, 50624, 50624, 50625, 50625, 50627, 50627, 50628, 50628, 50630, 50630, 50632, 50632, 50647, 50647, 50654, 50654, 50655, 50655, 50657, 50657, 50659, 50659, 50661, 50661, 50673, 50673, 50675, 50675, 50676, 50676, 50677, 50683, 50683, 50685, 50685, 50711, 50711, 50727, 50727, 50739, 50739, 50740, 50740, 50742, 50742, 50743, 50743, 50745, 50745, 50754, 50754, 50757, 50757, 50761, 50761, 50762, 50762, 50787, 50787, 50880, 50880, 50883, 50883, 50901, 50901, 50913, 50913, 50916, 50916, 50924, 50924, 50927, 50927, 50929, 50929, 50931, 50931, 50933, 50933, 50934, 50934, 50946, 50946, 50951, 50951, 50975, 50975, 50978, 50978, 50980, 50980, 50987, 50987, 51001, 51001, 51006, 51006, 51009, 51009, 51010, 51010, 51019, 51019, 51024, 51024, 51025, 51025, 51028, 51028, 51030, 51030, 51031, 51031, 51063, 51063, 51065, 51065, 51066, 51066, 51068, 51068, 51069, 51069, 51074, 51074, 51076, 51076, 51078, 51078, 51082, 51082, 51087, 51087, 51095, 51095, 51110, 51110, 51112, 51112, 51163, 51163, 51176, 51176, 51186, 51186, 51192, 51192, 51196, 51196, 51213, 51213, 51233, 51233, 51256, 51256, 51259, 51259, 51265, 51265, 51300, 51300, 51301, 51301, 51303, 51303, 51304, 51304, 51307, 51307, 51328, 51328, 51329, 51329, 51331, 51331, 51332, 51332, 51333, 51333, 51345, 51345, 51346, 51346, 51348, 51348, 51361, 51361, 51366, 51366, 51386, 51386, 51449, 51449, 51496, 51496, 51592, 51629, 51629, 51633, 51633, 51643, 51643, 51646, 51646, 51649, 51649, 51651, 51651, 51661, 51661, 51663, 51663, 51678, 51678, 51680, 51680, 51682, 51682, 51706, 51706, 51708, 51708, 51710, 51711, 51711, 51772, 51772, 51776, 51776, 51791, 51795, 51795, 51796, 51796, 51805, 51805, 51809, 51809, 51822, 51822, 51836, 51836, 51862, 51862, 51864, 51864, 51905, 51905, 51922, 51922, 51923, 51923, 51925, 51925, 51947, 51947, 51949, 51949, 51952, 51952, 51955, 51957, 51957, 51962, 51962, 51969, 51969, 51972, 51972, 51988, 51988, 51991, 51991, 51993, 51993, 51994, 51994, 52059, 52059, 52097, 52097, 52103, 52103, 52127, 52127, 52129, 52129, 52137, 52137, 52142, 52142, 52153, 52153, 52180, 52180, 52182, 52182, 52188, 52188, 52196, 52196, 52200, 52200, 52214, 52214, 52224, 52224, 52226, 52226, 52227, 52227, 52233, 52233, 52243, 52243, 52244, 52244, 52247, 52247, 52270, 52270, 52300, 52300, 52316, 52316, 52334, 52334, 52339, 52339, 52342, 52342, 52344, 52344, 52345, 52345, 52347, 52347, 52349, 52349, 52350, 52350, 52352, 52352, 52366, 52366, 52369, 52369, 52371, 52371, 52374, 52414, 52414, 52417, 52417, 52437, 52437, 52468, 52468, 52471, 52471, 52474, 52474, 52477, 52477, 52516, 52516, 52522, 52522, 52523, 52523, 52525, 52525, 52528, 52528, 52537, 52537, 52542, 52542, 52561, 52561, 52562, 52562, 52563, 52563, 52564, 52564, 52580, 52580, 52582, 52582, 52583, 52583, 52585, 52585, 52589, 52589, 52591, 52591, 52597, 52597, 52625, 52625, 52627, 52627, 52630, 52630, 52631, 52631, 52634, 52634, 52635, 52635, 52643, 52643, 52645, 52645, 52646, 52646, 52659, 52659, 52689, 52689, 52690, 52690, 52692, 52692, 52717, 52717, 52789, 52789, 52792, 52792, 52795, 52795, 52796, 52796, 52797, 52797, 52798, 52798, 52887, 52887, 52946, 52946, 52948, 52948, 52982, 52982, 52990, 52990, 53004, 53004, 53011, 53011, 53061, 53061, 53082, 53082, 53084, 53084, 53086, 53086, 53089, 53089, 53102, 53102, 53103, 53103, 53104, 53104, 53105, 53105, 53106, 53106, 53107, 53107, 53108, 53108, 53141, 53141, 53144, 53144, 53152, 53152, 53155, 53155, 53158, 53158, 53177, 53177, 53189, 53189, 53199, 53199, 53205, 53205, 53209, 53209, 53212, 53212, 53265, 53265, 53271, 53271, 53272, 53272, 53273, 53273, 53320, 53320, 53323, 53323, 53329, 53329, 53331, 53387, 53387, 53389, 53389, 53390, 53390, 53412, 53412, 53418, 53418, 53476, 53476, 53478, 53478, 53481, 53481, 53485, 53485, 53512, 53512, 53515, 53515, 53536, 53536, 53538, 53538, 53539, 53539, 53540, 53540, 53585, 53585, 53586, 53586, 53589, 53589, 53598, 53598, 53606, 53606, 53629, 53629, 53633, 53633, 53634, 53634, 53637, 53637, 53640, 53640, 53643, 53643, 53672, 53672, 53703, 53703, 53704, 53704, 53706, 53706, 53724, 53724, 53741, 53741, 53742, 53742, 53748, 53748, 53751, 53751, 53754, 53754, 53777, 53777, 53783, 53783, 53802, 53804, 53804, 53807, 53807, 53824, 53824, 53864, 53864, 53865, 53865, 53867, 53867, 53869, 53869, 53870, 53870, 53872, 53872, 53875, 53875, 53876, 53876, 53895, 53895, 53922, 53922, 53929, 53929, 53933, 53933, 53953, 53953, 53955, 53955, 53959, 53959, 53992, 53992, 53994, 53994, 53995, 53995, 53996, 53996, 54055, 54055, 54059, 54059, 54061, 54061, 54093, 54093, 54096, 54096, 54097, 54097, 54117, 54117, 54119, 54119, 54120, 54120, 54122, 54122, 54128, 54128, 54129, 54129, 54132, 54132, 54134, 54134, 54141, 54141, 54177, 54177, 54179, 54179, 54182, 54182, 54188, 54188, 54191, 54191, 54193, 54193, 54237, 54237, 54239, 54239, 54244, 54248, 54248, 54251, 54251, 54260, 54260, 54261, 54261, 54262, 54262, 54280, 54280, 54282, 54282, 54285, 54285, 54288, 54288, 54290, 54290, 54296, 54296, 54297, 54297, 54307, 54307, 54308, 54308, 54310, 54310, 54311, 54311, 54313, 54313, 54314, 54314, 54316, 54316, 54320, 54342, 54342, 54343, 54343, 54365, 54365, 54402, 54402, 54413, 54413, 54415, 54415, 54429, 54429, 54430, 54430, 54519, 54519, 54521, 54521, 54522, 54522, 54530, 54530, 54534, 54534, 54542, 54542, 54547, 54547, 54559, 54559, 54563, 54563, 54566, 54566, 54568, 54568, 54569, 54569, 54576, 54576, 54601, 54601, 54603, 54603, 54605, 54605, 54606, 54606, 54627, 54627, 54628, 54628, 54637, 54637, 54654, 54654, 54659, 54659, 54704, 54704, 54708, 54708, 54716, 54716, 54735, 54735, 54736, 54736, 54737, 54737, 54784, 54784, 54794, 54794, 54797, 54797, 54830, 54830, 54837, 54837, 54838, 54838, 54843, 54843, 54844, 54844, 54852, 54852, 54855, 54855, 54888, 54888, 54893, 54893, 54917, 54917, 54938, 54938, 54957, 54957, 54960, 54960, 54995, 54995, 55024, 55024, 55027, 55027, 55031, 55031, 55071, 55071, 55072, 55072, 55084, 55084, 55085, 55085, 55086, 55086, 55087, 55087, 55088, 55088, 55094, 55094, 55134, 55134, 55154, 55154, 55157, 55157, 55168, 55168, 55169, 55169, 55171, 55171, 55172, 55172, 55174, 55174, 55175, 55175, 55202, 55231, 55231, 55232, 55232, 55235, 55235, 55268, 55268, 55276, 55276, 55313, 55313, 55314, 55314, 55320, 55320, 55405, 55405, 55486, 55486, 55488, 55488, 55491, 55491, 55538, 55538, 55551, 55551, 55572, 55572, 55637, 55637, 55649, 55649, 55662, 55662, 55664, 55664, 55667, 55667, 55669, 55669, 55692, 55692, 55694, 55694, 55696, 55696, 55707, 55707, 55764, 55764, 55767, 55767, 55814, 55814, 55817, 55820, 55820, 55830, 55830, 55835, 55835, 55837, 55837, 55842, 55842, 55852, 55852, 55869, 55869, 55872, 55872, 55886, 55886, 55887, 55887, 55890, 55890, 55892, 55892, 55893, 55893, 55895, 55895, 55898, 55898, 55906, 55906, 55910, 55910, 55918, 55918, 55919, 55919, 55922, 55922, 55927, 55927, 55928, 55928, 55930, 55930, 55931, 55931, 55933, 55933, 55934, 55934, 55935, 55935, 55936, 55936, 55944, 55944, 55950, 55950, 55951, 55951, 55958, 55958, 56032, 56032, 56034, 56034, 56036, 56036, 56067, 56067, 56068, 56068, 56071, 56071, 56073, 56073, 56114, 56114, 56115, 56115, 56131, 56131, 56150, 56150, 56151, 56151, 56153, 56153, 56154, 56154, 56157, 56157, 56158, 56158, 56159, 56159, 56252, 56252, 56253, 56253, 56259, 56295, 56295, 56397, 56397, 56400, 56400, 56419, 56419, 56436, 56436, 56445, 56445, 56471, 56471, 56473, 56473, 56477, 56477, 56480, 56480, 56482, 56482, 56483, 56483, 56512, 56512, 56520, 56520, 56534, 56534, 56542, 56542, 56546, 56546, 56576, 56576, 56579, 56579, 56582, 56582, 56585, 56585, 56588, 56588, 56599, 56599, 56600, 56601, 56601, 56650, 56656, 56656, 56659, 56659, 56662, 56662, 56665, 56665, 56708, 56708, 56709, 56709, 56714, 56714, 56720, 56720, 56759, 56759, 56760, 56760, 56764, 56764, 56769, 56769, 56770, 56770, 56779, 56779, 56781, 56781, 56782, 56782, 56816, 56816, 56818, 56818, 56819, 56819, 56822, 56822, 56827, 56827, 56830, 56830, 56834, 56834, 56835, 56835, 56843, 56843, 56854, 56854, 56856, 56856, 56857, 56857, 56863, 56863, 56864, 56864, 56865, 56865, 56867, 56867, 56884, 56884, 56889, 56889, 56890, 56890, 56892, 56892, 56893, 56893, 56894, 56894, 56895, 56895, 56911, 56911, 56930, 56930, 56931, 56931, 56934, 56934, 56935, 56935, 56943, 56943, 56948, 56948, 56950, 56950, 56952, 56952, 56955, 56955, 56957, 56957, 56961, 56961, 56977, 56977, 56994, 56994, 56995, 56995, 57000, 57000, 57001, 57001, 57002, 57002, 57007, 57009, 57009, 57013, 57013, 57017, 57017, 57018, 57018, 57020, 57020, 57027, 57027, 57029, 57029, 57031, 57031, 57032, 57032, 57034, 57034, 57036, 57036, 57062, 57062, 57084, 57084, 57132, 57132, 57138, 57138, 57139, 57139, 57148, 57148, 57151, 57151, 57153, 57153, 57180, 57180, 57189, 57189, 57190, 57190, 57210, 57210, 57213, 57213, 57214, 57214, 57218, 57218, 57221, 57221, 57224, 57224, 57257, 57257, 57263, 57263, 57375, 57375, 57393, 57393, 57403, 57403, 57417, 57417, 57419, 57419, 57423, 57423, 57425, 57425, 57427, 57427, 57471, 57471, 57472, 57472, 57473, 57473, 57512, 57512, 57534, 57534, 57551, 57551, 57561, 57561, 57566, 57566, 57567, 57567, 57588, 57588, 57591, 57591, 57603, 57603, 57607, 57607, 57608, 57608, 57609, 57609, 57610, 57610, 57611, 57611, 57613, 57613, 57614, 57614, 57616, 57616, 57617, 57617, 57636, 57636, 57640, 57641, 57641, 57644, 57644, 57655, 57655, 57676, 57676, 57714, 57714, 57772, 57772, 57774, 57774, 57775, 57775, 57977, 57977, 57984, 57984, 58002, 58002, 58067, 58067, 58072, 58072, 58073, 58073, 58074, 58074, 58076, 58076, 58130, 58130, 58132, 58132, 58133, 58133, 58140, 58140, 58147, 58147, 58153, 58161, 58161, 58181, 58181, 58184, 58184, 58223, 58223, 58291, 58291, 58294, 58294, 58297, 58297, 58302, 58302, 58304, 58304, 58305, 58305, 58309, 58309, 58344, 58344, 58346, 58346, 58347, 58347, 58349, 58349, 58405, 58406, 58406, 58408, 58408, 58411, 58411, 58423, 58423, 58426, 58469, 58469, 58474, 58474, 58517, 58517, 58523, 58523, 58530, 58530, 58532, 58532, 58535, 58535, 58538, 58538, 58540, 58540, 58553, 58553, 58559, 58559, 58587, 58587, 58599, 58599, 58603, 58603, 58639, 58639, 58643, 58643, 58645, 58645, 58646, 58646, 58647, 58647, 58649, 58649, 58653, 58653, 58655, 58655, 58656, 58656, 58657, 58657, 58659, 58659, 58661, 58661, 58663, 58663, 58687, 58687, 58695, 58695, 58697, 58697, 58701, 58701, 58704, 58704, 58707, 58710, 58710, 58741, 58741, 58742, 58742, 58823, 58823, 58824, 58824, 58825, 58825, 58827, 58827, 58828, 58828, 58829, 58829, 58832, 58832, 58834, 58834, 58838, 58838, 58839, 58839, 58843, 58843, 58846, 58846, 58862, 58862, 58863, 58863, 58864, 58864, 58900, 58900, 58930, 58930, 58933, 58933, 58938, 58938, 58957, 58957, 58997, 58997, 58998, 58998, 59000, 59000, 59001, 59001, 59002, 59002, 59003, 59003, 59009, 59009, 59012, 59012, 59022, 59022, 59023, 59023, 59024, 59024, 59025, 59025, 59038, 59042, 59042, 59043, 59043, 59044, 59044, 59045, 59045, 59095, 59107, 59107, 59131, 59131, 59132, 59132, 59159, 59159, 59169, 59169, 59171, 59171, 59185, 59185, 59187, 59187, 59204, 59204, 59206, 59206, 59207, 59207, 59209, 59209, 59210, 59210, 59211, 59211, 59212, 59212, 59214, 59214, 59238, 59238, 59239, 59239, 59240, 59240, 59243, 59243, 59255, 59255, 59257, 59257, 59259, 59259, 59294, 59294, 59296, 59296, 59318, 59318, 59320, 59320, 59321, 59321, 59372, 59372, 59376, 59376, 59377, 59377, 59436, 59436, 59437, 59440, 59440, 59443, 59443, 59484, 59484, 59486, 59486, 59501, 59501, 59507, 59507, 59519, 59519, 59523, 59523, 59525, 59525, 59544, 59544, 59547, 59547, 59549, 59549, 59551, 59551, 59553, 59553, 59569, 59569, 59572, 59572, 59587, 59587, 59606, 59606, 59610, 59610, 59611, 59611, 59614, 59614, 59616, 59616, 59617, 59617, 59618, 59618, 59620, 59620, 59622, 59622, 59624, 59624, 59628, 59628, 59643, 59643, 59647, 59647, 59657, 59657, 59658, 59658, 59659, 59659, 59689, 59689, 59693, 59693, 59701, 59701, 59705, 59705, 59708, 59708, 59712, 59712, 59714, 59714, 59718, 59718, 59724, 59724, 59726, 59726, 59730, 59730, 59731, 59731, 59736, 59736, 59742, 59742, 59757, 59757, 59762, 59763, 59763, 59766, 59766, 59768, 59768, 59770, 59770, 59774, 59774, 59776, 59776, 59777, 59777, 59778, 59778, 59780, 59780, 59786, 59786, 59788, 59788, 59792, 59792, 59804, 59804, 59806, 59806, 59811, 59811, 59816, 59816, 59818, 59818, 59820, 59820, 59824, 59824, 59826, 59826, 59828, 59828, 59829, 59829, 59832, 59832, 59834, 59834, 59845, 59845, 59848, 59848, 59850, 59850, 59872, 59872, 59873, 59873, 59875, 59875, 59877, 59877, 59879, 59879, 59883, 59883, 59904, 59904, 59908, 59908, 59910, 59910, 59914, 59914, 59916, 59916, 59920, 59920, 59930, 59930, 59932, 59932, 59934, 59934, 59938, 59939, 59939, 59940, 59940, 59944, 59944, 59945, 59945, 59951, 59951, 59956, 59956, 59962, 59962, 59964, 59964, 59966, 59966, 59972, 59972, 59976, 59976, 59983, 59983, 59984, 59984, 59985, 59985, 59989, 59989, 59998, 59998, 60002, 60002, 60006, 60006, 60008, 60008, 60010, 60010, 60013, 60013, 60014, 60014, 60024, 60024, 60025, 60025, 60027, 60027, 60028, 60028, 60029, 60029, 60030, 60030, 60031, 60031, 60039, 60039, 60044, 60044, 60049, 60049, 60051, 60051, 60056, 60056, 60063, 60063, 60077, 60077, 60078, 60078, 60093, 60093, 60099, 60099, 60101, 60101, 60103, 60103, 60119, 60119, 60121, 60121, 60154, 60154, 60158, 60158, 60159, 60159, 60172, 60176, 60176, 60190, 60190, 60191, 60191, 60192, 60192, 60193, 60193, 60200, 60200, 60206, 60206, 60220, 60220, 60223, 60223, 60251, 60251, 60253, 60253, 60258, 60258, 60260, 60260, 60324, 60324, 60327, 60335, 60335, 60346, 60346, 60363, 60363, 60365, 60365]\n",
            "삭제예정인테스트샘플: [4, 42, 42, 45, 45, 48, 48, 57, 57, 59, 59, 60, 60, 66, 66, 68, 68, 70, 70, 72, 72, 74, 74, 75, 75, 77, 77, 89, 89, 92, 92, 115, 115, 150, 150, 151, 151, 152, 152, 154, 154, 188, 188, 212, 212, 215, 215, 217, 217, 258, 258, 260, 260, 261, 261, 263, 263, 268, 268, 279, 279, 299, 299, 302, 302, 366, 366, 369, 369, 372, 372, 384, 384, 385, 385, 390, 390, 395, 395, 397, 397, 409, 409, 410, 410, 455, 455, 458, 458, 460, 460, 461, 461, 466, 466, 468, 468, 470, 470, 478, 478, 492, 492, 494, 494, 514, 514, 552, 552, 567, 567, 574, 574, 583, 583, 585, 585, 586, 586, 597, 597, 600, 600, 607, 607, 611, 611, 645, 645, 667, 669, 669, 670, 670, 672, 672, 776, 776, 777, 777, 780, 780, 782, 782, 789, 789, 812, 812, 832, 832, 834, 834, 860, 860, 861, 861, 863, 863, 865, 865, 868, 868, 870, 870, 871, 871, 876, 876, 878, 878, 880, 880, 881, 881, 883, 883, 899, 899, 900, 900, 925, 926, 926, 928, 928, 929, 929, 940, 940, 945, 945, 953, 953, 958, 958, 967, 967, 971, 971, 980, 980, 983, 983, 1007, 1007, 1011, 1011, 1014, 1014, 1016, 1016, 1088, 1088, 1089, 1089, 1090, 1090, 1092, 1092, 1093, 1093, 1094, 1094, 1095, 1095, 1097, 1097, 1100, 1100, 1101, 1101, 1102, 1102, 1104, 1104, 1107, 1107, 1109, 1109, 1111, 1111, 1115, 1115, 1120, 1120, 1139, 1139, 1141, 1141, 1154, 1154, 1158, 1164, 1164, 1177, 1177, 1239, 1239, 1258, 1258, 1261, 1261, 1263, 1263, 1265, 1265, 1266, 1266, 1270, 1270, 1271, 1271, 1281, 1324, 1324, 1351, 1351, 1409, 1409, 1411, 1411, 1458, 1458, 1459, 1459, 1462, 1462, 1564, 1564, 1567, 1567, 1578, 1578, 1589, 1589, 1598, 1598, 1614, 1614, 1643, 1643, 1700, 1700, 1701, 1701, 1706, 1706, 1714, 1714, 1716, 1716, 1814, 1814, 1829, 1829, 1867, 1867, 1871, 1871, 1931, 1931, 1932, 1932, 1934, 1938, 1938, 1940, 1940, 1941, 1941, 1977, 1977, 1982, 1982, 2007, 2007, 2009, 2009, 2012, 2012, 2067, 2067, 2078, 2078, 2080, 2080, 2103, 2103, 2105, 2105, 2106, 2106, 2107, 2107, 2163, 2163, 2182, 2182, 2184, 2184, 2212, 2212, 2215, 2215, 2217, 2217, 2246, 2246, 2280, 2280, 2284, 2284, 2286, 2286, 2289, 2289, 2291, 2291, 2292, 2292, 2294, 2294, 2295, 2295, 2304, 2304, 2310, 2310, 2341, 2341, 2357, 2357, 2360, 2360, 2370, 2370, 2390, 2390, 2391, 2391, 2413, 2413, 2437, 2437, 2440, 2440, 2448, 2448, 2450, 2450, 2451, 2451, 2453, 2453, 2466, 2466, 2477, 2477, 2486, 2486, 2492, 2492, 2524, 2524, 2526, 2526, 2527, 2527, 2540, 2540, 2541, 2541, 2552, 2552, 2566, 2566, 2570, 2570, 2571, 2571, 2572, 2572, 2573, 2573, 2574, 2574, 2575, 2575, 2576, 2576, 2578, 2578, 2580, 2580, 2581, 2581, 2583, 2583, 2597, 2597, 2601, 2601, 2604, 2604, 2635, 2635, 2639, 2639, 2642, 2642, 2643, 2643, 2667, 2667, 2670, 2670, 2675, 2675, 2678, 2678, 2688, 2688, 2692, 2692, 2714, 2714, 2715, 2715, 2718, 2718, 2734, 2734, 2768, 2768, 2776, 2776, 2801, 2801, 2809, 2809, 2815, 2815, 2845, 2845, 2858, 2858, 2867, 2867, 2870, 2870, 2873, 2873, 2876, 2876, 2879, 2879, 2881, 2881, 2882, 2882, 2887, 2887, 2907, 2907, 2910, 2910, 2940, 2940, 2947, 2947, 2950, 2950, 2951, 2951, 2952, 2952, 2954, 2954, 2955, 2955, 2957, 2957, 2958, 2958, 2969, 2969, 2971, 2971, 2974, 2974, 2979, 2979, 2982, 2982, 3020, 3020, 3031, 3031, 3052, 3052, 3054, 3054, 3057, 3057, 3064, 3064, 3074, 3074, 3077, 3077, 3079, 3079, 3080, 3080, 3081, 3081, 3082, 3082, 3084, 3084, 3085, 3085, 3095, 3095, 3097, 3097, 3102, 3102, 3106, 3106, 3109, 3129, 3129, 3167, 3167, 3170, 3170, 3173, 3173, 3238, 3238, 3240, 3240, 3242, 3242, 3270, 3270, 3272, 3272, 3282, 3282, 3331, 3331, 3438, 3442, 3442, 3449, 3449, 3452, 3452, 3453, 3453, 3455, 3455, 3457, 3457, 3469, 3469, 3487, 3487, 3493, 3493, 3496, 3496, 3502, 3502, 3505, 3505, 3507, 3507, 3508, 3508, 3509, 3509, 3512, 3512, 3514, 3514, 3515, 3515, 3520, 3520, 3529, 3529, 3530, 3530, 3532, 3532, 3533, 3533, 3535, 3535, 3537, 3537, 3538, 3538, 3543, 3543, 3544, 3544, 3545, 3545, 3546, 3546, 3552, 3552, 3580, 3580, 3585, 3585, 3586, 3586, 3587, 3587, 3588, 3588, 3589, 3589, 3590, 3590, 3591, 3591, 3597, 3597, 3617, 3617, 3628, 3628, 3629, 3629, 3642, 3642, 3645, 3645, 3665, 3665, 3699, 3699, 3718, 3718, 3737, 3737, 3739, 3739, 3747, 3747, 3809, 3809, 3811, 3811, 3817, 3817, 3828, 3828, 3829, 3829, 3830, 3830, 3831, 3831, 3832, 3832, 3834, 3834, 3840, 3840, 3843, 3843, 3855, 3855, 3867, 3867, 3871, 3871, 3876, 3876, 3903, 3903, 3907, 3907, 3908, 3908, 3918, 3918, 3974, 3974, 3976, 3976, 3981, 3981, 3998, 3998, 3999, 3999, 4002, 4002, 4056, 4056, 4059, 4059, 4061, 4061, 4062, 4062, 4072, 4077, 4077, 4086, 4086, 4088, 4088, 4090, 4090, 4123, 4123, 4124, 4124, 4132, 4132, 4144, 4144, 4173, 4173, 4180, 4180, 4184, 4184, 4185, 4185, 4200, 4200, 4202, 4202, 4237, 4237, 4246, 4246, 4249, 4249, 4255, 4255, 4258, 4258, 4263, 4263, 4264, 4264, 4267, 4267, 4270, 4270, 4271, 4271, 4279, 4279, 4283, 4283, 4285, 4285, 4292, 4292, 4294, 4294, 4295, 4295, 4296, 4296, 4298, 4298, 4300, 4300, 4367, 4367, 4380, 4380, 4384, 4384, 4385, 4385, 4389, 4389, 4391, 4391, 4430, 4430, 4431, 4431, 4467, 4467, 4481, 4481, 4487, 4487, 4498, 4498, 4502, 4502, 4541, 4541, 4556, 4556, 4559, 4559, 4617, 4619, 4619, 4624, 4624, 4652, 4652, 4664, 4664, 4692, 4692, 4694, 4694, 4719, 4719, 4730, 4730, 4737, 4737, 4740, 4740, 4750, 4750, 4755, 4755, 4761, 4761, 4802, 4802, 4811, 4811, 4825, 4825, 4826, 4826, 4827, 4827, 4837, 4837, 4842, 4842, 4843, 4843, 4849, 4849, 4863, 4863, 4865, 4865, 4867, 4867, 4877, 4877, 4880, 4880, 4885, 4885, 4886, 4886, 4887, 4887, 4949, 4949, 4953, 4953, 5006, 5006, 5007, 5007, 5008, 5008, 5013, 5013, 5015, 5015, 5045, 5045, 5130, 5130, 5131, 5131, 5133, 5133, 5134, 5134, 5138, 5138, 5139, 5139, 5186, 5186, 5187, 5187, 5188, 5188, 5189, 5189, 5190, 5190, 5191, 5191, 5192, 5192, 5193, 5193, 5194, 5194, 5195, 5195, 5196, 5196, 5208, 5208, 5215, 5215, 5219, 5219, 5225, 5225, 5236, 5236, 5261, 5261, 5263, 5263, 5265, 5265, 5266, 5266, 5267, 5267, 5290, 5290, 5292, 5292, 5293, 5293, 5294, 5294, 5296, 5296, 5299, 5299, 5301, 5301, 5309, 5309, 5336, 5336, 5337, 5337, 5340, 5340, 5370, 5370, 5372, 5372, 5374, 5374, 5407, 5407, 5408, 5408, 5418, 5418, 5489, 5489, 5519, 5519, 5522, 5522, 5524, 5524, 5525, 5525, 5531, 5558, 5558, 5582, 5582, 5583, 5583, 5585, 5585, 5587, 5587, 5599, 5599, 5600, 5600, 5603, 5603, 5604, 5604, 5605, 5605, 5618, 5618, 5639, 5644, 5644, 5649, 5649, 5653, 5653, 5655, 5655, 5657, 5657, 5660, 5660, 5664, 5664, 5669, 5669, 5670, 5670, 5672, 5672, 5673, 5673, 5674, 5674, 5680, 5680, 5681, 5681, 5682, 5682, 5683, 5683, 5684, 5684]\n"
          ]
        }
      ]
    },
    {
      "cell_type": "code",
      "source": [
        "print('761번샘플의질문:',train_questions[761])\n",
        "print('-'*50)\n",
        "print('761번샘플의기존원문:',train_contexts[761])"
      ],
      "metadata": {
        "id": "AUZWK60tOZsv",
        "colab": {
          "base_uri": "https://localhost:8080/"
        },
        "outputId": "7d0d5cc0-22e2-4e8c-b18c-ada8934720c9"
      },
      "execution_count": 19,
      "outputs": [
        {
          "output_type": "stream",
          "name": "stdout",
          "text": [
            "761번샘플의질문: 소치 팀추월 파이널D에서 여자 팀추월 대표팀의 최종 성적은?\n",
            "--------------------------------------------------\n",
            "761번샘플의기존원문: 2014년 2월 9일 러시아 소치 아들레르 아레나서 열린 소치 동계올림픽 3000m 부문에서 김보름(21)은 4분12초08의 기록으로로 13위를 차지했다. 이날 3조로 경기를 치른 김보름은 21초05로 200m 구간을 통과한 후 2분31초34로 1800m 구간을 지났다. 이후 2200m 구간 통과 순간부터 스피드를 올리며 후반 들어 스퍼트를 올렸고, 결국 하위권이 아닌 중위권 기록을 남겼다. 김보름의 순위인 13위는 지난 2006 토리노 올림픽, 2010 밴쿠버 올림픽 당시 노선영(25-강원도청)이 기록한 19위를 넘어 한국 여자 3000m 부문의 가장 높은 순위다. 5조의 노선영은 4분19초02를 기록했다. 노선영은 200m 구간에서 21초32의 기록으로 지난 이후 속도를 올리지 못한 채로 결승점을 통과했다. 결국 노선영은 전체 26위의 성적을 남기며 경기를 마쳤다. 6조에서 경기를 소화한 양신영(24-전북도청)은 4분23초67을 기록해 이날 대회를 뛴 28명 중 최저의 기록을 남겼다. 한편 이날 대회는 4분00초34의 이레네 부스트(네덜란드)가 2006년 토리노 동계올림픽 이후 8년 만에 금메달을 다시 가져갔다. 대회 2연패를 노린 2위 마르티나 사블리코바(체코-4분01초95)와 3위 올가 그라프(러시아-4분03초47)에 앞선 기록이다. 16일 열린 1500m에서는 네덜란드의 요리엔 테르모르스가 1분53초51의 올림픽 기록으로 금메달을 차지했다. 은메달과 동메달도 네덜란드 선수들이 휩쓸었다. 은메달은 이레인 뷔스트(1분54초09)에게 돌아갔고 동메달은 하를로터 판바이크(1분54초54)가 주인이 됐다. 심지어 4위도 네덜란드 선수인 마리트 리엔스트라(1분56초40)가 차지했다. 김보름은 1분59초78로 21위에 올랐다. 노선영(25-강원도청)은 2분01초07로 29위, 양신영(24-전북도청)은 2분04초13으로 최하위인 36위에 그쳤다. 김보름은 무릎 통증이 있어 5000m를 기권했다. 22일 열린 팀추월 파이널D(7-8위 결정전)에서 김보름, 노선영(25, 강원도청), 양신영(24, 전북도청)이 나란히 달린 여자 팀추월 대표팀은 노르웨이에 져 8위로 대회를 마쳤다. 전날 8강전에서 일본에 져 준결승 진출에 실패한 여자 대표팀은 이날 3분11초54만에 마지막 주자가 결승선을 통과해 3분8초35를 기록한 노르웨이에 패했다.\n"
          ]
        }
      ]
    },
    {
      "cell_type": "code",
      "source": [
        "print('761번샘플의기존정답:', train_answers[761])"
      ],
      "metadata": {
        "id": "cUOUo-E1OiPZ",
        "colab": {
          "base_uri": "https://localhost:8080/"
        },
        "outputId": "ef956de3-d4f3-404f-e6d3-4ffe65ed7de5"
      },
      "execution_count": 20,
      "outputs": [
        {
          "output_type": "stream",
          "name": "stdout",
          "text": [
            "761번샘플의기존정답: {'text': '8위', 'answer_start': 1050, 'answer_end': 1052}\n"
          ]
        }
      ]
    },
    {
      "cell_type": "code",
      "source": [
        "print('761번샘플전처리후:', tokenizer.decode(train_encodings['input_ids'][761]))"
      ],
      "metadata": {
        "id": "7WPrIkvlO8j3",
        "colab": {
          "base_uri": "https://localhost:8080/"
        },
        "outputId": "26df0203-7d23-46b5-ae33-b022522e5fcc"
      },
      "execution_count": 21,
      "outputs": [
        {
          "output_type": "stream",
          "name": "stdout",
          "text": [
            "761번샘플전처리후: [CLS] 2014년 2월 9일 러시아 소치 아들레르 아레나서 열린 소치 동계올림픽 3000m 부문에서 김보름 ( 21 ) 은 4분12초08의 기록으로로 13위를 차지했다. 이날 3조로 경기를 치른 김보름은 21초05로 200m 구간을 통과한 후 2분31초34로 1800m 구간을 지났다. 이후 2200m 구간 통과 순간부터 스피드를 올리며 후반 들어 스퍼트를 올렸고, 결국 하위권이 아닌 중위권 기록을 남겼다. 김보름의 순위인 13위는 지난 2006 토리노 올림픽, 2010 밴쿠버 올림픽 당시 노선영 ( 25 - 강원도청 ) 이 기록한 19위를 넘어 한국 여자 3000m 부문의 가장 높은 순위다. 5조의 노선영은 4분19초02를 기록했다. 노선영은 200m 구간에서 21초32의 기록으로 지난 이후 속도를 올리지 못한 채로 결승점을 통과했다. 결국 노선영은 전체 26위의 성적을 남기며 경기를 마쳤다. 6조에서 경기를 소화한 양신영 ( 24 - 전북도청 [SEP] 소치 팀추월 파이널D에서 여자 팀추월 대표팀의 최종 성적은? [SEP]\n"
          ]
        }
      ]
    },
    {
      "cell_type": "code",
      "source": [
        "def delete_samples(encodings, deleting_list):\n",
        "    input_ids = np.delete(np.array(encodings['input_ids']), deleting_list, axis = 0)\n",
        "    attention_masks =np.delete(np.array(encodings['attention_mask']), deleting_list, axis = 0)\n",
        "    start_positions = np.delete(np.array(encodings['start_positions']), deleting_list, axis = 0)\n",
        "    end_positions = np.delete(np.array(encodings['end_positions']), deleting_list, axis = 0)\n",
        "\n",
        "    X_data = [input_ids, attention_masks]\n",
        "    y_data = [start_positions, end_positions]\n",
        "    return X_data, y_data"
      ],
      "metadata": {
        "id": "ogr2X_4WPkzg"
      },
      "execution_count": 22,
      "outputs": []
    },
    {
      "cell_type": "code",
      "source": [
        "X_train, y_train = delete_samples(train_encodings, deleting_list_for_train)\n",
        "X_test, y_test = delete_samples(val_encodings, deleting_list_for_val)"
      ],
      "metadata": {
        "id": "r28Di8P0Qe-E"
      },
      "execution_count": 23,
      "outputs": []
    },
    {
      "cell_type": "code",
      "source": [
        "print('-------------삭제전-------------')\n",
        "print('훈련데이터의샘플의개수:', len(train_contexts))\n",
        "print('테스트데이터의샘플의개수:', len(val_contexts))\n",
        "print('-------------삭제후-------------')\n",
        "print('훈련데이터의샘플의개수:', len(X_train[0]))\n",
        "print('테스트데이터의샘플의개수:', len(X_test[0]))"
      ],
      "metadata": {
        "id": "Sd-qOARYRO4r",
        "colab": {
          "base_uri": "https://localhost:8080/"
        },
        "outputId": "13678268-56c1-4d4d-fb9c-f47bf8a3afc0"
      },
      "execution_count": 24,
      "outputs": [
        {
          "output_type": "stream",
          "name": "stdout",
          "text": [
            "-------------삭제전-------------\n",
            "훈련데이터의샘플의개수: 60407\n",
            "테스트데이터의샘플의개수: 5774\n",
            "-------------삭제후-------------\n",
            "훈련데이터의샘플의개수: 54565\n",
            "테스트데이터의샘플의개수: 5215\n"
          ]
        }
      ]
    },
    {
      "cell_type": "markdown",
      "source": [
        "# 2) BERT를 이용한 Question Answering"
      ],
      "metadata": {
        "id": "rdsUsFMURkhe"
      }
    },
    {
      "cell_type": "markdown",
      "source": [
        "\n",
        "\n",
        "*   기계독해를 위해 BERT는 시작 인덱스와 종료 인덱스 출력층 두 개 사용\n",
        "*   입력 길이 512라면, 512개 후보중에서 시작 인덱스, 종료 인덱스를 예측하는 다중 클래스 분류 두 문제를 풀게 됨\n"
      ],
      "metadata": {
        "id": "6E6jKqpLR4Xb"
      }
    },
    {
      "cell_type": "code",
      "source": [
        "from transformers import TFBertModel\n",
        "\n",
        "class TFBertForQuestionAnswering(tf.keras.Model):\n",
        "    def __init__(self, model_name):\n",
        "        super(TFBertForQuestionAnswering, self).__init__()\n",
        "        self.bert = TFBertModel.from_pretrained(model_name, from_pt = True)\n",
        "        self.qa_outputs = tf.keras.layers.Dense(2, kernel_initializer = tf.keras.initializers.TruncatedNormal(0.02))\n",
        "        self.softmax = tf.keras.layers.Activation(tf.keras.activations.softmax)\n",
        "\n",
        "    def call(self, inputs):\n",
        "        input_ids, attention_mask = inputs\n",
        "        outputs = self.bert(input_ids, attention_mask = attention_mask)\n",
        "\n",
        "        sequence_output = outputs[0]\n",
        "        logits = self.qa_outputs(sequence_output)\n",
        "        start_logits, end_logits = tf.split(logits, 2, axis = -1)\n",
        "        start_logits  = tf.squeeze(start_logits, axis = -1)\n",
        "        end_logits = tf.squeeze(end_logits, axis = -1)\n",
        "\n",
        "        start_probs = self.softmax(start_logits)\n",
        "        end_probs = self.softmax(end_logits)\n",
        "\n",
        "        return start_probs, end_probs"
      ],
      "metadata": {
        "id": "CLFpTHJuRogK"
      },
      "execution_count": 25,
      "outputs": []
    },
    {
      "cell_type": "code",
      "source": [
        "model = TFBertForQuestionAnswering('klue/bert-base')\n",
        "optimizer = tf.keras.optimizers.Adam(learning_rate=5e-5)\n",
        "loss =tf.keras.losses.SparseCategoricalCrossentropy(from_logits=False)\n",
        "model.compile(optimizer=optimizer, loss=[loss, loss])"
      ],
      "metadata": {
        "id": "7GbqiaT5T80k",
        "colab": {
          "base_uri": "https://localhost:8080/"
        },
        "outputId": "60c49de4-8bee-4863-8bbb-f431eaba7a2b"
      },
      "execution_count": 26,
      "outputs": [
        {
          "output_type": "stream",
          "name": "stderr",
          "text": [
            "Some weights of the PyTorch model were not used when initializing the TF 2.0 model TFBertModel: ['cls.seq_relationship.bias', 'cls.predictions.decoder.bias', 'cls.seq_relationship.weight', 'cls.predictions.transform.dense.bias', 'cls.predictions.decoder.weight', 'cls.predictions.transform.LayerNorm.bias', 'cls.predictions.transform.dense.weight', 'cls.predictions.bias', 'bert.embeddings.position_ids', 'cls.predictions.transform.LayerNorm.weight']\n",
            "- This IS expected if you are initializing TFBertModel from a PyTorch model trained on another task or with another architecture (e.g. initializing a TFBertForSequenceClassification model from a BertForPreTraining model).\n",
            "- This IS NOT expected if you are initializing TFBertModel from a PyTorch model that you expect to be exactly identical (e.g. initializing a TFBertForSequenceClassification model from a BertForSequenceClassification model).\n",
            "All the weights of TFBertModel were initialized from the PyTorch model.\n",
            "If your task is similar to the task the model of the checkpoint was trained on, you can already use TFBertModel for predictions without further training.\n"
          ]
        }
      ]
    },
    {
      "cell_type": "code",
      "source": [
        "history = model.fit(X_train, y_train, epochs = 3, verbose = 1, batch_size = 8)"
      ],
      "metadata": {
        "id": "uQ5Y_G3EUXR2",
        "colab": {
          "base_uri": "https://localhost:8080/"
        },
        "outputId": "bdbf2a2b-0293-4005-b6af-d3d84c8d8c2b"
      },
      "execution_count": 27,
      "outputs": [
        {
          "output_type": "stream",
          "name": "stdout",
          "text": [
            "Epoch 1/3\n"
          ]
        },
        {
          "output_type": "stream",
          "name": "stderr",
          "text": [
            "WARNING:tensorflow:Gradients do not exist for variables ['tf_bert_model/bert/pooler/dense/kernel:0', 'tf_bert_model/bert/pooler/dense/bias:0'] when minimizing the loss. If you're using `model.compile()`, did you forget to provide a `loss` argument?\n",
            "WARNING:tensorflow:Gradients do not exist for variables ['tf_bert_model/bert/pooler/dense/kernel:0', 'tf_bert_model/bert/pooler/dense/bias:0'] when minimizing the loss. If you're using `model.compile()`, did you forget to provide a `loss` argument?\n",
            "WARNING:tensorflow:Gradients do not exist for variables ['tf_bert_model/bert/pooler/dense/kernel:0', 'tf_bert_model/bert/pooler/dense/bias:0'] when minimizing the loss. If you're using `model.compile()`, did you forget to provide a `loss` argument?\n",
            "WARNING:tensorflow:Gradients do not exist for variables ['tf_bert_model/bert/pooler/dense/kernel:0', 'tf_bert_model/bert/pooler/dense/bias:0'] when minimizing the loss. If you're using `model.compile()`, did you forget to provide a `loss` argument?\n"
          ]
        },
        {
          "output_type": "stream",
          "name": "stdout",
          "text": [
            "6821/6821 [==============================] - 3246s 469ms/step - loss: 1.1860 - output_1_loss: 0.5353 - output_2_loss: 0.6507\n",
            "Epoch 2/3\n",
            "6821/6821 [==============================] - 3193s 468ms/step - loss: 0.7078 - output_1_loss: 0.3058 - output_2_loss: 0.4021\n",
            "Epoch 3/3\n",
            "6821/6821 [==============================] - 3193s 468ms/step - loss: 0.5367 - output_1_loss: 0.2251 - output_2_loss: 0.3116\n"
          ]
        }
      ]
    },
    {
      "cell_type": "markdown",
      "source": [
        "# 3) 테스트 데이터에 대한 예측\n"
      ],
      "metadata": {
        "id": "I4-OacWPUmVD"
      }
    },
    {
      "cell_type": "code",
      "source": [
        "def predict_test_data_by_idx(idx):\n",
        "    context = tokenizer.decode(X_test[0][idx]).split('[SEP]')[0]\n",
        "    question = tokenizer.decode(X_test[0][idx]).split('[SEP]')[1]\n",
        "\n",
        "    print(\"본문:\", context)\n",
        "    print(\"질문:\", question)\n",
        "    answer_encoded = X_test[0][idx][y_test[0][idx]:y_test[1][idx]+1]\n",
        "    print('정답:', tokenizer.decode(answer_encoded))\n",
        "\n",
        "    output = model([tf.constant(X_test[0][idx])[None, :], tf.constant(X_test[1][idx])[None, :]])\n",
        "    start = tf.math.argmax(tf.squeeze(output[0]))\n",
        "    end = tf.math.argmax(tf.squeeze(output[1]))\n",
        "\n",
        "    answer_encoded = X_test[0][idx][start:end]\n",
        "    print(\"예측:\", tokenizer.decode(answer_encoded))\n",
        "    print('-' * 50)\n"
      ],
      "metadata": {
        "id": "oGziRXWMUh-P"
      },
      "execution_count": 28,
      "outputs": []
    },
    {
      "cell_type": "code",
      "source": [
        "for i in range(0,10):\n",
        "    predict_test_data_by_idx(i)"
      ],
      "metadata": {
        "id": "yR3iRtBGYBJ1",
        "colab": {
          "base_uri": "https://localhost:8080/"
        },
        "outputId": "6c0b2c5e-915b-4ed0-dbf7-93c6edb8afc8"
      },
      "execution_count": 29,
      "outputs": [
        {
          "output_type": "stream",
          "name": "stdout",
          "text": [
            "본문: [CLS] 1989년 2월 15일 여의도 농민 폭력 시위를 주도한 혐의 ( 폭력행위등처벌에관한법률위반 ) 으로 지명수배되었다. 1989년 3월 12일 서울지방검찰청 공안부는 임종석의 사전구속영장을 발부받았다. 같은 해 6월 30일 평양축전에 임수경을 대표로 파견하여 국가보안법위반 혐의가 추가되었다. 경찰은 12월 18일 ~ 20일 사이 서울 경희대학교에서 임종석이 성명 발표를 추진하고 있다는 첩보를 입수했고, 12월 18일 오전 7시 40분 경 가스총과 전자봉으로 무장한 특공조 및 대공과 직원 12명 등 22명의 사복 경찰을 승용차 8대에 나누어 경희대학교에 투입했다. 1989년 12월 18일 오전 8시 15분 경 서울청량리경찰서는 호위 학생 5명과 함께 경희대학교 학생회관 건물 계단을 내려오는 임종석을 발견, 검거해 구속을 집행했다. 임종석은 청량리경찰서에서 약 1시간 동안 조사를 받은 뒤 오전 9시 50분 경 \n",
            "질문:  임종석이 여의도 농민 폭력 시위를 주도한 혐의로 지명수배 된 날은? \n",
            "정답: 1989년 2월 15일\n",
            "예측: 1989년 2월 15\n",
            "--------------------------------------------------\n",
            "본문: [CLS] 1989년 2월 15일 여의도 농민 폭력 시위를 주도한 혐의 ( 폭력행위등처벌에관한법률위반 ) 으로 지명수배되었다. 1989년 3월 12일 서울지방검찰청 공안부는 임종석의 사전구속영장을 발부받았다. 같은 해 6월 30일 평양축전에 임수경을 대표로 파견하여 국가보안법위반 혐의가 추가되었다. 경찰은 12월 18일 ~ 20일 사이 서울 경희대학교에서 임종석이 성명 발표를 추진하고 있다는 첩보를 입수했고, 12월 18일 오전 7시 40분 경 가스총과 전자봉으로 무장한 특공조 및 대공과 직원 12명 등 22명의 사복 경찰을 승용차 8대에 나누어 경희대학교에 투입했다. 1989년 12월 18일 오전 8시 15분 경 서울청량리경찰서는 호위 학생 5명과 함께 경희대학교 학생회관 건물 계단을 내려오는 임종석을 발견, 검거해 구속을 집행했다. 임종석은 청량리경찰서에서 약 1시간 동안 조사를 받은 뒤 오전 9시 50분 경 서울 \n",
            "질문:  1989년 6월 30일 평양축전에 대표로 파견 된 인물은? \n",
            "정답: 임수경\n",
            "예측: 임수\n",
            "--------------------------------------------------\n",
            "본문: [CLS] 1989년 2월 15일 여의도 농민 폭력 시위를 주도한 혐의 ( 폭력행위등처벌에관한법률위반 ) 으로 지명수배되었다. 1989년 3월 12일 서울지방검찰청 공안부는 임종석의 사전구속영장을 발부받았다. 같은 해 6월 30일 평양축전에 임수경을 대표로 파견하여 국가보안법위반 혐의가 추가되었다. 경찰은 12월 18일 ~ 20일 사이 서울 경희대학교에서 임종석이 성명 발표를 추진하고 있다는 첩보를 입수했고, 12월 18일 오전 7시 40분 경 가스총과 전자봉으로 무장한 특공조 및 대공과 직원 12명 등 22명의 사복 경찰을 승용차 8대에 나누어 경희대학교에 투입했다. 1989년 12월 18일 오전 8시 15분 경 서울청량리경찰서는 호위 학생 5명과 함께 경희대학교 학생회관 건물 계단을 내려오는 임종석을 발견, 검거해 구속을 집행했다. 임종석은 청량리경찰서에서 약 1시간 동안 조사를 받은 뒤 오전 9시 50분 경 \n",
            "질문:  임종석이 여의도 농민 폭력 시위를 주도한 혐의로 지명수배된 연도는? \n",
            "정답: 1989년\n",
            "예측: 1989\n",
            "--------------------------------------------------\n",
            "본문: [CLS] 1989년 2월 15일 여의도 농민 폭력 시위를 주도한 혐의 ( 폭력행위등처벌에관한법률위반 ) 으로 지명수배되었다. 1989년 3월 12일 서울지방검찰청 공안부는 임종석의 사전구속영장을 발부받았다. 같은 해 6월 30일 평양축전에 임수경을 대표로 파견하여 국가보안법위반 혐의가 추가되었다. 경찰은 12월 18일 ~ 20일 사이 서울 경희대학교에서 임종석이 성명 발표를 추진하고 있다는 첩보를 입수했고, 12월 18일 오전 7시 40분 경 가스총과 전자봉으로 무장한 특공조 및 대공과 직원 12명 등 22명의 사복 경찰을 승용차 8대에 나누어 경희대학교에 투입했다. 1989년 12월 18일 오전 8시 15분 경 서울청량리경찰서는 호위 학생 5명과 함께 경희대학교 학생회관 건물 계단을 내려오는 임종석을 발견, 검거해 구속을 집행했다. 임종석은 청량리경찰서에서 약 1시간 동안 조사를 받은 뒤 오전 9시 50분 경 서울 장안동의 서울지방 \n",
            "질문:  임종석을 검거한 장소는 경희대 내 어디인가? \n",
            "정답: 학생회관 건물 계단\n",
            "예측: 서울 경희대\n",
            "--------------------------------------------------\n",
            "본문: [CLS] 1989년 2월 15일 여의도 농민 폭력 시위를 주도한 혐의 ( 폭력행위등처벌에관한법률위반 ) 으로 지명수배되었다. 1989년 3월 12일 서울지방검찰청 공안부는 임종석의 사전구속영장을 발부받았다. 같은 해 6월 30일 평양축전에 임수경을 대표로 파견하여 국가보안법위반 혐의가 추가되었다. 경찰은 12월 18일 ~ 20일 사이 서울 경희대학교에서 임종석이 성명 발표를 추진하고 있다는 첩보를 입수했고, 12월 18일 오전 7시 40분 경 가스총과 전자봉으로 무장한 특공조 및 대공과 직원 12명 등 22명의 사복 경찰을 승용차 8대에 나누어 경희대학교에 투입했다. 1989년 12월 18일 오전 8시 15분 경 서울청량리경찰서는 호위 학생 5명과 함께 경희대학교 학생회관 건물 계단을 내려오는 임종석을 발견, 검거해 구속을 집행했다. 임종석은 청량리경찰서에서 약 1시간 동안 조사를 받은 뒤 \n",
            "질문:  1989년 2월 15일 여의도 농민 폭력 시위를 주도한 혐의로 지명수배된 사람의 이름은? \n",
            "정답: 임종석\n",
            "예측: \n",
            "--------------------------------------------------\n",
            "본문: [CLS] 1989년 2월 15일 여의도 농민 폭력 시위를 주도한 혐의 ( 폭력행위등처벌에관한법률위반 ) 으로 지명수배되었다. 1989년 3월 12일 서울지방검찰청 공안부는 임종석의 사전구속영장을 발부받았다. 같은 해 6월 30일 평양축전에 임수경을 대표로 파견하여 국가보안법위반 혐의가 추가되었다. 경찰은 12월 18일 ~ 20일 사이 서울 경희대학교에서 임종석이 성명 발표를 추진하고 있다는 첩보를 입수했고, 12월 18일 오전 7시 40분 경 가스총과 전자봉으로 무장한 특공조 및 대공과 직원 12명 등 22명의 사복 경찰을 승용차 8대에 나누어 경희대학교에 투입했다. 1989년 12월 18일 오전 8시 15분 경 서울청량리경찰서는 호위 학생 5명과 함께 경희대학교 학생회관 건물 계단을 내려오는 임종석을 발견, 검거해 구속을 집행했다. 임종석은 청량리경찰서에서 약 1시간 동안 조사를 받 \n",
            "질문:  임종석이 1989년 2월 15일에 지명수배 받은 혐의는 어떤 시위를 주도했다는 것인가? \n",
            "정답: 여의도 농민 폭력 시위\n",
            "예측: 여의도 농민 폭력\n",
            "--------------------------------------------------\n",
            "본문: [CLS] \" 내각과 장관들이 소외되고 대통령비서실의 권한이 너무 크다 \", \" 행보가 비서 본연의 역할을 벗어난다 \" 는 의견이 제기되었다. 대표적인 예가 10차 개헌안 발표이다. 원로 헌법학자인 허영 경희대 석좌교수는 정부의 헌법개정안 준비 과정에 대해 \" 청와대 비서실이 아닌 국무회의 중심으로 이뤄졌어야 했다 \" 고 지적했다. ' 국무회의의 심의를 거쳐야 한다 ' ( 제89조 ) 는 헌법 규정에 충실하지 않았다는 것이다. 그러면서 \" 법무부 장관을 제쳐놓고 민정수석이 개정안을 설명하는 게 이해가 안 된다 \" 고 지적했다. 민정수석은 국회의원에 대해 책임지는 법무부 장관도 아니고, 국민에 대해 책임지는 사람도 아니기 때문에 정당성이 없고, 단지 대통령의 신임이 있을 뿐이라는 것이다. 또한 국무총리 선출 방식에 대한 기자의 질문에 \" 문 대통령도 취임 전에 국무총리에게 실질적 권한을 주겠다고 했지만 그러지 못하고 있다. 대통령 \n",
            "질문:  정부의 헌법개정안 준비 과정에 대해서 청와대 비서실이 아니라 국무회의 중심으로 이뤄졌어야 했다고 지적한 원로 헌법학자는? \n",
            "정답: 허영\n",
            "예측: 허영 경희대 석좌교\n",
            "--------------------------------------------------\n",
            "본문: [CLS] \" 내각과 장관들이 소외되고 대통령비서실의 권한이 너무 크다 \", \" 행보가 비서 본연의 역할을 벗어난다 \" 는 의견이 제기되었다. 대표적인 예가 10차 개헌안 발표이다. 원로 헌법학자인 허영 경희대 석좌교수는 정부의 헌법개정안 준비 과정에 대해 \" 청와대 비서실이 아닌 국무회의 중심으로 이뤄졌어야 했다 \" 고 지적했다. ' 국무회의의 심의를 거쳐야 한다 ' ( 제89조 ) 는 헌법 규정에 충실하지 않았다는 것이다. 그러면서 \" 법무부 장관을 제쳐놓고 민정수석이 개정안을 설명하는 게 이해가 안 된다 \" 고 지적했다. 민정수석은 국회의원에 대해 책임지는 법무부 장관도 아니고, 국민에 대해 책임지는 사람도 아니기 때문에 정당성이 없고, 단지 대통령의 신임이 있을 뿐이라는 것이다. 또한 국무총리 선출 방식에 대한 기자의 질문에 \" 문 대통령도 취임 전에 국무총리에게 실질적 권한을 주겠다 \n",
            "질문:  ' 행보가 비서 본연의 역할을 벗어난다 ', ' 장관들과 내각이 소외되고 대통령비서실의 권한이 너무 크다 ' 는 의견이 제기된 대표적인 예는? \n",
            "정답: 10차 개헌안 발표\n",
            "예측: 10차 개헌안\n",
            "--------------------------------------------------\n",
            "본문: [CLS] \" 내각과 장관들이 소외되고 대통령비서실의 권한이 너무 크다 \", \" 행보가 비서 본연의 역할을 벗어난다 \" 는 의견이 제기되었다. 대표적인 예가 10차 개헌안 발표이다. 원로 헌법학자인 허영 경희대 석좌교수는 정부의 헌법개정안 준비 과정에 대해 \" 청와대 비서실이 아닌 국무회의 중심으로 이뤄졌어야 했다 \" 고 지적했다. ' 국무회의의 심의를 거쳐야 한다 ' ( 제89조 ) 는 헌법 규정에 충실하지 않았다는 것이다. 그러면서 \" 법무부 장관을 제쳐놓고 민정수석이 개정안을 설명하는 게 이해가 안 된다 \" 고 지적했다. 민정수석은 국회의원에 대해 책임지는 법무부 장관도 아니고, 국민에 대해 책임지는 사람도 아니기 때문에 정당성이 없고, 단지 대통령의 신임이 있을 뿐이라는 것이다. 또한 국무총리 선출 방식에 대한 기자의 질문에 \" 문 대통령도 취임 전에 국무총리에게 실질적 권한을 주겠다고 했지만 그러지 못하고 있다. 대통령비서실장만도 못한 권한을 행사하고 있다. \n",
            "질문:  국무회의의 심의를 거쳐야 한다는 헌법 제 몇 조의 내용인가? \n",
            "정답: 제89조\n",
            "예측: 제89\n",
            "--------------------------------------------------\n",
            "본문: [CLS] \" 내각과 장관들이 소외되고 대통령비서실의 권한이 너무 크다 \", \" 행보가 비서 본연의 역할을 벗어난다 \" 는 의견이 제기되었다. 대표적인 예가 10차 개헌안 발표이다. 원로 헌법학자인 허영 경희대 석좌교수는 정부의 헌법개정안 준비 과정에 대해 \" 청와대 비서실이 아닌 국무회의 중심으로 이뤄졌어야 했다 \" 고 지적했다. ' 국무회의의 심의를 거쳐야 한다 ' ( 제89조 ) 는 헌법 규정에 충실하지 않았다는 것이다. 그러면서 \" 법무부 장관을 제쳐놓고 민정수석이 개정안을 설명하는 게 이해가 안 된다 \" 고 지적했다. 민정수석은 국회의원에 대해 책임지는 법무부 장관도 아니고, 국민에 대해 책임지는 사람도 아니기 때문에 정당성이 없고, 단지 대통령의 신임이 있을 뿐이라는 것이다. 또한 국무총리 선출 방식에 대한 기자의 질문에 \" 문 대통령도 취임 전에 국무총리에게 실질적 권한을 주겠다고 했지만 그러지 못하고 있다. 대통령비 \n",
            "질문:  법무부 장관을 제쳐놓고 민정수석이 개정안을 설명하는 게 이해가 안 된다고 지적한 경희대 석좌교수 이름은? \n",
            "정답: 허영\n",
            "예측: \n",
            "--------------------------------------------------\n"
          ]
        }
      ]
    },
    {
      "cell_type": "markdown",
      "source": [
        "# 4) 더 긴 입력을 위해 모델 바꾸기"
      ],
      "metadata": {
        "id": "ccY_LibuYLSO"
      }
    },
    {
      "cell_type": "markdown",
      "source": [
        "BERT 최대길이 512로 하면 512 이상의 문서는 짤림\n",
        "\n",
        "KoBigBird 모델은 4096 길이까지 받아 KorQuad 본문이 짤리지 않음"
      ],
      "metadata": {
        "id": "CirhH4J5YRwb"
      }
    },
    {
      "cell_type": "code",
      "source": [
        "tokenizer = BertTokenizerFast.from_pretrained(\"monologg/kobigbird-bert-base\")\n",
        "\n",
        "train_encodings = tokenizer(train_contexts, train_questions, truncation = True, padding = True)\n",
        "val_encodings = tokenizer(val_contexts, val_questions, truncation = True, padding = True)\n"
      ],
      "metadata": {
        "id": "adAb1QOAYOZQ",
        "colab": {
          "base_uri": "https://localhost:8080/",
          "height": 145,
          "referenced_widgets": [
            "b5adfd76bacd429da2c6e680dd0513e0",
            "ea4bcb1d1298427dbd385bacab6bf2d6",
            "4df1067b09a94ebf8a6608dd49af8adf",
            "2a9f91f58ad346488bca5a5bc94e7556",
            "c285142f7ac44008b37ef5f649e638b8",
            "17db3de0516c4abfad4b4a55d054440a",
            "d96e7ed0b714410195a4a8b0e1ec22fb",
            "85352a4300034f45b133006ed5d97446",
            "807dae70f6054d0197373cf12b4562ef",
            "65ab0b1c0c094d638a81e8c8cb6a38d2",
            "cd7842ecfc8342ab93ebdbd54482d82d",
            "41ed2390993141839b41557170e2faf5",
            "926153cc2ead4066afbad5639dae6029",
            "3ee4d24c8b384c87a8f57c39b2772ba5",
            "72191973947d48b58459f7ea627bc64d",
            "0cb93cfbed564054a43c9624b5b169df",
            "58f8609adc224d9ca44e7f564931b5fd",
            "3a156507bc9144378c6a91708d64b3d7",
            "b4a38b0320a64145b13905f1fd8d91ad",
            "511e1756d7fb40d0802f8c5ad83df0ee",
            "042fa7697b414c598442d4a350a851a2",
            "03ea7eeb3ff9434abb8704e8648c4a26",
            "2bc2f971613046a295531ea2dfd1dd19",
            "edbdb4960c5840cb9bbdd7a2c40385fc",
            "897cf1f23b5341d38bd15709bb6449ed",
            "0fb2ed200086402993b9e010454d7a78",
            "0808bde1e92048ee9b95dc43c9089786",
            "12242dd62d514382a4ff4d855056716e",
            "b4ed98e563f049f8b69bcd7f29efe43a",
            "ec53cb61a77342adb048e84f601a070f",
            "a432e5a75c274c7dbe7c049f3dcf48c2",
            "b5ed151e91884b6f84863968e48dbf25",
            "29914bb177034473b8d7b7203bbd9f55",
            "c3781b80a10644b3be7e1c62573e441b",
            "dc9398076d694acc807c948f0ad86a50",
            "6df8ae785d4f411ea4edc04ebaf0c2be",
            "b4df9d10219f45a4ad5f876064a22c75",
            "8aef37a0a7ce4876a7ba50820b039582",
            "4893e89dbdb24f9c976291810ee0438e",
            "e72215b4b6dd4cd19cb6836b320c5275",
            "e8018e57bf724180832ebdb48a8fb1f2",
            "0bac7bec3cbf49e6bd1f83a81578e0f2",
            "c0682ec0e96f4da491709626763d68ff",
            "f2d444998220420a951c20efcd045851"
          ]
        },
        "outputId": "c698cc42-f565-4bc5-e3a2-2455a2d1bbe3"
      },
      "execution_count": null,
      "outputs": [
        {
          "output_type": "display_data",
          "data": {
            "text/plain": [
              "tokenizer_config.json:   0%|          | 0.00/373 [00:00<?, ?B/s]"
            ],
            "application/vnd.jupyter.widget-view+json": {
              "version_major": 2,
              "version_minor": 0,
              "model_id": "b5adfd76bacd429da2c6e680dd0513e0"
            }
          },
          "metadata": {}
        },
        {
          "output_type": "display_data",
          "data": {
            "text/plain": [
              "vocab.txt:   0%|          | 0.00/241k [00:00<?, ?B/s]"
            ],
            "application/vnd.jupyter.widget-view+json": {
              "version_major": 2,
              "version_minor": 0,
              "model_id": "41ed2390993141839b41557170e2faf5"
            }
          },
          "metadata": {}
        },
        {
          "output_type": "display_data",
          "data": {
            "text/plain": [
              "tokenizer.json:   0%|          | 0.00/492k [00:00<?, ?B/s]"
            ],
            "application/vnd.jupyter.widget-view+json": {
              "version_major": 2,
              "version_minor": 0,
              "model_id": "2bc2f971613046a295531ea2dfd1dd19"
            }
          },
          "metadata": {}
        },
        {
          "output_type": "display_data",
          "data": {
            "text/plain": [
              "special_tokens_map.json:   0%|          | 0.00/169 [00:00<?, ?B/s]"
            ],
            "application/vnd.jupyter.widget-view+json": {
              "version_major": 2,
              "version_minor": 0,
              "model_id": "c3781b80a10644b3be7e1c62573e441b"
            }
          },
          "metadata": {}
        }
      ]
    },
    {
      "cell_type": "code",
      "source": [
        "model = TFBertForQuestionAnswering('monologg/kobigbird-bert-base')\n",
        "optimizer = tf.keras.optimizers.Adam(learning_rate = 5e-5)\n",
        "loss = tf.keras.losses.SparseCategoricalCrossentropy(from_logits = False)\n",
        "model.compile(optimizer = optimizer, loss = [loss, loss])"
      ],
      "metadata": {
        "id": "YXD0ugLLY6NE"
      },
      "execution_count": null,
      "outputs": []
    },
    {
      "cell_type": "code",
      "source": [
        "import nbformat\n",
        "\n",
        "file_path = \"/content/18_5_KoBERT를_이용한_기계_독해 (1).ipynb\"\n",
        "# 1. 노트북 로드\n",
        "with open(file_path, \"r\", encoding=\"utf-8\") as f:\n",
        "    nb = nbformat.read(f, as_version=4)\n",
        "\n",
        "# 2. widgets 메타데이터 제거\n",
        "if \"widgets\" in nb.metadata:\n",
        "    print(\"Removing 'metadata.widgets'...\")\n",
        "    del nb.metadata[\"widgets\"]\n",
        "\n",
        "# 3. 다시 저장\n",
        "with open(file_path, \"w\", encoding=\"utf-8\") as f:\n",
        "    nbformat.write(nb, f)\n",
        "\n",
        "print(\"✅ 위젯 메타데이터 제거 완료. GitHub에서 렌더링 가능!\")\n"
      ],
      "metadata": {
        "colab": {
          "base_uri": "https://localhost:8080/"
        },
        "id": "B78kxYdT5cwf",
        "outputId": "806d2a3e-ccac-4412-ab14-c8db949544c5"
      },
      "execution_count": 3,
      "outputs": [
        {
          "output_type": "stream",
          "name": "stdout",
          "text": [
            "Removing 'metadata.widgets'...\n",
            "✅ 위젯 메타데이터 제거 완료. GitHub에서 렌더링 가능!\n"
          ]
        }
      ]
    },
    {
      "cell_type": "code",
      "source": [],
      "metadata": {
        "id": "9O_EK3QV5gwb"
      },
      "execution_count": null,
      "outputs": []
    }
  ]
}