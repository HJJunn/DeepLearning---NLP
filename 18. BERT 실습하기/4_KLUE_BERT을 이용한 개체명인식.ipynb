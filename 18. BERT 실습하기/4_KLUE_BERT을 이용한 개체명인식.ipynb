{
  "nbformat": 4,
  "nbformat_minor": 0,
  "metadata": {
    "colab": {
      "provenance": [],
      "gpuType": "T4"
    },
    "kernelspec": {
      "name": "python3",
      "display_name": "Python 3"
    },
    "language_info": {
      "name": "python"
    },
    "accelerator": "GPU"
  },
  "cells": [
    {
      "cell_type": "code",
      "execution_count": 1,
      "metadata": {
        "colab": {
          "base_uri": "https://localhost:8080/"
        },
        "id": "nQ_TyBhSABrp",
        "outputId": "54739159-5659-4831-af47-49cd423bd7b4"
      },
      "outputs": [
        {
          "output_type": "stream",
          "name": "stdout",
          "text": [
            "Requirement already satisfied: transformers in /usr/local/lib/python3.11/dist-packages (4.53.0)\n",
            "Requirement already satisfied: filelock in /usr/local/lib/python3.11/dist-packages (from transformers) (3.18.0)\n",
            "Requirement already satisfied: huggingface-hub<1.0,>=0.30.0 in /usr/local/lib/python3.11/dist-packages (from transformers) (0.33.1)\n",
            "Requirement already satisfied: numpy>=1.17 in /usr/local/lib/python3.11/dist-packages (from transformers) (2.0.2)\n",
            "Requirement already satisfied: packaging>=20.0 in /usr/local/lib/python3.11/dist-packages (from transformers) (24.2)\n",
            "Requirement already satisfied: pyyaml>=5.1 in /usr/local/lib/python3.11/dist-packages (from transformers) (6.0.2)\n",
            "Requirement already satisfied: regex!=2019.12.17 in /usr/local/lib/python3.11/dist-packages (from transformers) (2024.11.6)\n",
            "Requirement already satisfied: requests in /usr/local/lib/python3.11/dist-packages (from transformers) (2.32.3)\n",
            "Requirement already satisfied: tokenizers<0.22,>=0.21 in /usr/local/lib/python3.11/dist-packages (from transformers) (0.21.2)\n",
            "Requirement already satisfied: safetensors>=0.4.3 in /usr/local/lib/python3.11/dist-packages (from transformers) (0.5.3)\n",
            "Requirement already satisfied: tqdm>=4.27 in /usr/local/lib/python3.11/dist-packages (from transformers) (4.67.1)\n",
            "Requirement already satisfied: fsspec>=2023.5.0 in /usr/local/lib/python3.11/dist-packages (from huggingface-hub<1.0,>=0.30.0->transformers) (2025.3.2)\n",
            "Requirement already satisfied: typing-extensions>=3.7.4.3 in /usr/local/lib/python3.11/dist-packages (from huggingface-hub<1.0,>=0.30.0->transformers) (4.14.0)\n",
            "Requirement already satisfied: hf-xet<2.0.0,>=1.1.2 in /usr/local/lib/python3.11/dist-packages (from huggingface-hub<1.0,>=0.30.0->transformers) (1.1.5)\n",
            "Requirement already satisfied: charset-normalizer<4,>=2 in /usr/local/lib/python3.11/dist-packages (from requests->transformers) (3.4.2)\n",
            "Requirement already satisfied: idna<4,>=2.5 in /usr/local/lib/python3.11/dist-packages (from requests->transformers) (3.10)\n",
            "Requirement already satisfied: urllib3<3,>=1.21.1 in /usr/local/lib/python3.11/dist-packages (from requests->transformers) (2.4.0)\n",
            "Requirement already satisfied: certifi>=2017.4.17 in /usr/local/lib/python3.11/dist-packages (from requests->transformers) (2025.6.15)\n"
          ]
        }
      ],
      "source": [
        "!pip install transformers"
      ]
    },
    {
      "cell_type": "markdown",
      "source": [
        "## 1) 데이터 로드"
      ],
      "metadata": {
        "id": "uP5lnFOBARXD"
      }
    },
    {
      "cell_type": "code",
      "source": [
        "!pip install seqeval"
      ],
      "metadata": {
        "colab": {
          "base_uri": "https://localhost:8080/"
        },
        "id": "OMVrIaAtPel-",
        "outputId": "9f51f98f-5796-483f-fcb7-854688cc94ed"
      },
      "execution_count": 2,
      "outputs": [
        {
          "output_type": "stream",
          "name": "stdout",
          "text": [
            "Collecting seqeval\n",
            "  Downloading seqeval-1.2.2.tar.gz (43 kB)\n",
            "\u001b[?25l     \u001b[90m━━━━━━━━━━━━━━━━━━━━━━━━━━━━━━━━━━━━━━━━\u001b[0m \u001b[32m0.0/43.6 kB\u001b[0m \u001b[31m?\u001b[0m eta \u001b[36m-:--:--\u001b[0m\r\u001b[2K     \u001b[90m━━━━━━━━━━━━━━━━━━━━━━━━━━━━━━━━━━━━━━━━\u001b[0m \u001b[32m43.6/43.6 kB\u001b[0m \u001b[31m3.5 MB/s\u001b[0m eta \u001b[36m0:00:00\u001b[0m\n",
            "\u001b[?25h  Preparing metadata (setup.py) ... \u001b[?25l\u001b[?25hdone\n",
            "Requirement already satisfied: numpy>=1.14.0 in /usr/local/lib/python3.11/dist-packages (from seqeval) (2.0.2)\n",
            "Requirement already satisfied: scikit-learn>=0.21.3 in /usr/local/lib/python3.11/dist-packages (from seqeval) (1.6.1)\n",
            "Requirement already satisfied: scipy>=1.6.0 in /usr/local/lib/python3.11/dist-packages (from scikit-learn>=0.21.3->seqeval) (1.15.3)\n",
            "Requirement already satisfied: joblib>=1.2.0 in /usr/local/lib/python3.11/dist-packages (from scikit-learn>=0.21.3->seqeval) (1.5.1)\n",
            "Requirement already satisfied: threadpoolctl>=3.1.0 in /usr/local/lib/python3.11/dist-packages (from scikit-learn>=0.21.3->seqeval) (3.6.0)\n",
            "Building wheels for collected packages: seqeval\n",
            "  Building wheel for seqeval (setup.py) ... \u001b[?25l\u001b[?25hdone\n",
            "  Created wheel for seqeval: filename=seqeval-1.2.2-py3-none-any.whl size=16162 sha256=9286b01f664366a855fc2a7b03ab398f29a374228195c2c52cb32ef0c8155c9a\n",
            "  Stored in directory: /root/.cache/pip/wheels/bc/92/f0/243288f899c2eacdfa8c5f9aede4c71a9bad0ee26a01dc5ead\n",
            "Successfully built seqeval\n",
            "Installing collected packages: seqeval\n",
            "Successfully installed seqeval-1.2.2\n"
          ]
        }
      ]
    },
    {
      "cell_type": "code",
      "source": [
        "import pandas as pd\n",
        "import numpy as np\n",
        "import os\n",
        "import urllib.request\n",
        "from tqdm import tqdm\n",
        "from tensorflow.keras.callbacks import EarlyStopping\n",
        "from tensorflow.keras.preprocessing.sequence import pad_sequences\n",
        "from transformers import shape_list, BertTokenizer, TFBertModel\n",
        "from seqeval.metrics import f1_score, classification_report\n",
        "import tensorflow as tf"
      ],
      "metadata": {
        "id": "cjELjLYVAM9Z"
      },
      "execution_count": 3,
      "outputs": []
    },
    {
      "cell_type": "code",
      "source": [
        " urllib.request.urlretrieve(\"https://raw.githubusercontent.com/ukairia777/tensorflow-nlp-tutorial/main/18.%20Fine-tuning%20BERT%20(Cls%2C%20NER%2C%20NLI)/dataset/ner_train_data.csv\", filename=\"ner_train_data.csv\")\n",
        " urllib.request.urlretrieve(\"https://raw.githubusercontent.com/ukairia777/tensorflow-nlp-tutorial/main/18.%20Fine-tuning%20BERT%20(Cls%2C%20NER%2C%20NLI)/dataset/ner_test_data.csv\", filename=\"ner_test_data.csv\")\n",
        " urllib.request.urlretrieve(\"https://raw.githubusercontent.com/ukairia777/tensorflow-nlp-tutorial/main/18.%20Fine-tuning%20BERT%20(Cls%2C%20NER%2C%20NLI)/dataset/ner_label.txt\", filename=\"ner_label.txt\")"
      ],
      "metadata": {
        "colab": {
          "base_uri": "https://localhost:8080/"
        },
        "id": "F_xaF4BQDEXL",
        "outputId": "174a38b4-636d-4a46-896c-c79755f9ce4b"
      },
      "execution_count": 4,
      "outputs": [
        {
          "output_type": "execute_result",
          "data": {
            "text/plain": [
              "('ner_label.txt', <http.client.HTTPMessage at 0x7d0ffbc9b210>)"
            ]
          },
          "metadata": {},
          "execution_count": 4
        }
      ]
    },
    {
      "cell_type": "code",
      "source": [
        "train_ner_df = pd.read_csv(\"ner_train_data.csv\")\n",
        "test_ner_df = pd.read_csv(\"ner_test_data.csv\")"
      ],
      "metadata": {
        "id": "CTuZHaRMRiXH"
      },
      "execution_count": 5,
      "outputs": []
    },
    {
      "cell_type": "code",
      "source": [
        "train_ner_df"
      ],
      "metadata": {
        "colab": {
          "base_uri": "https://localhost:8080/",
          "height": 424
        },
        "id": "TRa0MRbbR2ir",
        "outputId": "64321b95-7d6e-4ca9-ecd8-30f5092e53cd"
      },
      "execution_count": 6,
      "outputs": [
        {
          "output_type": "execute_result",
          "data": {
            "text/plain": [
              "                                                Sentence  \\\n",
              "0                          정은 씨를 힘들게 한 가스나그, 가만둘 수 없겠죠 .   \n",
              "1                              ▶ 쿠마리 한동수가 말하는 '가넷 & 에르덴'   \n",
              "2                        슈나이더의 프레젠테이션은 말 청중을 위한 특별한 쇼다 .   \n",
              "3      지구 최대 연료탱크 수검 회사 구글이 연내 22명 안팎의 인력을 갖춘 연구개발(R&...   \n",
              "4      5. <10:00:TI_HOUR> 도이치증권대 <0:1:QT_SPORTS> 연예오락...   \n",
              "...                                                  ...   \n",
              "80995                        다른 새들의 경우보다 윗부리가 움직이게 됩니다 .   \n",
              "80996  연세대, 두 외국 스포츠의 양대 산맥인 두 학교의 발사믹식초생 유럽챔피언 케이스는 ...   \n",
              "80997  ) 주자의 역량으로 진루하는 것이기 때문에 꼬치구이가 할 수 있는 적극적인 병장 조...   \n",
              "80998                              연간 회수되는 볼은 3만개에 달한다 .   \n",
              "80999           -(해설) 산호초 장벽에서 산호들은 6일밤 상리를 영속해서 번육합니다 .   \n",
              "\n",
              "                                                     Tag  \n",
              "0                                  PER-B O O O O O O O O  \n",
              "1                          O PER-B PER-I O PER-B O PER-B  \n",
              "2                                PER-B O O CVL-B O O O O  \n",
              "3      O O TRM-B O O ORG-B DAT-B NUM-B O O O ORG-B LO...  \n",
              "4                                  NUM-B O ORG-B O ORG-B  \n",
              "...                                                  ...  \n",
              "80995                                  O O O ANM-B O O O  \n",
              "80996  ORG-B NUM-B O O NUM-B O NUM-B NUM-I CVL-B CVL-...  \n",
              "80997              O CVL-B O O O O CVL-B O O O O O O O O  \n",
              "80998                                O O CVL-B NUM-B O O  \n",
              "80999                              O O O O NUM-B O O O O  \n",
              "\n",
              "[81000 rows x 2 columns]"
            ],
            "text/html": [
              "\n",
              "  <div id=\"df-6b66ba93-297c-435f-bbf0-1074d6f43fcf\" class=\"colab-df-container\">\n",
              "    <div>\n",
              "<style scoped>\n",
              "    .dataframe tbody tr th:only-of-type {\n",
              "        vertical-align: middle;\n",
              "    }\n",
              "\n",
              "    .dataframe tbody tr th {\n",
              "        vertical-align: top;\n",
              "    }\n",
              "\n",
              "    .dataframe thead th {\n",
              "        text-align: right;\n",
              "    }\n",
              "</style>\n",
              "<table border=\"1\" class=\"dataframe\">\n",
              "  <thead>\n",
              "    <tr style=\"text-align: right;\">\n",
              "      <th></th>\n",
              "      <th>Sentence</th>\n",
              "      <th>Tag</th>\n",
              "    </tr>\n",
              "  </thead>\n",
              "  <tbody>\n",
              "    <tr>\n",
              "      <th>0</th>\n",
              "      <td>정은 씨를 힘들게 한 가스나그, 가만둘 수 없겠죠 .</td>\n",
              "      <td>PER-B O O O O O O O O</td>\n",
              "    </tr>\n",
              "    <tr>\n",
              "      <th>1</th>\n",
              "      <td>▶ 쿠마리 한동수가 말하는 '가넷 &amp; 에르덴'</td>\n",
              "      <td>O PER-B PER-I O PER-B O PER-B</td>\n",
              "    </tr>\n",
              "    <tr>\n",
              "      <th>2</th>\n",
              "      <td>슈나이더의 프레젠테이션은 말 청중을 위한 특별한 쇼다 .</td>\n",
              "      <td>PER-B O O CVL-B O O O O</td>\n",
              "    </tr>\n",
              "    <tr>\n",
              "      <th>3</th>\n",
              "      <td>지구 최대 연료탱크 수검 회사 구글이 연내 22명 안팎의 인력을 갖춘 연구개발(R&amp;...</td>\n",
              "      <td>O O TRM-B O O ORG-B DAT-B NUM-B O O O ORG-B LO...</td>\n",
              "    </tr>\n",
              "    <tr>\n",
              "      <th>4</th>\n",
              "      <td>5. &lt;10:00:TI_HOUR&gt; 도이치증권대 &lt;0:1:QT_SPORTS&gt; 연예오락...</td>\n",
              "      <td>NUM-B O ORG-B O ORG-B</td>\n",
              "    </tr>\n",
              "    <tr>\n",
              "      <th>...</th>\n",
              "      <td>...</td>\n",
              "      <td>...</td>\n",
              "    </tr>\n",
              "    <tr>\n",
              "      <th>80995</th>\n",
              "      <td>다른 새들의 경우보다 윗부리가 움직이게 됩니다 .</td>\n",
              "      <td>O O O ANM-B O O O</td>\n",
              "    </tr>\n",
              "    <tr>\n",
              "      <th>80996</th>\n",
              "      <td>연세대, 두 외국 스포츠의 양대 산맥인 두 학교의 발사믹식초생 유럽챔피언 케이스는 ...</td>\n",
              "      <td>ORG-B NUM-B O O NUM-B O NUM-B NUM-I CVL-B CVL-...</td>\n",
              "    </tr>\n",
              "    <tr>\n",
              "      <th>80997</th>\n",
              "      <td>) 주자의 역량으로 진루하는 것이기 때문에 꼬치구이가 할 수 있는 적극적인 병장 조...</td>\n",
              "      <td>O CVL-B O O O O CVL-B O O O O O O O O</td>\n",
              "    </tr>\n",
              "    <tr>\n",
              "      <th>80998</th>\n",
              "      <td>연간 회수되는 볼은 3만개에 달한다 .</td>\n",
              "      <td>O O CVL-B NUM-B O O</td>\n",
              "    </tr>\n",
              "    <tr>\n",
              "      <th>80999</th>\n",
              "      <td>-(해설) 산호초 장벽에서 산호들은 6일밤 상리를 영속해서 번육합니다 .</td>\n",
              "      <td>O O O O NUM-B O O O O</td>\n",
              "    </tr>\n",
              "  </tbody>\n",
              "</table>\n",
              "<p>81000 rows × 2 columns</p>\n",
              "</div>\n",
              "    <div class=\"colab-df-buttons\">\n",
              "\n",
              "  <div class=\"colab-df-container\">\n",
              "    <button class=\"colab-df-convert\" onclick=\"convertToInteractive('df-6b66ba93-297c-435f-bbf0-1074d6f43fcf')\"\n",
              "            title=\"Convert this dataframe to an interactive table.\"\n",
              "            style=\"display:none;\">\n",
              "\n",
              "  <svg xmlns=\"http://www.w3.org/2000/svg\" height=\"24px\" viewBox=\"0 -960 960 960\">\n",
              "    <path d=\"M120-120v-720h720v720H120Zm60-500h600v-160H180v160Zm220 220h160v-160H400v160Zm0 220h160v-160H400v160ZM180-400h160v-160H180v160Zm440 0h160v-160H620v160ZM180-180h160v-160H180v160Zm440 0h160v-160H620v160Z\"/>\n",
              "  </svg>\n",
              "    </button>\n",
              "\n",
              "  <style>\n",
              "    .colab-df-container {\n",
              "      display:flex;\n",
              "      gap: 12px;\n",
              "    }\n",
              "\n",
              "    .colab-df-convert {\n",
              "      background-color: #E8F0FE;\n",
              "      border: none;\n",
              "      border-radius: 50%;\n",
              "      cursor: pointer;\n",
              "      display: none;\n",
              "      fill: #1967D2;\n",
              "      height: 32px;\n",
              "      padding: 0 0 0 0;\n",
              "      width: 32px;\n",
              "    }\n",
              "\n",
              "    .colab-df-convert:hover {\n",
              "      background-color: #E2EBFA;\n",
              "      box-shadow: 0px 1px 2px rgba(60, 64, 67, 0.3), 0px 1px 3px 1px rgba(60, 64, 67, 0.15);\n",
              "      fill: #174EA6;\n",
              "    }\n",
              "\n",
              "    .colab-df-buttons div {\n",
              "      margin-bottom: 4px;\n",
              "    }\n",
              "\n",
              "    [theme=dark] .colab-df-convert {\n",
              "      background-color: #3B4455;\n",
              "      fill: #D2E3FC;\n",
              "    }\n",
              "\n",
              "    [theme=dark] .colab-df-convert:hover {\n",
              "      background-color: #434B5C;\n",
              "      box-shadow: 0px 1px 3px 1px rgba(0, 0, 0, 0.15);\n",
              "      filter: drop-shadow(0px 1px 2px rgba(0, 0, 0, 0.3));\n",
              "      fill: #FFFFFF;\n",
              "    }\n",
              "  </style>\n",
              "\n",
              "    <script>\n",
              "      const buttonEl =\n",
              "        document.querySelector('#df-6b66ba93-297c-435f-bbf0-1074d6f43fcf button.colab-df-convert');\n",
              "      buttonEl.style.display =\n",
              "        google.colab.kernel.accessAllowed ? 'block' : 'none';\n",
              "\n",
              "      async function convertToInteractive(key) {\n",
              "        const element = document.querySelector('#df-6b66ba93-297c-435f-bbf0-1074d6f43fcf');\n",
              "        const dataTable =\n",
              "          await google.colab.kernel.invokeFunction('convertToInteractive',\n",
              "                                                    [key], {});\n",
              "        if (!dataTable) return;\n",
              "\n",
              "        const docLinkHtml = 'Like what you see? Visit the ' +\n",
              "          '<a target=\"_blank\" href=https://colab.research.google.com/notebooks/data_table.ipynb>data table notebook</a>'\n",
              "          + ' to learn more about interactive tables.';\n",
              "        element.innerHTML = '';\n",
              "        dataTable['output_type'] = 'display_data';\n",
              "        await google.colab.output.renderOutput(dataTable, element);\n",
              "        const docLink = document.createElement('div');\n",
              "        docLink.innerHTML = docLinkHtml;\n",
              "        element.appendChild(docLink);\n",
              "      }\n",
              "    </script>\n",
              "  </div>\n",
              "\n",
              "\n",
              "    <div id=\"df-225a16ce-1741-4a44-a0d3-f8abd1daa66d\">\n",
              "      <button class=\"colab-df-quickchart\" onclick=\"quickchart('df-225a16ce-1741-4a44-a0d3-f8abd1daa66d')\"\n",
              "                title=\"Suggest charts\"\n",
              "                style=\"display:none;\">\n",
              "\n",
              "<svg xmlns=\"http://www.w3.org/2000/svg\" height=\"24px\"viewBox=\"0 0 24 24\"\n",
              "     width=\"24px\">\n",
              "    <g>\n",
              "        <path d=\"M19 3H5c-1.1 0-2 .9-2 2v14c0 1.1.9 2 2 2h14c1.1 0 2-.9 2-2V5c0-1.1-.9-2-2-2zM9 17H7v-7h2v7zm4 0h-2V7h2v10zm4 0h-2v-4h2v4z\"/>\n",
              "    </g>\n",
              "</svg>\n",
              "      </button>\n",
              "\n",
              "<style>\n",
              "  .colab-df-quickchart {\n",
              "      --bg-color: #E8F0FE;\n",
              "      --fill-color: #1967D2;\n",
              "      --hover-bg-color: #E2EBFA;\n",
              "      --hover-fill-color: #174EA6;\n",
              "      --disabled-fill-color: #AAA;\n",
              "      --disabled-bg-color: #DDD;\n",
              "  }\n",
              "\n",
              "  [theme=dark] .colab-df-quickchart {\n",
              "      --bg-color: #3B4455;\n",
              "      --fill-color: #D2E3FC;\n",
              "      --hover-bg-color: #434B5C;\n",
              "      --hover-fill-color: #FFFFFF;\n",
              "      --disabled-bg-color: #3B4455;\n",
              "      --disabled-fill-color: #666;\n",
              "  }\n",
              "\n",
              "  .colab-df-quickchart {\n",
              "    background-color: var(--bg-color);\n",
              "    border: none;\n",
              "    border-radius: 50%;\n",
              "    cursor: pointer;\n",
              "    display: none;\n",
              "    fill: var(--fill-color);\n",
              "    height: 32px;\n",
              "    padding: 0;\n",
              "    width: 32px;\n",
              "  }\n",
              "\n",
              "  .colab-df-quickchart:hover {\n",
              "    background-color: var(--hover-bg-color);\n",
              "    box-shadow: 0 1px 2px rgba(60, 64, 67, 0.3), 0 1px 3px 1px rgba(60, 64, 67, 0.15);\n",
              "    fill: var(--button-hover-fill-color);\n",
              "  }\n",
              "\n",
              "  .colab-df-quickchart-complete:disabled,\n",
              "  .colab-df-quickchart-complete:disabled:hover {\n",
              "    background-color: var(--disabled-bg-color);\n",
              "    fill: var(--disabled-fill-color);\n",
              "    box-shadow: none;\n",
              "  }\n",
              "\n",
              "  .colab-df-spinner {\n",
              "    border: 2px solid var(--fill-color);\n",
              "    border-color: transparent;\n",
              "    border-bottom-color: var(--fill-color);\n",
              "    animation:\n",
              "      spin 1s steps(1) infinite;\n",
              "  }\n",
              "\n",
              "  @keyframes spin {\n",
              "    0% {\n",
              "      border-color: transparent;\n",
              "      border-bottom-color: var(--fill-color);\n",
              "      border-left-color: var(--fill-color);\n",
              "    }\n",
              "    20% {\n",
              "      border-color: transparent;\n",
              "      border-left-color: var(--fill-color);\n",
              "      border-top-color: var(--fill-color);\n",
              "    }\n",
              "    30% {\n",
              "      border-color: transparent;\n",
              "      border-left-color: var(--fill-color);\n",
              "      border-top-color: var(--fill-color);\n",
              "      border-right-color: var(--fill-color);\n",
              "    }\n",
              "    40% {\n",
              "      border-color: transparent;\n",
              "      border-right-color: var(--fill-color);\n",
              "      border-top-color: var(--fill-color);\n",
              "    }\n",
              "    60% {\n",
              "      border-color: transparent;\n",
              "      border-right-color: var(--fill-color);\n",
              "    }\n",
              "    80% {\n",
              "      border-color: transparent;\n",
              "      border-right-color: var(--fill-color);\n",
              "      border-bottom-color: var(--fill-color);\n",
              "    }\n",
              "    90% {\n",
              "      border-color: transparent;\n",
              "      border-bottom-color: var(--fill-color);\n",
              "    }\n",
              "  }\n",
              "</style>\n",
              "\n",
              "      <script>\n",
              "        async function quickchart(key) {\n",
              "          const quickchartButtonEl =\n",
              "            document.querySelector('#' + key + ' button');\n",
              "          quickchartButtonEl.disabled = true;  // To prevent multiple clicks.\n",
              "          quickchartButtonEl.classList.add('colab-df-spinner');\n",
              "          try {\n",
              "            const charts = await google.colab.kernel.invokeFunction(\n",
              "                'suggestCharts', [key], {});\n",
              "          } catch (error) {\n",
              "            console.error('Error during call to suggestCharts:', error);\n",
              "          }\n",
              "          quickchartButtonEl.classList.remove('colab-df-spinner');\n",
              "          quickchartButtonEl.classList.add('colab-df-quickchart-complete');\n",
              "        }\n",
              "        (() => {\n",
              "          let quickchartButtonEl =\n",
              "            document.querySelector('#df-225a16ce-1741-4a44-a0d3-f8abd1daa66d button');\n",
              "          quickchartButtonEl.style.display =\n",
              "            google.colab.kernel.accessAllowed ? 'block' : 'none';\n",
              "        })();\n",
              "      </script>\n",
              "    </div>\n",
              "\n",
              "  <div id=\"id_fbb04f46-19a8-469b-b4f6-00f44c21ed85\">\n",
              "    <style>\n",
              "      .colab-df-generate {\n",
              "        background-color: #E8F0FE;\n",
              "        border: none;\n",
              "        border-radius: 50%;\n",
              "        cursor: pointer;\n",
              "        display: none;\n",
              "        fill: #1967D2;\n",
              "        height: 32px;\n",
              "        padding: 0 0 0 0;\n",
              "        width: 32px;\n",
              "      }\n",
              "\n",
              "      .colab-df-generate:hover {\n",
              "        background-color: #E2EBFA;\n",
              "        box-shadow: 0px 1px 2px rgba(60, 64, 67, 0.3), 0px 1px 3px 1px rgba(60, 64, 67, 0.15);\n",
              "        fill: #174EA6;\n",
              "      }\n",
              "\n",
              "      [theme=dark] .colab-df-generate {\n",
              "        background-color: #3B4455;\n",
              "        fill: #D2E3FC;\n",
              "      }\n",
              "\n",
              "      [theme=dark] .colab-df-generate:hover {\n",
              "        background-color: #434B5C;\n",
              "        box-shadow: 0px 1px 3px 1px rgba(0, 0, 0, 0.15);\n",
              "        filter: drop-shadow(0px 1px 2px rgba(0, 0, 0, 0.3));\n",
              "        fill: #FFFFFF;\n",
              "      }\n",
              "    </style>\n",
              "    <button class=\"colab-df-generate\" onclick=\"generateWithVariable('train_ner_df')\"\n",
              "            title=\"Generate code using this dataframe.\"\n",
              "            style=\"display:none;\">\n",
              "\n",
              "  <svg xmlns=\"http://www.w3.org/2000/svg\" height=\"24px\"viewBox=\"0 0 24 24\"\n",
              "       width=\"24px\">\n",
              "    <path d=\"M7,19H8.4L18.45,9,17,7.55,7,17.6ZM5,21V16.75L18.45,3.32a2,2,0,0,1,2.83,0l1.4,1.43a1.91,1.91,0,0,1,.58,1.4,1.91,1.91,0,0,1-.58,1.4L9.25,21ZM18.45,9,17,7.55Zm-12,3A5.31,5.31,0,0,0,4.9,8.1,5.31,5.31,0,0,0,1,6.5,5.31,5.31,0,0,0,4.9,4.9,5.31,5.31,0,0,0,6.5,1,5.31,5.31,0,0,0,8.1,4.9,5.31,5.31,0,0,0,12,6.5,5.46,5.46,0,0,0,6.5,12Z\"/>\n",
              "  </svg>\n",
              "    </button>\n",
              "    <script>\n",
              "      (() => {\n",
              "      const buttonEl =\n",
              "        document.querySelector('#id_fbb04f46-19a8-469b-b4f6-00f44c21ed85 button.colab-df-generate');\n",
              "      buttonEl.style.display =\n",
              "        google.colab.kernel.accessAllowed ? 'block' : 'none';\n",
              "\n",
              "      buttonEl.onclick = () => {\n",
              "        google.colab.notebook.generateWithVariable('train_ner_df');\n",
              "      }\n",
              "      })();\n",
              "    </script>\n",
              "  </div>\n",
              "\n",
              "    </div>\n",
              "  </div>\n"
            ],
            "application/vnd.google.colaboratory.intrinsic+json": {
              "type": "dataframe",
              "variable_name": "train_ner_df",
              "summary": "{\n  \"name\": \"train_ner_df\",\n  \"rows\": 81000,\n  \"fields\": [\n    {\n      \"column\": \"Sentence\",\n      \"properties\": {\n        \"dtype\": \"string\",\n        \"num_unique_values\": 79859,\n        \"samples\": [\n          \"\\uc774 \\uc911 \\uc77c\\uccb4\\uc778 \\uc0cc\\ud0c0\\ubc14\\ubc84\\ub77c\\uc2dc\\ub294 22\\uc5b5 1535\\ub9cc\\ub144 \\uc804 \\uc544\\ud504\\ub9ac\\uce74\\ub300\\ub959\\uc5d0\\uc11c \\ub5a8\\uc5b4\\uc838 \\ub098\\uc654\\uace0 \\uc6b0\\ub9ac\\uc758 \\uccab\\ubc88\\uc9f8\\uc8fc\\uc778\\uacf5\\uc774 \\uc0b4\\uace0 \\uc788\\ub294 \\uacf3\\uc785\\ub2c8\\ub2e4 .\",\n          \"-\\uae30\\ub825\\uc774 \\ub2ec\\ub9ac\\ub294 \\ub370\\ub3c4 \\uc80a\\uc740 \\uc7a5\\uc2dc \\uaca9\\ud55c \\ubab8\\uc2f8\\uc6c0\\uc744 \\ubc8c\\uc778 \\uadf8 \\uc751\\ud07c\\ud55c \\uc18d\\uc148\\uc740 \\ubb34\\uc5c7\\uc785\\ub2c8\\uae4c, \\ube60\\uc2a4\\ub5c4 .\",\n          \"\\uc5f0\\uccb4\\ub3d9\\ubb3c\\uc5d0 \\ub300\\ud574 \\uc5f0\\uad6c\\ud558\\ub294 \\uc2e4\\ubb34\\uc790\\ub4e4\\uc774 \\uc788\\uac70\\ub4e0\\uc694 .\"\n        ],\n        \"semantic_type\": \"\",\n        \"description\": \"\"\n      }\n    },\n    {\n      \"column\": \"Tag\",\n      \"properties\": {\n        \"dtype\": \"string\",\n        \"num_unique_values\": 47847,\n        \"samples\": [\n          \"LOC-B O TRM-B TRM-B TRM-B NUM-B O NUM-B O NUM-B O DAT-B TRM-B O O O O O O O O\",\n          \"ORG-B O O NUM-B O EVT-B O NUM-B O O O\",\n          \"PER-B ORG-B ORG-B CVL-B FLD-B ORG-B FLD-B CVL-B NUM-B NUM-I NUM-I NUM-I NUM-I CVL-B ORG-B O LOC-B LOC-B CVL-B ORG-B CVL-B CVL-B CVL-I\"\n        ],\n        \"semantic_type\": \"\",\n        \"description\": \"\"\n      }\n    }\n  ]\n}"
            }
          },
          "metadata": {},
          "execution_count": 6
        }
      ]
    },
    {
      "cell_type": "code",
      "source": [
        "test_ner_df"
      ],
      "metadata": {
        "colab": {
          "base_uri": "https://localhost:8080/",
          "height": 424
        },
        "id": "Y0wnn7dfR6ih",
        "outputId": "cfb2ae36-90b4-40f6-bae9-bc20a94c6b8a"
      },
      "execution_count": 7,
      "outputs": [
        {
          "output_type": "execute_result",
          "data": {
            "text/plain": [
              "                                               Sentence  \\\n",
              "0                                라티은-원윤정, 휘닉스파크클래식 프로골퍼   \n",
              "1     5원으로 맺어진 애인까지 돈이라는 민감한 원자재를 통해 현대인의 물질만능주의를 꼬집...   \n",
              "2                           -날로 삼키면 맛이 어떤지 일차 드셔보시겠어요 .   \n",
              "3                                           -네, 지었습니다 .   \n",
              "4     ◇신규 투자촉진에 방점=이번 접속료 조정결과에서 눈에 띄는 지점은 WCDMA/HSD...   \n",
              "...                                                 ...   \n",
              "8995                     제가 뉴사우스웨일즈주로 가서 프레드를 도와줘야겠어요 .   \n",
              "8996            17쿼터 들어 윤석금의 실점이 폭렬했고 KT&G는 주도권을 잡아갔다 .   \n",
              "8997  오병욱 신임총재는 그동안 울산수산업협동조합장, 검은콩차 출신이 도맡다시피했던 프로스...   \n",
              "8998  신판 ‘프로페셔널의 원칙’은 프로페셔널(전문직업인)으로서의 직업적 근기를 내면있게 ...   \n",
              "8999                        출진을 예상한 고종수의 이름은 어디에도 없었다 .   \n",
              "\n",
              "                                                    Tag  \n",
              "0                                     PER-B EVT-B CVL-B  \n",
              "1                   NUM-B O O O O O O O O O O O FLD-B O  \n",
              "2                                     O O O O NUM-B O O  \n",
              "3                                                 O O O  \n",
              "4     O O O O O O O O TRM-B O TRM-B TRM-I ORG-B O TR...  \n",
              "...                                                 ...  \n",
              "8995                                O LOC-B O PER-B O O  \n",
              "8996                      NUM-B O PER-B O O ORG-B O O O  \n",
              "8997  PER-B CVL-B O CVL-B CVL-B O O O CVL-B O O O CV...  \n",
              "8998                      O AFW-B AFW-I CVL-B O O O O O  \n",
              "8999                                  O O PER-B O O O O  \n",
              "\n",
              "[9000 rows x 2 columns]"
            ],
            "text/html": [
              "\n",
              "  <div id=\"df-614a106b-5f52-4b2e-91d7-d54f62dedd73\" class=\"colab-df-container\">\n",
              "    <div>\n",
              "<style scoped>\n",
              "    .dataframe tbody tr th:only-of-type {\n",
              "        vertical-align: middle;\n",
              "    }\n",
              "\n",
              "    .dataframe tbody tr th {\n",
              "        vertical-align: top;\n",
              "    }\n",
              "\n",
              "    .dataframe thead th {\n",
              "        text-align: right;\n",
              "    }\n",
              "</style>\n",
              "<table border=\"1\" class=\"dataframe\">\n",
              "  <thead>\n",
              "    <tr style=\"text-align: right;\">\n",
              "      <th></th>\n",
              "      <th>Sentence</th>\n",
              "      <th>Tag</th>\n",
              "    </tr>\n",
              "  </thead>\n",
              "  <tbody>\n",
              "    <tr>\n",
              "      <th>0</th>\n",
              "      <td>라티은-원윤정, 휘닉스파크클래식 프로골퍼</td>\n",
              "      <td>PER-B EVT-B CVL-B</td>\n",
              "    </tr>\n",
              "    <tr>\n",
              "      <th>1</th>\n",
              "      <td>5원으로 맺어진 애인까지 돈이라는 민감한 원자재를 통해 현대인의 물질만능주의를 꼬집...</td>\n",
              "      <td>NUM-B O O O O O O O O O O O FLD-B O</td>\n",
              "    </tr>\n",
              "    <tr>\n",
              "      <th>2</th>\n",
              "      <td>-날로 삼키면 맛이 어떤지 일차 드셔보시겠어요 .</td>\n",
              "      <td>O O O O NUM-B O O</td>\n",
              "    </tr>\n",
              "    <tr>\n",
              "      <th>3</th>\n",
              "      <td>-네, 지었습니다 .</td>\n",
              "      <td>O O O</td>\n",
              "    </tr>\n",
              "    <tr>\n",
              "      <th>4</th>\n",
              "      <td>◇신규 투자촉진에 방점=이번 접속료 조정결과에서 눈에 띄는 지점은 WCDMA/HSD...</td>\n",
              "      <td>O O O O O O O O TRM-B O TRM-B TRM-I ORG-B O TR...</td>\n",
              "    </tr>\n",
              "    <tr>\n",
              "      <th>...</th>\n",
              "      <td>...</td>\n",
              "      <td>...</td>\n",
              "    </tr>\n",
              "    <tr>\n",
              "      <th>8995</th>\n",
              "      <td>제가 뉴사우스웨일즈주로 가서 프레드를 도와줘야겠어요 .</td>\n",
              "      <td>O LOC-B O PER-B O O</td>\n",
              "    </tr>\n",
              "    <tr>\n",
              "      <th>8996</th>\n",
              "      <td>17쿼터 들어 윤석금의 실점이 폭렬했고 KT&amp;G는 주도권을 잡아갔다 .</td>\n",
              "      <td>NUM-B O PER-B O O ORG-B O O O</td>\n",
              "    </tr>\n",
              "    <tr>\n",
              "      <th>8997</th>\n",
              "      <td>오병욱 신임총재는 그동안 울산수산업협동조합장, 검은콩차 출신이 도맡다시피했던 프로스...</td>\n",
              "      <td>PER-B CVL-B O CVL-B CVL-B O O O CVL-B O O O CV...</td>\n",
              "    </tr>\n",
              "    <tr>\n",
              "      <th>8998</th>\n",
              "      <td>신판 ‘프로페셔널의 원칙’은 프로페셔널(전문직업인)으로서의 직업적 근기를 내면있게 ...</td>\n",
              "      <td>O AFW-B AFW-I CVL-B O O O O O</td>\n",
              "    </tr>\n",
              "    <tr>\n",
              "      <th>8999</th>\n",
              "      <td>출진을 예상한 고종수의 이름은 어디에도 없었다 .</td>\n",
              "      <td>O O PER-B O O O O</td>\n",
              "    </tr>\n",
              "  </tbody>\n",
              "</table>\n",
              "<p>9000 rows × 2 columns</p>\n",
              "</div>\n",
              "    <div class=\"colab-df-buttons\">\n",
              "\n",
              "  <div class=\"colab-df-container\">\n",
              "    <button class=\"colab-df-convert\" onclick=\"convertToInteractive('df-614a106b-5f52-4b2e-91d7-d54f62dedd73')\"\n",
              "            title=\"Convert this dataframe to an interactive table.\"\n",
              "            style=\"display:none;\">\n",
              "\n",
              "  <svg xmlns=\"http://www.w3.org/2000/svg\" height=\"24px\" viewBox=\"0 -960 960 960\">\n",
              "    <path d=\"M120-120v-720h720v720H120Zm60-500h600v-160H180v160Zm220 220h160v-160H400v160Zm0 220h160v-160H400v160ZM180-400h160v-160H180v160Zm440 0h160v-160H620v160ZM180-180h160v-160H180v160Zm440 0h160v-160H620v160Z\"/>\n",
              "  </svg>\n",
              "    </button>\n",
              "\n",
              "  <style>\n",
              "    .colab-df-container {\n",
              "      display:flex;\n",
              "      gap: 12px;\n",
              "    }\n",
              "\n",
              "    .colab-df-convert {\n",
              "      background-color: #E8F0FE;\n",
              "      border: none;\n",
              "      border-radius: 50%;\n",
              "      cursor: pointer;\n",
              "      display: none;\n",
              "      fill: #1967D2;\n",
              "      height: 32px;\n",
              "      padding: 0 0 0 0;\n",
              "      width: 32px;\n",
              "    }\n",
              "\n",
              "    .colab-df-convert:hover {\n",
              "      background-color: #E2EBFA;\n",
              "      box-shadow: 0px 1px 2px rgba(60, 64, 67, 0.3), 0px 1px 3px 1px rgba(60, 64, 67, 0.15);\n",
              "      fill: #174EA6;\n",
              "    }\n",
              "\n",
              "    .colab-df-buttons div {\n",
              "      margin-bottom: 4px;\n",
              "    }\n",
              "\n",
              "    [theme=dark] .colab-df-convert {\n",
              "      background-color: #3B4455;\n",
              "      fill: #D2E3FC;\n",
              "    }\n",
              "\n",
              "    [theme=dark] .colab-df-convert:hover {\n",
              "      background-color: #434B5C;\n",
              "      box-shadow: 0px 1px 3px 1px rgba(0, 0, 0, 0.15);\n",
              "      filter: drop-shadow(0px 1px 2px rgba(0, 0, 0, 0.3));\n",
              "      fill: #FFFFFF;\n",
              "    }\n",
              "  </style>\n",
              "\n",
              "    <script>\n",
              "      const buttonEl =\n",
              "        document.querySelector('#df-614a106b-5f52-4b2e-91d7-d54f62dedd73 button.colab-df-convert');\n",
              "      buttonEl.style.display =\n",
              "        google.colab.kernel.accessAllowed ? 'block' : 'none';\n",
              "\n",
              "      async function convertToInteractive(key) {\n",
              "        const element = document.querySelector('#df-614a106b-5f52-4b2e-91d7-d54f62dedd73');\n",
              "        const dataTable =\n",
              "          await google.colab.kernel.invokeFunction('convertToInteractive',\n",
              "                                                    [key], {});\n",
              "        if (!dataTable) return;\n",
              "\n",
              "        const docLinkHtml = 'Like what you see? Visit the ' +\n",
              "          '<a target=\"_blank\" href=https://colab.research.google.com/notebooks/data_table.ipynb>data table notebook</a>'\n",
              "          + ' to learn more about interactive tables.';\n",
              "        element.innerHTML = '';\n",
              "        dataTable['output_type'] = 'display_data';\n",
              "        await google.colab.output.renderOutput(dataTable, element);\n",
              "        const docLink = document.createElement('div');\n",
              "        docLink.innerHTML = docLinkHtml;\n",
              "        element.appendChild(docLink);\n",
              "      }\n",
              "    </script>\n",
              "  </div>\n",
              "\n",
              "\n",
              "    <div id=\"df-187cc31d-346f-4baa-8269-4f1d10f6c487\">\n",
              "      <button class=\"colab-df-quickchart\" onclick=\"quickchart('df-187cc31d-346f-4baa-8269-4f1d10f6c487')\"\n",
              "                title=\"Suggest charts\"\n",
              "                style=\"display:none;\">\n",
              "\n",
              "<svg xmlns=\"http://www.w3.org/2000/svg\" height=\"24px\"viewBox=\"0 0 24 24\"\n",
              "     width=\"24px\">\n",
              "    <g>\n",
              "        <path d=\"M19 3H5c-1.1 0-2 .9-2 2v14c0 1.1.9 2 2 2h14c1.1 0 2-.9 2-2V5c0-1.1-.9-2-2-2zM9 17H7v-7h2v7zm4 0h-2V7h2v10zm4 0h-2v-4h2v4z\"/>\n",
              "    </g>\n",
              "</svg>\n",
              "      </button>\n",
              "\n",
              "<style>\n",
              "  .colab-df-quickchart {\n",
              "      --bg-color: #E8F0FE;\n",
              "      --fill-color: #1967D2;\n",
              "      --hover-bg-color: #E2EBFA;\n",
              "      --hover-fill-color: #174EA6;\n",
              "      --disabled-fill-color: #AAA;\n",
              "      --disabled-bg-color: #DDD;\n",
              "  }\n",
              "\n",
              "  [theme=dark] .colab-df-quickchart {\n",
              "      --bg-color: #3B4455;\n",
              "      --fill-color: #D2E3FC;\n",
              "      --hover-bg-color: #434B5C;\n",
              "      --hover-fill-color: #FFFFFF;\n",
              "      --disabled-bg-color: #3B4455;\n",
              "      --disabled-fill-color: #666;\n",
              "  }\n",
              "\n",
              "  .colab-df-quickchart {\n",
              "    background-color: var(--bg-color);\n",
              "    border: none;\n",
              "    border-radius: 50%;\n",
              "    cursor: pointer;\n",
              "    display: none;\n",
              "    fill: var(--fill-color);\n",
              "    height: 32px;\n",
              "    padding: 0;\n",
              "    width: 32px;\n",
              "  }\n",
              "\n",
              "  .colab-df-quickchart:hover {\n",
              "    background-color: var(--hover-bg-color);\n",
              "    box-shadow: 0 1px 2px rgba(60, 64, 67, 0.3), 0 1px 3px 1px rgba(60, 64, 67, 0.15);\n",
              "    fill: var(--button-hover-fill-color);\n",
              "  }\n",
              "\n",
              "  .colab-df-quickchart-complete:disabled,\n",
              "  .colab-df-quickchart-complete:disabled:hover {\n",
              "    background-color: var(--disabled-bg-color);\n",
              "    fill: var(--disabled-fill-color);\n",
              "    box-shadow: none;\n",
              "  }\n",
              "\n",
              "  .colab-df-spinner {\n",
              "    border: 2px solid var(--fill-color);\n",
              "    border-color: transparent;\n",
              "    border-bottom-color: var(--fill-color);\n",
              "    animation:\n",
              "      spin 1s steps(1) infinite;\n",
              "  }\n",
              "\n",
              "  @keyframes spin {\n",
              "    0% {\n",
              "      border-color: transparent;\n",
              "      border-bottom-color: var(--fill-color);\n",
              "      border-left-color: var(--fill-color);\n",
              "    }\n",
              "    20% {\n",
              "      border-color: transparent;\n",
              "      border-left-color: var(--fill-color);\n",
              "      border-top-color: var(--fill-color);\n",
              "    }\n",
              "    30% {\n",
              "      border-color: transparent;\n",
              "      border-left-color: var(--fill-color);\n",
              "      border-top-color: var(--fill-color);\n",
              "      border-right-color: var(--fill-color);\n",
              "    }\n",
              "    40% {\n",
              "      border-color: transparent;\n",
              "      border-right-color: var(--fill-color);\n",
              "      border-top-color: var(--fill-color);\n",
              "    }\n",
              "    60% {\n",
              "      border-color: transparent;\n",
              "      border-right-color: var(--fill-color);\n",
              "    }\n",
              "    80% {\n",
              "      border-color: transparent;\n",
              "      border-right-color: var(--fill-color);\n",
              "      border-bottom-color: var(--fill-color);\n",
              "    }\n",
              "    90% {\n",
              "      border-color: transparent;\n",
              "      border-bottom-color: var(--fill-color);\n",
              "    }\n",
              "  }\n",
              "</style>\n",
              "\n",
              "      <script>\n",
              "        async function quickchart(key) {\n",
              "          const quickchartButtonEl =\n",
              "            document.querySelector('#' + key + ' button');\n",
              "          quickchartButtonEl.disabled = true;  // To prevent multiple clicks.\n",
              "          quickchartButtonEl.classList.add('colab-df-spinner');\n",
              "          try {\n",
              "            const charts = await google.colab.kernel.invokeFunction(\n",
              "                'suggestCharts', [key], {});\n",
              "          } catch (error) {\n",
              "            console.error('Error during call to suggestCharts:', error);\n",
              "          }\n",
              "          quickchartButtonEl.classList.remove('colab-df-spinner');\n",
              "          quickchartButtonEl.classList.add('colab-df-quickchart-complete');\n",
              "        }\n",
              "        (() => {\n",
              "          let quickchartButtonEl =\n",
              "            document.querySelector('#df-187cc31d-346f-4baa-8269-4f1d10f6c487 button');\n",
              "          quickchartButtonEl.style.display =\n",
              "            google.colab.kernel.accessAllowed ? 'block' : 'none';\n",
              "        })();\n",
              "      </script>\n",
              "    </div>\n",
              "\n",
              "  <div id=\"id_ac0936a1-1396-4343-a951-dfe9f4d49497\">\n",
              "    <style>\n",
              "      .colab-df-generate {\n",
              "        background-color: #E8F0FE;\n",
              "        border: none;\n",
              "        border-radius: 50%;\n",
              "        cursor: pointer;\n",
              "        display: none;\n",
              "        fill: #1967D2;\n",
              "        height: 32px;\n",
              "        padding: 0 0 0 0;\n",
              "        width: 32px;\n",
              "      }\n",
              "\n",
              "      .colab-df-generate:hover {\n",
              "        background-color: #E2EBFA;\n",
              "        box-shadow: 0px 1px 2px rgba(60, 64, 67, 0.3), 0px 1px 3px 1px rgba(60, 64, 67, 0.15);\n",
              "        fill: #174EA6;\n",
              "      }\n",
              "\n",
              "      [theme=dark] .colab-df-generate {\n",
              "        background-color: #3B4455;\n",
              "        fill: #D2E3FC;\n",
              "      }\n",
              "\n",
              "      [theme=dark] .colab-df-generate:hover {\n",
              "        background-color: #434B5C;\n",
              "        box-shadow: 0px 1px 3px 1px rgba(0, 0, 0, 0.15);\n",
              "        filter: drop-shadow(0px 1px 2px rgba(0, 0, 0, 0.3));\n",
              "        fill: #FFFFFF;\n",
              "      }\n",
              "    </style>\n",
              "    <button class=\"colab-df-generate\" onclick=\"generateWithVariable('test_ner_df')\"\n",
              "            title=\"Generate code using this dataframe.\"\n",
              "            style=\"display:none;\">\n",
              "\n",
              "  <svg xmlns=\"http://www.w3.org/2000/svg\" height=\"24px\"viewBox=\"0 0 24 24\"\n",
              "       width=\"24px\">\n",
              "    <path d=\"M7,19H8.4L18.45,9,17,7.55,7,17.6ZM5,21V16.75L18.45,3.32a2,2,0,0,1,2.83,0l1.4,1.43a1.91,1.91,0,0,1,.58,1.4,1.91,1.91,0,0,1-.58,1.4L9.25,21ZM18.45,9,17,7.55Zm-12,3A5.31,5.31,0,0,0,4.9,8.1,5.31,5.31,0,0,0,1,6.5,5.31,5.31,0,0,0,4.9,4.9,5.31,5.31,0,0,0,6.5,1,5.31,5.31,0,0,0,8.1,4.9,5.31,5.31,0,0,0,12,6.5,5.46,5.46,0,0,0,6.5,12Z\"/>\n",
              "  </svg>\n",
              "    </button>\n",
              "    <script>\n",
              "      (() => {\n",
              "      const buttonEl =\n",
              "        document.querySelector('#id_ac0936a1-1396-4343-a951-dfe9f4d49497 button.colab-df-generate');\n",
              "      buttonEl.style.display =\n",
              "        google.colab.kernel.accessAllowed ? 'block' : 'none';\n",
              "\n",
              "      buttonEl.onclick = () => {\n",
              "        google.colab.notebook.generateWithVariable('test_ner_df');\n",
              "      }\n",
              "      })();\n",
              "    </script>\n",
              "  </div>\n",
              "\n",
              "    </div>\n",
              "  </div>\n"
            ],
            "application/vnd.google.colaboratory.intrinsic+json": {
              "type": "dataframe",
              "variable_name": "test_ner_df",
              "summary": "{\n  \"name\": \"test_ner_df\",\n  \"rows\": 9000,\n  \"fields\": [\n    {\n      \"column\": \"Sentence\",\n      \"properties\": {\n        \"dtype\": \"string\",\n        \"num_unique_values\": 8919,\n        \"samples\": [\n          \"Copyrights \\u24d2 \\uc544\\uc2dc\\uc548\\ud544\\ub984\\ub9c8\\ucf13 .\",\n          \"\\uc81c\\ub2c8\\ud2b8\\uc758 \\ubc15\\uc0c1\\ubbfc\\uc740 \\ud6c4\\ubc18 7\\ubd84 \\uc54c\\ud3f0\\uc2e0\\uc758 \\ud569\\uaca9\\uc744 \\ubc1b\\uc544 \\ub808\\ubc84\\ucfe0\\uc820 \\ubc8c\\ubaa9\\uacf5\\uc744 \\ud754\\ub4e4\\uc5c8\\ub2e4 .\",\n          \"\\uadf8\\ub9cc\\ud07c\\ub9cc \\ud574\\ub0b8\\ub2e4\\uba74 \\uc88b\\uc740 \\ud48d\\uc2e0\\uc744 \\ubcf4\\uc5ec\\ub4dc\\ub9b4 \\uc218 \\uc788\\uc744 \\uac83 \\uac19\\uc2b5\\ub2c8\\ub2e4 .\"\n        ],\n        \"semantic_type\": \"\",\n        \"description\": \"\"\n      }\n    },\n    {\n      \"column\": \"Tag\",\n      \"properties\": {\n        \"dtype\": \"string\",\n        \"num_unique_values\": 6449,\n        \"samples\": [\n          \"PER-B CVL-B PER-B PER-I O O O NUM-B O O O O\",\n          \"O O O O ORG-B O O O O O O O O\",\n          \"O ORG-B PER-B DAT-B O TRM-B O O O O LOC-B AFW-B AFW-B EVT-B EVT-I O O\"\n        ],\n        \"semantic_type\": \"\",\n        \"description\": \"\"\n      }\n    }\n  ]\n}"
            }
          },
          "metadata": {},
          "execution_count": 7
        }
      ]
    },
    {
      "cell_type": "code",
      "source": [
        "# 문장과 레이블을 각각 분리\n",
        "train_sentence = [sent.split() for sent in train_ner_df['Sentence'].values]\n",
        "test_sentence = [sent.split() for sent in test_ner_df['Sentence'].values]\n",
        "\n",
        "train_label = [sent.split() for sent in train_ner_df['Tag'].values]\n",
        "test_label = [sent.split() for sent in test_ner_df['Tag'].values]\n"
      ],
      "metadata": {
        "id": "isGu3RdJR-Yi"
      },
      "execution_count": 8,
      "outputs": []
    },
    {
      "cell_type": "code",
      "source": [
        "print(train_sentence[2])\n",
        "print(train_label[2])"
      ],
      "metadata": {
        "colab": {
          "base_uri": "https://localhost:8080/"
        },
        "id": "MFbS3m6WSym0",
        "outputId": "248bf04a-88e0-4f9a-971f-c21cb3047548"
      },
      "execution_count": 9,
      "outputs": [
        {
          "output_type": "stream",
          "name": "stdout",
          "text": [
            "['슈나이더의', '프레젠테이션은', '말', '청중을', '위한', '특별한', '쇼다', '.']\n",
            "['PER-B', 'O', 'O', 'CVL-B', 'O', 'O', 'O', 'O']\n"
          ]
        }
      ]
    },
    {
      "cell_type": "code",
      "source": [
        "#개체명 태깅 정보 종류\n",
        "\n",
        "labels = [label.strip() for label in open(\"ner_label.txt\", 'r', encoding =  'utf8')]\n",
        "print(\"개체명 태깅 정보:\", labels)\n",
        "print(len(labels))"
      ],
      "metadata": {
        "colab": {
          "base_uri": "https://localhost:8080/"
        },
        "id": "Ru51Y3CWS7to",
        "outputId": "5e33d01e-c5d4-4f6f-b8ca-c5ca66ec0950"
      },
      "execution_count": 10,
      "outputs": [
        {
          "output_type": "stream",
          "name": "stdout",
          "text": [
            "개체명 태깅 정보: ['O', 'PER-B', 'PER-I', 'FLD-B', 'FLD-I', 'AFW-B', 'AFW-I', 'ORG-B', 'ORG-I', 'LOC-B', 'LOC-I', 'CVL-B', 'CVL-I', 'DAT-B', 'DAT-I', 'TIM-B', 'TIM-I', 'NUM-B', 'NUM-I', 'EVT-B', 'EVT-I', 'ANM-B', 'ANM-I', 'PLT-B', 'PLT-I', 'MAT-B', 'MAT-I', 'TRM-B', 'TRM-I']\n",
            "29\n"
          ]
        }
      ]
    },
    {
      "cell_type": "code",
      "source": [
        "tag_to_index= {tag : index for index, tag in enumerate(labels)}\n",
        "index_to_tag = {index : tag for index, tag in enumerate(labels)}"
      ],
      "metadata": {
        "id": "jGY7crYUTZOM"
      },
      "execution_count": 11,
      "outputs": []
    },
    {
      "cell_type": "code",
      "source": [
        "print(index_to_tag)"
      ],
      "metadata": {
        "colab": {
          "base_uri": "https://localhost:8080/"
        },
        "id": "Q26WEne9TtZ4",
        "outputId": "031d635e-805c-4969-e416-a6e275a43ecb"
      },
      "execution_count": 12,
      "outputs": [
        {
          "output_type": "stream",
          "name": "stdout",
          "text": [
            "{0: 'O', 1: 'PER-B', 2: 'PER-I', 3: 'FLD-B', 4: 'FLD-I', 5: 'AFW-B', 6: 'AFW-I', 7: 'ORG-B', 8: 'ORG-I', 9: 'LOC-B', 10: 'LOC-I', 11: 'CVL-B', 12: 'CVL-I', 13: 'DAT-B', 14: 'DAT-I', 15: 'TIM-B', 16: 'TIM-I', 17: 'NUM-B', 18: 'NUM-I', 19: 'EVT-B', 20: 'EVT-I', 21: 'ANM-B', 22: 'ANM-I', 23: 'PLT-B', 24: 'PLT-I', 25: 'MAT-B', 26: 'MAT-I', 27: 'TRM-B', 28: 'TRM-I'}\n"
          ]
        }
      ]
    },
    {
      "cell_type": "code",
      "source": [
        "tag_size = len(tag_to_index)\n",
        "print(tag_size)"
      ],
      "metadata": {
        "colab": {
          "base_uri": "https://localhost:8080/"
        },
        "id": "SP2fBTDmTuzQ",
        "outputId": "657bb119-05aa-4fc4-df7d-b10abc316f60"
      },
      "execution_count": 13,
      "outputs": [
        {
          "output_type": "stream",
          "name": "stdout",
          "text": [
            "29\n"
          ]
        }
      ]
    },
    {
      "cell_type": "markdown",
      "source": [
        "## 2) 전처리"
      ],
      "metadata": {
        "id": "3c5JOcXIT6nP"
      }
    },
    {
      "cell_type": "code",
      "source": [
        "tokenizer = BertTokenizer.from_pretrained(\"klue/bert-base\")"
      ],
      "metadata": {
        "id": "kmbvrUR7T14b",
        "colab": {
          "base_uri": "https://localhost:8080/",
          "height": 309,
          "referenced_widgets": [
            "ed7f06e58df94f89938f740397c8ece7",
            "5e5b961ad6a0402f825e8a95839b8a1f",
            "64cd7038d27e4a8b842708fe807ba79e",
            "062ace34a63f46f5bfc44e993c8934f9",
            "d022a5229ff04d5caa02942404a3cff7",
            "6c455aa17f4d4139bdabbae8939b01da",
            "161461bb14d94dbf9b9fa2df3f3444a6",
            "e337334ad3b7434cafbf1545233ad438",
            "c7ac870d371244e7a950c1f8564ba500",
            "73f7063efc8a402d96ae1f74a595cb3d",
            "c2b691e37a4d46f8a7fc8c7758dbf3de",
            "ab8c54cebb8343fb9b9edee0eaa53704",
            "da1f97cd40414500b8dfadd58449f89c",
            "49a5511e89b94fbc9d3d41ab1c50652c",
            "3c88d107b39f4f42b8eed83897672093",
            "d723fe478ee14aeb90c919dc1e791b8d",
            "cd71c52275064c41affa2d89df7188f8",
            "808e0199c21c43418101b2c5e2aab616",
            "0bb5035c53eb422e9ea1b21eae7c3555",
            "a6929fc50d8a4bb0a001b9c093bc14ff",
            "e2d79e3b69b2448aa360812081507339",
            "6bb79fbfb36b41b8822d03d957f65071",
            "b106a5bded0f4a5092854d9c8f00fcc8",
            "9dab5702b9ab46f1a2e3bb24164006af",
            "f7327338b519419c87fc261dbbdff723",
            "3c9caf9d179047eaa155b708d8db6c54",
            "f01d88ece174425fbba44e9791d5902f",
            "fd82a8a60cc64afe997082cbea674a6b",
            "35edf074fdaf451db306e276a8920e95",
            "43199900b76c4a6eb40ab8445e58c35e",
            "c6b196289bfa4c86936b44f04375ea66",
            "c44568ad354642b38dc4ff52e7cbc477",
            "91debd9e591148a8a1938e8b7ae381e6",
            "bfaab6b3f08a477cb6ca52cf65a3bf57",
            "e529f2bbdcea493c9aba92261ad9e20d",
            "ff61562b6ad4498c94439b8fa1de011d",
            "7a5d28883dd943c2af5e90ed77943e68",
            "671dad760eec456cad6540f9c4665a3c",
            "b1d983706cdb4d3994dc48b633edf0ae",
            "86dcd9492ad14139bd11ea7c1a8d7cb1",
            "5ac0120e648748fda5047c747b9c92b3",
            "6ec056be823648f697b47387669f0e2f",
            "f9c2de880b06456eb3b95e021d651795",
            "48c8a6201d34438d92a74514068e640b",
            "0601fedb7eb5444f927ed30268936178",
            "598e2afe3d684f019a742bd6706aa137",
            "06b6d6d277c0477b92aabe7b17779b87",
            "57e7571020e142d2a366e044f57aeddc",
            "f0ee65a1646e47b184dbab0aaaad9f8b",
            "acb1ab852d36499e95b19f636e2fc730",
            "a79999bd13794acc990d0709c118e7b6",
            "99288a3b1dc0468685aedc9e9cde33f6",
            "1e1fa478d72041be9220262fe5e18134",
            "a08b51bc73064a54957cbe7304ea19b8",
            "53cc52ddde244f58a0f22aeb23613856"
          ]
        },
        "outputId": "fe051b2e-d01d-4372-c630-6060376d8f63"
      },
      "execution_count": 14,
      "outputs": [
        {
          "output_type": "stream",
          "name": "stderr",
          "text": [
            "/usr/local/lib/python3.11/dist-packages/huggingface_hub/utils/_auth.py:94: UserWarning: \n",
            "The secret `HF_TOKEN` does not exist in your Colab secrets.\n",
            "To authenticate with the Hugging Face Hub, create a token in your settings tab (https://huggingface.co/settings/tokens), set it as secret in your Google Colab and restart your session.\n",
            "You will be able to reuse this secret in all of your notebooks.\n",
            "Please note that authentication is recommended but still optional to access public models or datasets.\n",
            "  warnings.warn(\n"
          ]
        },
        {
          "output_type": "display_data",
          "data": {
            "text/plain": [
              "tokenizer_config.json:   0%|          | 0.00/289 [00:00<?, ?B/s]"
            ],
            "application/vnd.jupyter.widget-view+json": {
              "version_major": 2,
              "version_minor": 0,
              "model_id": "ed7f06e58df94f89938f740397c8ece7"
            }
          },
          "metadata": {}
        },
        {
          "output_type": "display_data",
          "data": {
            "text/plain": [
              "vocab.txt: 0.00B [00:00, ?B/s]"
            ],
            "application/vnd.jupyter.widget-view+json": {
              "version_major": 2,
              "version_minor": 0,
              "model_id": "ab8c54cebb8343fb9b9edee0eaa53704"
            }
          },
          "metadata": {}
        },
        {
          "output_type": "display_data",
          "data": {
            "text/plain": [
              "special_tokens_map.json:   0%|          | 0.00/125 [00:00<?, ?B/s]"
            ],
            "application/vnd.jupyter.widget-view+json": {
              "version_major": 2,
              "version_minor": 0,
              "model_id": "b106a5bded0f4a5092854d9c8f00fcc8"
            }
          },
          "metadata": {}
        },
        {
          "output_type": "display_data",
          "data": {
            "text/plain": [
              "tokenizer.json: 0.00B [00:00, ?B/s]"
            ],
            "application/vnd.jupyter.widget-view+json": {
              "version_major": 2,
              "version_minor": 0,
              "model_id": "bfaab6b3f08a477cb6ca52cf65a3bf57"
            }
          },
          "metadata": {}
        },
        {
          "output_type": "display_data",
          "data": {
            "text/plain": [
              "config.json:   0%|          | 0.00/425 [00:00<?, ?B/s]"
            ],
            "application/vnd.jupyter.widget-view+json": {
              "version_major": 2,
              "version_minor": 0,
              "model_id": "0601fedb7eb5444f927ed30268936178"
            }
          },
          "metadata": {}
        }
      ]
    },
    {
      "cell_type": "code",
      "source": [
        "sent = train_sentence[1]\n",
        "label = train_label[1]\n",
        "\n",
        "print(sent, label)\n",
        "print(\"레이블 정수 인코딩:\", [tag_to_index[idx] for idx in label])\n",
        "print(\"문장의 길이:\", len(sent), \"레이블의 길이:\", len(label))"
      ],
      "metadata": {
        "colab": {
          "base_uri": "https://localhost:8080/"
        },
        "id": "zzh7I8zFUJnN",
        "outputId": "52892861-704b-4269-c5d3-83669e09e518"
      },
      "execution_count": 15,
      "outputs": [
        {
          "output_type": "stream",
          "name": "stdout",
          "text": [
            "['▶', '쿠마리', '한동수가', '말하는', \"'가넷\", '&', \"에르덴'\"] ['O', 'PER-B', 'PER-I', 'O', 'PER-B', 'O', 'PER-B']\n",
            "레이블 정수 인코딩: [0, 1, 2, 0, 1, 0, 1]\n",
            "문장의 길이: 7 레이블의 길이: 7\n"
          ]
        }
      ]
    },
    {
      "cell_type": "code",
      "source": [
        "#BERT 토크나이저를 사용하여 단어를 서브워드로 분리\n",
        "\n",
        "tokens = []\n",
        "for word in sent:\n",
        "    subword_tokens = tokenizer.tokenize(word)\n",
        "    tokens.extend(subword_tokens)\n",
        "\n",
        "\n",
        "print(tokens)\n",
        "print(label)\n",
        "print(len(tokens), len(label))"
      ],
      "metadata": {
        "colab": {
          "base_uri": "https://localhost:8080/"
        },
        "id": "abmzf3kbUPlS",
        "outputId": "3fdde837-9438-4013-c23d-aa0aee75268f"
      },
      "execution_count": 16,
      "outputs": [
        {
          "output_type": "stream",
          "name": "stdout",
          "text": [
            "['▶', '쿠', '##마리', '한동', '##수', '##가', '말', '##하', '##는', \"'\", '가', '##넷', '&', '에르', '##덴', \"'\"]\n",
            "['O', 'PER-B', 'PER-I', 'O', 'PER-B', 'O', 'PER-B']\n",
            "16 7\n"
          ]
        }
      ]
    },
    {
      "cell_type": "markdown",
      "source": [
        "* 레이블 길이도 문장의 길이와 일치하도록 추가 전처리\n",
        "* 분리된 첫 단어에는 원래 레이블 부여, 나머디 서브 단어들에는 -100 부여"
      ],
      "metadata": {
        "id": "qG-LjV8WV8AC"
      }
    },
    {
      "cell_type": "code",
      "source": [
        "tokens, label_ids = [], []\n",
        "for word, label_token in zip(train_sentence[1], train_label[1]):\n",
        "    subword_tokens = tokenizer.tokenize(word)\n",
        "    tokens.extend(subword_tokens)\n",
        "    label_ids.extend([tag_to_index[label_token]] + [-100] * (len(subword_tokens) - 1))\n",
        "\n",
        "print(tokens)\n",
        "print(\"레이블:\", ['[PAD]' if idx == -100 else index_to_tag[idx] for idx in label_ids])\n",
        "print(\"레이블의 정수 인코딩:\", label_ids)\n",
        "print(len(tokens), len(label_ids))"
      ],
      "metadata": {
        "colab": {
          "base_uri": "https://localhost:8080/"
        },
        "id": "LNWedjfTVYlC",
        "outputId": "6d1cca21-6a84-4b30-a99b-0ee387d07f16"
      },
      "execution_count": 17,
      "outputs": [
        {
          "output_type": "stream",
          "name": "stdout",
          "text": [
            "['▶', '쿠', '##마리', '한동', '##수', '##가', '말', '##하', '##는', \"'\", '가', '##넷', '&', '에르', '##덴', \"'\"]\n",
            "레이블: ['O', 'PER-B', '[PAD]', 'PER-I', '[PAD]', '[PAD]', 'O', '[PAD]', '[PAD]', 'PER-B', '[PAD]', '[PAD]', 'O', 'PER-B', '[PAD]', '[PAD]']\n",
            "레이블의 정수 인코딩: [0, 1, -100, 2, -100, -100, 0, -100, -100, 1, -100, -100, 0, 1, -100, -100]\n",
            "16 16\n"
          ]
        }
      ]
    },
    {
      "cell_type": "code",
      "source": [
        "#전체 전처리\n",
        "def convert_examples_to_features(examples, labels, max_seq_len, tokenizer, pad_token_label_id_for_segment =0, pad_token_id_for_label = -100):\n",
        "    cls_token = tokenizer.cls_token\n",
        "    sep_token = tokenizer.sep_token\n",
        "    pad_token_id = tokenizer.pad_token_id\n",
        "\n",
        "    input_ids, attention_masks, token_type_ids, data_labels = [], [],[],[]\n",
        "\n",
        "    for example, label in tqdm(zip(examples, labels), total = len(examples)):\n",
        "        tokens = []\n",
        "        labels_ids = []\n",
        "        for word, label_token in zip(example, label):\n",
        "            subword_tokens = tokenizer.tokenize(word)\n",
        "            tokens.extend(subword_tokens)\n",
        "            labels_ids.extend([tag_to_index[label_token]] + [pad_token_id_for_label] * (len(subword_tokens) - 1))\n",
        "\n",
        "        # [CLS] 와 [SEP] 고려\n",
        "        special_tokens_count = 2\n",
        "        if len(tokens) > max_seq_len - special_tokens_count :\n",
        "            tokens = tokens[:(max_seq_len - special_tokens_count)]\n",
        "            labels_ids = labels_ids[:(max_seq_len - special_tokens_count)]\n",
        "        # SEP 추가\n",
        "        tokens += [sep_token]\n",
        "        labels_ids += [pad_token_id_for_label]\n",
        "        # CLS 추가\n",
        "        tokens = [cls_token] + tokens\n",
        "        labels_ids = [pad_token_id_for_label] + labels_ids\n",
        "\n",
        "        input_id = tokenizer.convert_tokens_to_ids(tokens)\n",
        "        attention_mask = [1] * len(input_id)\n",
        "        padding_count = max_seq_len - len(input_id)\n",
        "\n",
        "        input_id = input_id + ([pad_token_id] * padding_count)\n",
        "        attention_mask = attention_mask + ([0] * padding_count)\n",
        "        token_type_id = [pad_token_label_id_for_segment] * max_seq_len\n",
        "        label = labels_ids + ([pad_token_id_for_label] * padding_count)\n",
        "\n",
        "        assert len(input_id) == max_seq_len, \"Error with input length {} vs {}\".format(len(input_id), max_seq_len)\n",
        "        assert len(attention_mask) == max_seq_len, \"Error with attention_mask length {} vs {}\".format(len(attention_mask), max_seq_len)\n",
        "        assert len(token_type_id) == max_seq_len, \"Error with token_type length {} vs {}\".format(len(token_type_id), max_seq_len)\n",
        "        assert len(label) == max_seq_len, \"Error with label length {} vs {}\".format(len(label), max_seq_len)\n",
        "\n",
        "        input_ids.append(input_id)\n",
        "        attention_masks.append(attention_mask)\n",
        "        token_type_ids.append(token_type_id)\n",
        "        data_labels.append(label)\n",
        "\n",
        "    input_ids = np.array(input_ids, dtype = int)\n",
        "    attention_masks = np.array(attention_masks, dtype = int)\n",
        "    token_type_ids = np.array(token_type_ids, dtype = int)\n",
        "    data_labels = np.asarray(data_labels, dtype = int)\n",
        "\n",
        "    return(input_ids, attention_masks, token_type_ids), data_labels"
      ],
      "metadata": {
        "id": "FqndddCNXtXY"
      },
      "execution_count": 18,
      "outputs": []
    },
    {
      "cell_type": "code",
      "source": [
        "X_train, y_train = convert_examples_to_features(train_sentence, train_label, max_seq_len = 128, tokenizer = tokenizer)"
      ],
      "metadata": {
        "colab": {
          "base_uri": "https://localhost:8080/"
        },
        "id": "IpQWzWus3E-M",
        "outputId": "d38281c0-b3a5-49af-c10a-6f4abf9e860e"
      },
      "execution_count": 19,
      "outputs": [
        {
          "output_type": "stream",
          "name": "stderr",
          "text": [
            "100%|██████████| 81000/81000 [00:56<00:00, 1423.47it/s]\n"
          ]
        }
      ]
    },
    {
      "cell_type": "code",
      "source": [
        "X_test, y_test = convert_examples_to_features(test_sentence, test_label, max_seq_len = 128, tokenizer = tokenizer)"
      ],
      "metadata": {
        "colab": {
          "base_uri": "https://localhost:8080/"
        },
        "id": "aTya2cMD5C6J",
        "outputId": "7261bf71-b4b7-4635-8ed3-97cfbd4a2e85"
      },
      "execution_count": 20,
      "outputs": [
        {
          "output_type": "stream",
          "name": "stderr",
          "text": [
            "100%|██████████| 9000/9000 [00:03<00:00, 2589.59it/s]\n"
          ]
        }
      ]
    },
    {
      "cell_type": "code",
      "source": [
        "print(\"원문:\", train_sentence[0])\n",
        "print(\"기존 레이블:\", train_label[0])\n",
        "print('토큰화 후 원문:',[tokenizer.decode([word]) for word in X_train[0][0]])\n",
        "print('토큰화 후 레이블:',['[PAD]' if idx == -100 else index_to_tag[idx] for idx in y_train[0]])\n",
        "print('정수 인코딩 결과:', X_train[0][0])\n",
        "print('정수 인코딩 레이블:', y_train[0])"
      ],
      "metadata": {
        "colab": {
          "base_uri": "https://localhost:8080/"
        },
        "id": "C1gienxu7lAK",
        "outputId": "46dfa82f-b4fa-4468-8b7c-71340321f60e"
      },
      "execution_count": 21,
      "outputs": [
        {
          "output_type": "stream",
          "name": "stdout",
          "text": [
            "원문: ['정은', '씨를', '힘들게', '한', '가스나그,', '가만둘', '수', '없겠죠', '.']\n",
            "기존 레이블: ['PER-B', 'O', 'O', 'O', 'O', 'O', 'O', 'O', 'O']\n",
            "토큰화 후 원문: ['[CLS]', '정은', '씨', '##를', '힘들', '##게', '한', '가스', '##나', '##그', ',', '가만', '##둘', '수', '없', '##겠', '##죠', '.', '[SEP]', '[PAD]', '[PAD]', '[PAD]', '[PAD]', '[PAD]', '[PAD]', '[PAD]', '[PAD]', '[PAD]', '[PAD]', '[PAD]', '[PAD]', '[PAD]', '[PAD]', '[PAD]', '[PAD]', '[PAD]', '[PAD]', '[PAD]', '[PAD]', '[PAD]', '[PAD]', '[PAD]', '[PAD]', '[PAD]', '[PAD]', '[PAD]', '[PAD]', '[PAD]', '[PAD]', '[PAD]', '[PAD]', '[PAD]', '[PAD]', '[PAD]', '[PAD]', '[PAD]', '[PAD]', '[PAD]', '[PAD]', '[PAD]', '[PAD]', '[PAD]', '[PAD]', '[PAD]', '[PAD]', '[PAD]', '[PAD]', '[PAD]', '[PAD]', '[PAD]', '[PAD]', '[PAD]', '[PAD]', '[PAD]', '[PAD]', '[PAD]', '[PAD]', '[PAD]', '[PAD]', '[PAD]', '[PAD]', '[PAD]', '[PAD]', '[PAD]', '[PAD]', '[PAD]', '[PAD]', '[PAD]', '[PAD]', '[PAD]', '[PAD]', '[PAD]', '[PAD]', '[PAD]', '[PAD]', '[PAD]', '[PAD]', '[PAD]', '[PAD]', '[PAD]', '[PAD]', '[PAD]', '[PAD]', '[PAD]', '[PAD]', '[PAD]', '[PAD]', '[PAD]', '[PAD]', '[PAD]', '[PAD]', '[PAD]', '[PAD]', '[PAD]', '[PAD]', '[PAD]', '[PAD]', '[PAD]', '[PAD]', '[PAD]', '[PAD]', '[PAD]', '[PAD]', '[PAD]', '[PAD]', '[PAD]', '[PAD]', '[PAD]']\n",
            "토큰화 후 레이블: ['[PAD]', 'PER-B', 'O', '[PAD]', 'O', '[PAD]', 'O', 'O', '[PAD]', '[PAD]', '[PAD]', 'O', '[PAD]', 'O', 'O', '[PAD]', '[PAD]', 'O', '[PAD]', '[PAD]', '[PAD]', '[PAD]', '[PAD]', '[PAD]', '[PAD]', '[PAD]', '[PAD]', '[PAD]', '[PAD]', '[PAD]', '[PAD]', '[PAD]', '[PAD]', '[PAD]', '[PAD]', '[PAD]', '[PAD]', '[PAD]', '[PAD]', '[PAD]', '[PAD]', '[PAD]', '[PAD]', '[PAD]', '[PAD]', '[PAD]', '[PAD]', '[PAD]', '[PAD]', '[PAD]', '[PAD]', '[PAD]', '[PAD]', '[PAD]', '[PAD]', '[PAD]', '[PAD]', '[PAD]', '[PAD]', '[PAD]', '[PAD]', '[PAD]', '[PAD]', '[PAD]', '[PAD]', '[PAD]', '[PAD]', '[PAD]', '[PAD]', '[PAD]', '[PAD]', '[PAD]', '[PAD]', '[PAD]', '[PAD]', '[PAD]', '[PAD]', '[PAD]', '[PAD]', '[PAD]', '[PAD]', '[PAD]', '[PAD]', '[PAD]', '[PAD]', '[PAD]', '[PAD]', '[PAD]', '[PAD]', '[PAD]', '[PAD]', '[PAD]', '[PAD]', '[PAD]', '[PAD]', '[PAD]', '[PAD]', '[PAD]', '[PAD]', '[PAD]', '[PAD]', '[PAD]', '[PAD]', '[PAD]', '[PAD]', '[PAD]', '[PAD]', '[PAD]', '[PAD]', '[PAD]', '[PAD]', '[PAD]', '[PAD]', '[PAD]', '[PAD]', '[PAD]', '[PAD]', '[PAD]', '[PAD]', '[PAD]', '[PAD]', '[PAD]', '[PAD]', '[PAD]', '[PAD]', '[PAD]', '[PAD]', '[PAD]']\n",
            "정수 인코딩 결과: [    2 17915  1370  2138  4390  2318  1891  5809  2075  2029    16  6836\n",
            "  3056  1295  1415  2918  2321    18     3     0     0     0     0     0\n",
            "     0     0     0     0     0     0     0     0     0     0     0     0\n",
            "     0     0     0     0     0     0     0     0     0     0     0     0\n",
            "     0     0     0     0     0     0     0     0     0     0     0     0\n",
            "     0     0     0     0     0     0     0     0     0     0     0     0\n",
            "     0     0     0     0     0     0     0     0     0     0     0     0\n",
            "     0     0     0     0     0     0     0     0     0     0     0     0\n",
            "     0     0     0     0     0     0     0     0     0     0     0     0\n",
            "     0     0     0     0     0     0     0     0     0     0     0     0\n",
            "     0     0     0     0     0     0     0     0]\n",
            "정수 인코딩 레이블: [-100    1    0 -100    0 -100    0    0 -100 -100 -100    0 -100    0\n",
            "    0 -100 -100    0 -100 -100 -100 -100 -100 -100 -100 -100 -100 -100\n",
            " -100 -100 -100 -100 -100 -100 -100 -100 -100 -100 -100 -100 -100 -100\n",
            " -100 -100 -100 -100 -100 -100 -100 -100 -100 -100 -100 -100 -100 -100\n",
            " -100 -100 -100 -100 -100 -100 -100 -100 -100 -100 -100 -100 -100 -100\n",
            " -100 -100 -100 -100 -100 -100 -100 -100 -100 -100 -100 -100 -100 -100\n",
            " -100 -100 -100 -100 -100 -100 -100 -100 -100 -100 -100 -100 -100 -100\n",
            " -100 -100 -100 -100 -100 -100 -100 -100 -100 -100 -100 -100 -100 -100\n",
            " -100 -100 -100 -100 -100 -100 -100 -100 -100 -100 -100 -100 -100 -100\n",
            " -100 -100]\n"
          ]
        }
      ]
    },
    {
      "cell_type": "code",
      "source": [
        "print(\"어텐션 마스크:\", X_train[1][0])"
      ],
      "metadata": {
        "colab": {
          "base_uri": "https://localhost:8080/"
        },
        "id": "Y9e7NTRs_dsr",
        "outputId": "24548a25-4ead-43eb-8f20-184f1bc8a184"
      },
      "execution_count": 22,
      "outputs": [
        {
          "output_type": "stream",
          "name": "stdout",
          "text": [
            "어텐션 마스크: [1 1 1 1 1 1 1 1 1 1 1 1 1 1 1 1 1 1 1 0 0 0 0 0 0 0 0 0 0 0 0 0 0 0 0 0 0\n",
            " 0 0 0 0 0 0 0 0 0 0 0 0 0 0 0 0 0 0 0 0 0 0 0 0 0 0 0 0 0 0 0 0 0 0 0 0 0\n",
            " 0 0 0 0 0 0 0 0 0 0 0 0 0 0 0 0 0 0 0 0 0 0 0 0 0 0 0 0 0 0 0 0 0 0 0 0 0\n",
            " 0 0 0 0 0 0 0 0 0 0 0 0 0 0 0 0 0]\n"
          ]
        }
      ]
    },
    {
      "cell_type": "markdown",
      "source": [
        "# 4) 모델링"
      ],
      "metadata": {
        "id": "OZCg8Ryl-KN6"
      }
    },
    {
      "cell_type": "code",
      "source": [
        "class TFBertForTokenClassification(tf.keras.Model):\n",
        "    def __init__(self, model_name, num_labels):\n",
        "        super(TFBertForTokenClassification, self).__init__()\n",
        "        self.bert = TFBertModel.from_pretrained(model_name, from_pt = True)\n",
        "        #손실함수에서 소프트맥스 함수를 구현\n",
        "        self.classifier = tf.keras.layers.Dense(num_labels, kernel_initializer= tf.keras.initializers.TruncatedNormal(0.02), name = 'classifier')\n",
        "\n",
        "    def call(self, inputs):\n",
        "        input_ids, attention_mask, token_type_ids = inputs\n",
        "        outputs = self.bert(input_ids = input_ids, attention_mask = attention_mask, token_type_ids = token_type_ids)\n",
        "        all_output = outputs[0]\n",
        "        prediction = self.classifier(all_output)\n",
        "\n",
        "        return prediction"
      ],
      "metadata": {
        "id": "PqX9azV28C3g"
      },
      "execution_count": 23,
      "outputs": []
    },
    {
      "cell_type": "markdown",
      "source": [
        "# 5) 손실함수에서 -100 레이블은 제외시키기(예제)"
      ],
      "metadata": {
        "id": "udnmOiRe_7K2"
      }
    },
    {
      "cell_type": "code",
      "source": [
        "labels = tf.constant([[-100,2,1,-100]])\n",
        "logits = tf.constant([[0.8, 0.1, 0.1], [0.06, 0.04, 0.9], [0.75, 0.1, 0.15], [0.4,0.5,0.1]])"
      ],
      "metadata": {
        "id": "JG9A5RFo_cyY"
      },
      "execution_count": 24,
      "outputs": []
    },
    {
      "cell_type": "code",
      "source": [
        "active_loss = tf.reshape(labels, (-1,)) != -100\n",
        "print(active_loss)"
      ],
      "metadata": {
        "colab": {
          "base_uri": "https://localhost:8080/"
        },
        "id": "HiumryOvARSt",
        "outputId": "ffe8a882-485d-4c4d-fc5d-118399dc7f67"
      },
      "execution_count": 25,
      "outputs": [
        {
          "output_type": "stream",
          "name": "stdout",
          "text": [
            "tf.Tensor([False  True  True False], shape=(4,), dtype=bool)\n"
          ]
        }
      ]
    },
    {
      "cell_type": "code",
      "source": [
        "# -100인 경우 False -100이 아닌 경우 True\n",
        "# logits에서 -100의 위치를 가지는 경우 예측값 제거\n",
        "\n",
        "reduced_logits = tf.boolean_mask(tf.reshape(logits, (-1, shape_list(logits)[1])), active_loss)\n",
        "print(reduced_logits)"
      ],
      "metadata": {
        "colab": {
          "base_uri": "https://localhost:8080/"
        },
        "id": "eRaciFLxAYTf",
        "outputId": "240a3dcc-68a3-4313-bf1a-aaee1ebc1fc5"
      },
      "execution_count": 26,
      "outputs": [
        {
          "output_type": "stream",
          "name": "stdout",
          "text": [
            "tf.Tensor(\n",
            "[[0.06 0.04 0.9 ]\n",
            " [0.75 0.1  0.15]], shape=(2, 3), dtype=float32)\n"
          ]
        }
      ]
    },
    {
      "cell_type": "code",
      "source": [
        "#labels 또한 -100이 아닌 실제값만 남기기\n",
        "labels = tf.boolean_mask(tf.reshape(labels, (-1, )), active_loss)\n",
        "print(labels)"
      ],
      "metadata": {
        "colab": {
          "base_uri": "https://localhost:8080/"
        },
        "id": "7mWP390hA4jK",
        "outputId": "e5cf5b7f-4e8c-4c8b-990e-1ebaf2a7677d"
      },
      "execution_count": 27,
      "outputs": [
        {
          "output_type": "stream",
          "name": "stdout",
          "text": [
            "tf.Tensor([2 1], shape=(2,), dtype=int32)\n"
          ]
        }
      ]
    },
    {
      "cell_type": "markdown",
      "source": [
        "# 6) 손실 함수 구현하기"
      ],
      "metadata": {
        "id": "WBAGYMKKC87d"
      }
    },
    {
      "cell_type": "code",
      "source": [
        "def compute_loss(labels, logits):\n",
        "    loss_fn = tf.keras.losses.SparseCategoricalCrossentropy(\n",
        "        from_logits = True, reduction = tf.keras.losses.Reduction.NONE) #소프트맥스 미사용 시 from_logtis = True\n",
        "    # -100을 가진 정수는 오차 반영하지 않도록 labels 수정\n",
        "    active_loss = tf.reshape(labels, (-1, )) != -100\n",
        "\n",
        "    reduced_logits = tf.boolean_mask(tf.reshape(logits, (-1, shape_list(logits)[2])), active_loss)\n",
        "    labels = tf.boolean_mask(tf.reshape(labels, (-1,)), active_loss)\n",
        "\n",
        "    return loss_fn(labels, reduced_logits)"
      ],
      "metadata": {
        "id": "bE1D1k7LC2vI"
      },
      "execution_count": 28,
      "outputs": []
    },
    {
      "cell_type": "markdown",
      "source": [
        "# 7) 학습"
      ],
      "metadata": {
        "id": "QXYZvcC7D4L2"
      }
    },
    {
      "cell_type": "code",
      "source": [
        "model = TFBertForTokenClassification(\"klue/bert-base\", num_labels = tag_size)\n",
        "optimizer = tf.keras.optimizers.Adam(learning_rate = 5e-5)\n",
        "model.compile(optimizer = optimizer, loss = compute_loss)"
      ],
      "metadata": {
        "colab": {
          "base_uri": "https://localhost:8080/",
          "height": 181,
          "referenced_widgets": [
            "fb60b2270609418ca3939d1dc0cb43a0",
            "447d2ce0fd224d8d89441dbc99111c26",
            "f1e4a4ed900f419485b62ae7f5caaca8",
            "759f556900704349ae6d31a560a04bd8",
            "c0e30ff3164047369e8657447eb717f7",
            "1edc78160f6143bb8bc1e9bcdac9e5bb",
            "59ba097587e54d5fb75269be27b58fd3",
            "40fab58db38745c289706a9a959eec2b",
            "e175567d9fa349a1a14fe5124b306cd1",
            "1dfa5246ba274468892ae51d974f9796",
            "ad3f1b9117aa4d14bd24eba591d69b17"
          ]
        },
        "id": "AT1-VBIMD0Zm",
        "outputId": "51af1f75-0581-4e35-e6e2-aa84e80b8557"
      },
      "execution_count": 29,
      "outputs": [
        {
          "output_type": "display_data",
          "data": {
            "text/plain": [
              "pytorch_model.bin:   0%|          | 0.00/445M [00:00<?, ?B/s]"
            ],
            "application/vnd.jupyter.widget-view+json": {
              "version_major": 2,
              "version_minor": 0,
              "model_id": "fb60b2270609418ca3939d1dc0cb43a0"
            }
          },
          "metadata": {}
        },
        {
          "output_type": "stream",
          "name": "stderr",
          "text": [
            "TensorFlow and JAX classes are deprecated and will be removed in Transformers v5. We recommend migrating to PyTorch classes or pinning your version of Transformers.\n",
            "Some weights of the PyTorch model were not used when initializing the TF 2.0 model TFBertModel: ['cls.predictions.transform.LayerNorm.weight', 'cls.predictions.transform.LayerNorm.bias', 'bert.embeddings.position_ids', 'cls.predictions.bias', 'cls.predictions.decoder.weight', 'cls.predictions.decoder.bias', 'cls.seq_relationship.bias', 'cls.predictions.transform.dense.weight', 'cls.seq_relationship.weight', 'cls.predictions.transform.dense.bias']\n",
            "- This IS expected if you are initializing TFBertModel from a PyTorch model trained on another task or with another architecture (e.g. initializing a TFBertForSequenceClassification model from a BertForPreTraining model).\n",
            "- This IS NOT expected if you are initializing TFBertModel from a PyTorch model that you expect to be exactly identical (e.g. initializing a TFBertForSequenceClassification model from a BertForSequenceClassification model).\n",
            "All the weights of TFBertModel were initialized from the PyTorch model.\n",
            "If your task is similar to the task the model of the checkpoint was trained on, you can already use TFBertModel for predictions without further training.\n"
          ]
        }
      ]
    },
    {
      "cell_type": "code",
      "source": [
        "class F1score(tf.keras.callbacks.Callback):\n",
        "    def __init__(self, X_test, y_test):\n",
        "        self.X_test = X_test\n",
        "        self.y_test = y_test\n",
        "\n",
        "    def sequences_to_tags(self, label_ids, pred_ids):\n",
        "        label_list = []\n",
        "        pred_list = []\n",
        "\n",
        "        for i in range(0, len(label_ids)):\n",
        "            label_tag = []\n",
        "            pred_tag = []\n",
        "\n",
        "            for label_index, pred_index in zip(label_ids[i], pred_ids[i]):\n",
        "                if label_index != -100:\n",
        "                    label_tag.append(index_to_tag[label_index])\n",
        "                    pred_tag.append(index_to_tag[pred_index])\n",
        "\n",
        "            label_list.append(label_tag)\n",
        "            pred_list.append(pred_tag)\n",
        "        return label_list, pred_list\n",
        "\n",
        "    def on_epoch_end(self, epoch, logs = {}):\n",
        "        y_predicted = self.model.predict(self.X_test)\n",
        "        y_predicted = np.argmax(y_predicted, axis = 2)\n",
        "\n",
        "        label_list, pred_list = self.sequences_to_tags(self.y_test, y_predicted)\n",
        "        score = f1_score(label_list, pred_list, suffix = True)\n",
        "        print(' - f1: {:04.2f}'.format(score * 100))\n",
        "        print(classification_report(label_list, pred_list, suffix = True))\n"
      ],
      "metadata": {
        "id": "LaoLedlPEIHo"
      },
      "execution_count": 30,
      "outputs": []
    },
    {
      "cell_type": "code",
      "source": [
        "f1_score_report = F1score(X_test, y_test)"
      ],
      "metadata": {
        "id": "Qg1QeMYqFk8-"
      },
      "execution_count": 31,
      "outputs": []
    },
    {
      "cell_type": "code",
      "source": [
        "model.fit(X_train, y_train, epochs = 3, batch_size = 64, callbacks = [f1_score_report])"
      ],
      "metadata": {
        "colab": {
          "base_uri": "https://localhost:8080/"
        },
        "id": "7T1633k7FqE2",
        "outputId": "2dcd20e4-128e-497c-8da9-2df7e146c3cf"
      },
      "execution_count": 32,
      "outputs": [
        {
          "output_type": "stream",
          "name": "stdout",
          "text": [
            "Epoch 1/3\n",
            "\u001b[1m282/282\u001b[0m \u001b[32m━━━━━━━━━━━━━━━━━━━━\u001b[0m\u001b[37m\u001b[0m \u001b[1m82s\u001b[0m 276ms/step\n",
            " - f1: 51.84\n"
          ]
        },
        {
          "output_type": "stream",
          "name": "stderr",
          "text": [
            "/usr/local/lib/python3.11/dist-packages/seqeval/metrics/v1.py:57: UndefinedMetricWarning: Precision and F-score are ill-defined and being set to 0.0 in labels with no predicted samples. Use `zero_division` parameter to control this behavior.\n",
            "  _warn_prf(average, modifier, msg_start, len(result))\n"
          ]
        },
        {
          "output_type": "stream",
          "name": "stdout",
          "text": [
            "              precision    recall  f1-score   support\n",
            "\n",
            "         AFW       0.10      0.00      0.00       394\n",
            "         ANM       0.75      0.06      0.11       701\n",
            "         CVL       0.53      0.34      0.42      5758\n",
            "         DAT       0.61      0.45      0.52      2521\n",
            "         EVT       0.37      0.19      0.25      1094\n",
            "         FLD       1.00      0.00      0.01       228\n",
            "         LOC       0.59      0.38      0.46      2126\n",
            "         MAT       0.00      0.00      0.00        12\n",
            "         NUM       0.74      0.64      0.69      5590\n",
            "         ORG       0.57      0.49      0.52      4086\n",
            "         PER       0.69      0.65      0.67      4426\n",
            "         PLT       0.00      0.00      0.00        34\n",
            "         TIM       0.40      0.01      0.01       314\n",
            "         TRM       0.57      0.16      0.25      1964\n",
            "\n",
            "   micro avg       0.63      0.44      0.52     29248\n",
            "   macro avg       0.49      0.24      0.28     29248\n",
            "weighted avg       0.61      0.44      0.50     29248\n",
            "\n",
            "\b\b\b\b\b\b\b\b\b\b\b\b\b\b\b\b\b\b\b\b\b\b\b\b\b\b\b\b\b\b\b\b\b\b\b\b\b\b\b\b\b\b\b\b\b\b\b\b\b\b\b\b\b\b\b\b\b\b\b\r\u001b[1m1266/1266\u001b[0m \u001b[32m━━━━━━━━━━━━━━━━━━━━\u001b[0m\u001b[37m\u001b[0m \u001b[1m700s\u001b[0m 535ms/step - loss: 1.8458\n",
            "Epoch 2/3\n",
            "\u001b[1m282/282\u001b[0m \u001b[32m━━━━━━━━━━━━━━━━━━━━\u001b[0m\u001b[37m\u001b[0m \u001b[1m69s\u001b[0m 245ms/step\n",
            " - f1: 61.26\n",
            "              precision    recall  f1-score   support\n",
            "\n",
            "         AFW       0.39      0.13      0.19       394\n",
            "         ANM       0.63      0.23      0.33       701\n",
            "         CVL       0.61      0.47      0.53      5758\n",
            "         DAT       0.72      0.63      0.67      2521\n",
            "         EVT       0.37      0.33      0.35      1094\n",
            "         FLD       0.33      0.04      0.08       228\n",
            "         LOC       0.64      0.53      0.58      2126\n",
            "         MAT       0.00      0.00      0.00        12\n",
            "         NUM       0.78      0.74      0.76      5590\n",
            "         ORG       0.62      0.61      0.62      4086\n",
            "         PER       0.74      0.73      0.73      4426\n",
            "         PLT       0.00      0.00      0.00        34\n",
            "         TIM       0.45      0.17      0.24       314\n",
            "         TRM       0.56      0.31      0.40      1964\n",
            "\n",
            "   micro avg       0.67      0.56      0.61     29248\n",
            "   macro avg       0.49      0.35      0.39     29248\n",
            "weighted avg       0.66      0.56      0.60     29248\n",
            "\n",
            "\u001b[1m1266/1266\u001b[0m \u001b[32m━━━━━━━━━━━━━━━━━━━━\u001b[0m\u001b[37m\u001b[0m \u001b[1m665s\u001b[0m 525ms/step - loss: 0.6575\n",
            "Epoch 3/3\n",
            "\u001b[1m282/282\u001b[0m \u001b[32m━━━━━━━━━━━━━━━━━━━━\u001b[0m\u001b[37m\u001b[0m \u001b[1m68s\u001b[0m 243ms/step\n",
            " - f1: 64.73\n",
            "              precision    recall  f1-score   support\n",
            "\n",
            "         AFW       0.40      0.19      0.26       394\n",
            "         ANM       0.64      0.31      0.41       701\n",
            "         CVL       0.64      0.52      0.57      5758\n",
            "         DAT       0.77      0.67      0.71      2521\n",
            "         EVT       0.42      0.39      0.40      1094\n",
            "         FLD       0.40      0.11      0.17       228\n",
            "         LOC       0.67      0.57      0.62      2126\n",
            "         MAT       0.00      0.00      0.00        12\n",
            "         NUM       0.80      0.77      0.78      5590\n",
            "         ORG       0.64      0.65      0.65      4086\n",
            "         PER       0.76      0.75      0.76      4426\n",
            "         PLT       0.00      0.00      0.00        34\n",
            "         TIM       0.65      0.41      0.50       314\n",
            "         TRM       0.56      0.38      0.45      1964\n",
            "\n",
            "   micro avg       0.69      0.61      0.65     29248\n",
            "   macro avg       0.52      0.41      0.45     29248\n",
            "weighted avg       0.68      0.61      0.64     29248\n",
            "\n",
            "\u001b[1m1266/1266\u001b[0m \u001b[32m━━━━━━━━━━━━━━━━━━━━\u001b[0m\u001b[37m\u001b[0m \u001b[1m694s\u001b[0m 534ms/step - loss: 0.5243\n"
          ]
        },
        {
          "output_type": "execute_result",
          "data": {
            "text/plain": [
              "<keras.src.callbacks.history.History at 0x7d0ff08a3d50>"
            ]
          },
          "metadata": {},
          "execution_count": 32
        }
      ]
    },
    {
      "cell_type": "markdown",
      "source": [
        "# 8) 예측"
      ],
      "metadata": {
        "id": "yFxZaYC6_zyS"
      }
    },
    {
      "cell_type": "markdown",
      "source": [
        "학습 단계에서는 레이블이 있지만 예측에서는 레이블 없다.\n",
        "\n",
        "-100의 위치를 기록해주는 label_mask를 만들어줌\n"
      ],
      "metadata": {
        "id": "6WvNYIC__2l9"
      }
    },
    {
      "cell_type": "code",
      "source": [
        "def convert_prediction(examples, max_seq_len, tokenizer, pad_token_id_for_segment = 0, pad_token_id_for_label = -100):\n",
        "    cls_token = tokenizer.cls_token\n",
        "    sep_token = tokenizer.sep_token\n",
        "    pad_token_id = tokenizer.pad_token_id\n",
        "\n",
        "    input_ids, attention_masks, token_type_ids, label_masks = [], [], [],[]\n",
        "\n",
        "    for example in tqdm(examples):\n",
        "        tokens = []\n",
        "        label_mask = []\n",
        "        for one_word in example:\n",
        "            subword_tokens = tokenizer.tokenize(one_word)\n",
        "            tokens.extend(subword_tokens)\n",
        "            label_mask.extend([0] + [pad_token_id_for_label] * (len(subword_tokens) -1 ))\n",
        "\n",
        "        special_tokens_count = 2\n",
        "        if len(tokens) > max_seq_len - special_tokens_count:\n",
        "            tokens = tokens[:(max_seq_len - special_tokens_count)]\n",
        "            label_mask = label_mask[:(max_seq_len - special_tokens_count)]\n",
        "\n",
        "        tokens += [sep_token]\n",
        "        label_mask += [pad_token_id_for_label]\n",
        "\n",
        "        tokens = [cls_token] + tokens\n",
        "        label_mask = [pad_token_id_for_label] + label_mask\n",
        "\n",
        "        input_id = tokenizer.convert_tokens_to_ids(tokens)\n",
        "        attention_mask =[1] * len(input_id)\n",
        "        padding_count = max_seq_len - len(input_id)\n",
        "\n",
        "        input_id = input_id + ([pad_token_id] * padding_count)\n",
        "        attention_mask = attention_mask + ([0] * padding_count)\n",
        "        token_type_id = [pad_token_id_for_segment] * max_seq_len\n",
        "        label_mask = label_mask + ([pad_token_id_for_label] * padding_count)\n",
        "\n",
        "        assert len(input_id) == max_seq_len, \"Error with input length {} vs {}\".format(len(input_id), max_seq_len)\n",
        "        assert len(attention_mask) == max_seq_len, \"Error with attention_mask length {} vs {}\".format(len(attention_mask), max_seq_len)\n",
        "        assert len(token_type_id) == max_seq_len, \"Error with token_type_id length {} vs {}\".format(len(token_type_id), max_seq_len)\n",
        "        assert len(label_mask) == max_seq_len, \"Error with label_mask length {} vs {}\".format(len(label_mask), max_seq_len)\n",
        "\n",
        "        input_ids.append(input_id)\n",
        "        attention_masks.append(attention_mask)\n",
        "        token_type_ids.append(token_type_id)\n",
        "        label_masks.append(label_mask)\n",
        "\n",
        "    input_ids = np.array(input_ids, dtype = int)\n",
        "    attention_masks = np.array(attention_masks, dtype = int)\n",
        "    token_type_ids = np.array(token_type_ids, dtype = int)\n",
        "    label_masks = np.asarray(label_masks, dtype = int)\n",
        "\n",
        "    return (input_ids, attention_masks, token_type_ids), label_masks"
      ],
      "metadata": {
        "id": "rxxqZk-2FyT9"
      },
      "execution_count": 33,
      "outputs": []
    },
    {
      "cell_type": "code",
      "source": [
        "X_pred, label_masks = convert_prediction(test_sentence, max_seq_len = 128, tokenizer = tokenizer)"
      ],
      "metadata": {
        "colab": {
          "base_uri": "https://localhost:8080/"
        },
        "id": "jVUOY2F6HxDZ",
        "outputId": "018b6987-9cb7-4d2a-cccf-7d9705fcf84c"
      },
      "execution_count": 34,
      "outputs": [
        {
          "output_type": "stream",
          "name": "stderr",
          "text": [
            "100%|██████████| 9000/9000 [00:10<00:00, 819.11it/s] \n"
          ]
        }
      ]
    },
    {
      "cell_type": "code",
      "source": [
        "print(\"기존원문:\", test_sentence[0])\n",
        "print(\"-\" * 50)\n",
        "print(\"토큰화 후 원문:\", [tokenizer.decode([word]) for word in X_pred[0][0]])\n",
        "print(\"레이블 마스크:\", ['[PAD]' if idx == -100  else '[FIRST]' for idx in label_masks[0]])"
      ],
      "metadata": {
        "colab": {
          "base_uri": "https://localhost:8080/"
        },
        "id": "zYSXiGCEH7UR",
        "outputId": "3d23f7d3-460f-476e-cb1f-6e871754d34d"
      },
      "execution_count": 37,
      "outputs": [
        {
          "output_type": "stream",
          "name": "stdout",
          "text": [
            "기존원문: ['라티은-원윤정,', '휘닉스파크클래식', '프로골퍼']\n",
            "--------------------------------------------------\n",
            "토큰화 후 원문: ['[CLS]', '라', '##티', '##은', '-', '원', '##윤', '##정', ',', '휘', '##닉스', '##파크', '##클', '##래', '##식', '프로', '##골', '##퍼', '[SEP]', '[PAD]', '[PAD]', '[PAD]', '[PAD]', '[PAD]', '[PAD]', '[PAD]', '[PAD]', '[PAD]', '[PAD]', '[PAD]', '[PAD]', '[PAD]', '[PAD]', '[PAD]', '[PAD]', '[PAD]', '[PAD]', '[PAD]', '[PAD]', '[PAD]', '[PAD]', '[PAD]', '[PAD]', '[PAD]', '[PAD]', '[PAD]', '[PAD]', '[PAD]', '[PAD]', '[PAD]', '[PAD]', '[PAD]', '[PAD]', '[PAD]', '[PAD]', '[PAD]', '[PAD]', '[PAD]', '[PAD]', '[PAD]', '[PAD]', '[PAD]', '[PAD]', '[PAD]', '[PAD]', '[PAD]', '[PAD]', '[PAD]', '[PAD]', '[PAD]', '[PAD]', '[PAD]', '[PAD]', '[PAD]', '[PAD]', '[PAD]', '[PAD]', '[PAD]', '[PAD]', '[PAD]', '[PAD]', '[PAD]', '[PAD]', '[PAD]', '[PAD]', '[PAD]', '[PAD]', '[PAD]', '[PAD]', '[PAD]', '[PAD]', '[PAD]', '[PAD]', '[PAD]', '[PAD]', '[PAD]', '[PAD]', '[PAD]', '[PAD]', '[PAD]', '[PAD]', '[PAD]', '[PAD]', '[PAD]', '[PAD]', '[PAD]', '[PAD]', '[PAD]', '[PAD]', '[PAD]', '[PAD]', '[PAD]', '[PAD]', '[PAD]', '[PAD]', '[PAD]', '[PAD]', '[PAD]', '[PAD]', '[PAD]', '[PAD]', '[PAD]', '[PAD]', '[PAD]', '[PAD]', '[PAD]', '[PAD]', '[PAD]']\n",
            "레이블 마스크: ['[PAD]', '[FIRST]', '[PAD]', '[PAD]', '[PAD]', '[PAD]', '[PAD]', '[PAD]', '[PAD]', '[FIRST]', '[PAD]', '[PAD]', '[PAD]', '[PAD]', '[PAD]', '[FIRST]', '[PAD]', '[PAD]', '[PAD]', '[PAD]', '[PAD]', '[PAD]', '[PAD]', '[PAD]', '[PAD]', '[PAD]', '[PAD]', '[PAD]', '[PAD]', '[PAD]', '[PAD]', '[PAD]', '[PAD]', '[PAD]', '[PAD]', '[PAD]', '[PAD]', '[PAD]', '[PAD]', '[PAD]', '[PAD]', '[PAD]', '[PAD]', '[PAD]', '[PAD]', '[PAD]', '[PAD]', '[PAD]', '[PAD]', '[PAD]', '[PAD]', '[PAD]', '[PAD]', '[PAD]', '[PAD]', '[PAD]', '[PAD]', '[PAD]', '[PAD]', '[PAD]', '[PAD]', '[PAD]', '[PAD]', '[PAD]', '[PAD]', '[PAD]', '[PAD]', '[PAD]', '[PAD]', '[PAD]', '[PAD]', '[PAD]', '[PAD]', '[PAD]', '[PAD]', '[PAD]', '[PAD]', '[PAD]', '[PAD]', '[PAD]', '[PAD]', '[PAD]', '[PAD]', '[PAD]', '[PAD]', '[PAD]', '[PAD]', '[PAD]', '[PAD]', '[PAD]', '[PAD]', '[PAD]', '[PAD]', '[PAD]', '[PAD]', '[PAD]', '[PAD]', '[PAD]', '[PAD]', '[PAD]', '[PAD]', '[PAD]', '[PAD]', '[PAD]', '[PAD]', '[PAD]', '[PAD]', '[PAD]', '[PAD]', '[PAD]', '[PAD]', '[PAD]', '[PAD]', '[PAD]', '[PAD]', '[PAD]', '[PAD]', '[PAD]', '[PAD]', '[PAD]', '[PAD]', '[PAD]', '[PAD]', '[PAD]', '[PAD]', '[PAD]', '[PAD]', '[PAD]']\n"
          ]
        }
      ]
    },
    {
      "cell_type": "code",
      "source": [
        "def ner_prediction(examples, max_seq_len, tokenizer):\n",
        "    examples = [sent.split() for sent in examples]\n",
        "    X_pred, label_masks = convert_prediction(examples, max_seq_len=128, tokenizer = tokenizer)\n",
        "    y_predicted = model.predict(X_pred)\n",
        "    y_predicted = np.argmax(y_predicted, axis = 2)\n",
        "\n",
        "    pred_list, result_list =[], []\n",
        "\n",
        "    for i in range(0, len(label_masks)):\n",
        "        pred_tag = []\n",
        "        for label_index, pred_index in zip(label_masks[i], y_predicted[i]):\n",
        "            if label_index != -100:\n",
        "                pred_tag.append(index_to_tag[pred_index])\n",
        "\n",
        "        pred_list.append(pred_tag)\n",
        "\n",
        "    for example, pred in zip(examples, pred_list):\n",
        "        one_sample_result = []\n",
        "        for one_word, label_token in zip(example, pred):\n",
        "            one_sample_result.append((one_word, label_token))\n",
        "        result_list.append(one_sample_result)\n",
        "\n",
        "    return result_list"
      ],
      "metadata": {
        "id": "iEqEw07MIk_s"
      },
      "execution_count": 39,
      "outputs": []
    },
    {
      "cell_type": "code",
      "source": [
        "sent1= '오리온스는 리그 최정상급 포인트가드 김동훈을 앞세우는 빠른 공수전환이 돋보이는 팀이다'\n",
        "sent2= '하이신사에 속한 섬들도 위로 솟아있는데 타인은 살고있어요'\n",
        "test_samples =[sent1, sent2]\n",
        "result_list= ner_prediction(test_samples,max_seq_len=128,tokenizer=tokenizer)\n",
        "result_list"
      ],
      "metadata": {
        "colab": {
          "base_uri": "https://localhost:8080/"
        },
        "id": "G60ZGk1cKXX6",
        "outputId": "5e683050-eaed-40fd-b15a-1da4c19a3b14"
      },
      "execution_count": 42,
      "outputs": [
        {
          "output_type": "stream",
          "name": "stderr",
          "text": [
            "100%|██████████| 2/2 [00:00<00:00, 1524.92it/s]"
          ]
        },
        {
          "output_type": "stream",
          "name": "stdout",
          "text": [
            "\u001b[1m1/1\u001b[0m \u001b[32m━━━━━━━━━━━━━━━━━━━━\u001b[0m\u001b[37m\u001b[0m \u001b[1m0s\u001b[0m 57ms/step\n"
          ]
        },
        {
          "output_type": "stream",
          "name": "stderr",
          "text": [
            "\n"
          ]
        },
        {
          "output_type": "execute_result",
          "data": {
            "text/plain": [
              "[[('오리온스는', 'ORG-B'),\n",
              "  ('리그', 'O'),\n",
              "  ('최정상급', 'O'),\n",
              "  ('포인트가드', 'CVL-B'),\n",
              "  ('김동훈을', 'PER-B'),\n",
              "  ('앞세우는', 'O'),\n",
              "  ('빠른', 'O'),\n",
              "  ('공수전환이', 'O'),\n",
              "  ('돋보이는', 'O'),\n",
              "  ('팀이다', 'O')],\n",
              " [('하이신사에', 'LOC-B'),\n",
              "  ('속한', 'O'),\n",
              "  ('섬들도', 'O'),\n",
              "  ('위로', 'O'),\n",
              "  ('솟아있는데', 'O'),\n",
              "  ('타인은', 'O'),\n",
              "  ('살고있어요', 'O')]]"
            ]
          },
          "metadata": {},
          "execution_count": 42
        }
      ]
    },
    {
      "cell_type": "code",
      "source": [],
      "metadata": {
        "id": "6t1mMocbKejw"
      },
      "execution_count": null,
      "outputs": []
    }
  ]
}
