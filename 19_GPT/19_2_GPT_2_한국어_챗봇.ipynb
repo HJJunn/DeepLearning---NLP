{
 "nbformat": 4,
 "nbformat_minor": 0,
 "metadata": {
  "colab": {
   "provenance": [],
   "gpuType": "T4"
  },
  "kernelspec": {
   "name": "python3",
   "display_name": "Python 3"
  },
  "language_info": {
   "name": "python"
  },
  "accelerator": "GPU"
 },
 "cells": [
  {
   "cell_type": "code",
   "source": [
    "!pip install transformers"
   ],
   "metadata": {
    "colab": {
     "base_uri": "https://localhost:8080/"
    },
    "id": "Yh3V5q_FLSBB",
    "outputId": "fe9170fc-2076-4986-8c59-d54cd2a38011"
   },
   "execution_count": 1,
   "outputs": [
    {
     "output_type": "stream",
     "name": "stdout",
     "text": [
      "Requirement already satisfied: transformers in /usr/local/lib/python3.11/dist-packages (4.53.0)\n",
      "Requirement already satisfied: filelock in /usr/local/lib/python3.11/dist-packages (from transformers) (3.18.0)\n",
      "Requirement already satisfied: huggingface-hub<1.0,>=0.30.0 in /usr/local/lib/python3.11/dist-packages (from transformers) (0.33.1)\n",
      "Requirement already satisfied: numpy>=1.17 in /usr/local/lib/python3.11/dist-packages (from transformers) (2.0.2)\n",
      "Requirement already satisfied: packaging>=20.0 in /usr/local/lib/python3.11/dist-packages (from transformers) (24.2)\n",
      "Requirement already satisfied: pyyaml>=5.1 in /usr/local/lib/python3.11/dist-packages (from transformers) (6.0.2)\n",
      "Requirement already satisfied: regex!=2019.12.17 in /usr/local/lib/python3.11/dist-packages (from transformers) (2024.11.6)\n",
      "Requirement already satisfied: requests in /usr/local/lib/python3.11/dist-packages (from transformers) (2.32.3)\n",
      "Requirement already satisfied: tokenizers<0.22,>=0.21 in /usr/local/lib/python3.11/dist-packages (from transformers) (0.21.2)\n",
      "Requirement already satisfied: safetensors>=0.4.3 in /usr/local/lib/python3.11/dist-packages (from transformers) (0.5.3)\n",
      "Requirement already satisfied: tqdm>=4.27 in /usr/local/lib/python3.11/dist-packages (from transformers) (4.67.1)\n",
      "Requirement already satisfied: fsspec>=2023.5.0 in /usr/local/lib/python3.11/dist-packages (from huggingface-hub<1.0,>=0.30.0->transformers) (2025.3.2)\n",
      "Requirement already satisfied: typing-extensions>=3.7.4.3 in /usr/local/lib/python3.11/dist-packages (from huggingface-hub<1.0,>=0.30.0->transformers) (4.14.0)\n",
      "Requirement already satisfied: hf-xet<2.0.0,>=1.1.2 in /usr/local/lib/python3.11/dist-packages (from huggingface-hub<1.0,>=0.30.0->transformers) (1.1.5)\n",
      "Requirement already satisfied: charset-normalizer<4,>=2 in /usr/local/lib/python3.11/dist-packages (from requests->transformers) (3.4.2)\n",
      "Requirement already satisfied: idna<4,>=2.5 in /usr/local/lib/python3.11/dist-packages (from requests->transformers) (3.10)\n",
      "Requirement already satisfied: urllib3<3,>=1.21.1 in /usr/local/lib/python3.11/dist-packages (from requests->transformers) (2.4.0)\n",
      "Requirement already satisfied: certifi>=2017.4.17 in /usr/local/lib/python3.11/dist-packages (from requests->transformers) (2025.6.15)\n"
     ]
    }
   ]
  },
  {
   "cell_type": "code",
   "execution_count": 2,
   "metadata": {
    "id": "fos5fWUCLBNy"
   },
   "outputs": [],
   "source": [
    "import tensorflow as tf\n",
    "from transformers import AutoTokenizer\n",
    "from transformers import TFGPT2LMHeadModel"
   ]
  },
  {
   "cell_type": "code",
   "source": [
    "tokenizer = AutoTokenizer.from_pretrained('skt/kogpt2-base-v2', bos_token='</s>', eos_token='</s>', pad_token='<pad>')\n",
    "model = TFGPT2LMHeadModel.from_pretrained('skt/kogpt2-base-v2', from_pt=True)"
   ],
   "metadata": {
    "id": "MiY10DJMLTiV",
    "colab": {
     "base_uri": "https://localhost:8080/"
    },
    "outputId": "4a0e65c0-452b-4e3d-cfe5-0234f7a835ab"
   },
   "execution_count": 3,
   "outputs": [
    {
     "output_type": "stream",
     "name": "stderr",
     "text": [
      "/usr/local/lib/python3.11/dist-packages/huggingface_hub/utils/_auth.py:94: UserWarning: \n",
      "The secret `HF_TOKEN` does not exist in your Colab secrets.\n",
      "To authenticate with the Hugging Face Hub, create a token in your settings tab (https://huggingface.co/settings/tokens), set it as secret in your Google Colab and restart your session.\n",
      "You will be able to reuse this secret in all of your notebooks.\n",
      "Please note that authentication is recommended but still optional to access public models or datasets.\n",
      "  warnings.warn(\n",
      "TensorFlow and JAX classes are deprecated and will be removed in Transformers v5. We recommend migrating to PyTorch classes or pinning your version of Transformers.\n",
      "Some weights of the PyTorch model were not used when initializing the TF 2.0 model TFGPT2LMHeadModel: ['transformer.h.3.attn.masked_bias', 'transformer.h.9.attn.masked_bias', 'transformer.h.0.attn.masked_bias', 'transformer.h.11.attn.masked_bias', 'transformer.h.2.attn.masked_bias', 'transformer.h.10.attn.masked_bias', 'transformer.h.7.attn.masked_bias', 'transformer.h.8.attn.masked_bias', 'transformer.h.1.attn.masked_bias', 'transformer.h.4.attn.masked_bias', 'lm_head.weight', 'transformer.h.5.attn.masked_bias', 'transformer.h.6.attn.masked_bias']\n",
      "- This IS expected if you are initializing TFGPT2LMHeadModel from a PyTorch model trained on another task or with another architecture (e.g. initializing a TFBertForSequenceClassification model from a BertForPreTraining model).\n",
      "- This IS NOT expected if you are initializing TFGPT2LMHeadModel from a PyTorch model that you expect to be exactly identical (e.g. initializing a TFBertForSequenceClassification model from a BertForSequenceClassification model).\n",
      "All the weights of TFGPT2LMHeadModel were initialized from the PyTorch model.\n",
      "If your task is similar to the task the model of the checkpoint was trained on, you can already use TFGPT2LMHeadModel for predictions without further training.\n"
     ]
    }
   ]
  },
  {
   "cell_type": "code",
   "source": [
    "print(tokenizer.bos_token_id) #문장 시작 토큰\n",
    "print(tokenizer.eos_token_id) #문장 종료 토큰\n",
    "print(tokenizer.pad_token_id)\n",
    "print('-' * 10)\n",
    "print(tokenizer.decode(1))\n",
    "print(tokenizer.decode(2))#User\n",
    "print(tokenizer.decode(3))\n",
    "print(tokenizer.decode(4))#System\n"
   ],
   "metadata": {
    "id": "SU82dqAMLp5I",
    "colab": {
     "base_uri": "https://localhost:8080/"
    },
    "outputId": "775919b2-e387-4cf5-f651-80cd3551bd74"
   },
   "execution_count": 4,
   "outputs": [
    {
     "output_type": "stream",
     "name": "stdout",
     "text": [
      "1\n",
      "1\n",
      "3\n",
      "----------\n",
      "</s>\n",
      "<usr>\n",
      "<pad>\n",
      "<sys>\n"
     ]
    }
   ]
  },
  {
   "cell_type": "markdown",
   "source": [
    "# 2) 챗봇 데이터 로드"
   ],
   "metadata": {
    "id": "3e9ZQIvUMIFS"
   }
  },
  {
   "cell_type": "code",
   "source": [
    "import pandas as pd\n",
    "import tqdm\n",
    "import urllib.request"
   ],
   "metadata": {
    "id": "yqrdpiYoLxgk"
   },
   "execution_count": 5,
   "outputs": []
  },
  {
   "cell_type": "code",
   "source": [
    "urllib.request.urlretrieve(\"https://raw.githubusercontent.com/songys/Chatbot_data/master/ChatbotData.csv\", filename=\"ChatBotData.csv\")\n",
    "train_data = pd.read_csv('ChatBotData.csv')\n",
    "print('챗봇 데이터의 개수 :', len(train_data))\n"
   ],
   "metadata": {
    "id": "xJu2M1zNMP7m",
    "colab": {
     "base_uri": "https://localhost:8080/"
    },
    "outputId": "ccb79a0f-dbe6-4f8e-ce1a-9947cfd04be4"
   },
   "execution_count": 6,
   "outputs": [
    {
     "output_type": "stream",
     "name": "stdout",
     "text": [
      "챗봇 데이터의 개수 : 11823\n"
     ]
    }
   ]
  },
  {
   "cell_type": "markdown",
   "source": [
    "# 3) 챗봇 데이터 전처리"
   ],
   "metadata": {
    "id": "6ebg4Kl9MTlG"
   }
  },
  {
   "cell_type": "code",
   "source": [
    "def get_chat_data():\n",
    "  for question, answer in zip(train_data.Q.to_list(), train_data.A.to_list()):\n",
    "    bos_token = [tokenizer.bos_token_id]\n",
    "    eos_token = [tokenizer.eos_token_id]\n",
    "    sent = tokenizer.encode('<usr>' + question + '<sys>' + answer)\n",
    "    yield bos_token + sent + eos_token"
   ],
   "metadata": {
    "id": "YmJtGN0KMSee"
   },
   "execution_count": 7,
   "outputs": []
  },
  {
   "cell_type": "code",
   "source": [
    "batch_size = 32"
   ],
   "metadata": {
    "id": "_e5nokT_Zk8B"
   },
   "execution_count": 8,
   "outputs": []
  },
  {
   "cell_type": "code",
   "source": [
    "dataset = tf.data.Dataset.from_generator(get_chat_data, output_types=tf.int32, output_shapes = (None,))"
   ],
   "metadata": {
    "id": "twJrDjRLZgRT"
   },
   "execution_count": 9,
   "outputs": []
  },
  {
   "cell_type": "code",
   "source": [
    "dataset = dataset.padded_batch(batch_size=batch_size, padded_shapes=(None,), padding_values=tokenizer.pad_token_id)"
   ],
   "metadata": {
    "id": "MPUOTBa0M18-"
   },
   "execution_count": 10,
   "outputs": []
  },
  {
   "cell_type": "code",
   "source": [
    "for batch in dataset.take(1):\n",
    "    print (batch)"
   ],
   "metadata": {
    "id": "ImezqYTCNqvu",
    "colab": {
     "base_uri": "https://localhost:8080/"
    },
    "outputId": "83983f73-f745-4b3e-a27b-eff98d863d55"
   },
   "execution_count": 11,
   "outputs": [
    {
     "output_type": "stream",
     "name": "stdout",
     "text": [
      "tf.Tensor(\n",
      "[[    1     2  9349  7888   739  7318   376     4 12557  6824  9108  9028\n",
      "   7098 25856     1     3     3     3     3     3     3     3     3     3\n",
      "      3     3     3     3     3     3]\n",
      " [    1     2  9020  8263  7497 10192 11615  8210  8006     4 12422  8711\n",
      "   9535  7483 12521     1     3     3     3     3     3     3     3     3\n",
      "      3     3     3     3     3     3]\n",
      " [    1     2  9085  7597   395  8149 10624  7397 24224 13358  7182     4\n",
      "  12079  8135 16899  9677  8234   389     1     3     3     3     3     3\n",
      "      3     3     3     3     3     3]\n",
      " [    1     2  9085  7597   395  8149  9465 10624  7397 24224 13358  7182\n",
      "      4 12079  8135 16899  9677  8234   389     1     3     3     3     3\n",
      "      3     3     3     3     3     3]\n",
      " [    1     2  9943   422   418  9327  8702  7098     4  9847 16912 18328\n",
      "   8671  7415  8263  8234   389     1     3     3     3     3     3     3\n",
      "      3     3     3     3     3     3]\n",
      " [    1     2  9815   410 21249 10174  6824  8210  8006     4  9427 11056\n",
      "  11594 10137 10556  9266  8711 25856     1     3     3     3     3     3\n",
      "      3     3     3     3     3     3]\n",
      " [    1     2  9815   410 21249  9183  7249     4  9427 11056 11594 10137\n",
      "  10556  9266  8711 25856     1     3     3     3     3     3     3     3\n",
      "      3     3     3     3     3     3]\n",
      " [    1     2  9815 37655  9622  8619 10401  9183  9328   216     4  9443\n",
      "  29490  9846  9788  9341 25856     1     3     3     3     3     3     3\n",
      "      3     3     3     3     3     3]\n",
      " [    1     2  9815 37655 10135  7066 39488  9122  9050  9668 16576  9277\n",
      "   9044     4 15148 19658  9098  7652  7801 25856     1     3     3     3\n",
      "      3     3     3     3     3     3]\n",
      " [    1     2  9815 37655 10135  7066  7692 11848  9042  7019 20284  7254\n",
      "      4 15148 19658  9098  7652  7801 25856     1     3     3     3     3\n",
      "      3     3     3     3     3     3]\n",
      " [    1     2  9815 37655 18381  9063  7489 29615  9054 15730 29452  8030\n",
      "      4 33254 10300 23775 25856     1     3     3     3     3     3     3\n",
      "      3     3     3     3     3     3]\n",
      " [    1     2 19319 48397  8711     4  9022 19858 27031  9122  8046 25856\n",
      "      1     3     3     3     3     3     3     3     3     3     3     3\n",
      "      3     3     3     3     3     3]\n",
      " [    1     2 19319 46651 27481 48397  8711     4  9022 19858 27031  9122\n",
      "   8046 25856     1     3     3     3     3     3     3     3     3     3\n",
      "      3     3     3     3     3     3]\n",
      " [    1     2 19319  8135  9749 10225  6866  9677  7182     4  9749  9589\n",
      "  20540  7801 25856     1     3     3     3     3     3     3     3     3\n",
      "      3     3     3     3     3     3]\n",
      " [    1     2 17230 17429  9160  8098     4 10855  8135  9427 35813  9122\n",
      "   8046 25856     1     3     3     3     3     3     3     3     3     3\n",
      "      3     3     3     3     3     3]\n",
      " [    1     2 47980 22227 26992  7058  7182     4 26992  8137  9376  8737\n",
      "   8236  7801 25856     1     3     3     3     3     3     3     3     3\n",
      "      3     3     3     3     3     3]\n",
      " [    1     2 26629 23799   739  8308  7304 10174  8707     4  9105  7788\n",
      "  16346  6889  9282  8400  7601  9078  7801 25856     1     3     3     3\n",
      "      3     3     3     3     3     3]\n",
      " [    1     2 15983  7673 24648  6889 25880  8006     4 16173 15582 46439\n",
      "  35557  6889 12252  7801 25856     1     3     3     3     3     3     3\n",
      "      3     3     3     3     3     3]\n",
      " [    1     2 15983  7673 24648 15010 10926  6853 27511     4 16173 15582\n",
      "  46439 35557  6889 12252  7801 25856     1     3     3     3     3     3\n",
      "      3     3     3     3     3     3]\n",
      " [    1     2 15983  7692 12371  9564 16409  9016     4  9536  9271  9052\n",
      "   9267 27545  8711  7661 25856     1     3     3     3     3     3     3\n",
      "      3     3     3     3     3     3]\n",
      " [    1     2 15983  7692 36684  7220  9244  6958  9539  7478  6872  8006\n",
      "      4 46503  9024  7801  8084   376     1     3     3     3     3     3\n",
      "      3     3     3     3     3     3]\n",
      " [    1     2 15983  7692 26873  9050  7177     4  9536  9271  9052  9267\n",
      "  27545  8711  7661 25856     1     3     3     3     3     3     3     3\n",
      "      3     3     3     3     3     3]\n",
      " [    1     2  9278 20861  9193   739  7570 47804     4  9278 20861 32392\n",
      "  10070 10828 25856  9105 12114  9094 12191 12700 31279  8702 38887 15148\n",
      "  35441  9328  9109  7801 25856     1]\n",
      " [    1     2 10464 12079  9028  9926  9651  8006     4  9586 27820  9432\n",
      "  23100 21833 14247 29462  7801 25856     1     3     3     3     3     3\n",
      "      3     3     3     3     3     3]\n",
      " [    1     2 10464 12079 17577     4  9586 27820  9432 23100 21833 14247\n",
      "  29462  7801 25856     1     3     3     3     3     3     3     3     3\n",
      "      3     3     3     3     3     3]\n",
      " [    1     2 10464 12079 42076  9340   406     4  9586 27820  9432 23100\n",
      "  21833 14247 29462  7801 25856     1     3     3     3     3     3     3\n",
      "      3     3     3     3     3     3]\n",
      " [    1     2 10464  9341   406     4  9265  7470  9659  9701 11389 11676\n",
      "   7177   387  9265  7380 11120  8711 10764 11389  9728 12245 22238  9341\n",
      "   8084     1     3     3     3     3]\n",
      " [    1     2 10464 10143  9666   739  8244     4  9265  7470  9659  9701\n",
      "  11389 11676  7177   387  9265  7380 11120  8711 10764 11389  9728 12245\n",
      "  22238  9341  8084     1     3     3]\n",
      " [    1     2 10464 18264 12079  6826  9016     4  9267 25772  8267 25012\n",
      "   9069  6872  7098 25856     1     3     3     3     3     3     3     3\n",
      "      3     3     3     3     3     3]\n",
      " [    1     2 10464  7285 10056 25799     4  9265  7235 25856     1     3\n",
      "      3     3     3     3     3     3     3     3     3     3     3     3\n",
      "      3     3     3     3     3     3]\n",
      " [    1     2 10464  9136  7380  9071  7513  8711     4  9054  7285  9117\n",
      "   7703  7788 11120  8705 14553 10667  8718  7055  7661 25856     1     3\n",
      "      3     3     3     3     3     3]\n",
      " [    1     2 10464  9136  7380  9071  7513  8711  8210  8006     4  9054\n",
      "   7285  9117  7703  7788 11120  8705 14553 10667  8718  7055  7661 25856\n",
      "      1     3     3     3     3     3]], shape=(32, 30), dtype=int32)\n"
     ]
    }
   ]
  },
  {
   "cell_type": "code",
   "source": [
    "print(tokenizer.decode(batch[0]))"
   ],
   "metadata": {
    "id": "aCxolZl3N0ry",
    "colab": {
     "base_uri": "https://localhost:8080/"
    },
    "outputId": "7c4def65-9d5d-4e89-8818-e51aed329388"
   },
   "execution_count": 12,
   "outputs": [
    {
     "output_type": "stream",
     "name": "stdout",
     "text": [
      "</s><usr> 12시 땡!<sys> 하루가 또 가네요.</s><pad><pad><pad><pad><pad><pad><pad><pad><pad><pad><pad><pad><pad><pad><pad>\n"
     ]
    }
   ]
  },
  {
   "cell_type": "markdown",
   "source": [
    "# 4) 챗봇 학습하기"
   ],
   "metadata": {
    "id": "zcIM0Vn-OB7P"
   }
  },
  {
   "cell_type": "code",
   "source": [
    "adam = tf.keras.optimizers.Adam(learning_rate=3e-5, epsilon=1e-08)"
   ],
   "metadata": {
    "id": "5uGES3uFZtRN"
   },
   "execution_count": 13,
   "outputs": []
  },
  {
   "cell_type": "code",
   "source": [
    "steps = len(train_data) // batch_size + 1\n",
    "print(steps)"
   ],
   "metadata": {
    "colab": {
     "base_uri": "https://localhost:8080/"
    },
    "id": "RBxdHy1_Ztz8",
    "outputId": "9fd9f644-b07c-4a34-a24b-5c1606d9c86f"
   },
   "execution_count": 14,
   "outputs": [
    {
     "output_type": "stream",
     "name": "stdout",
     "text": [
      "370\n"
     ]
    }
   ]
  },
  {
   "cell_type": "code",
   "source": [
    "print(type(batch), batch.shape, batch.dtype)\n"
   ],
   "metadata": {
    "colab": {
     "base_uri": "https://localhost:8080/"
    },
    "id": "8VJxA94yeay3",
    "outputId": "c7028444-c17b-472f-8aeb-279ec8cda2e7"
   },
   "execution_count": 15,
   "outputs": [
    {
     "output_type": "stream",
     "name": "stdout",
     "text": [
      "<class 'tensorflow.python.framework.ops.EagerTensor'> (32, 30) <dtype: 'int32'>\n"
     ]
    }
   ]
  },
  {
   "cell_type": "code",
   "source": [
    "EPOCHS = 3\n",
    "\n",
    "for epoch in range(EPOCHS):\n",
    "  epoch_loss = 0\n",
    "\n",
    "  for batch in tqdm.tqdm_notebook(dataset, total=steps):\n",
    "      with tf.GradientTape() as tape:\n",
    "          result = model(input_ids = batch, labels=batch)\n",
    "          loss = result[0]\n",
    "          batch_loss = tf.reduce_mean(loss)\n",
    "\n",
    "      grads = tape.gradient(batch_loss, model.trainable_variables)\n",
    "      adam.apply_gradients(zip(grads, model.trainable_variables))\n",
    "      epoch_loss += batch_loss / steps\n",
    "\n",
    "  print('[Epoch: {:>4}] cost = {:>.9}'.format(epoch + 1, epoch_loss))"
   ],
   "metadata": {
    "id": "hTnxBVz-N-hk",
    "colab": {
     "base_uri": "https://localhost:8080/",
     "height": 283,
     "referenced_widgets": [
      "02ec97772b03450d9e67b502a09420e0",
      "4f5bf4ef157d436f99dd8d0e8967ee47",
      "45da0c80327045f49c75255904a5763a",
      "cea3935a175f453e86adb5e88e5a4c79",
      "4493cac6f81e4dfd84aeda3e90995e07",
      "d9ac8d927d8544c4a4b037d9fc146e67",
      "560f515e322d4ce4bf87a6c21a0ff594",
      "9bc2402fea8647cc92a5775af2e41f7b",
      "53cd5d28101648e79b0ba5f7c9d66315",
      "c9d7e78e4fd841b9b03ea4208f7f1be5",
      "9bb70901a27046dfa5690752d0fb87ce",
      "533b12c7f8d84d45965448a6b7e378d2",
      "0b3d59aeb489424db03846a103bbefc7",
      "042b8b37feb24da69c0309ca362ce506",
      "48e340f4f3444371bed2c3ddfc65be01",
      "5735e9585b7a4c2096bad80ca22b7dd7",
      "45b27c43c1f446699800dd1d842d32d5",
      "a25bffc5eba7478cad94de4ca570a66b",
      "16b5c961d5df4ec8a9d55e1518d9d457",
      "4910b7179b234331b629d446d0f151e3",
      "45c2d9ee7cb3426598b559192c40fe63",
      "77ef2d5e147643bdb9cd988a2a3101cf",
      "93c7622551844a038075e0cbc0f7acc1",
      "0346648856274bf1bfc4509cb2601e1d",
      "85d529b416dd44f5be75595606850773",
      "8c7a4a3108a34f7892f1324a6642809a",
      "6618f3471478419fb85a8d9c3e598769",
      "651d9ba353a446eda27fd96321202ffc",
      "9144d76c3e91441d9a51f7deb8995a22",
      "e7451a5f3088409db198152ab0e71213",
      "c061a642e03c477ea0db1eb096085f81",
      "7da645bd7e5a48c3a843a7786fb4c27b",
      "0f70f95b5a414a1885dbe9b9a40b1c86"
     ]
    },
    "outputId": "37addb31-d4ce-4e4e-8bbf-1b93c25ac386"
   },
   "execution_count": 16,
   "outputs": [
    {
     "output_type": "stream",
     "name": "stderr",
     "text": [
      "/tmp/ipython-input-16-1205846594.py:6: TqdmDeprecationWarning: This function will be removed in tqdm==5.0.0\n",
      "Please use `tqdm.notebook.tqdm` instead of `tqdm.tqdm_notebook`\n",
      "  for batch in tqdm.tqdm_notebook(dataset, total=steps):\n"
     ]
    },
    {
     "output_type": "display_data",
     "data": {
      "text/plain": [
       "  0%|          | 0/370 [00:00<?, ?it/s]"
      ],
      "application/vnd.jupyter.widget-view+json": {
       "version_major": 2,
       "version_minor": 0,
       "model_id": "02ec97772b03450d9e67b502a09420e0"
      }
     },
     "metadata": {}
    },
    {
     "output_type": "stream",
     "name": "stderr",
     "text": [
      "WARNING:tensorflow:5 out of the last 5 calls to <function _BaseOptimizer._update_step_xla at 0x7bed00ed0680> triggered tf.function retracing. Tracing is expensive and the excessive number of tracings could be due to (1) creating @tf.function repeatedly in a loop, (2) passing tensors with different shapes, (3) passing Python objects instead of tensors. For (1), please define your @tf.function outside of the loop. For (2), @tf.function has reduce_retracing=True option that can avoid unnecessary retracing. For (3), please refer to https://www.tensorflow.org/guide/function#controlling_retracing and https://www.tensorflow.org/api_docs/python/tf/function for  more details.\n",
      "WARNING:tensorflow:6 out of the last 6 calls to <function _BaseOptimizer._update_step_xla at 0x7bed00ed0680> triggered tf.function retracing. Tracing is expensive and the excessive number of tracings could be due to (1) creating @tf.function repeatedly in a loop, (2) passing tensors with different shapes, (3) passing Python objects instead of tensors. For (1), please define your @tf.function outside of the loop. For (2), @tf.function has reduce_retracing=True option that can avoid unnecessary retracing. For (3), please refer to https://www.tensorflow.org/guide/function#controlling_retracing and https://www.tensorflow.org/api_docs/python/tf/function for  more details.\n"
     ]
    },
    {
     "output_type": "stream",
     "name": "stdout",
     "text": [
      "[Epoch:    1] cost = 2.12707782\n"
     ]
    },
    {
     "output_type": "display_data",
     "data": {
      "text/plain": [
       "  0%|          | 0/370 [00:00<?, ?it/s]"
      ],
      "application/vnd.jupyter.widget-view+json": {
       "version_major": 2,
       "version_minor": 0,
       "model_id": "533b12c7f8d84d45965448a6b7e378d2"
      }
     },
     "metadata": {}
    },
    {
     "output_type": "stream",
     "name": "stdout",
     "text": [
      "[Epoch:    2] cost = 1.69828296\n"
     ]
    },
    {
     "output_type": "display_data",
     "data": {
      "text/plain": [
       "  0%|          | 0/370 [00:00<?, ?it/s]"
      ],
      "application/vnd.jupyter.widget-view+json": {
       "version_major": 2,
       "version_minor": 0,
       "model_id": "93c7622551844a038075e0cbc0f7acc1"
      }
     },
     "metadata": {}
    },
    {
     "output_type": "stream",
     "name": "stdout",
     "text": [
      "[Epoch:    3] cost = 1.37568295\n"
     ]
    }
   ]
  },
  {
   "cell_type": "markdown",
   "source": [
    "# 5) 챗봇 실행하기"
   ],
   "metadata": {
    "id": "5LdNYBVxQNql"
   }
  },
  {
   "cell_type": "code",
   "source": [
    "text = '오늘도 좋은 하루!'\n",
    "\n",
    "sent = '<usr>' + text + '<sys>'\n",
    "\n",
    "input_ids = [tokenizer.bos_token_id] + tokenizer.encode(sent)\n",
    "input_ids = tf.convert_to_tensor([input_ids])\n",
    "print(\"정수 인코딩 후:\", input_ids)\n",
    "print(\"정수 인코딩을 재복원:\", tokenizer.decode(input_ids[0]))"
   ],
   "metadata": {
    "id": "0BTj9cU6Pji9",
    "colab": {
     "base_uri": "https://localhost:8080/"
    },
    "outputId": "08bec29a-5945-46b0-93f6-1fb374b1131a"
   },
   "execution_count": 17,
   "outputs": [
    {
     "output_type": "stream",
     "name": "stdout",
     "text": [
      "정수 인코딩 후: tf.Tensor([[    1     2 10070  7235 10586 12557   376     4]], shape=(1, 8), dtype=int32)\n",
      "정수 인코딩을 재복원: </s><usr> 오늘도 좋은 하루!<sys>\n"
     ]
    }
   ]
  },
  {
   "cell_type": "code",
   "source": [
    "output = model.generate(input_ids, max_length = 50, early_stopping = True, eos_token_id = tokenizer.eos_token_id)\n",
    "decode_sentence = tokenizer.decode(output[0].numpy().tolist())\n",
    "print(decode_sentence)"
   ],
   "metadata": {
    "id": "ZM5eJzyBQudA",
    "colab": {
     "base_uri": "https://localhost:8080/"
    },
    "outputId": "40575c87-b796-47f4-abee-10dc0425c309"
   },
   "execution_count": 18,
   "outputs": [
    {
     "output_type": "stream",
     "name": "stderr",
     "text": [
      "The following generation flags are not valid and may be ignored: ['early_stopping']. Set `TRANSFORMERS_VERBOSITY=info` for more details.\n"
     ]
    },
    {
     "output_type": "stream",
     "name": "stdout",
     "text": [
      "</s><usr> 오늘도 좋은 하루!<sys> 오늘도 좋은 하루네요.</s>\n"
     ]
    }
   ]
  },
  {
   "cell_type": "code",
   "source": [
    "# 챗봇 답변만 확인\n",
    "print(decode_sentence.split('<sys> ')[1].replace('</s>', ''))"
   ],
   "metadata": {
    "id": "r_g15mHnREYG",
    "colab": {
     "base_uri": "https://localhost:8080/"
    },
    "outputId": "b4073cb2-53ee-488e-8021-62e7f8129806"
   },
   "execution_count": 19,
   "outputs": [
    {
     "output_type": "stream",
     "name": "stdout",
     "text": [
      "오늘도 좋은 하루네요.\n"
     ]
    }
   ]
  },
  {
   "cell_type": "code",
   "source": [
    "#랜덤성 부여\n",
    "output = model.generate(input_ids, max_length = 50, do_sample = True, top_k = 10)\n",
    "decoded_sentence = tokenizer.decode(output[0].numpy().tolist())\n",
    "print(decoded_sentence.split('<sys> ')[1].replace('</s>', ''))"
   ],
   "metadata": {
    "id": "qhMvUHcNRxrt",
    "colab": {
     "base_uri": "https://localhost:8080/"
    },
    "outputId": "77060d84-f643-495e-f7bd-df3adf86de27"
   },
   "execution_count": 20,
   "outputs": [
    {
     "output_type": "stream",
     "name": "stdout",
     "text": [
      "오늘도 좋은 하루로 보답하세요.\n"
     ]
    }
   ]
  },
  {
   "cell_type": "code",
   "source": [
    "def return_answer(user_text):\n",
    "    sent = '<usr>' + user_text + '<sys>'\n",
    "    input_ids = [tokenizer.bos_token_id] + tokenizer.encode(sent)\n",
    "    input_ids = tf.convert_to_tensor([input_ids])\n",
    "    output = model.generate(input_ids, max_length = 50, do_sample = True, top_k = 10)\n",
    "    sentence = tokenizer.decode(output[0].numpy().tolist())\n",
    "    chatbot_response = sentence.split('<sys> ')[1].replace('</s>', '')\n",
    "    return chatbot_response"
   ],
   "metadata": {
    "id": "LQ6RCBxWSOML"
   },
   "execution_count": 28,
   "outputs": []
  },
  {
   "cell_type": "code",
   "source": [
    "return_answer(\"안녕 반가워\")"
   ],
   "metadata": {
    "id": "KXVwFBG6TAMd",
    "colab": {
     "base_uri": "https://localhost:8080/",
     "height": 36
    },
    "outputId": "b293a5e6-1e32-4d54-b931-7b0fd600ff55"
   },
   "execution_count": 29,
   "outputs": [
    {
     "output_type": "execute_result",
     "data": {
      "text/plain": [
       "'안녕이 <unk>니요.'"
      ],
      "application/vnd.google.colaboratory.intrinsic+json": {
       "type": "string"
      }
     },
     "metadata": {},
     "execution_count": 29
    }
   ]
  },
  {
   "cell_type": "code",
   "source": [
    "return_answer(\"너무 심심한데 나랑 놀자\")"
   ],
   "metadata": {
    "id": "UWeayI4ATC9K",
    "colab": {
     "base_uri": "https://localhost:8080/",
     "height": 36
    },
    "outputId": "1994a64e-4e16-49f6-aded-a96ee03b2821"
   },
   "execution_count": 30,
   "outputs": [
    {
     "output_type": "execute_result",
     "data": {
      "text/plain": [
       "'짝사랑으로 이어질 수 있네요.'"
      ],
      "application/vnd.google.colaboratory.intrinsic+json": {
       "type": "string"
      }
     },
     "metadata": {},
     "execution_count": 30
    }
   ]
  },
  {
   "cell_type": "code",
   "source": [
    "return_answer(\"너 코딩 좀 할 줄 아니?\")"
   ],
   "metadata": {
    "id": "2nud0dC2THG9",
    "colab": {
     "base_uri": "https://localhost:8080/",
     "height": 36
    },
    "outputId": "58942a8c-19bf-4621-dcfe-4113b6e602f8"
   },
   "execution_count": 31,
   "outputs": [
    {
     "output_type": "execute_result",
     "data": {
      "text/plain": [
       "'그럴 수 있어요.'"
      ],
      "application/vnd.google.colaboratory.intrinsic+json": {
       "type": "string"
      }
     },
     "metadata": {},
     "execution_count": 31
    }
   ]
  },
  {
   "cell_type": "code",
   "source": [
    "return_answer('너 딥 러닝 잘해?')"
   ],
   "metadata": {
    "colab": {
     "base_uri": "https://localhost:8080/",
     "height": 36
    },
    "id": "4FXnu0y_nFtd",
    "outputId": "94d3279e-3eaf-48be-d800-7ff8d57432dd"
   },
   "execution_count": 32,
   "outputs": [
    {
     "output_type": "execute_result",
     "data": {
      "text/plain": [
       "'저도 궁금해요.'"
      ],
      "application/vnd.google.colaboratory.intrinsic+json": {
       "type": "string"
      }
     },
     "metadata": {},
     "execution_count": 32
    }
   ]
  },
  {
   "cell_type": "code",
   "source": [
    "return_answer('너 딥 러닝 잘해?')"
   ],
   "metadata": {
    "colab": {
     "base_uri": "https://localhost:8080/",
     "height": 36
    },
    "id": "cnqSJ8ClnHuo",
    "outputId": "530a707a-6db2-440c-b11b-8a91485e38ba"
   },
   "execution_count": 33,
   "outputs": [
    {
     "output_type": "execute_result",
     "data": {
      "text/plain": [
       "'잘하는 걸로 결론이 나면 그게 진짜 목표예요.'"
      ],
      "application/vnd.google.colaboratory.intrinsic+json": {
       "type": "string"
      }
     },
     "metadata": {},
     "execution_count": 33
    }
   ]
  },
  {
   "cell_type": "code",
   "source": [
    "return_answer('너 딥 러닝 잘해?')"
   ],
   "metadata": {
    "colab": {
     "base_uri": "https://localhost:8080/",
     "height": 36
    },
    "id": "PSnAIFOXnLOA",
    "outputId": "2b03eed9-1dbc-4c9c-c31d-38a4d0deab5e"
   },
   "execution_count": 34,
   "outputs": [
    {
     "output_type": "execute_result",
     "data": {
      "text/plain": [
       "'직접 해보는 게 덜 고민인거 같아요.'"
      ],
      "application/vnd.google.colaboratory.intrinsic+json": {
       "type": "string"
      }
     },
     "metadata": {},
     "execution_count": 34
    }
   ]
  },
  {
   "cell_type": "code",
   "source": [
    "return_answer('너 딥 러닝 정말 잘해?')"
   ],
   "metadata": {
    "colab": {
     "base_uri": "https://localhost:8080/",
     "height": 36
    },
    "id": "XiDcQNmXnMxu",
    "outputId": "a6f7f1ce-7e4a-4848-ad32-c30c1617c0cd"
   },
   "execution_count": 35,
   "outputs": [
    {
     "output_type": "execute_result",
     "data": {
      "text/plain": [
       "'인공지능에 어떤 기술을 탑사이클로 하는지 알아보세요.'"
      ],
      "application/vnd.google.colaboratory.intrinsic+json": {
       "type": "string"
      }
     },
     "metadata": {},
     "execution_count": 35
    }
   ]
  },
  {
   "cell_type": "code",
   "source": [],
   "metadata": {
    "id": "KspqTt5_nXYX"
   },
   "execution_count": null,
   "outputs": []
  }
 ]
}
