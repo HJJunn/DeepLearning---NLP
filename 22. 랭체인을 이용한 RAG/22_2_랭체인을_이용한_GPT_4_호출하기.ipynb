{
  "nbformat": 4,
  "nbformat_minor": 0,
  "metadata": {
    "colab": {
      "provenance": []
    },
    "kernelspec": {
      "name": "python3",
      "display_name": "Python 3"
    },
    "language_info": {
      "name": "python"
    }
  },
  "cells": [
    {
      "cell_type": "code",
      "execution_count": 1,
      "metadata": {
        "colab": {
          "base_uri": "https://localhost:8080/"
        },
        "id": "GO_DU1tySDQb",
        "outputId": "6f6ca9c5-cda6-467b-d667-a25ed7105782"
      },
      "outputs": [
        {
          "output_type": "stream",
          "name": "stdout",
          "text": [
            "Collecting langchain_community\n",
            "  Downloading langchain_community-0.3.27-py3-none-any.whl.metadata (2.9 kB)\n",
            "Collecting langchain_openai\n",
            "  Downloading langchain_openai-0.3.27-py3-none-any.whl.metadata (2.3 kB)\n",
            "Requirement already satisfied: langchain-core<1.0.0,>=0.3.66 in /usr/local/lib/python3.11/dist-packages (from langchain_community) (0.3.67)\n",
            "Requirement already satisfied: langchain<1.0.0,>=0.3.26 in /usr/local/lib/python3.11/dist-packages (from langchain_community) (0.3.26)\n",
            "Requirement already satisfied: SQLAlchemy<3,>=1.4 in /usr/local/lib/python3.11/dist-packages (from langchain_community) (2.0.41)\n",
            "Requirement already satisfied: requests<3,>=2 in /usr/local/lib/python3.11/dist-packages (from langchain_community) (2.32.3)\n",
            "Requirement already satisfied: PyYAML>=5.3 in /usr/local/lib/python3.11/dist-packages (from langchain_community) (6.0.2)\n",
            "Requirement already satisfied: aiohttp<4.0.0,>=3.8.3 in /usr/local/lib/python3.11/dist-packages (from langchain_community) (3.11.15)\n",
            "Requirement already satisfied: tenacity!=8.4.0,<10,>=8.1.0 in /usr/local/lib/python3.11/dist-packages (from langchain_community) (8.5.0)\n",
            "Collecting dataclasses-json<0.7,>=0.5.7 (from langchain_community)\n",
            "  Downloading dataclasses_json-0.6.7-py3-none-any.whl.metadata (25 kB)\n",
            "Collecting pydantic-settings<3.0.0,>=2.4.0 (from langchain_community)\n",
            "  Downloading pydantic_settings-2.10.1-py3-none-any.whl.metadata (3.4 kB)\n",
            "Requirement already satisfied: langsmith>=0.1.125 in /usr/local/lib/python3.11/dist-packages (from langchain_community) (0.4.4)\n",
            "Collecting httpx-sse<1.0.0,>=0.4.0 (from langchain_community)\n",
            "  Downloading httpx_sse-0.4.1-py3-none-any.whl.metadata (9.4 kB)\n",
            "Requirement already satisfied: numpy>=1.26.2 in /usr/local/lib/python3.11/dist-packages (from langchain_community) (2.0.2)\n",
            "Requirement already satisfied: openai<2.0.0,>=1.86.0 in /usr/local/lib/python3.11/dist-packages (from langchain_openai) (1.93.0)\n",
            "Requirement already satisfied: tiktoken<1,>=0.7 in /usr/local/lib/python3.11/dist-packages (from langchain_openai) (0.9.0)\n",
            "Requirement already satisfied: aiohappyeyeballs>=2.3.0 in /usr/local/lib/python3.11/dist-packages (from aiohttp<4.0.0,>=3.8.3->langchain_community) (2.6.1)\n",
            "Requirement already satisfied: aiosignal>=1.1.2 in /usr/local/lib/python3.11/dist-packages (from aiohttp<4.0.0,>=3.8.3->langchain_community) (1.3.2)\n",
            "Requirement already satisfied: attrs>=17.3.0 in /usr/local/lib/python3.11/dist-packages (from aiohttp<4.0.0,>=3.8.3->langchain_community) (25.3.0)\n",
            "Requirement already satisfied: frozenlist>=1.1.1 in /usr/local/lib/python3.11/dist-packages (from aiohttp<4.0.0,>=3.8.3->langchain_community) (1.7.0)\n",
            "Requirement already satisfied: multidict<7.0,>=4.5 in /usr/local/lib/python3.11/dist-packages (from aiohttp<4.0.0,>=3.8.3->langchain_community) (6.6.3)\n",
            "Requirement already satisfied: propcache>=0.2.0 in /usr/local/lib/python3.11/dist-packages (from aiohttp<4.0.0,>=3.8.3->langchain_community) (0.3.2)\n",
            "Requirement already satisfied: yarl<2.0,>=1.17.0 in /usr/local/lib/python3.11/dist-packages (from aiohttp<4.0.0,>=3.8.3->langchain_community) (1.20.1)\n",
            "Collecting marshmallow<4.0.0,>=3.18.0 (from dataclasses-json<0.7,>=0.5.7->langchain_community)\n",
            "  Downloading marshmallow-3.26.1-py3-none-any.whl.metadata (7.3 kB)\n",
            "Collecting typing-inspect<1,>=0.4.0 (from dataclasses-json<0.7,>=0.5.7->langchain_community)\n",
            "  Downloading typing_inspect-0.9.0-py3-none-any.whl.metadata (1.5 kB)\n",
            "Requirement already satisfied: langchain-text-splitters<1.0.0,>=0.3.8 in /usr/local/lib/python3.11/dist-packages (from langchain<1.0.0,>=0.3.26->langchain_community) (0.3.8)\n",
            "Requirement already satisfied: pydantic<3.0.0,>=2.7.4 in /usr/local/lib/python3.11/dist-packages (from langchain<1.0.0,>=0.3.26->langchain_community) (2.11.7)\n",
            "Requirement already satisfied: jsonpatch<2.0,>=1.33 in /usr/local/lib/python3.11/dist-packages (from langchain-core<1.0.0,>=0.3.66->langchain_community) (1.33)\n",
            "Requirement already satisfied: packaging<25,>=23.2 in /usr/local/lib/python3.11/dist-packages (from langchain-core<1.0.0,>=0.3.66->langchain_community) (24.2)\n",
            "Requirement already satisfied: typing-extensions>=4.7 in /usr/local/lib/python3.11/dist-packages (from langchain-core<1.0.0,>=0.3.66->langchain_community) (4.14.0)\n",
            "Requirement already satisfied: httpx<1,>=0.23.0 in /usr/local/lib/python3.11/dist-packages (from langsmith>=0.1.125->langchain_community) (0.28.1)\n",
            "Requirement already satisfied: orjson<4.0.0,>=3.9.14 in /usr/local/lib/python3.11/dist-packages (from langsmith>=0.1.125->langchain_community) (3.10.18)\n",
            "Requirement already satisfied: requests-toolbelt<2.0.0,>=1.0.0 in /usr/local/lib/python3.11/dist-packages (from langsmith>=0.1.125->langchain_community) (1.0.0)\n",
            "Requirement already satisfied: zstandard<0.24.0,>=0.23.0 in /usr/local/lib/python3.11/dist-packages (from langsmith>=0.1.125->langchain_community) (0.23.0)\n",
            "Requirement already satisfied: anyio<5,>=3.5.0 in /usr/local/lib/python3.11/dist-packages (from openai<2.0.0,>=1.86.0->langchain_openai) (4.9.0)\n",
            "Requirement already satisfied: distro<2,>=1.7.0 in /usr/local/lib/python3.11/dist-packages (from openai<2.0.0,>=1.86.0->langchain_openai) (1.9.0)\n",
            "Requirement already satisfied: jiter<1,>=0.4.0 in /usr/local/lib/python3.11/dist-packages (from openai<2.0.0,>=1.86.0->langchain_openai) (0.10.0)\n",
            "Requirement already satisfied: sniffio in /usr/local/lib/python3.11/dist-packages (from openai<2.0.0,>=1.86.0->langchain_openai) (1.3.1)\n",
            "Requirement already satisfied: tqdm>4 in /usr/local/lib/python3.11/dist-packages (from openai<2.0.0,>=1.86.0->langchain_openai) (4.67.1)\n",
            "Collecting python-dotenv>=0.21.0 (from pydantic-settings<3.0.0,>=2.4.0->langchain_community)\n",
            "  Downloading python_dotenv-1.1.1-py3-none-any.whl.metadata (24 kB)\n",
            "Requirement already satisfied: typing-inspection>=0.4.0 in /usr/local/lib/python3.11/dist-packages (from pydantic-settings<3.0.0,>=2.4.0->langchain_community) (0.4.1)\n",
            "Requirement already satisfied: charset-normalizer<4,>=2 in /usr/local/lib/python3.11/dist-packages (from requests<3,>=2->langchain_community) (3.4.2)\n",
            "Requirement already satisfied: idna<4,>=2.5 in /usr/local/lib/python3.11/dist-packages (from requests<3,>=2->langchain_community) (3.10)\n",
            "Requirement already satisfied: urllib3<3,>=1.21.1 in /usr/local/lib/python3.11/dist-packages (from requests<3,>=2->langchain_community) (2.4.0)\n",
            "Requirement already satisfied: certifi>=2017.4.17 in /usr/local/lib/python3.11/dist-packages (from requests<3,>=2->langchain_community) (2025.6.15)\n",
            "Requirement already satisfied: greenlet>=1 in /usr/local/lib/python3.11/dist-packages (from SQLAlchemy<3,>=1.4->langchain_community) (3.2.3)\n",
            "Requirement already satisfied: regex>=2022.1.18 in /usr/local/lib/python3.11/dist-packages (from tiktoken<1,>=0.7->langchain_openai) (2024.11.6)\n",
            "Requirement already satisfied: httpcore==1.* in /usr/local/lib/python3.11/dist-packages (from httpx<1,>=0.23.0->langsmith>=0.1.125->langchain_community) (1.0.9)\n",
            "Requirement already satisfied: h11>=0.16 in /usr/local/lib/python3.11/dist-packages (from httpcore==1.*->httpx<1,>=0.23.0->langsmith>=0.1.125->langchain_community) (0.16.0)\n",
            "Requirement already satisfied: jsonpointer>=1.9 in /usr/local/lib/python3.11/dist-packages (from jsonpatch<2.0,>=1.33->langchain-core<1.0.0,>=0.3.66->langchain_community) (3.0.0)\n",
            "Requirement already satisfied: annotated-types>=0.6.0 in /usr/local/lib/python3.11/dist-packages (from pydantic<3.0.0,>=2.7.4->langchain<1.0.0,>=0.3.26->langchain_community) (0.7.0)\n",
            "Requirement already satisfied: pydantic-core==2.33.2 in /usr/local/lib/python3.11/dist-packages (from pydantic<3.0.0,>=2.7.4->langchain<1.0.0,>=0.3.26->langchain_community) (2.33.2)\n",
            "Collecting mypy-extensions>=0.3.0 (from typing-inspect<1,>=0.4.0->dataclasses-json<0.7,>=0.5.7->langchain_community)\n",
            "  Downloading mypy_extensions-1.1.0-py3-none-any.whl.metadata (1.1 kB)\n",
            "Downloading langchain_community-0.3.27-py3-none-any.whl (2.5 MB)\n",
            "\u001b[2K   \u001b[90m━━━━━━━━━━━━━━━━━━━━━━━━━━━━━━━━━━━━━━━━\u001b[0m \u001b[32m2.5/2.5 MB\u001b[0m \u001b[31m21.7 MB/s\u001b[0m eta \u001b[36m0:00:00\u001b[0m\n",
            "\u001b[?25hDownloading langchain_openai-0.3.27-py3-none-any.whl (70 kB)\n",
            "\u001b[2K   \u001b[90m━━━━━━━━━━━━━━━━━━━━━━━━━━━━━━━━━━━━━━━━\u001b[0m \u001b[32m70.4/70.4 kB\u001b[0m \u001b[31m2.8 MB/s\u001b[0m eta \u001b[36m0:00:00\u001b[0m\n",
            "\u001b[?25hDownloading dataclasses_json-0.6.7-py3-none-any.whl (28 kB)\n",
            "Downloading httpx_sse-0.4.1-py3-none-any.whl (8.1 kB)\n",
            "Downloading pydantic_settings-2.10.1-py3-none-any.whl (45 kB)\n",
            "\u001b[2K   \u001b[90m━━━━━━━━━━━━━━━━━━━━━━━━━━━━━━━━━━━━━━━━\u001b[0m \u001b[32m45.2/45.2 kB\u001b[0m \u001b[31m3.3 MB/s\u001b[0m eta \u001b[36m0:00:00\u001b[0m\n",
            "\u001b[?25hDownloading marshmallow-3.26.1-py3-none-any.whl (50 kB)\n",
            "\u001b[2K   \u001b[90m━━━━━━━━━━━━━━━━━━━━━━━━━━━━━━━━━━━━━━━━\u001b[0m \u001b[32m50.9/50.9 kB\u001b[0m \u001b[31m3.5 MB/s\u001b[0m eta \u001b[36m0:00:00\u001b[0m\n",
            "\u001b[?25hDownloading python_dotenv-1.1.1-py3-none-any.whl (20 kB)\n",
            "Downloading typing_inspect-0.9.0-py3-none-any.whl (8.8 kB)\n",
            "Downloading mypy_extensions-1.1.0-py3-none-any.whl (5.0 kB)\n",
            "Installing collected packages: python-dotenv, mypy-extensions, marshmallow, httpx-sse, typing-inspect, pydantic-settings, dataclasses-json, langchain_openai, langchain_community\n",
            "Successfully installed dataclasses-json-0.6.7 httpx-sse-0.4.1 langchain_community-0.3.27 langchain_openai-0.3.27 marshmallow-3.26.1 mypy-extensions-1.1.0 pydantic-settings-2.10.1 python-dotenv-1.1.1 typing-inspect-0.9.0\n"
          ]
        }
      ],
      "source": [
        "!pip install langchain_community langchain_openai"
      ]
    },
    {
      "cell_type": "code",
      "source": [
        "import os\n",
        "from langchain_openai import ChatOpenAI\n",
        "from langchain_core.prompts import PromptTemplate\n",
        "from langchain_core.runnables.history import RunnableWithMessageHistory\n",
        "from langchain_community.chat_message_histories import ChatMessageHistory\n",
        "from langchain_core.tracers.stdout import ConsoleCallbackHandler"
      ],
      "metadata": {
        "id": "R41FnPo2SOaH"
      },
      "execution_count": 14,
      "outputs": []
    },
    {
      "cell_type": "code",
      "source": [
        "#객체 생성\n",
        "llm = ChatOpenAI(\n",
        "    temperature= 0.1, #창의성 0.0 ~ 2.0\n",
        "    max_tokens = 2048, #최대 토큰 수\n",
        "    model_name = 'gpt-4o'\n",
        "    )"
      ],
      "metadata": {
        "id": "TnjopE1OS3JN"
      },
      "execution_count": 5,
      "outputs": []
    },
    {
      "cell_type": "code",
      "source": [
        "#질의 내용\n",
        "question = \"세종대왕이 누구인지 설명해주세요\"\n",
        "#질의\n",
        "result = llm.invoke(question)\n",
        "print(result.content)"
      ],
      "metadata": {
        "colab": {
          "base_uri": "https://localhost:8080/"
        },
        "id": "CDkLbM4XTKXh",
        "outputId": "5bfd0eee-7cf7-42fa-9904-19d148560de7"
      },
      "execution_count": 6,
      "outputs": [
        {
          "output_type": "stream",
          "name": "stdout",
          "text": [
            "세종대왕은 조선의 제4대 왕으로, 본명은 이도입니다. 그는 1397년에 태어나 1418년부터 1450년까지 재위하였습니다. 세종대왕은 한국 역사상 가장 존경받는 군주 중 한 명으로, 그의 통치 기간 동안 많은 문화적, 과학적 발전이 이루어졌습니다.\n",
            "\n",
            "가장 유명한 업적 중 하나는 한글의 창제입니다. 세종대왕은 백성들이 쉽게 읽고 쓸 수 있는 문자를 만들고자 하여 1443년에 훈민정음을 창제하였고, 1446년에 반포하였습니다. 이는 오늘날 한국어의 근간이 되는 문자 체계입니다.\n",
            "\n",
            "또한, 세종대왕은 과학과 기술의 발전에도 큰 기여를 하였습니다. 그는 장영실과 같은 과학자들을 지원하여 천문학, 농업, 의학 등 다양한 분야에서 혁신을 이루었습니다. 예를 들어, 측우기와 앙부일구 같은 기상 관측 기구가 이 시기에 개발되었습니다.\n",
            "\n",
            "세종대왕은 또한 음악, 법률, 경제 등 여러 분야에서 개혁을 추진하여 조선의 기틀을 다지는 데 중요한 역할을 하였습니다. 그의 통치는 조선의 황금기로 여겨지며, 오늘날에도 많은 한국인들에게 존경받고 있습니다.\n"
          ]
        }
      ]
    },
    {
      "cell_type": "markdown",
      "source": [
        "프롬프트 템플릿"
      ],
      "metadata": {
        "id": "pOZ0njpkTvVl"
      }
    },
    {
      "cell_type": "code",
      "source": [
        "#질문 템플릿\n",
        "template = \"{who}가 누구인지 설명해주세요\"\n",
        "\n",
        "#템플릿 완성\n",
        "prompt = PromptTemplate(\n",
        "    template = template, input_variables = ['who']\n",
        ")\n",
        "print(prompt)"
      ],
      "metadata": {
        "colab": {
          "base_uri": "https://localhost:8080/"
        },
        "id": "DDNMeqyETbIM",
        "outputId": "24769a70-5118-4a17-c9e9-e3070adb5db7"
      },
      "execution_count": 7,
      "outputs": [
        {
          "output_type": "stream",
          "name": "stdout",
          "text": [
            "input_variables=['who'] input_types={} partial_variables={} template='{who}가 누구인지 설명해주세요'\n"
          ]
        }
      ]
    },
    {
      "cell_type": "code",
      "source": [
        "print(prompt.format(who = '오바마'))"
      ],
      "metadata": {
        "colab": {
          "base_uri": "https://localhost:8080/"
        },
        "id": "rwXvdPmOUD7_",
        "outputId": "f8c39f7f-2a21-42e2-e1df-7fb2fb33ec51"
      },
      "execution_count": 8,
      "outputs": [
        {
          "output_type": "stream",
          "name": "stdout",
          "text": [
            "오바마가 누구인지 설명해주세요\n"
          ]
        }
      ]
    },
    {
      "cell_type": "markdown",
      "source": [
        "\n",
        "\n",
        "*   프롬프트 템플릿은 llm 객체와 연결 => '체인'\n",
        "\n"
      ],
      "metadata": {
        "id": "gd6dP9qQUNez"
      }
    },
    {
      "cell_type": "code",
      "source": [
        "#연결된 체인 생성\n",
        "llm_chain = prompt|llm\n",
        "result = llm_chain.invoke({\"who\": \"이순신 장군\"})\n",
        "print(result.content)"
      ],
      "metadata": {
        "colab": {
          "base_uri": "https://localhost:8080/"
        },
        "id": "YVC4ZlyrUIM7",
        "outputId": "f89a4a5f-828e-465e-c9e2-29d85e7a4405"
      },
      "execution_count": 9,
      "outputs": [
        {
          "output_type": "stream",
          "name": "stdout",
          "text": [
            "이순신 장군은 조선 시대의 유명한 군인으로, 임진왜란 당시 조선 해군을 이끌며 큰 공을 세운 인물입니다. 1545년에 태어나 1598년에 전사한 그는, 특히 한산도 대첩, 명량 해전, 노량 해전 등 여러 해전에서 혁혁한 전과를 올렸습니다. 이순신 장군은 뛰어난 전략가이자 용맹한 전사로서, 그의 리더십과 전술적 능력은 오늘날까지도 많은 사람들에게 존경받고 있습니다. 또한, 그는 거북선이라는 철갑선을 활용하여 일본 해군을 효과적으로 물리쳤습니다. 그의 삶과 업적은 \"난중일기\"라는 일기와 다양한 역사 기록을 통해 전해지고 있으며, 한국에서는 국가적 영웅으로 기념되고 있습니다.\n"
          ]
        }
      ]
    },
    {
      "cell_type": "code",
      "source": [
        "#프롬프트를 출력 결과로 확인하는 방법\n",
        "result = llm_chain.invoke({\"who\" : \"히틀러\"}, config = {\"callbacks\": [ConsoleCallbackHandler()]})"
      ],
      "metadata": {
        "colab": {
          "base_uri": "https://localhost:8080/"
        },
        "id": "WXfYeEyvUkgV",
        "outputId": "f401e8ab-3c01-44e4-e3ea-b719ed2074d4"
      },
      "execution_count": 10,
      "outputs": [
        {
          "output_type": "stream",
          "name": "stdout",
          "text": [
            "\u001b[32;1m\u001b[1;3m[chain/start]\u001b[0m \u001b[1m[chain:RunnableSequence] Entering Chain run with input:\n",
            "\u001b[0m{\n",
            "  \"who\": \"히틀러\"\n",
            "}\n",
            "\u001b[32;1m\u001b[1;3m[chain/start]\u001b[0m \u001b[1m[chain:RunnableSequence > prompt:PromptTemplate] Entering Prompt run with input:\n",
            "\u001b[0m{\n",
            "  \"who\": \"히틀러\"\n",
            "}\n",
            "\u001b[36;1m\u001b[1;3m[chain/end]\u001b[0m \u001b[1m[chain:RunnableSequence > prompt:PromptTemplate] [0ms] Exiting Prompt run with output:\n",
            "\u001b[0m[outputs]\n",
            "\u001b[32;1m\u001b[1;3m[llm/start]\u001b[0m \u001b[1m[chain:RunnableSequence > llm:ChatOpenAI] Entering LLM run with input:\n",
            "\u001b[0m{\n",
            "  \"prompts\": [\n",
            "    \"Human: 히틀러가 누구인지 설명해주세요\"\n",
            "  ]\n",
            "}\n",
            "\u001b[36;1m\u001b[1;3m[llm/end]\u001b[0m \u001b[1m[chain:RunnableSequence > llm:ChatOpenAI] [8.80s] Exiting LLM run with output:\n",
            "\u001b[0m{\n",
            "  \"generations\": [\n",
            "    [\n",
            "      {\n",
            "        \"text\": \"아돌프 히틀러(Adolf Hitler)는 1889년 4월 20일 오스트리아-헝가리 제국에서 태어나 1945년 4월 30일 독일 베를린에서 사망한 독일의 정치인입니다. 그는 1933년부터 1945년까지 독일의 총리(수상)를, 1934년부터 1945년까지는 독일의 국가원수(대통령)로서 독일을 통치했습니다. 히틀러는 국가사회주의 독일 노동자당(NSDAP), 흔히 나치당(Nazi Party)으로 알려진 정당의 지도자였습니다.\\n\\n히틀러는 제2차 세계 대전을 일으킨 주요 인물로, 그의 침략적인 외교 정책과 군사적 행동은 유럽 전역에 걸쳐 대규모 전쟁을 촉발했습니다. 또한, 그는 홀로코스트로 알려진 유대인 대학살을 포함하여 수백만 명의 민간인과 군인이 희생된 대량 학살과 전쟁 범죄를 주도했습니다. 히틀러의 이념은 인종주의와 반유대주의에 기반을 두고 있었으며, 그의 정책은 독일과 유럽 전역에 걸쳐 막대한 인명 피해와 파괴를 초래했습니다. 1945년, 제2차 세계 대전이 막바지에 이르렀을 때, 히틀러는 베를린의 지하 벙커에서 자살했습니다.\",\n",
            "        \"generation_info\": {\n",
            "          \"finish_reason\": \"stop\",\n",
            "          \"logprobs\": null\n",
            "        },\n",
            "        \"type\": \"ChatGeneration\",\n",
            "        \"message\": {\n",
            "          \"lc\": 1,\n",
            "          \"type\": \"constructor\",\n",
            "          \"id\": [\n",
            "            \"langchain\",\n",
            "            \"schema\",\n",
            "            \"messages\",\n",
            "            \"AIMessage\"\n",
            "          ],\n",
            "          \"kwargs\": {\n",
            "            \"content\": \"아돌프 히틀러(Adolf Hitler)는 1889년 4월 20일 오스트리아-헝가리 제국에서 태어나 1945년 4월 30일 독일 베를린에서 사망한 독일의 정치인입니다. 그는 1933년부터 1945년까지 독일의 총리(수상)를, 1934년부터 1945년까지는 독일의 국가원수(대통령)로서 독일을 통치했습니다. 히틀러는 국가사회주의 독일 노동자당(NSDAP), 흔히 나치당(Nazi Party)으로 알려진 정당의 지도자였습니다.\\n\\n히틀러는 제2차 세계 대전을 일으킨 주요 인물로, 그의 침략적인 외교 정책과 군사적 행동은 유럽 전역에 걸쳐 대규모 전쟁을 촉발했습니다. 또한, 그는 홀로코스트로 알려진 유대인 대학살을 포함하여 수백만 명의 민간인과 군인이 희생된 대량 학살과 전쟁 범죄를 주도했습니다. 히틀러의 이념은 인종주의와 반유대주의에 기반을 두고 있었으며, 그의 정책은 독일과 유럽 전역에 걸쳐 막대한 인명 피해와 파괴를 초래했습니다. 1945년, 제2차 세계 대전이 막바지에 이르렀을 때, 히틀러는 베를린의 지하 벙커에서 자살했습니다.\",\n",
            "            \"additional_kwargs\": {\n",
            "              \"refusal\": null\n",
            "            },\n",
            "            \"response_metadata\": {\n",
            "              \"token_usage\": {\n",
            "                \"completion_tokens\": 334,\n",
            "                \"prompt_tokens\": 15,\n",
            "                \"total_tokens\": 349,\n",
            "                \"completion_tokens_details\": {\n",
            "                  \"accepted_prediction_tokens\": 0,\n",
            "                  \"audio_tokens\": 0,\n",
            "                  \"reasoning_tokens\": 0,\n",
            "                  \"rejected_prediction_tokens\": 0\n",
            "                },\n",
            "                \"prompt_tokens_details\": {\n",
            "                  \"audio_tokens\": 0,\n",
            "                  \"cached_tokens\": 0\n",
            "                }\n",
            "              },\n",
            "              \"model_name\": \"gpt-4o-2024-08-06\",\n",
            "              \"system_fingerprint\": \"fp_a288987b44\",\n",
            "              \"id\": \"chatcmpl-Br374B1QvKrmvWGMniuWpnwZXCjaB\",\n",
            "              \"service_tier\": \"default\",\n",
            "              \"finish_reason\": \"stop\",\n",
            "              \"logprobs\": null\n",
            "            },\n",
            "            \"type\": \"ai\",\n",
            "            \"id\": \"run--6526d078-3ff6-4447-aec7-e0cefcf71912-0\",\n",
            "            \"usage_metadata\": {\n",
            "              \"input_tokens\": 15,\n",
            "              \"output_tokens\": 334,\n",
            "              \"total_tokens\": 349,\n",
            "              \"input_token_details\": {\n",
            "                \"audio\": 0,\n",
            "                \"cache_read\": 0\n",
            "              },\n",
            "              \"output_token_details\": {\n",
            "                \"audio\": 0,\n",
            "                \"reasoning\": 0\n",
            "              }\n",
            "            },\n",
            "            \"tool_calls\": [],\n",
            "            \"invalid_tool_calls\": []\n",
            "          }\n",
            "        }\n",
            "      }\n",
            "    ]\n",
            "  ],\n",
            "  \"llm_output\": {\n",
            "    \"token_usage\": {\n",
            "      \"completion_tokens\": 334,\n",
            "      \"prompt_tokens\": 15,\n",
            "      \"total_tokens\": 349,\n",
            "      \"completion_tokens_details\": {\n",
            "        \"accepted_prediction_tokens\": 0,\n",
            "        \"audio_tokens\": 0,\n",
            "        \"reasoning_tokens\": 0,\n",
            "        \"rejected_prediction_tokens\": 0\n",
            "      },\n",
            "      \"prompt_tokens_details\": {\n",
            "        \"audio_tokens\": 0,\n",
            "        \"cached_tokens\": 0\n",
            "      }\n",
            "    },\n",
            "    \"model_name\": \"gpt-4o-2024-08-06\",\n",
            "    \"system_fingerprint\": \"fp_a288987b44\",\n",
            "    \"id\": \"chatcmpl-Br374B1QvKrmvWGMniuWpnwZXCjaB\",\n",
            "    \"service_tier\": \"default\"\n",
            "  },\n",
            "  \"run\": null,\n",
            "  \"type\": \"LLMResult\"\n",
            "}\n",
            "\u001b[36;1m\u001b[1;3m[chain/end]\u001b[0m \u001b[1m[chain:RunnableSequence] [8.80s] Exiting Chain run with output:\n",
            "\u001b[0m[outputs]\n"
          ]
        }
      ]
    },
    {
      "cell_type": "markdown",
      "source": [
        "## RunnableWithMessageHistory()"
      ],
      "metadata": {
        "id": "3BhUrTbkVUdI"
      }
    },
    {
      "cell_type": "markdown",
      "source": [
        "과거의 대화 내역을 반영"
      ],
      "metadata": {
        "id": "l3XXgXSMVbvt"
      }
    },
    {
      "cell_type": "code",
      "source": [
        "template = \"\"\"아래는 사람과 AI의 친근한 대화입니다. AI의 이름은 봇입니다. 대화 문맥을 바탕으로 친절한 답변을 진행하세요.\n",
        "\n",
        "Current Conversation:\n",
        "{history}\n",
        "\n",
        "Human : {input}\n",
        "AI:\"\"\"\n",
        "\n",
        "prompt = PromptTemplate(\n",
        "    template = template, input_variables = ['history', 'input']\n",
        ")\n",
        "\n",
        "llm = ChatOpenAI(model_name = 'gpt-4o')\n",
        "chain = prompt|llm"
      ],
      "metadata": {
        "id": "k4BZxl3aU8ya"
      },
      "execution_count": 11,
      "outputs": []
    },
    {
      "cell_type": "markdown",
      "source": [
        "\n",
        "\n",
        "*   세션 : 하나의 연속된 대화\n",
        "1.  사용자 A가 챗봇과 대화 : 세션 1\n",
        "2.  사용자 B가 챗봇과 대화 : 세션 2\n",
        "3.  챗봇은 각 세션의 대화내용을 따로 기억하고 관리\n",
        "\n"
      ],
      "metadata": {
        "id": "Rc3QoX5EWXgk"
      }
    },
    {
      "cell_type": "code",
      "source": [
        "#store : 여러 세션의 대화들을 관리\n",
        "store = {}\n",
        "#session_id : 각 세션을 독립적으로 저장하기 위해 딕셔너리의 키: session_id, 딕셔너리 값 : 해당 세션의 대화 기록\n",
        "session_id = 'test'"
      ],
      "metadata": {
        "id": "tsiZr3WEWJyv"
      },
      "execution_count": 12,
      "outputs": []
    },
    {
      "cell_type": "code",
      "source": [
        "if session_id not in store:\n",
        "    store[session_id] = ChatMessageHistory() #sesson_id 없을 경우 새로운 대화객체 생성\n",
        "session_history = store[session_id]"
      ],
      "metadata": {
        "id": "maEMG42yXEQQ"
      },
      "execution_count": 13,
      "outputs": []
    },
    {
      "cell_type": "code",
      "source": [
        "with_message_history = RunnableWithMessageHistory(\n",
        "    chain,\n",
        "    lambda session_id : session_history,\n",
        "    input_messages_key = \"input\",\n",
        "    history_messages_key = \"history\"\n",
        ")"
      ],
      "metadata": {
        "id": "fBUXSqvDXfNa"
      },
      "execution_count": 16,
      "outputs": []
    },
    {
      "cell_type": "code",
      "source": [
        "result = with_message_history.invoke(\n",
        "    {\"input\": \"석양을 주제로 마음을 울리는 시를 하나 지어주세요\"},\n",
        "    config={\"configurable\": {\"session_id\": \"test\"}}, #해당 입력이 어떻게 사용되는지 명시적으로 알려주기 위해 함께 사용\n",
        ")\n",
        "print(result.content)\n"
      ],
      "metadata": {
        "colab": {
          "base_uri": "https://localhost:8080/"
        },
        "id": "v1JtUwVSX_HW",
        "outputId": "aab6cf90-0784-4e37-c4e3-79692c583bca"
      },
      "execution_count": 22,
      "outputs": [
        {
          "output_type": "stream",
          "name": "stdout",
          "text": [
            "물론이죠! 석양을 주제로 마음을 울리는 시를 지어보겠습니다.\n",
            "\n",
            "하늘엔 붉은 노을이 물들고  \n",
            "하루의 끝자락에 서서  \n",
            "멀리서 들려오는 바람의 속삭임,  \n",
            "그 안에 담긴 수많은 이야기들  \n",
            "\n",
            "태양은 조용히 잠에 들고  \n",
            "어둠은 부드럽게 다가와  \n",
            "하루의 무게를 덜어주네  \n",
            "우리는 그 속에서 쉼을 찾고  \n",
            "\n",
            "스러져 가는 빛 속에  \n",
            "새로운 날을 위한 약속이 있어  \n",
            "지친 어깨를 감싸 안으며  \n",
            "고요한 영원함 속을 거닐네  \n",
            "\n",
            "이렇게 표현해봤습니다. 마음에 드셨으면 좋겠어요! 다른 주제나 궁금한 점이 있다면 언제든지 말씀해 주세요.\n"
          ]
        }
      ]
    },
    {
      "cell_type": "code",
      "source": [
        "result = with_message_history.invoke(\n",
        "    {\"input\": \"당신은 어디에서 만들었습니까?\"},\n",
        "    config={\"configurable\": {\"session_id\": \"test\"}},\n",
        ")\n",
        "print(result.content)\n"
      ],
      "metadata": {
        "colab": {
          "base_uri": "https://localhost:8080/"
        },
        "id": "ord4mNNvYXW5",
        "outputId": "a8d4e18a-eb00-4f92-c5e2-94dc2a307ff4"
      },
      "execution_count": 20,
      "outputs": [
        {
          "output_type": "stream",
          "name": "stdout",
          "text": [
            "저는 여러 개발자들의 협력으로 만들어진 인공지능 모델입니다. 주로 데이터를 학습하고 자연어 처리를 통해 사람들과 대화를 나누기 위해 개발되었습니다. 개발자들은 다양한 곳에 있을 수 있지만, 저를 생성하고 유지보수하는 데에는 다양한 기술과 지식이 필요합니다. 무엇이 궁금하신가요? 더 알고 싶으신 점이 있으면 언제든지 물어보세요!\n"
          ]
        }
      ]
    },
    {
      "cell_type": "code",
      "source": [
        "result = with_message_history.invoke(\n",
        "    {\"input\" : \"정효준으로 삼행시 지어주세요\"},\n",
        "    config = {\"configurable\" : {\"session_id\" : \"test\"}},\n",
        ")\n",
        "print(result.content)"
      ],
      "metadata": {
        "colab": {
          "base_uri": "https://localhost:8080/"
        },
        "id": "KB6bkPfPYzEl",
        "outputId": "c5dd5405-3b42-4a54-86d6-9cee7b5c9749"
      },
      "execution_count": 21,
      "outputs": [
        {
          "output_type": "stream",
          "name": "stdout",
          "text": [
            "물론이죠! '정효준'으로 삼행시를 지어보겠습니다.\n",
            "\n",
            "정: 정다운 마음으로\n",
            "\n",
            "효: 효심 가득 안고\n",
            "\n",
            "준: 준비된 사랑을 전하는 사람\n",
            "\n",
            "이렇게 표현해봤어요. 마음에 드셨으면 좋겠네요! 다른 질문이나 요청이 있으신가요?\n"
          ]
        }
      ]
    },
    {
      "cell_type": "code",
      "source": [
        "result = with_message_history.invoke(\n",
        "    {\"input\" : \"윤은지로 감동적인 삼행시 지어주세요\"},\n",
        "    config = {\"configurable\" : {\"session_id\" : \"test\"}},\n",
        ")\n",
        "print(result.content)"
      ],
      "metadata": {
        "colab": {
          "base_uri": "https://localhost:8080/"
        },
        "id": "NE1-yAlTZJqH",
        "outputId": "a65450a0-4f46-4695-cd21-167d9b4e0168"
      },
      "execution_count": 23,
      "outputs": [
        {
          "output_type": "stream",
          "name": "stdout",
          "text": [
            "물론이죠! '윤은지'로 감동적인 삼행시를 지어보겠습니다.\n",
            "\n",
            "윤: 윤슬처럼 빛나는 눈망울에  \n",
            "은: 은은한 미소로 세상을 밝히며  \n",
            "지: 지금 이 순간을 소중히 여기는 당신\n",
            "\n",
            "이렇게 표현해봤습니다. 마음에 드셨으면 좋겠어요! 다른 요청이 있으면 언제든지 말씀해 주세요.\n"
          ]
        }
      ]
    },
    {
      "cell_type": "code",
      "source": [
        "print(store)"
      ],
      "metadata": {
        "colab": {
          "base_uri": "https://localhost:8080/"
        },
        "id": "fFS1LOVXaDKs",
        "outputId": "28fa0dfa-3ebc-495a-8e4c-0b6306818e24"
      },
      "execution_count": 24,
      "outputs": [
        {
          "output_type": "stream",
          "name": "stdout",
          "text": [
            "{'test': InMemoryChatMessageHistory(messages=[HumanMessage(content='석양을 주제로도 해줘', additional_kwargs={}, response_metadata={}), AIMessage(content='석양은 정말 아름답고 평화로운 주제죠. 하늘이 붉고 오렌지색으로 물들며 하루가 저물어가는 순간을 바라보면 마음이 차분해지곤 해요. 어떻게 보면 하루를 마무리짓는 시간이라서 조금은 아쉽기도 하지만, 동시에 새로운 시작을 준비하는 시간으로도 느껴지죠. 석양을 보며 어떤 생각이나 감정을 느끼시나요?', additional_kwargs={'refusal': None}, response_metadata={'token_usage': {'completion_tokens': 98, 'prompt_tokens': 64, 'total_tokens': 162, 'completion_tokens_details': {'accepted_prediction_tokens': 0, 'audio_tokens': 0, 'reasoning_tokens': 0, 'rejected_prediction_tokens': 0}, 'prompt_tokens_details': {'audio_tokens': 0, 'cached_tokens': 0}}, 'model_name': 'gpt-4o-2024-08-06', 'system_fingerprint': 'fp_07871e2ad8', 'id': 'chatcmpl-Br3N2b3unvmLslbTy2t8ZhpgSZpwf', 'service_tier': 'default', 'finish_reason': 'stop', 'logprobs': None}, id='run--23741059-0659-4cdd-b286-5a9f513c9094-0', usage_metadata={'input_tokens': 64, 'output_tokens': 98, 'total_tokens': 162, 'input_token_details': {'audio': 0, 'cache_read': 0}, 'output_token_details': {'audio': 0, 'reasoning': 0}}), HumanMessage(content='당신은 어디에서 만들었습니까?', additional_kwargs={}, response_metadata={}), AIMessage(content='저는 여러 개발자들의 협력으로 만들어진 인공지능 모델입니다. 주로 데이터를 학습하고 자연어 처리를 통해 사람들과 대화를 나누기 위해 개발되었습니다. 개발자들은 다양한 곳에 있을 수 있지만, 저를 생성하고 유지보수하는 데에는 다양한 기술과 지식이 필요합니다. 무엇이 궁금하신가요? 더 알고 싶으신 점이 있으면 언제든지 물어보세요!', additional_kwargs={'refusal': None}, response_metadata={'token_usage': {'completion_tokens': 94, 'prompt_tokens': 446, 'total_tokens': 540, 'completion_tokens_details': {'accepted_prediction_tokens': 0, 'audio_tokens': 0, 'reasoning_tokens': 0, 'rejected_prediction_tokens': 0}, 'prompt_tokens_details': {'audio_tokens': 0, 'cached_tokens': 0}}, 'model_name': 'gpt-4o-2024-08-06', 'system_fingerprint': 'fp_a288987b44', 'id': 'chatcmpl-Br3NLrCR4J7l3kX7LGp8ChTLSv16j', 'service_tier': 'default', 'finish_reason': 'stop', 'logprobs': None}, id='run--eabb58e2-4b47-4f25-95d4-b8665dc32764-0', usage_metadata={'input_tokens': 446, 'output_tokens': 94, 'total_tokens': 540, 'input_token_details': {'audio': 0, 'cache_read': 0}, 'output_token_details': {'audio': 0, 'reasoning': 0}}), HumanMessage(content='정효준으로 삼행시 지어주세요', additional_kwargs={}, response_metadata={}), AIMessage(content=\"물론이죠! '정효준'으로 삼행시를 지어보겠습니다.\\n\\n정: 정다운 마음으로\\n\\n효: 효심 가득 안고\\n\\n준: 준비된 사랑을 전하는 사람\\n\\n이렇게 표현해봤어요. 마음에 드셨으면 좋겠네요! 다른 질문이나 요청이 있으신가요?\", additional_kwargs={'refusal': None}, response_metadata={'token_usage': {'completion_tokens': 72, 'prompt_tokens': 830, 'total_tokens': 902, 'completion_tokens_details': {'accepted_prediction_tokens': 0, 'audio_tokens': 0, 'reasoning_tokens': 0, 'rejected_prediction_tokens': 0}, 'prompt_tokens_details': {'audio_tokens': 0, 'cached_tokens': 0}}, 'model_name': 'gpt-4o-2024-08-06', 'system_fingerprint': 'fp_a288987b44', 'id': 'chatcmpl-Br3OpE20MEN4sMk7aLmefQlhVMdfd', 'service_tier': 'default', 'finish_reason': 'stop', 'logprobs': None}, id='run--82643b30-9648-40ed-b8ee-d47cf68e8873-0', usage_metadata={'input_tokens': 830, 'output_tokens': 72, 'total_tokens': 902, 'input_token_details': {'audio': 0, 'cache_read': 0}, 'output_token_details': {'audio': 0, 'reasoning': 0}}), HumanMessage(content='석양을 주제로 마음을 울리는 시를 하나 지어주세요', additional_kwargs={}, response_metadata={}), AIMessage(content='물론이죠! 석양을 주제로 마음을 울리는 시를 지어보겠습니다.\\n\\n하늘엔 붉은 노을이 물들고  \\n하루의 끝자락에 서서  \\n멀리서 들려오는 바람의 속삭임,  \\n그 안에 담긴 수많은 이야기들  \\n\\n태양은 조용히 잠에 들고  \\n어둠은 부드럽게 다가와  \\n하루의 무게를 덜어주네  \\n우리는 그 속에서 쉼을 찾고  \\n\\n스러져 가는 빛 속에  \\n새로운 날을 위한 약속이 있어  \\n지친 어깨를 감싸 안으며  \\n고요한 영원함 속을 거닐네  \\n\\n이렇게 표현해봤습니다. 마음에 드셨으면 좋겠어요! 다른 주제나 궁금한 점이 있다면 언제든지 말씀해 주세요.', additional_kwargs={'refusal': None}, response_metadata={'token_usage': {'completion_tokens': 193, 'prompt_tokens': 1197, 'total_tokens': 1390, 'completion_tokens_details': {'accepted_prediction_tokens': 0, 'audio_tokens': 0, 'reasoning_tokens': 0, 'rejected_prediction_tokens': 0}, 'prompt_tokens_details': {'audio_tokens': 0, 'cached_tokens': 0}}, 'model_name': 'gpt-4o-2024-08-06', 'system_fingerprint': 'fp_a288987b44', 'id': 'chatcmpl-Br3PX9bYfQME5TdVTMl3vDAcxZJZw', 'service_tier': 'default', 'finish_reason': 'stop', 'logprobs': None}, id='run--0aebe824-6d2a-4238-b426-89b6d7340639-0', usage_metadata={'input_tokens': 1197, 'output_tokens': 193, 'total_tokens': 1390, 'input_token_details': {'audio': 0, 'cache_read': 0}, 'output_token_details': {'audio': 0, 'reasoning': 0}}), HumanMessage(content='윤은지로 감동적인 삼행시 지어주세요', additional_kwargs={}, response_metadata={}), AIMessage(content=\"물론이죠! '윤은지'로 감동적인 삼행시를 지어보겠습니다.\\n\\n윤: 윤슬처럼 빛나는 눈망울에  \\n은: 은은한 미소로 세상을 밝히며  \\n지: 지금 이 순간을 소중히 여기는 당신\\n\\n이렇게 표현해봤습니다. 마음에 드셨으면 좋겠어요! 다른 요청이 있으면 언제든지 말씀해 주세요.\", additional_kwargs={'refusal': None}, response_metadata={'token_usage': {'completion_tokens': 91, 'prompt_tokens': 1713, 'total_tokens': 1804, 'completion_tokens_details': {'accepted_prediction_tokens': 0, 'audio_tokens': 0, 'reasoning_tokens': 0, 'rejected_prediction_tokens': 0}, 'prompt_tokens_details': {'audio_tokens': 0, 'cached_tokens': 1152}}, 'model_name': 'gpt-4o-2024-08-06', 'system_fingerprint': 'fp_a288987b44', 'id': 'chatcmpl-Br3SdjTmZMFZSO5H477x6SiFfk2DT', 'service_tier': 'default', 'finish_reason': 'stop', 'logprobs': None}, id='run--5ad744fd-ff00-4176-a7d5-e85e08502684-0', usage_metadata={'input_tokens': 1713, 'output_tokens': 91, 'total_tokens': 1804, 'input_token_details': {'audio': 0, 'cache_read': 1152}, 'output_token_details': {'audio': 0, 'reasoning': 0}})])}\n"
          ]
        }
      ]
    },
    {
      "cell_type": "code",
      "source": [],
      "metadata": {
        "id": "w0IOXF2maNCe"
      },
      "execution_count": null,
      "outputs": []
    }
  ]
}