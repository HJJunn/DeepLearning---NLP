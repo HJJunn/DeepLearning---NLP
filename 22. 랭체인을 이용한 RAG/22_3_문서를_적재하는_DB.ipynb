{
  "nbformat": 4,
  "nbformat_minor": 0,
  "metadata": {
    "colab": {
      "provenance": []
    },
    "kernelspec": {
      "name": "python3",
      "display_name": "Python 3"
    },
    "language_info": {
      "name": "python"
    }
  },
  "cells": [
    {
      "cell_type": "markdown",
      "source": [
        "# 랭체인 PDF를 읽는 다양한 방법"
      ],
      "metadata": {
        "id": "C1M_0i0Gc8Sa"
      }
    },
    {
      "cell_type": "code",
      "execution_count": 1,
      "metadata": {
        "colab": {
          "base_uri": "https://localhost:8080/"
        },
        "id": "Ho9dR05Jc4za",
        "outputId": "b8f0e063-c2c2-4b96-a9d7-9a241e859ff6"
      },
      "outputs": [
        {
          "output_type": "stream",
          "name": "stdout",
          "text": [
            "Collecting langchain_community\n",
            "  Downloading langchain_community-0.3.27-py3-none-any.whl.metadata (2.9 kB)\n",
            "Collecting pypdf\n",
            "  Downloading pypdf-5.7.0-py3-none-any.whl.metadata (7.2 kB)\n",
            "Collecting pymupdf\n",
            "  Downloading pymupdf-1.26.3-cp39-abi3-manylinux_2_28_x86_64.whl.metadata (3.4 kB)\n",
            "Collecting pdfplumber\n",
            "  Downloading pdfplumber-0.11.7-py3-none-any.whl.metadata (42 kB)\n",
            "\u001b[2K     \u001b[90m━━━━━━━━━━━━━━━━━━━━━━━━━━━━━━━━━━━━━━━━\u001b[0m \u001b[32m42.8/42.8 kB\u001b[0m \u001b[31m2.5 MB/s\u001b[0m eta \u001b[36m0:00:00\u001b[0m\n",
            "\u001b[?25hRequirement already satisfied: langchain-core<1.0.0,>=0.3.66 in /usr/local/lib/python3.11/dist-packages (from langchain_community) (0.3.67)\n",
            "Requirement already satisfied: langchain<1.0.0,>=0.3.26 in /usr/local/lib/python3.11/dist-packages (from langchain_community) (0.3.26)\n",
            "Requirement already satisfied: SQLAlchemy<3,>=1.4 in /usr/local/lib/python3.11/dist-packages (from langchain_community) (2.0.41)\n",
            "Requirement already satisfied: requests<3,>=2 in /usr/local/lib/python3.11/dist-packages (from langchain_community) (2.32.3)\n",
            "Requirement already satisfied: PyYAML>=5.3 in /usr/local/lib/python3.11/dist-packages (from langchain_community) (6.0.2)\n",
            "Requirement already satisfied: aiohttp<4.0.0,>=3.8.3 in /usr/local/lib/python3.11/dist-packages (from langchain_community) (3.11.15)\n",
            "Requirement already satisfied: tenacity!=8.4.0,<10,>=8.1.0 in /usr/local/lib/python3.11/dist-packages (from langchain_community) (8.5.0)\n",
            "Collecting dataclasses-json<0.7,>=0.5.7 (from langchain_community)\n",
            "  Downloading dataclasses_json-0.6.7-py3-none-any.whl.metadata (25 kB)\n",
            "Collecting pydantic-settings<3.0.0,>=2.4.0 (from langchain_community)\n",
            "  Downloading pydantic_settings-2.10.1-py3-none-any.whl.metadata (3.4 kB)\n",
            "Requirement already satisfied: langsmith>=0.1.125 in /usr/local/lib/python3.11/dist-packages (from langchain_community) (0.4.4)\n",
            "Collecting httpx-sse<1.0.0,>=0.4.0 (from langchain_community)\n",
            "  Downloading httpx_sse-0.4.1-py3-none-any.whl.metadata (9.4 kB)\n",
            "Requirement already satisfied: numpy>=1.26.2 in /usr/local/lib/python3.11/dist-packages (from langchain_community) (2.0.2)\n",
            "Collecting pdfminer.six==20250506 (from pdfplumber)\n",
            "  Downloading pdfminer_six-20250506-py3-none-any.whl.metadata (4.2 kB)\n",
            "Requirement already satisfied: Pillow>=9.1 in /usr/local/lib/python3.11/dist-packages (from pdfplumber) (11.2.1)\n",
            "Collecting pypdfium2>=4.18.0 (from pdfplumber)\n",
            "  Downloading pypdfium2-4.30.1-py3-none-manylinux_2_17_x86_64.manylinux2014_x86_64.whl.metadata (48 kB)\n",
            "\u001b[2K     \u001b[90m━━━━━━━━━━━━━━━━━━━━━━━━━━━━━━━━━━━━━━━━\u001b[0m \u001b[32m48.2/48.2 kB\u001b[0m \u001b[31m3.6 MB/s\u001b[0m eta \u001b[36m0:00:00\u001b[0m\n",
            "\u001b[?25hRequirement already satisfied: charset-normalizer>=2.0.0 in /usr/local/lib/python3.11/dist-packages (from pdfminer.six==20250506->pdfplumber) (3.4.2)\n",
            "Requirement already satisfied: cryptography>=36.0.0 in /usr/local/lib/python3.11/dist-packages (from pdfminer.six==20250506->pdfplumber) (43.0.3)\n",
            "Requirement already satisfied: aiohappyeyeballs>=2.3.0 in /usr/local/lib/python3.11/dist-packages (from aiohttp<4.0.0,>=3.8.3->langchain_community) (2.6.1)\n",
            "Requirement already satisfied: aiosignal>=1.1.2 in /usr/local/lib/python3.11/dist-packages (from aiohttp<4.0.0,>=3.8.3->langchain_community) (1.3.2)\n",
            "Requirement already satisfied: attrs>=17.3.0 in /usr/local/lib/python3.11/dist-packages (from aiohttp<4.0.0,>=3.8.3->langchain_community) (25.3.0)\n",
            "Requirement already satisfied: frozenlist>=1.1.1 in /usr/local/lib/python3.11/dist-packages (from aiohttp<4.0.0,>=3.8.3->langchain_community) (1.7.0)\n",
            "Requirement already satisfied: multidict<7.0,>=4.5 in /usr/local/lib/python3.11/dist-packages (from aiohttp<4.0.0,>=3.8.3->langchain_community) (6.6.3)\n",
            "Requirement already satisfied: propcache>=0.2.0 in /usr/local/lib/python3.11/dist-packages (from aiohttp<4.0.0,>=3.8.3->langchain_community) (0.3.2)\n",
            "Requirement already satisfied: yarl<2.0,>=1.17.0 in /usr/local/lib/python3.11/dist-packages (from aiohttp<4.0.0,>=3.8.3->langchain_community) (1.20.1)\n",
            "Collecting marshmallow<4.0.0,>=3.18.0 (from dataclasses-json<0.7,>=0.5.7->langchain_community)\n",
            "  Downloading marshmallow-3.26.1-py3-none-any.whl.metadata (7.3 kB)\n",
            "Collecting typing-inspect<1,>=0.4.0 (from dataclasses-json<0.7,>=0.5.7->langchain_community)\n",
            "  Downloading typing_inspect-0.9.0-py3-none-any.whl.metadata (1.5 kB)\n",
            "Requirement already satisfied: langchain-text-splitters<1.0.0,>=0.3.8 in /usr/local/lib/python3.11/dist-packages (from langchain<1.0.0,>=0.3.26->langchain_community) (0.3.8)\n",
            "Requirement already satisfied: pydantic<3.0.0,>=2.7.4 in /usr/local/lib/python3.11/dist-packages (from langchain<1.0.0,>=0.3.26->langchain_community) (2.11.7)\n",
            "Requirement already satisfied: jsonpatch<2.0,>=1.33 in /usr/local/lib/python3.11/dist-packages (from langchain-core<1.0.0,>=0.3.66->langchain_community) (1.33)\n",
            "Requirement already satisfied: packaging<25,>=23.2 in /usr/local/lib/python3.11/dist-packages (from langchain-core<1.0.0,>=0.3.66->langchain_community) (24.2)\n",
            "Requirement already satisfied: typing-extensions>=4.7 in /usr/local/lib/python3.11/dist-packages (from langchain-core<1.0.0,>=0.3.66->langchain_community) (4.14.0)\n",
            "Requirement already satisfied: httpx<1,>=0.23.0 in /usr/local/lib/python3.11/dist-packages (from langsmith>=0.1.125->langchain_community) (0.28.1)\n",
            "Requirement already satisfied: orjson<4.0.0,>=3.9.14 in /usr/local/lib/python3.11/dist-packages (from langsmith>=0.1.125->langchain_community) (3.10.18)\n",
            "Requirement already satisfied: requests-toolbelt<2.0.0,>=1.0.0 in /usr/local/lib/python3.11/dist-packages (from langsmith>=0.1.125->langchain_community) (1.0.0)\n",
            "Requirement already satisfied: zstandard<0.24.0,>=0.23.0 in /usr/local/lib/python3.11/dist-packages (from langsmith>=0.1.125->langchain_community) (0.23.0)\n",
            "Collecting python-dotenv>=0.21.0 (from pydantic-settings<3.0.0,>=2.4.0->langchain_community)\n",
            "  Downloading python_dotenv-1.1.1-py3-none-any.whl.metadata (24 kB)\n",
            "Requirement already satisfied: typing-inspection>=0.4.0 in /usr/local/lib/python3.11/dist-packages (from pydantic-settings<3.0.0,>=2.4.0->langchain_community) (0.4.1)\n",
            "Requirement already satisfied: idna<4,>=2.5 in /usr/local/lib/python3.11/dist-packages (from requests<3,>=2->langchain_community) (3.10)\n",
            "Requirement already satisfied: urllib3<3,>=1.21.1 in /usr/local/lib/python3.11/dist-packages (from requests<3,>=2->langchain_community) (2.4.0)\n",
            "Requirement already satisfied: certifi>=2017.4.17 in /usr/local/lib/python3.11/dist-packages (from requests<3,>=2->langchain_community) (2025.6.15)\n",
            "Requirement already satisfied: greenlet>=1 in /usr/local/lib/python3.11/dist-packages (from SQLAlchemy<3,>=1.4->langchain_community) (3.2.3)\n",
            "Requirement already satisfied: cffi>=1.12 in /usr/local/lib/python3.11/dist-packages (from cryptography>=36.0.0->pdfminer.six==20250506->pdfplumber) (1.17.1)\n",
            "Requirement already satisfied: anyio in /usr/local/lib/python3.11/dist-packages (from httpx<1,>=0.23.0->langsmith>=0.1.125->langchain_community) (4.9.0)\n",
            "Requirement already satisfied: httpcore==1.* in /usr/local/lib/python3.11/dist-packages (from httpx<1,>=0.23.0->langsmith>=0.1.125->langchain_community) (1.0.9)\n",
            "Requirement already satisfied: h11>=0.16 in /usr/local/lib/python3.11/dist-packages (from httpcore==1.*->httpx<1,>=0.23.0->langsmith>=0.1.125->langchain_community) (0.16.0)\n",
            "Requirement already satisfied: jsonpointer>=1.9 in /usr/local/lib/python3.11/dist-packages (from jsonpatch<2.0,>=1.33->langchain-core<1.0.0,>=0.3.66->langchain_community) (3.0.0)\n",
            "Requirement already satisfied: annotated-types>=0.6.0 in /usr/local/lib/python3.11/dist-packages (from pydantic<3.0.0,>=2.7.4->langchain<1.0.0,>=0.3.26->langchain_community) (0.7.0)\n",
            "Requirement already satisfied: pydantic-core==2.33.2 in /usr/local/lib/python3.11/dist-packages (from pydantic<3.0.0,>=2.7.4->langchain<1.0.0,>=0.3.26->langchain_community) (2.33.2)\n",
            "Collecting mypy-extensions>=0.3.0 (from typing-inspect<1,>=0.4.0->dataclasses-json<0.7,>=0.5.7->langchain_community)\n",
            "  Downloading mypy_extensions-1.1.0-py3-none-any.whl.metadata (1.1 kB)\n",
            "Requirement already satisfied: pycparser in /usr/local/lib/python3.11/dist-packages (from cffi>=1.12->cryptography>=36.0.0->pdfminer.six==20250506->pdfplumber) (2.22)\n",
            "Requirement already satisfied: sniffio>=1.1 in /usr/local/lib/python3.11/dist-packages (from anyio->httpx<1,>=0.23.0->langsmith>=0.1.125->langchain_community) (1.3.1)\n",
            "Downloading langchain_community-0.3.27-py3-none-any.whl (2.5 MB)\n",
            "\u001b[2K   \u001b[90m━━━━━━━━━━━━━━━━━━━━━━━━━━━━━━━━━━━━━━━━\u001b[0m \u001b[32m2.5/2.5 MB\u001b[0m \u001b[31m51.6 MB/s\u001b[0m eta \u001b[36m0:00:00\u001b[0m\n",
            "\u001b[?25hDownloading pypdf-5.7.0-py3-none-any.whl (305 kB)\n",
            "\u001b[2K   \u001b[90m━━━━━━━━━━━━━━━━━━━━━━━━━━━━━━━━━━━━━━━━\u001b[0m \u001b[32m305.5/305.5 kB\u001b[0m \u001b[31m20.1 MB/s\u001b[0m eta \u001b[36m0:00:00\u001b[0m\n",
            "\u001b[?25hDownloading pymupdf-1.26.3-cp39-abi3-manylinux_2_28_x86_64.whl (24.1 MB)\n",
            "\u001b[2K   \u001b[90m━━━━━━━━━━━━━━━━━━━━━━━━━━━━━━━━━━━━━━━━\u001b[0m \u001b[32m24.1/24.1 MB\u001b[0m \u001b[31m73.8 MB/s\u001b[0m eta \u001b[36m0:00:00\u001b[0m\n",
            "\u001b[?25hDownloading pdfplumber-0.11.7-py3-none-any.whl (60 kB)\n",
            "\u001b[2K   \u001b[90m━━━━━━━━━━━━━━━━━━━━━━━━━━━━━━━━━━━━━━━━\u001b[0m \u001b[32m60.0/60.0 kB\u001b[0m \u001b[31m4.6 MB/s\u001b[0m eta \u001b[36m0:00:00\u001b[0m\n",
            "\u001b[?25hDownloading pdfminer_six-20250506-py3-none-any.whl (5.6 MB)\n",
            "\u001b[2K   \u001b[90m━━━━━━━━━━━━━━━━━━━━━━━━━━━━━━━━━━━━━━━━\u001b[0m \u001b[32m5.6/5.6 MB\u001b[0m \u001b[31m95.6 MB/s\u001b[0m eta \u001b[36m0:00:00\u001b[0m\n",
            "\u001b[?25hDownloading dataclasses_json-0.6.7-py3-none-any.whl (28 kB)\n",
            "Downloading httpx_sse-0.4.1-py3-none-any.whl (8.1 kB)\n",
            "Downloading pydantic_settings-2.10.1-py3-none-any.whl (45 kB)\n",
            "\u001b[2K   \u001b[90m━━━━━━━━━━━━━━━━━━━━━━━━━━━━━━━━━━━━━━━━\u001b[0m \u001b[32m45.2/45.2 kB\u001b[0m \u001b[31m3.0 MB/s\u001b[0m eta \u001b[36m0:00:00\u001b[0m\n",
            "\u001b[?25hDownloading pypdfium2-4.30.1-py3-none-manylinux_2_17_x86_64.manylinux2014_x86_64.whl (2.9 MB)\n",
            "\u001b[2K   \u001b[90m━━━━━━━━━━━━━━━━━━━━━━━━━━━━━━━━━━━━━━━━\u001b[0m \u001b[32m2.9/2.9 MB\u001b[0m \u001b[31m75.8 MB/s\u001b[0m eta \u001b[36m0:00:00\u001b[0m\n",
            "\u001b[?25hDownloading marshmallow-3.26.1-py3-none-any.whl (50 kB)\n",
            "\u001b[2K   \u001b[90m━━━━━━━━━━━━━━━━━━━━━━━━━━━━━━━━━━━━━━━━\u001b[0m \u001b[32m50.9/50.9 kB\u001b[0m \u001b[31m3.5 MB/s\u001b[0m eta \u001b[36m0:00:00\u001b[0m\n",
            "\u001b[?25hDownloading python_dotenv-1.1.1-py3-none-any.whl (20 kB)\n",
            "Downloading typing_inspect-0.9.0-py3-none-any.whl (8.8 kB)\n",
            "Downloading mypy_extensions-1.1.0-py3-none-any.whl (5.0 kB)\n",
            "Installing collected packages: python-dotenv, pypdfium2, pypdf, pymupdf, mypy-extensions, marshmallow, httpx-sse, typing-inspect, pydantic-settings, pdfminer.six, dataclasses-json, pdfplumber, langchain_community\n",
            "Successfully installed dataclasses-json-0.6.7 httpx-sse-0.4.1 langchain_community-0.3.27 marshmallow-3.26.1 mypy-extensions-1.1.0 pdfminer.six-20250506 pdfplumber-0.11.7 pydantic-settings-2.10.1 pymupdf-1.26.3 pypdf-5.7.0 pypdfium2-4.30.1 python-dotenv-1.1.1 typing-inspect-0.9.0\n"
          ]
        }
      ],
      "source": [
        "pip install langchain_community pypdf pymupdf pdfplumber"
      ]
    },
    {
      "cell_type": "markdown",
      "source": [
        "## 1. PyPDFLoader"
      ],
      "metadata": {
        "id": "6tOSy2jjdCLT"
      }
    },
    {
      "cell_type": "markdown",
      "source": [
        "페이지 단위로 청크 로드"
      ],
      "metadata": {
        "id": "NaEJIxXnd1fO"
      }
    },
    {
      "cell_type": "code",
      "source": [
        "import urllib.request\n",
        "from langchain.document_loaders import PyPDFLoader\n",
        "from langchain_community.document_loaders import PyMuPDFLoader\n",
        "from langchain.document_loaders import PDFPlumberLoader"
      ],
      "metadata": {
        "id": "lCm-eI3LdBre"
      },
      "execution_count": 3,
      "outputs": []
    },
    {
      "cell_type": "code",
      "source": [
        "urllib.request.urlretrieve(\"https://github.com/chatgpt-kr/openai-api-tutorial/raw/main/ch06/2023_%EB%B6%81%ED%95%9C%EC%9D%B8%EA%B6%8C%EB%B3%B4%EA%B3%A0%EC%84%9C.pdf\", filename=\"2023_북한인권보고서.pdf\")\n"
      ],
      "metadata": {
        "colab": {
          "base_uri": "https://localhost:8080/"
        },
        "id": "GxqlrstGdpea",
        "outputId": "a6fce87f-6209-4e19-eaf4-f2dd02db0abf"
      },
      "execution_count": 4,
      "outputs": [
        {
          "output_type": "execute_result",
          "data": {
            "text/plain": [
              "('2023_북한인권보고서.pdf', <http.client.HTTPMessage at 0x784f0ad1db50>)"
            ]
          },
          "metadata": {},
          "execution_count": 4
        }
      ]
    },
    {
      "cell_type": "code",
      "source": [
        "%%time\n",
        "loader = PyPDFLoader('2023_북한인권보고서.pdf')\n",
        "pages = loader.load_and_split()\n",
        "print('청크의 수:', len(pages))\n"
      ],
      "metadata": {
        "colab": {
          "base_uri": "https://localhost:8080/"
        },
        "id": "f10qUSlBdstO",
        "outputId": "03a94ab7-cb32-46be-ed63-b8e54a7e5dfd"
      },
      "execution_count": 5,
      "outputs": [
        {
          "output_type": "stream",
          "name": "stdout",
          "text": [
            "청크의 수: 445\n",
            "CPU times: user 14.7 s, sys: 160 ms, total: 14.9 s\n",
            "Wall time: 17.7 s\n"
          ]
        }
      ]
    },
    {
      "cell_type": "code",
      "source": [
        "pages[3]"
      ],
      "metadata": {
        "colab": {
          "base_uri": "https://localhost:8080/"
        },
        "id": "kE6MHRxadyEj",
        "outputId": "65b71c9a-64b4-4b7c-8fb7-8e7ad69729dc"
      },
      "execution_count": 6,
      "outputs": [
        {
          "output_type": "execute_result",
          "data": {
            "text/plain": [
              "Document(metadata={'producer': 'Adobe PDF Library 10.0.1', 'creator': 'Adobe InDesign CS6 (Windows)', 'creationdate': '2023-07-31T13:50:27+09:00', 'moddate': '2023-07-31T13:57:54+09:00', 'trapped': '/False', 'source': '2023_북한인권보고서.pdf', 'total_pages': 448, 'page': 5, 'page_label': '6'}, page_content='2023 북한인권보고서\\n04\\n올해로 유엔의 북한인권조사위원회 출범 10년, 북한인권결의 채\\n택 20년이 됩니다. 그동안 우리는 물론 국제사회가 북한인권을 증진\\n하기 위해 노력해 왔지만, 휴전선 이북의 북녘 땅은 여전히 최악의 \\n인권 사각지대로 남아 있습니다. 우리와 피를 나눈 북한 동포들이 \\n최소한의 인간적인 삶을 누릴 수 있도록 책임감을 갖고 보다 실효적\\n인 노력을 펼쳐가야만 합니다. \\n2016년 제정된 북한인권법에 기반하여 설립된 북한인권기록센\\n터는 2017년부터 북한이탈주민을 대상으로 북한의 전반적인 인권\\n실태를 심층적으로 조사하였습니다. 또한 파악된 북한의 인권침해 \\n사례들을 ‘세계인권선언’과 ‘국제인권조약’의 기준에 따라 분류하였\\n습니다. 이번에 발간되는 「북한인권보고서」는 북한의 인권 상황을 \\n시민적·정치적 권리, 경제적·사회적·문화적 권리 등 다양한 측면에\\n서 입체적으로 조명하였습니다. 아울러, 여성·아동·장애인 등 취약\\n계층, 정치범수용소 및 국군포로·납북자·이산가족 등 특수 인권문\\n발간사')"
            ]
          },
          "metadata": {},
          "execution_count": 6
        }
      ]
    },
    {
      "cell_type": "code",
      "source": [
        "pages[3].page_content"
      ],
      "metadata": {
        "colab": {
          "base_uri": "https://localhost:8080/",
          "height": 143
        },
        "id": "EfXUa6ZTeMot",
        "outputId": "a3372f86-89f3-4e52-c497-9f6cd614774b"
      },
      "execution_count": 7,
      "outputs": [
        {
          "output_type": "execute_result",
          "data": {
            "text/plain": [
              "'2023 북한인권보고서\\n04\\n올해로 유엔의 북한인권조사위원회 출범 10년, 북한인권결의 채\\n택 20년이 됩니다. 그동안 우리는 물론 국제사회가 북한인권을 증진\\n하기 위해 노력해 왔지만, 휴전선 이북의 북녘 땅은 여전히 최악의 \\n인권 사각지대로 남아 있습니다. 우리와 피를 나눈 북한 동포들이 \\n최소한의 인간적인 삶을 누릴 수 있도록 책임감을 갖고 보다 실효적\\n인 노력을 펼쳐가야만 합니다. \\n2016년 제정된 북한인권법에 기반하여 설립된 북한인권기록센\\n터는 2017년부터 북한이탈주민을 대상으로 북한의 전반적인 인권\\n실태를 심층적으로 조사하였습니다. 또한 파악된 북한의 인권침해 \\n사례들을 ‘세계인권선언’과 ‘국제인권조약’의 기준에 따라 분류하였\\n습니다. 이번에 발간되는 「북한인권보고서」는 북한의 인권 상황을 \\n시민적·정치적 권리, 경제적·사회적·문화적 권리 등 다양한 측면에\\n서 입체적으로 조명하였습니다. 아울러, 여성·아동·장애인 등 취약\\n계층, 정치범수용소 및 국군포로·납북자·이산가족 등 특수 인권문\\n발간사'"
            ],
            "application/vnd.google.colaboratory.intrinsic+json": {
              "type": "string"
            }
          },
          "metadata": {},
          "execution_count": 7
        }
      ]
    },
    {
      "cell_type": "markdown",
      "source": [
        "## 2. PyMuPDFLoader"
      ],
      "metadata": {
        "id": "suVSv-bOeb6D"
      }
    },
    {
      "cell_type": "code",
      "source": [
        "%%time\n",
        "loader = PyMuPDFLoader('2023_북한인권보고서.pdf')\n",
        "pages = loader.load_and_split()\n",
        "print(\"청크의 수:\", len(pages))"
      ],
      "metadata": {
        "colab": {
          "base_uri": "https://localhost:8080/"
        },
        "id": "dWR_eQd_eazT",
        "outputId": "a722f02f-7f7a-413f-c765-bb9936564233"
      },
      "execution_count": 9,
      "outputs": [
        {
          "output_type": "stream",
          "name": "stdout",
          "text": [
            "청크의 수: 445\n",
            "CPU times: user 2.56 s, sys: 115 ms, total: 2.67 s\n",
            "Wall time: 2.71 s\n"
          ]
        }
      ]
    },
    {
      "cell_type": "code",
      "source": [
        "pages[3]"
      ],
      "metadata": {
        "colab": {
          "base_uri": "https://localhost:8080/"
        },
        "id": "BiVgIHWgewoS",
        "outputId": "b4fa2a0d-5f2b-48c2-e126-70986af11986"
      },
      "execution_count": 10,
      "outputs": [
        {
          "output_type": "execute_result",
          "data": {
            "text/plain": [
              "Document(metadata={'producer': 'Adobe PDF Library 10.0.1', 'creator': 'Adobe InDesign CS6 (Windows)', 'creationdate': '2023-07-31T13:50:27+09:00', 'source': '2023_북한인권보고서.pdf', 'file_path': '2023_북한인권보고서.pdf', 'total_pages': 448, 'format': 'PDF 1.6', 'title': '', 'author': '', 'subject': '', 'keywords': '', 'moddate': '2023-07-31T13:57:54+09:00', 'trapped': '', 'modDate': \"D:20230731135754+09'00'\", 'creationDate': \"D:20230731135027+09'00'\", 'page': 5}, page_content='2023 북한인권보고서\\n04\\n올해로 유엔의 북한인권조사위원회 출범 10년, 북한인권결의 채\\n택 20년이 됩니다. 그동안 우리는 물론 국제사회가 북한인권을 증진\\n하기 위해 노력해 왔지만, 휴전선 이북의 북녘 땅은 여전히 최악의 \\n인권 사각지대로 남아 있습니다. 우리와 피를 나눈 북한 동포들이 \\n최소한의 인간적인 삶을 누릴 수 있도록 책임감을 갖고 보다 실효적\\n인 노력을 펼쳐가야만 합니다. \\n2016년 제정된 북한인권법에 기반하여 설립된 북한인권기록센\\n터는 2017년부터 북한이탈주민을 대상으로 북한의 전반적인 인권\\n실태를 심층적으로 조사하였습니다. 또한 파악된 북한의 인권침해 \\n사례들을 ‘세계인권선언’과 ‘국제인권조약’의 기준에 따라 분류하였\\n습니다. 이번에 발간되는 「북한인권보고서」는 북한의 인권 상황을 \\n시민적·정치적 권리, 경제적·사회적·문화적 권리 등 다양한 측면에\\n서 입체적으로 조명하였습니다. 아울러, 여성·아동·장애인 등 취약\\n계층, 정치범수용소 및 국군포로·납북자·이산가족 등 특수 인권문\\n발간사')"
            ]
          },
          "metadata": {},
          "execution_count": 10
        }
      ]
    },
    {
      "cell_type": "markdown",
      "source": [
        "## 3. PDFPlumberLoader"
      ],
      "metadata": {
        "id": "fQc-srpQe-qA"
      }
    },
    {
      "cell_type": "code",
      "source": [
        "%%time\n",
        "loader = PDFPlumberLoader(\"2023_북한인권보고서.pdf\")\n",
        "pages = loader.load_and_split()\n",
        "print(\"청크의 수:\", len(pages))"
      ],
      "metadata": {
        "colab": {
          "base_uri": "https://localhost:8080/"
        },
        "id": "0VqqtC6Le4gl",
        "outputId": "4138031b-8b79-46a7-fd42-ec9483e13e5e"
      },
      "execution_count": 11,
      "outputs": [
        {
          "output_type": "stream",
          "name": "stdout",
          "text": [
            "청크의 수: 445\n",
            "CPU times: user 24.4 s, sys: 839 ms, total: 25.2 s\n",
            "Wall time: 25.6 s\n"
          ]
        }
      ]
    },
    {
      "cell_type": "code",
      "source": [
        "pages[3]"
      ],
      "metadata": {
        "colab": {
          "base_uri": "https://localhost:8080/"
        },
        "id": "gAefJg_VfMY9",
        "outputId": "2543df9c-4ac3-44db-e186-3b042d99100b"
      },
      "execution_count": 12,
      "outputs": [
        {
          "output_type": "execute_result",
          "data": {
            "text/plain": [
              "Document(metadata={'source': '2023_북한인권보고서.pdf', 'file_path': '2023_북한인권보고서.pdf', 'page': 5, 'total_pages': 448, 'CreationDate': \"D:20230731135027+09'00'\", 'Creator': 'Adobe InDesign CS6 (Windows)', 'ModDate': \"D:20230731135754+09'00'\", 'Producer': 'Adobe PDF Library 10.0.1', 'Trapped': 'False'}, page_content='발간사\\n올해로 유엔의 북한인권조사위원회 출범 10년, 북한인권결의 채\\n택 20년이 됩니다. 그동안 우리는 물론 국제사회가 북한인권을 증진\\n하기 위해 노력해 왔지만, 휴전선 이북의 북녘 땅은 여전히 최악의\\n인권 사각지대로 남아 있습니다. 우리와 피를 나눈 북한 동포들이\\n최소한의 인간적인 삶을 누릴 수 있도록 책임감을 갖고 보다 실효적\\n인 노력을 펼쳐가야만 합니다.\\n2016년 제정된 북한인권법에 기반하여 설립된 북한인권기록센\\n터는 2017년부터 북한이탈주민을 대상으로 북한의 전반적인 인권\\n실태를 심층적으로 조사하였습니다. 또한 파악된 북한의 인권침해\\n사례들을 ‘세계인권선언’과 ‘국제인권조약’의 기준에 따라 분류하였\\n습니다. 이번에 발간되는 「북한인권보고서」는 북한의 인권 상황을\\n시민적·정치적 권리, 경제적·사회적·문화적 권리 등 다양한 측면에\\n서 입체적으로 조명하였습니다. 아울러, 여성·아동·장애인 등 취약\\n계층, 정치범수용소 및 국군포로·납북자·이산가족 등 특수 인권문\\n04 2023 북한인권보고서')"
            ]
          },
          "metadata": {},
          "execution_count": 12
        }
      ]
    },
    {
      "cell_type": "code",
      "source": [
        "pages[3].page_content"
      ],
      "metadata": {
        "colab": {
          "base_uri": "https://localhost:8080/",
          "height": 143
        },
        "id": "5zfluWUNfzlC",
        "outputId": "469da5d2-f496-43d7-f3ef-8df9e71630fb"
      },
      "execution_count": 13,
      "outputs": [
        {
          "output_type": "execute_result",
          "data": {
            "text/plain": [
              "'발간사\\n올해로 유엔의 북한인권조사위원회 출범 10년, 북한인권결의 채\\n택 20년이 됩니다. 그동안 우리는 물론 국제사회가 북한인권을 증진\\n하기 위해 노력해 왔지만, 휴전선 이북의 북녘 땅은 여전히 최악의\\n인권 사각지대로 남아 있습니다. 우리와 피를 나눈 북한 동포들이\\n최소한의 인간적인 삶을 누릴 수 있도록 책임감을 갖고 보다 실효적\\n인 노력을 펼쳐가야만 합니다.\\n2016년 제정된 북한인권법에 기반하여 설립된 북한인권기록센\\n터는 2017년부터 북한이탈주민을 대상으로 북한의 전반적인 인권\\n실태를 심층적으로 조사하였습니다. 또한 파악된 북한의 인권침해\\n사례들을 ‘세계인권선언’과 ‘국제인권조약’의 기준에 따라 분류하였\\n습니다. 이번에 발간되는 「북한인권보고서」는 북한의 인권 상황을\\n시민적·정치적 권리, 경제적·사회적·문화적 권리 등 다양한 측면에\\n서 입체적으로 조명하였습니다. 아울러, 여성·아동·장애인 등 취약\\n계층, 정치범수용소 및 국군포로·납북자·이산가족 등 특수 인권문\\n04 2023 북한인권보고서'"
            ],
            "application/vnd.google.colaboratory.intrinsic+json": {
              "type": "string"
            }
          },
          "metadata": {},
          "execution_count": 13
        }
      ]
    },
    {
      "cell_type": "markdown",
      "source": [
        "# 문서를 적재하는 벡터 DB"
      ],
      "metadata": {
        "id": "tfRUTpkaf5HT"
      }
    },
    {
      "cell_type": "code",
      "source": [
        "!pip install langchain-community pypdf chromadb faiss-cpu"
      ],
      "metadata": {
        "colab": {
          "base_uri": "https://localhost:8080/"
        },
        "id": "jmvohrrNgBDR",
        "outputId": "91b56cab-22a6-4acb-f87c-9a2200ce4fdf"
      },
      "execution_count": 14,
      "outputs": [
        {
          "output_type": "stream",
          "name": "stdout",
          "text": [
            "Requirement already satisfied: langchain-community in /usr/local/lib/python3.11/dist-packages (0.3.27)\n",
            "Requirement already satisfied: pypdf in /usr/local/lib/python3.11/dist-packages (5.7.0)\n",
            "Collecting chromadb\n",
            "  Downloading chromadb-1.0.15-cp39-abi3-manylinux_2_17_x86_64.manylinux2014_x86_64.whl.metadata (7.0 kB)\n",
            "Collecting faiss-cpu\n",
            "  Downloading faiss_cpu-1.11.0-cp311-cp311-manylinux_2_28_x86_64.whl.metadata (4.8 kB)\n",
            "Requirement already satisfied: langchain-core<1.0.0,>=0.3.66 in /usr/local/lib/python3.11/dist-packages (from langchain-community) (0.3.67)\n",
            "Requirement already satisfied: langchain<1.0.0,>=0.3.26 in /usr/local/lib/python3.11/dist-packages (from langchain-community) (0.3.26)\n",
            "Requirement already satisfied: SQLAlchemy<3,>=1.4 in /usr/local/lib/python3.11/dist-packages (from langchain-community) (2.0.41)\n",
            "Requirement already satisfied: requests<3,>=2 in /usr/local/lib/python3.11/dist-packages (from langchain-community) (2.32.3)\n",
            "Requirement already satisfied: PyYAML>=5.3 in /usr/local/lib/python3.11/dist-packages (from langchain-community) (6.0.2)\n",
            "Requirement already satisfied: aiohttp<4.0.0,>=3.8.3 in /usr/local/lib/python3.11/dist-packages (from langchain-community) (3.11.15)\n",
            "Requirement already satisfied: tenacity!=8.4.0,<10,>=8.1.0 in /usr/local/lib/python3.11/dist-packages (from langchain-community) (8.5.0)\n",
            "Requirement already satisfied: dataclasses-json<0.7,>=0.5.7 in /usr/local/lib/python3.11/dist-packages (from langchain-community) (0.6.7)\n",
            "Requirement already satisfied: pydantic-settings<3.0.0,>=2.4.0 in /usr/local/lib/python3.11/dist-packages (from langchain-community) (2.10.1)\n",
            "Requirement already satisfied: langsmith>=0.1.125 in /usr/local/lib/python3.11/dist-packages (from langchain-community) (0.4.4)\n",
            "Requirement already satisfied: httpx-sse<1.0.0,>=0.4.0 in /usr/local/lib/python3.11/dist-packages (from langchain-community) (0.4.1)\n",
            "Requirement already satisfied: numpy>=1.26.2 in /usr/local/lib/python3.11/dist-packages (from langchain-community) (2.0.2)\n",
            "Requirement already satisfied: build>=1.0.3 in /usr/local/lib/python3.11/dist-packages (from chromadb) (1.2.2.post1)\n",
            "Requirement already satisfied: pydantic>=1.9 in /usr/local/lib/python3.11/dist-packages (from chromadb) (2.11.7)\n",
            "Collecting pybase64>=1.4.1 (from chromadb)\n",
            "  Downloading pybase64-1.4.1-cp311-cp311-manylinux_2_5_x86_64.manylinux1_x86_64.manylinux_2_17_x86_64.manylinux2014_x86_64.whl.metadata (8.4 kB)\n",
            "Requirement already satisfied: uvicorn>=0.18.3 in /usr/local/lib/python3.11/dist-packages (from uvicorn[standard]>=0.18.3->chromadb) (0.35.0)\n",
            "Collecting posthog<6.0.0,>=2.4.0 (from chromadb)\n",
            "  Downloading posthog-5.4.0-py3-none-any.whl.metadata (5.7 kB)\n",
            "Requirement already satisfied: typing-extensions>=4.5.0 in /usr/local/lib/python3.11/dist-packages (from chromadb) (4.14.0)\n",
            "Collecting onnxruntime>=1.14.1 (from chromadb)\n",
            "  Downloading onnxruntime-1.22.0-cp311-cp311-manylinux_2_27_x86_64.manylinux_2_28_x86_64.whl.metadata (4.5 kB)\n",
            "Collecting opentelemetry-api>=1.2.0 (from chromadb)\n",
            "  Downloading opentelemetry_api-1.34.1-py3-none-any.whl.metadata (1.5 kB)\n",
            "Collecting opentelemetry-exporter-otlp-proto-grpc>=1.2.0 (from chromadb)\n",
            "  Downloading opentelemetry_exporter_otlp_proto_grpc-1.34.1-py3-none-any.whl.metadata (2.4 kB)\n",
            "Collecting opentelemetry-sdk>=1.2.0 (from chromadb)\n",
            "  Downloading opentelemetry_sdk-1.34.1-py3-none-any.whl.metadata (1.6 kB)\n",
            "Requirement already satisfied: tokenizers>=0.13.2 in /usr/local/lib/python3.11/dist-packages (from chromadb) (0.21.2)\n",
            "Collecting pypika>=0.48.9 (from chromadb)\n",
            "  Downloading PyPika-0.48.9.tar.gz (67 kB)\n",
            "\u001b[2K     \u001b[90m━━━━━━━━━━━━━━━━━━━━━━━━━━━━━━━━━━━━━━━━\u001b[0m \u001b[32m67.3/67.3 kB\u001b[0m \u001b[31m4.9 MB/s\u001b[0m eta \u001b[36m0:00:00\u001b[0m\n",
            "\u001b[?25h  Installing build dependencies ... \u001b[?25l\u001b[?25hdone\n",
            "  Getting requirements to build wheel ... \u001b[?25l\u001b[?25hdone\n",
            "  Preparing metadata (pyproject.toml) ... \u001b[?25l\u001b[?25hdone\n",
            "Requirement already satisfied: tqdm>=4.65.0 in /usr/local/lib/python3.11/dist-packages (from chromadb) (4.67.1)\n",
            "Collecting overrides>=7.3.1 (from chromadb)\n",
            "  Downloading overrides-7.7.0-py3-none-any.whl.metadata (5.8 kB)\n",
            "Requirement already satisfied: importlib-resources in /usr/local/lib/python3.11/dist-packages (from chromadb) (6.5.2)\n",
            "Requirement already satisfied: grpcio>=1.58.0 in /usr/local/lib/python3.11/dist-packages (from chromadb) (1.73.1)\n",
            "Collecting bcrypt>=4.0.1 (from chromadb)\n",
            "  Downloading bcrypt-4.3.0-cp39-abi3-manylinux_2_34_x86_64.whl.metadata (10 kB)\n",
            "Requirement already satisfied: typer>=0.9.0 in /usr/local/lib/python3.11/dist-packages (from chromadb) (0.16.0)\n",
            "Collecting kubernetes>=28.1.0 (from chromadb)\n",
            "  Downloading kubernetes-33.1.0-py2.py3-none-any.whl.metadata (1.7 kB)\n",
            "Collecting mmh3>=4.0.1 (from chromadb)\n",
            "  Downloading mmh3-5.1.0-cp311-cp311-manylinux_2_5_x86_64.manylinux1_x86_64.manylinux_2_17_x86_64.manylinux2014_x86_64.whl.metadata (16 kB)\n",
            "Requirement already satisfied: orjson>=3.9.12 in /usr/local/lib/python3.11/dist-packages (from chromadb) (3.10.18)\n",
            "Requirement already satisfied: httpx>=0.27.0 in /usr/local/lib/python3.11/dist-packages (from chromadb) (0.28.1)\n",
            "Requirement already satisfied: rich>=10.11.0 in /usr/local/lib/python3.11/dist-packages (from chromadb) (13.9.4)\n",
            "Requirement already satisfied: jsonschema>=4.19.0 in /usr/local/lib/python3.11/dist-packages (from chromadb) (4.24.0)\n",
            "Requirement already satisfied: packaging in /usr/local/lib/python3.11/dist-packages (from faiss-cpu) (24.2)\n",
            "Requirement already satisfied: aiohappyeyeballs>=2.3.0 in /usr/local/lib/python3.11/dist-packages (from aiohttp<4.0.0,>=3.8.3->langchain-community) (2.6.1)\n",
            "Requirement already satisfied: aiosignal>=1.1.2 in /usr/local/lib/python3.11/dist-packages (from aiohttp<4.0.0,>=3.8.3->langchain-community) (1.3.2)\n",
            "Requirement already satisfied: attrs>=17.3.0 in /usr/local/lib/python3.11/dist-packages (from aiohttp<4.0.0,>=3.8.3->langchain-community) (25.3.0)\n",
            "Requirement already satisfied: frozenlist>=1.1.1 in /usr/local/lib/python3.11/dist-packages (from aiohttp<4.0.0,>=3.8.3->langchain-community) (1.7.0)\n",
            "Requirement already satisfied: multidict<7.0,>=4.5 in /usr/local/lib/python3.11/dist-packages (from aiohttp<4.0.0,>=3.8.3->langchain-community) (6.6.3)\n",
            "Requirement already satisfied: propcache>=0.2.0 in /usr/local/lib/python3.11/dist-packages (from aiohttp<4.0.0,>=3.8.3->langchain-community) (0.3.2)\n",
            "Requirement already satisfied: yarl<2.0,>=1.17.0 in /usr/local/lib/python3.11/dist-packages (from aiohttp<4.0.0,>=3.8.3->langchain-community) (1.20.1)\n",
            "Requirement already satisfied: pyproject_hooks in /usr/local/lib/python3.11/dist-packages (from build>=1.0.3->chromadb) (1.2.0)\n",
            "Requirement already satisfied: marshmallow<4.0.0,>=3.18.0 in /usr/local/lib/python3.11/dist-packages (from dataclasses-json<0.7,>=0.5.7->langchain-community) (3.26.1)\n",
            "Requirement already satisfied: typing-inspect<1,>=0.4.0 in /usr/local/lib/python3.11/dist-packages (from dataclasses-json<0.7,>=0.5.7->langchain-community) (0.9.0)\n",
            "Requirement already satisfied: anyio in /usr/local/lib/python3.11/dist-packages (from httpx>=0.27.0->chromadb) (4.9.0)\n",
            "Requirement already satisfied: certifi in /usr/local/lib/python3.11/dist-packages (from httpx>=0.27.0->chromadb) (2025.6.15)\n",
            "Requirement already satisfied: httpcore==1.* in /usr/local/lib/python3.11/dist-packages (from httpx>=0.27.0->chromadb) (1.0.9)\n",
            "Requirement already satisfied: idna in /usr/local/lib/python3.11/dist-packages (from httpx>=0.27.0->chromadb) (3.10)\n",
            "Requirement already satisfied: h11>=0.16 in /usr/local/lib/python3.11/dist-packages (from httpcore==1.*->httpx>=0.27.0->chromadb) (0.16.0)\n",
            "Requirement already satisfied: jsonschema-specifications>=2023.03.6 in /usr/local/lib/python3.11/dist-packages (from jsonschema>=4.19.0->chromadb) (2025.4.1)\n",
            "Requirement already satisfied: referencing>=0.28.4 in /usr/local/lib/python3.11/dist-packages (from jsonschema>=4.19.0->chromadb) (0.36.2)\n",
            "Requirement already satisfied: rpds-py>=0.7.1 in /usr/local/lib/python3.11/dist-packages (from jsonschema>=4.19.0->chromadb) (0.26.0)\n",
            "Requirement already satisfied: six>=1.9.0 in /usr/local/lib/python3.11/dist-packages (from kubernetes>=28.1.0->chromadb) (1.17.0)\n",
            "Requirement already satisfied: python-dateutil>=2.5.3 in /usr/local/lib/python3.11/dist-packages (from kubernetes>=28.1.0->chromadb) (2.9.0.post0)\n",
            "Requirement already satisfied: google-auth>=1.0.1 in /usr/local/lib/python3.11/dist-packages (from kubernetes>=28.1.0->chromadb) (2.38.0)\n",
            "Requirement already satisfied: websocket-client!=0.40.0,!=0.41.*,!=0.42.*,>=0.32.0 in /usr/local/lib/python3.11/dist-packages (from kubernetes>=28.1.0->chromadb) (1.8.0)\n",
            "Requirement already satisfied: requests-oauthlib in /usr/local/lib/python3.11/dist-packages (from kubernetes>=28.1.0->chromadb) (2.0.0)\n",
            "Requirement already satisfied: oauthlib>=3.2.2 in /usr/local/lib/python3.11/dist-packages (from kubernetes>=28.1.0->chromadb) (3.3.1)\n",
            "Requirement already satisfied: urllib3>=1.24.2 in /usr/local/lib/python3.11/dist-packages (from kubernetes>=28.1.0->chromadb) (2.4.0)\n",
            "Collecting durationpy>=0.7 (from kubernetes>=28.1.0->chromadb)\n",
            "  Downloading durationpy-0.10-py3-none-any.whl.metadata (340 bytes)\n",
            "Requirement already satisfied: langchain-text-splitters<1.0.0,>=0.3.8 in /usr/local/lib/python3.11/dist-packages (from langchain<1.0.0,>=0.3.26->langchain-community) (0.3.8)\n",
            "Requirement already satisfied: jsonpatch<2.0,>=1.33 in /usr/local/lib/python3.11/dist-packages (from langchain-core<1.0.0,>=0.3.66->langchain-community) (1.33)\n",
            "Requirement already satisfied: requests-toolbelt<2.0.0,>=1.0.0 in /usr/local/lib/python3.11/dist-packages (from langsmith>=0.1.125->langchain-community) (1.0.0)\n",
            "Requirement already satisfied: zstandard<0.24.0,>=0.23.0 in /usr/local/lib/python3.11/dist-packages (from langsmith>=0.1.125->langchain-community) (0.23.0)\n",
            "Collecting coloredlogs (from onnxruntime>=1.14.1->chromadb)\n",
            "  Downloading coloredlogs-15.0.1-py2.py3-none-any.whl.metadata (12 kB)\n",
            "Requirement already satisfied: flatbuffers in /usr/local/lib/python3.11/dist-packages (from onnxruntime>=1.14.1->chromadb) (25.2.10)\n",
            "Requirement already satisfied: protobuf in /usr/local/lib/python3.11/dist-packages (from onnxruntime>=1.14.1->chromadb) (5.29.5)\n",
            "Requirement already satisfied: sympy in /usr/local/lib/python3.11/dist-packages (from onnxruntime>=1.14.1->chromadb) (1.13.1)\n",
            "Requirement already satisfied: importlib-metadata<8.8.0,>=6.0 in /usr/local/lib/python3.11/dist-packages (from opentelemetry-api>=1.2.0->chromadb) (8.7.0)\n",
            "Requirement already satisfied: googleapis-common-protos~=1.52 in /usr/local/lib/python3.11/dist-packages (from opentelemetry-exporter-otlp-proto-grpc>=1.2.0->chromadb) (1.70.0)\n",
            "Collecting opentelemetry-exporter-otlp-proto-common==1.34.1 (from opentelemetry-exporter-otlp-proto-grpc>=1.2.0->chromadb)\n",
            "  Downloading opentelemetry_exporter_otlp_proto_common-1.34.1-py3-none-any.whl.metadata (1.9 kB)\n",
            "Collecting opentelemetry-proto==1.34.1 (from opentelemetry-exporter-otlp-proto-grpc>=1.2.0->chromadb)\n",
            "  Downloading opentelemetry_proto-1.34.1-py3-none-any.whl.metadata (2.4 kB)\n",
            "Collecting opentelemetry-semantic-conventions==0.55b1 (from opentelemetry-sdk>=1.2.0->chromadb)\n",
            "  Downloading opentelemetry_semantic_conventions-0.55b1-py3-none-any.whl.metadata (2.5 kB)\n",
            "Collecting backoff>=1.10.0 (from posthog<6.0.0,>=2.4.0->chromadb)\n",
            "  Downloading backoff-2.2.1-py3-none-any.whl.metadata (14 kB)\n",
            "Requirement already satisfied: distro>=1.5.0 in /usr/local/lib/python3.11/dist-packages (from posthog<6.0.0,>=2.4.0->chromadb) (1.9.0)\n",
            "Requirement already satisfied: annotated-types>=0.6.0 in /usr/local/lib/python3.11/dist-packages (from pydantic>=1.9->chromadb) (0.7.0)\n",
            "Requirement already satisfied: pydantic-core==2.33.2 in /usr/local/lib/python3.11/dist-packages (from pydantic>=1.9->chromadb) (2.33.2)\n",
            "Requirement already satisfied: typing-inspection>=0.4.0 in /usr/local/lib/python3.11/dist-packages (from pydantic>=1.9->chromadb) (0.4.1)\n",
            "Requirement already satisfied: python-dotenv>=0.21.0 in /usr/local/lib/python3.11/dist-packages (from pydantic-settings<3.0.0,>=2.4.0->langchain-community) (1.1.1)\n",
            "Requirement already satisfied: charset-normalizer<4,>=2 in /usr/local/lib/python3.11/dist-packages (from requests<3,>=2->langchain-community) (3.4.2)\n",
            "Requirement already satisfied: markdown-it-py>=2.2.0 in /usr/local/lib/python3.11/dist-packages (from rich>=10.11.0->chromadb) (3.0.0)\n",
            "Requirement already satisfied: pygments<3.0.0,>=2.13.0 in /usr/local/lib/python3.11/dist-packages (from rich>=10.11.0->chromadb) (2.19.2)\n",
            "Requirement already satisfied: greenlet>=1 in /usr/local/lib/python3.11/dist-packages (from SQLAlchemy<3,>=1.4->langchain-community) (3.2.3)\n",
            "Requirement already satisfied: huggingface-hub<1.0,>=0.16.4 in /usr/local/lib/python3.11/dist-packages (from tokenizers>=0.13.2->chromadb) (0.33.1)\n",
            "Requirement already satisfied: click>=8.0.0 in /usr/local/lib/python3.11/dist-packages (from typer>=0.9.0->chromadb) (8.2.1)\n",
            "Requirement already satisfied: shellingham>=1.3.0 in /usr/local/lib/python3.11/dist-packages (from typer>=0.9.0->chromadb) (1.5.4)\n",
            "Collecting httptools>=0.6.3 (from uvicorn[standard]>=0.18.3->chromadb)\n",
            "  Downloading httptools-0.6.4-cp311-cp311-manylinux_2_5_x86_64.manylinux1_x86_64.manylinux_2_17_x86_64.manylinux2014_x86_64.whl.metadata (3.6 kB)\n",
            "Collecting uvloop>=0.15.1 (from uvicorn[standard]>=0.18.3->chromadb)\n",
            "  Downloading uvloop-0.21.0-cp311-cp311-manylinux_2_17_x86_64.manylinux2014_x86_64.whl.metadata (4.9 kB)\n",
            "Collecting watchfiles>=0.13 (from uvicorn[standard]>=0.18.3->chromadb)\n",
            "  Downloading watchfiles-1.1.0-cp311-cp311-manylinux_2_17_x86_64.manylinux2014_x86_64.whl.metadata (4.9 kB)\n",
            "Requirement already satisfied: websockets>=10.4 in /usr/local/lib/python3.11/dist-packages (from uvicorn[standard]>=0.18.3->chromadb) (15.0.1)\n",
            "Requirement already satisfied: cachetools<6.0,>=2.0.0 in /usr/local/lib/python3.11/dist-packages (from google-auth>=1.0.1->kubernetes>=28.1.0->chromadb) (5.5.2)\n",
            "Requirement already satisfied: pyasn1-modules>=0.2.1 in /usr/local/lib/python3.11/dist-packages (from google-auth>=1.0.1->kubernetes>=28.1.0->chromadb) (0.4.2)\n",
            "Requirement already satisfied: rsa<5,>=3.1.4 in /usr/local/lib/python3.11/dist-packages (from google-auth>=1.0.1->kubernetes>=28.1.0->chromadb) (4.9.1)\n",
            "Requirement already satisfied: filelock in /usr/local/lib/python3.11/dist-packages (from huggingface-hub<1.0,>=0.16.4->tokenizers>=0.13.2->chromadb) (3.18.0)\n",
            "Requirement already satisfied: fsspec>=2023.5.0 in /usr/local/lib/python3.11/dist-packages (from huggingface-hub<1.0,>=0.16.4->tokenizers>=0.13.2->chromadb) (2025.3.2)\n",
            "Requirement already satisfied: hf-xet<2.0.0,>=1.1.2 in /usr/local/lib/python3.11/dist-packages (from huggingface-hub<1.0,>=0.16.4->tokenizers>=0.13.2->chromadb) (1.1.5)\n",
            "Requirement already satisfied: zipp>=3.20 in /usr/local/lib/python3.11/dist-packages (from importlib-metadata<8.8.0,>=6.0->opentelemetry-api>=1.2.0->chromadb) (3.23.0)\n",
            "Requirement already satisfied: jsonpointer>=1.9 in /usr/local/lib/python3.11/dist-packages (from jsonpatch<2.0,>=1.33->langchain-core<1.0.0,>=0.3.66->langchain-community) (3.0.0)\n",
            "Requirement already satisfied: mdurl~=0.1 in /usr/local/lib/python3.11/dist-packages (from markdown-it-py>=2.2.0->rich>=10.11.0->chromadb) (0.1.2)\n",
            "Requirement already satisfied: mypy-extensions>=0.3.0 in /usr/local/lib/python3.11/dist-packages (from typing-inspect<1,>=0.4.0->dataclasses-json<0.7,>=0.5.7->langchain-community) (1.1.0)\n",
            "Requirement already satisfied: sniffio>=1.1 in /usr/local/lib/python3.11/dist-packages (from anyio->httpx>=0.27.0->chromadb) (1.3.1)\n",
            "Collecting humanfriendly>=9.1 (from coloredlogs->onnxruntime>=1.14.1->chromadb)\n",
            "  Downloading humanfriendly-10.0-py2.py3-none-any.whl.metadata (9.2 kB)\n",
            "Requirement already satisfied: mpmath<1.4,>=1.1.0 in /usr/local/lib/python3.11/dist-packages (from sympy->onnxruntime>=1.14.1->chromadb) (1.3.0)\n",
            "Requirement already satisfied: pyasn1<0.7.0,>=0.6.1 in /usr/local/lib/python3.11/dist-packages (from pyasn1-modules>=0.2.1->google-auth>=1.0.1->kubernetes>=28.1.0->chromadb) (0.6.1)\n",
            "Downloading chromadb-1.0.15-cp39-abi3-manylinux_2_17_x86_64.manylinux2014_x86_64.whl (19.5 MB)\n",
            "\u001b[2K   \u001b[90m━━━━━━━━━━━━━━━━━━━━━━━━━━━━━━━━━━━━━━━━\u001b[0m \u001b[32m19.5/19.5 MB\u001b[0m \u001b[31m85.1 MB/s\u001b[0m eta \u001b[36m0:00:00\u001b[0m\n",
            "\u001b[?25hDownloading faiss_cpu-1.11.0-cp311-cp311-manylinux_2_28_x86_64.whl (31.3 MB)\n",
            "\u001b[2K   \u001b[90m━━━━━━━━━━━━━━━━━━━━━━━━━━━━━━━━━━━━━━━━\u001b[0m \u001b[32m31.3/31.3 MB\u001b[0m \u001b[31m23.6 MB/s\u001b[0m eta \u001b[36m0:00:00\u001b[0m\n",
            "\u001b[?25hDownloading bcrypt-4.3.0-cp39-abi3-manylinux_2_34_x86_64.whl (284 kB)\n",
            "\u001b[2K   \u001b[90m━━━━━━━━━━━━━━━━━━━━━━━━━━━━━━━━━━━━━━━━\u001b[0m \u001b[32m284.2/284.2 kB\u001b[0m \u001b[31m20.0 MB/s\u001b[0m eta \u001b[36m0:00:00\u001b[0m\n",
            "\u001b[?25hDownloading kubernetes-33.1.0-py2.py3-none-any.whl (1.9 MB)\n",
            "\u001b[2K   \u001b[90m━━━━━━━━━━━━━━━━━━━━━━━━━━━━━━━━━━━━━━━━\u001b[0m \u001b[32m1.9/1.9 MB\u001b[0m \u001b[31m52.2 MB/s\u001b[0m eta \u001b[36m0:00:00\u001b[0m\n",
            "\u001b[?25hDownloading mmh3-5.1.0-cp311-cp311-manylinux_2_5_x86_64.manylinux1_x86_64.manylinux_2_17_x86_64.manylinux2014_x86_64.whl (101 kB)\n",
            "\u001b[2K   \u001b[90m━━━━━━━━━━━━━━━━━━━━━━━━━━━━━━━━━━━━━━━━\u001b[0m \u001b[32m101.6/101.6 kB\u001b[0m \u001b[31m7.2 MB/s\u001b[0m eta \u001b[36m0:00:00\u001b[0m\n",
            "\u001b[?25hDownloading onnxruntime-1.22.0-cp311-cp311-manylinux_2_27_x86_64.manylinux_2_28_x86_64.whl (16.4 MB)\n",
            "\u001b[2K   \u001b[90m━━━━━━━━━━━━━━━━━━━━━━━━━━━━━━━━━━━━━━━━\u001b[0m \u001b[32m16.4/16.4 MB\u001b[0m \u001b[31m80.5 MB/s\u001b[0m eta \u001b[36m0:00:00\u001b[0m\n",
            "\u001b[?25hDownloading opentelemetry_api-1.34.1-py3-none-any.whl (65 kB)\n",
            "\u001b[2K   \u001b[90m━━━━━━━━━━━━━━━━━━━━━━━━━━━━━━━━━━━━━━━━\u001b[0m \u001b[32m65.8/65.8 kB\u001b[0m \u001b[31m4.6 MB/s\u001b[0m eta \u001b[36m0:00:00\u001b[0m\n",
            "\u001b[?25hDownloading opentelemetry_exporter_otlp_proto_grpc-1.34.1-py3-none-any.whl (18 kB)\n",
            "Downloading opentelemetry_exporter_otlp_proto_common-1.34.1-py3-none-any.whl (18 kB)\n",
            "Downloading opentelemetry_proto-1.34.1-py3-none-any.whl (55 kB)\n",
            "\u001b[2K   \u001b[90m━━━━━━━━━━━━━━━━━━━━━━━━━━━━━━━━━━━━━━━━\u001b[0m \u001b[32m55.7/55.7 kB\u001b[0m \u001b[31m3.1 MB/s\u001b[0m eta \u001b[36m0:00:00\u001b[0m\n",
            "\u001b[?25hDownloading opentelemetry_sdk-1.34.1-py3-none-any.whl (118 kB)\n",
            "\u001b[2K   \u001b[90m━━━━━━━━━━━━━━━━━━━━━━━━━━━━━━━━━━━━━━━━\u001b[0m \u001b[32m118.5/118.5 kB\u001b[0m \u001b[31m8.6 MB/s\u001b[0m eta \u001b[36m0:00:00\u001b[0m\n",
            "\u001b[?25hDownloading opentelemetry_semantic_conventions-0.55b1-py3-none-any.whl (196 kB)\n",
            "\u001b[2K   \u001b[90m━━━━━━━━━━━━━━━━━━━━━━━━━━━━━━━━━━━━━━━━\u001b[0m \u001b[32m196.2/196.2 kB\u001b[0m \u001b[31m14.4 MB/s\u001b[0m eta \u001b[36m0:00:00\u001b[0m\n",
            "\u001b[?25hDownloading overrides-7.7.0-py3-none-any.whl (17 kB)\n",
            "Downloading posthog-5.4.0-py3-none-any.whl (105 kB)\n",
            "\u001b[2K   \u001b[90m━━━━━━━━━━━━━━━━━━━━━━━━━━━━━━━━━━━━━━━━\u001b[0m \u001b[32m105.4/105.4 kB\u001b[0m \u001b[31m8.0 MB/s\u001b[0m eta \u001b[36m0:00:00\u001b[0m\n",
            "\u001b[?25hDownloading pybase64-1.4.1-cp311-cp311-manylinux_2_5_x86_64.manylinux1_x86_64.manylinux_2_17_x86_64.manylinux2014_x86_64.whl (71 kB)\n",
            "\u001b[2K   \u001b[90m━━━━━━━━━━━━━━━━━━━━━━━━━━━━━━━━━━━━━━━━\u001b[0m \u001b[32m71.2/71.2 kB\u001b[0m \u001b[31m4.5 MB/s\u001b[0m eta \u001b[36m0:00:00\u001b[0m\n",
            "\u001b[?25hDownloading backoff-2.2.1-py3-none-any.whl (15 kB)\n",
            "Downloading durationpy-0.10-py3-none-any.whl (3.9 kB)\n",
            "Downloading httptools-0.6.4-cp311-cp311-manylinux_2_5_x86_64.manylinux1_x86_64.manylinux_2_17_x86_64.manylinux2014_x86_64.whl (459 kB)\n",
            "\u001b[2K   \u001b[90m━━━━━━━━━━━━━━━━━━━━━━━━━━━━━━━━━━━━━━━━\u001b[0m \u001b[32m459.8/459.8 kB\u001b[0m \u001b[31m27.9 MB/s\u001b[0m eta \u001b[36m0:00:00\u001b[0m\n",
            "\u001b[?25hDownloading uvloop-0.21.0-cp311-cp311-manylinux_2_17_x86_64.manylinux2014_x86_64.whl (4.0 MB)\n",
            "\u001b[2K   \u001b[90m━━━━━━━━━━━━━━━━━━━━━━━━━━━━━━━━━━━━━━━━\u001b[0m \u001b[32m4.0/4.0 MB\u001b[0m \u001b[31m81.9 MB/s\u001b[0m eta \u001b[36m0:00:00\u001b[0m\n",
            "\u001b[?25hDownloading watchfiles-1.1.0-cp311-cp311-manylinux_2_17_x86_64.manylinux2014_x86_64.whl (453 kB)\n",
            "\u001b[2K   \u001b[90m━━━━━━━━━━━━━━━━━━━━━━━━━━━━━━━━━━━━━━━━\u001b[0m \u001b[32m453.1/453.1 kB\u001b[0m \u001b[31m30.6 MB/s\u001b[0m eta \u001b[36m0:00:00\u001b[0m\n",
            "\u001b[?25hDownloading coloredlogs-15.0.1-py2.py3-none-any.whl (46 kB)\n",
            "\u001b[2K   \u001b[90m━━━━━━━━━━━━━━━━━━━━━━━━━━━━━━━━━━━━━━━━\u001b[0m \u001b[32m46.0/46.0 kB\u001b[0m \u001b[31m3.2 MB/s\u001b[0m eta \u001b[36m0:00:00\u001b[0m\n",
            "\u001b[?25hDownloading humanfriendly-10.0-py2.py3-none-any.whl (86 kB)\n",
            "\u001b[2K   \u001b[90m━━━━━━━━━━━━━━━━━━━━━━━━━━━━━━━━━━━━━━━━\u001b[0m \u001b[32m86.8/86.8 kB\u001b[0m \u001b[31m7.0 MB/s\u001b[0m eta \u001b[36m0:00:00\u001b[0m\n",
            "\u001b[?25hBuilding wheels for collected packages: pypika\n",
            "  Building wheel for pypika (pyproject.toml) ... \u001b[?25l\u001b[?25hdone\n",
            "  Created wheel for pypika: filename=pypika-0.48.9-py2.py3-none-any.whl size=53803 sha256=2714370e65f92aa62840fc049a7e1499eace9bd71592d9a49644d321e23f5f96\n",
            "  Stored in directory: /root/.cache/pip/wheels/a3/01/bd/4c40ceb9d5354160cb186dcc153360f4ab7eb23e2b24daf96d\n",
            "Successfully built pypika\n",
            "Installing collected packages: pypika, durationpy, uvloop, pybase64, overrides, opentelemetry-proto, mmh3, humanfriendly, httptools, faiss-cpu, bcrypt, backoff, watchfiles, posthog, opentelemetry-exporter-otlp-proto-common, opentelemetry-api, coloredlogs, opentelemetry-semantic-conventions, onnxruntime, kubernetes, opentelemetry-sdk, opentelemetry-exporter-otlp-proto-grpc, chromadb\n",
            "Successfully installed backoff-2.2.1 bcrypt-4.3.0 chromadb-1.0.15 coloredlogs-15.0.1 durationpy-0.10 faiss-cpu-1.11.0 httptools-0.6.4 humanfriendly-10.0 kubernetes-33.1.0 mmh3-5.1.0 onnxruntime-1.22.0 opentelemetry-api-1.34.1 opentelemetry-exporter-otlp-proto-common-1.34.1 opentelemetry-exporter-otlp-proto-grpc-1.34.1 opentelemetry-proto-1.34.1 opentelemetry-sdk-1.34.1 opentelemetry-semantic-conventions-0.55b1 overrides-7.7.0 posthog-5.4.0 pybase64-1.4.1 pypika-0.48.9 uvloop-0.21.0 watchfiles-1.1.0\n"
          ]
        }
      ]
    },
    {
      "cell_type": "markdown",
      "source": [
        "## 1. 크로마"
      ],
      "metadata": {
        "id": "jO3wzvrdf798"
      }
    },
    {
      "cell_type": "code",
      "source": [
        "import os\n",
        "import urllib.request\n",
        "from langchain.document_loaders import PyPDFLoader\n",
        "from langchain.text_splitter import RecursiveCharacterTextSplitter\n",
        "from langchain.embeddings import OpenAIEmbeddings\n",
        "from langchain.vectorstores import Chroma\n",
        "from langchain.vectorstores import FAISS"
      ],
      "metadata": {
        "id": "ZdsUAJOQf2rE"
      },
      "execution_count": 15,
      "outputs": []
    },
    {
      "cell_type": "code",
      "source": [
        "urllib.request.urlretrieve(\"https://github.com/chatgpt-kr/openai-api-tutorial/raw/main/ch06/2023_%EB%B6%81%ED%95%9C%EC%9D%B8%EA%B6%8C%EB%B3%B4%EA%B3%A0%EC%84%9C.pdf\", filename=\"2023_북한인권보고서.pdf\")"
      ],
      "metadata": {
        "colab": {
          "base_uri": "https://localhost:8080/"
        },
        "id": "THBS6OI7gUHW",
        "outputId": "cb20c572-24f1-4f45-c86e-47757b8b2a4f"
      },
      "execution_count": 18,
      "outputs": [
        {
          "output_type": "execute_result",
          "data": {
            "text/plain": [
              "('2023_북한인권보고서.pdf', <http.client.HTTPMessage at 0x784ed2161850>)"
            ]
          },
          "metadata": {},
          "execution_count": 18
        }
      ]
    },
    {
      "cell_type": "code",
      "source": [
        "loader = PyPDFLoader('2023_북한인권보고서.pdf')\n",
        "pages = loader.load_and_split()\n",
        "print('청크의 수:', len(pages))"
      ],
      "metadata": {
        "colab": {
          "base_uri": "https://localhost:8080/"
        },
        "id": "_QJbtbA7gW71",
        "outputId": "d7e6cfe4-f0c8-4635-db3a-b4d87813d5cf"
      },
      "execution_count": 19,
      "outputs": [
        {
          "output_type": "stream",
          "name": "stdout",
          "text": [
            "청크의 수: 445\n"
          ]
        }
      ]
    },
    {
      "cell_type": "markdown",
      "source": [
        "추가 분할"
      ],
      "metadata": {
        "id": "mIJWuh6hhoCk"
      }
    },
    {
      "cell_type": "code",
      "source": [
        "text_splitter= RecursiveCharacterTextSplitter(chunk_size = 1000, chunk_overlap = 0)"
      ],
      "metadata": {
        "id": "6t5HyZE8gbr0"
      },
      "execution_count": 20,
      "outputs": []
    },
    {
      "cell_type": "code",
      "source": [
        "splitted_docs = text_splitter.split_documents(pages)\n",
        "print(len(splitted_docs))"
      ],
      "metadata": {
        "colab": {
          "base_uri": "https://localhost:8080/"
        },
        "id": "qyL8pyZTgnZW",
        "outputId": "86740273-97d9-4d1b-d369-5632de1b16cd"
      },
      "execution_count": 21,
      "outputs": [
        {
          "output_type": "stream",
          "name": "stdout",
          "text": [
            "497\n"
          ]
        }
      ]
    },
    {
      "cell_type": "code",
      "source": [
        "chunks = [splitted_doc.page_content for splitted_doc in splitted_docs]\n",
        "print(\"청크 최대 길이:\", max(len(chunk) for chunk in chunks))\n",
        "print(\"청크 최소 길이:\", min(len(chunk) for chunk in chunks))\n",
        "print(\"청크 평균 길이:\", sum(map(len, chunks)) / len(chunks))"
      ],
      "metadata": {
        "colab": {
          "base_uri": "https://localhost:8080/"
        },
        "id": "3L0sjBY8hAa7",
        "outputId": "351223de-eb05-445e-d782-fd5c3bb3958a"
      },
      "execution_count": 23,
      "outputs": [
        {
          "output_type": "stream",
          "name": "stdout",
          "text": [
            "청크 최대 길이: 1000\n",
            "청크 최소 길이: 6\n",
            "청크 평균 길이: 748.8269617706237\n"
          ]
        }
      ]
    },
    {
      "cell_type": "code",
      "source": [
        "#각 청크를 임베딩과 동시에 크로마 데이터베이스에 적재\n",
        "db = Chroma.from_documents(splitted_docs, OpenAIEmbeddings(chunk_size = 100))\n",
        "print(\"문서의 수:\", db._collection.count())"
      ],
      "metadata": {
        "colab": {
          "base_uri": "https://localhost:8080/"
        },
        "id": "_zx9j8cRhMFT",
        "outputId": "0d8ed651-74df-4ae3-a499-ff6ef6a0d4f1"
      },
      "execution_count": 24,
      "outputs": [
        {
          "output_type": "stream",
          "name": "stdout",
          "text": [
            "문서의 수: 497\n"
          ]
        }
      ]
    },
    {
      "cell_type": "code",
      "source": [
        "question = '북한의 교육과정'\n",
        "docs = db.similarity_search(question) #유사도가 높은 문서\n",
        "print(\"문서의 수:\", len(docs))"
      ],
      "metadata": {
        "colab": {
          "base_uri": "https://localhost:8080/"
        },
        "id": "0Orrz-ZOh-jm",
        "outputId": "7a20aae7-77db-466a-b457-daa55c16c31b"
      },
      "execution_count": 26,
      "outputs": [
        {
          "output_type": "stream",
          "name": "stdout",
          "text": [
            "문서의 수: 4\n"
          ]
        }
      ]
    },
    {
      "cell_type": "code",
      "source": [
        "for doc in docs:\n",
        "    print(doc)\n",
        "    print(\"--\" * 50)"
      ],
      "metadata": {
        "colab": {
          "base_uri": "https://localhost:8080/"
        },
        "id": "-6wVW5qjiSA7",
        "outputId": "ab9b2e5d-a66c-48e3-c175-cf700356fe3d"
      },
      "execution_count": 27,
      "outputs": [
        {
          "output_type": "stream",
          "name": "stdout",
          "text": [
            "page_content='2023 북한인권보고서\n",
            "40\n",
            "명목의 교육비용이 전가되고 있는 것으로 나타났다. 교과서는 ‘교과\n",
            "서 요금’이라는 명목으로 일정 금액을 내야하는 경우가 많으며, 교\n",
            "과서가 모든 학생에게 충분히 제공되지 않고 학년을 마치면 다음 학\n",
            "년에 교과서를 물려주어야 했다는 사례가 다수 수집되었다. 소학교\n",
            "부터 학교운영비, 꼬마계획 등의 비용을 내야했다는 진술이 꾸준히 \n",
            "수집되고 있는데, 학교시설 현대화 작업이 진행되면서 학교꾸리기 \n",
            "비용이 증가했다고 한다. 학교에서 요구하는 돈이나 물품은 교원에 \n",
            "의해 사실상 강제되고 있었는데, 비용을 내지 못하는 경우 동급생들 \n",
            "앞에서 망신을 주거나 비판하여 형편이 어려운 학생들은 학교를 그\n",
            "만두는 선택을 하는 경우가 많다고 한다. 또한 도시와 농촌 간 교육\n",
            "환경의 차이가 크며 대학입학에서 출신성분에 의한 차별이 있고, 교\n",
            "육기회의 제공에도 경제력이 영향을 미치고 있어 성분·지역·경제\n",
            "력에 따른 차별이 존재하는 것으로 나타났다. 교육환경도 열악한데, \n",
            "학교시설의 현대화 작업에도 불구하고 양호실, 도서관, 위생시설이 \n",
            "없는 학교도 많은 것으로 보인다. 교원에 대한 경제적 보상도 적절\n",
            "히 이루어지지 않아, 교원들은 생계를 유지하기 위해 잘사는 학부모\n",
            "의 원조를 받거나 자신의 텃밭에 학생을 동원시키고 있어 학생들은 \n",
            "제대로 된 교육여건을 보장받지 못하고 있는 것으로 나타났다. 또\n",
            "한, 일반교육보다 정치사상교육을 앞세우고 있으며 교과과정에 실\n",
            "탄사격을 하는 군사훈련을 편성하여 학생들을 의무적으로 참석하게 \n",
            "하고 있다.\n",
            "북한의 사회보장 제도로는 연로연금, 노동능력상실 연금, 유가족 \n",
            "연금 등 생계가 결핍된 경우 기초적인 생계를 보장하기 위한 연금제\n",
            "도가 있으며, 사회보험금의 성격을 지닌 보조금 제도가 있다. 연로' metadata={'creationdate': '2023-07-31T13:50:27+09:00', 'moddate': '2023-07-31T13:57:54+09:00', 'producer': 'Adobe PDF Library 10.0.1', 'total_pages': 448, 'page_label': '42', 'trapped': '/False', 'page': 41, 'source': '2023_북한인권보고서.pdf', 'creator': 'Adobe InDesign CS6 (Windows)'}\n",
            "----------------------------------------------------------------------------------------------------\n",
            "page_content='309\t\t북한의\t학제는\t2012년\t전반적\t의무교육(유치원\t1년,\t소학교\t5년,\t초급중학교\t3년,\t고급중학교\t3년)으로\t\n",
            "개편되었는데,\t학제개편\t이전에는\t초급중학교와\t고급중학교를\t통합하여\t중학교\t6년\t과정(1972년~2011\n",
            "년)으로\t운영하였고,\t중학교\t또는\t고등중학교라고\t칭하였다.(통일부\t국립통일교육원,\t『북한의\t이해』,\t\n",
            "2022)' metadata={'page': 283, 'producer': 'Adobe PDF Library 10.0.1', 'total_pages': 448, 'creator': 'Adobe InDesign CS6 (Windows)', 'page_label': '284', 'creationdate': '2023-07-31T13:50:27+09:00', 'moddate': '2023-07-31T13:57:54+09:00', 'trapped': '/False', 'source': '2023_북한인권보고서.pdf'}\n",
            "----------------------------------------------------------------------------------------------------\n",
            "page_content='2023 북한인권보고서\n",
            "342\n",
            "2018년에 학교에서 추천하여 소년궁전 스키부에 선발되었으나, 체\n",
            "육종합지도원이 자신의 출신성분이 좋지 않다는 이유로 선발명단에\n",
            "서 자신을 제외했다고 진술하였다. 정치범수용소에서는 이주민 자\n",
            "녀의 경우 정규교육과정을 받지 못한다는 증언도 있었다. 정치범수\n",
            "용소에도 소학교와 중학교가 있지만 일반 학교와는 달리 학생들이 \n",
            "책가방 대신 지게를 지고 출석하고 학교에서 농사짓는 법에 대해 배\n",
            "운다고 한다. \n",
            "북한에서는 대학 진학 시에도 출신성분에 따른 차별이 존재하는 \n",
            "것으로 나타났다. 한 증언자는 2019년에 고급중학교를 졸업하고 대\n",
            "학에 진학하려고 했는데, 본인 문건에 어머니가 행방불명으로 되어 \n",
            "있어 출신성분이 나쁘다는 이유로 대학에 진학할 수 없었다고 한다. \n",
            "이러한 차별행위는 교육부의 정책에 따른 것이라고 한다. 다른 증\n",
            "언자는 2018년에 의학대학에 진학하고 싶었는데, 교육과장과 면담\n",
            "하는 과정에서 ‘어머니가 행방불명이라 너 같은 아이는 대학에 가기 \n",
            "어렵다.’는 이야기를 듣고 대학 진학을 포기했다고 한다. 중학교 졸\n",
            "업 후 농민의 자식이라는 이유로 일반 대학뿐만 아니라 공업전문학\n",
            "교도 진학할 수 없었다는 증언도 있었다. \n",
            " \n",
            "(2) 경제력에 따른 차별 \n",
            "북한에서는 교육기회에 있어 경제력에 따른 차별이 존재하는 것\n",
            "으로 보인다. 수집된 증언에 따르면 무상교육제가 유명무실해진 상\n",
            "황에서 교육비 부담으로 경제적 취약계층의 아동들이 장기간 결석하\n",
            "거나 중도에 학교를 그만두는 것으로 나타났다. 한 증언자는 2018년\n",
            "에 아들이 소학교 학생이었는데, 당시 학급 정원의 25% 정도가 경제' metadata={'total_pages': 448, 'trapped': '/False', 'creationdate': '2023-07-31T13:50:27+09:00', 'creator': 'Adobe InDesign CS6 (Windows)', 'page_label': '344', 'source': '2023_북한인권보고서.pdf', 'producer': 'Adobe PDF Library 10.0.1', 'page': 343, 'moddate': '2023-07-31T13:57:54+09:00'}\n",
            "----------------------------------------------------------------------------------------------------\n",
            "page_content='2023 북한인권보고서\n",
            "184\n",
            "데, 당국이 실시하는 반종교 교육을 통해 기독교를 접한 경우였다. 기\n",
            "독교 관련 북한당국의 반종교 교육은 학교 교과과정에서 뿐만 아니\n",
            "라 졸업 후 조직생활을 통해서도 이루어지고 있었다. 수집된 증언에 \n",
            "따르면 북한에서 반종교 교육을 받고 종교에 대한 부정적 인식이 증\n",
            "가했다고 한다. 기독교를 믿는 사람을 반동분자로 인식하고 있었다\n",
            "는 증언들도 있었다. 한 증언자는 2015년에 계급교양관을 1달에 1번\n",
            "씩 참관해야 했는데, 거기서 ‘종교는 침략자들이 북한에 가져온 것으\n",
            "로 그들이 성경도 가져왔다’는 내용이 포함된 반종교 교육을 받았다\n",
            "고 한다. 기독교인들은 제국주의적 침략의 앞잡이이므로 반민족적·\n",
            "반혁명적 적대계층이라는 내용도 있었다고 한다. 다른 증언자는 교육\n",
            "기관, 사회기관, 법기관에서 ‘종교는 허황된 것이고 거짓’이며 선교사\n",
            "는 악한 자라고 세뇌가 될 정도로 지속적으로 교육하기 때문에 감히 \n",
            "종교에 관심을 가질 생각도 하지 못했고 ‘선교사’라는 단어를 들으면 \n",
            "지금도 무섭다고 한다. 인민반 강연 등에서 기독교를 믿는 사람은 반\n",
            "동분자라고 하면서 이들을 보면 신고하라고 했다는 증언도 있었다. \n",
            "“주민들을 모아 놓고 교양하는 때가 있었는데, 그 때 처음 ‘성경책 \n",
            "사진, 예배하는 모습의 사진’을 본 적이 있습니다. 반동조직이라고 \n",
            "교육하면서 성경에는 미신에 관한 것이 적혀있어 이것을 읽게 되면 \n",
            "사상이 변질되니 이런 책을 주변에서 보게 되면 신고하라고 했습니\n",
            "다. 이들은 국가 반역자로 이 땅에서 사라져야 한다고 선전했습니\n",
            "다. 그래서 재북시 저 뿐만이 아니라 북한 주민들은 성경책이 북한 \n",
            "제도에 대해 안 좋게 적어놓은 책으로 알고 있었고 이를 소지하면 \n",
            "죽임을 당한다고 알고 있었습니다. ”\n",
            "북한에서 기독교를 탄압하는 이유는 기독교의 유일신 사상이 수\n",
            "령 우상화 정책과 주체사상에 반하기 때문이라고 한다. 한 증언자는' metadata={'creator': 'Adobe InDesign CS6 (Windows)', 'moddate': '2023-07-31T13:57:54+09:00', 'source': '2023_북한인권보고서.pdf', 'total_pages': 448, 'producer': 'Adobe PDF Library 10.0.1', 'page_label': '186', 'page': 185, 'trapped': '/False', 'creationdate': '2023-07-31T13:50:27+09:00'}\n",
            "----------------------------------------------------------------------------------------------------\n"
          ]
        }
      ]
    },
    {
      "cell_type": "code",
      "source": [
        "#크로마 벡터 데이터베이스를 파일로 저장\n",
        "\n",
        "db_to_file = Chroma.from_documents(splitted_docs, OpenAIEmbeddings(chunk_size = 100),persist_directory='./chroma_test.db')\n",
        "print(\"문서의 수:\", db_to_file._collection.count())"
      ],
      "metadata": {
        "colab": {
          "base_uri": "https://localhost:8080/"
        },
        "id": "2zsRFCUXibrN",
        "outputId": "7c0c946e-3ef7-4af7-aa52-d3011157af0b"
      },
      "execution_count": 28,
      "outputs": [
        {
          "output_type": "stream",
          "name": "stdout",
          "text": [
            "문서의 수: 497\n"
          ]
        }
      ]
    },
    {
      "cell_type": "code",
      "source": [
        "#저장된 데이터베이스 파일 로드\n",
        "db_from_file = Chroma(persist_directory= './chroma_test.db', embedding_function= OpenAIEmbeddings())\n",
        "print(\"문서의 수:\", db_from_file._collection.count())"
      ],
      "metadata": {
        "colab": {
          "base_uri": "https://localhost:8080/"
        },
        "id": "YW00aefMjWdD",
        "outputId": "ff2cdd62-5dfa-4520-9953-158db6b6e814"
      },
      "execution_count": 29,
      "outputs": [
        {
          "output_type": "stream",
          "name": "stdout",
          "text": [
            "문서의 수: 497\n"
          ]
        }
      ]
    },
    {
      "cell_type": "code",
      "source": [
        "# similarity_search() => 유사도 점수 상위 4개 청크를 찾음\n",
        "# 강제로 3개 청크만 찾기, 유사도 점수 출력\n",
        "\n",
        "question = \"북한의 교육과정\"\n",
        "top_three_docs = db_from_file.similarity_search_with_relevance_scores(question, k=3)\n",
        "\n",
        "for doc in top_three_docs:\n",
        "    print(doc)\n",
        "    print(\"--\" * 50)"
      ],
      "metadata": {
        "colab": {
          "base_uri": "https://localhost:8080/"
        },
        "id": "H63OHqKsjt80",
        "outputId": "b6918065-de7e-43ef-8fc7-d1dcbc94e192"
      },
      "execution_count": 30,
      "outputs": [
        {
          "output_type": "stream",
          "name": "stdout",
          "text": [
            "(Document(metadata={'creator': 'Adobe InDesign CS6 (Windows)', 'trapped': '/False', 'producer': 'Adobe PDF Library 10.0.1', 'page_label': '42', 'creationdate': '2023-07-31T13:50:27+09:00', 'source': '2023_북한인권보고서.pdf', 'page': 41, 'moddate': '2023-07-31T13:57:54+09:00', 'total_pages': 448}, page_content='2023 북한인권보고서\\n40\\n명목의 교육비용이 전가되고 있는 것으로 나타났다. 교과서는 ‘교과\\n서 요금’이라는 명목으로 일정 금액을 내야하는 경우가 많으며, 교\\n과서가 모든 학생에게 충분히 제공되지 않고 학년을 마치면 다음 학\\n년에 교과서를 물려주어야 했다는 사례가 다수 수집되었다. 소학교\\n부터 학교운영비, 꼬마계획 등의 비용을 내야했다는 진술이 꾸준히 \\n수집되고 있는데, 학교시설 현대화 작업이 진행되면서 학교꾸리기 \\n비용이 증가했다고 한다. 학교에서 요구하는 돈이나 물품은 교원에 \\n의해 사실상 강제되고 있었는데, 비용을 내지 못하는 경우 동급생들 \\n앞에서 망신을 주거나 비판하여 형편이 어려운 학생들은 학교를 그\\n만두는 선택을 하는 경우가 많다고 한다. 또한 도시와 농촌 간 교육\\n환경의 차이가 크며 대학입학에서 출신성분에 의한 차별이 있고, 교\\n육기회의 제공에도 경제력이 영향을 미치고 있어 성분·지역·경제\\n력에 따른 차별이 존재하는 것으로 나타났다. 교육환경도 열악한데, \\n학교시설의 현대화 작업에도 불구하고 양호실, 도서관, 위생시설이 \\n없는 학교도 많은 것으로 보인다. 교원에 대한 경제적 보상도 적절\\n히 이루어지지 않아, 교원들은 생계를 유지하기 위해 잘사는 학부모\\n의 원조를 받거나 자신의 텃밭에 학생을 동원시키고 있어 학생들은 \\n제대로 된 교육여건을 보장받지 못하고 있는 것으로 나타났다. 또\\n한, 일반교육보다 정치사상교육을 앞세우고 있으며 교과과정에 실\\n탄사격을 하는 군사훈련을 편성하여 학생들을 의무적으로 참석하게 \\n하고 있다.\\n북한의 사회보장 제도로는 연로연금, 노동능력상실 연금, 유가족 \\n연금 등 생계가 결핍된 경우 기초적인 생계를 보장하기 위한 연금제\\n도가 있으며, 사회보험금의 성격을 지닌 보조금 제도가 있다. 연로'), 0.8274064847851906)\n",
            "----------------------------------------------------------------------------------------------------\n",
            "(Document(metadata={'total_pages': 448, 'trapped': '/False', 'creationdate': '2023-07-31T13:50:27+09:00', 'page_label': '284', 'producer': 'Adobe PDF Library 10.0.1', 'page': 283, 'source': '2023_북한인권보고서.pdf', 'moddate': '2023-07-31T13:57:54+09:00', 'creator': 'Adobe InDesign CS6 (Windows)'}, page_content='309\\t\\t북한의\\t학제는\\t2012년\\t전반적\\t의무교육(유치원\\t1년,\\t소학교\\t5년,\\t초급중학교\\t3년,\\t고급중학교\\t3년)으로\\t\\n개편되었는데,\\t학제개편\\t이전에는\\t초급중학교와\\t고급중학교를\\t통합하여\\t중학교\\t6년\\t과정(1972년~2011\\n년)으로\\t운영하였고,\\t중학교\\t또는\\t고등중학교라고\\t칭하였다.(통일부\\t국립통일교육원,\\t『북한의\\t이해』,\\t\\n2022)'), 0.8273854218976473)\n",
            "----------------------------------------------------------------------------------------------------\n",
            "(Document(metadata={'trapped': '/False', 'producer': 'Adobe PDF Library 10.0.1', 'page': 343, 'source': '2023_북한인권보고서.pdf', 'creator': 'Adobe InDesign CS6 (Windows)', 'total_pages': 448, 'moddate': '2023-07-31T13:57:54+09:00', 'page_label': '344', 'creationdate': '2023-07-31T13:50:27+09:00'}, page_content='2023 북한인권보고서\\n342\\n2018년에 학교에서 추천하여 소년궁전 스키부에 선발되었으나, 체\\n육종합지도원이 자신의 출신성분이 좋지 않다는 이유로 선발명단에\\n서 자신을 제외했다고 진술하였다. 정치범수용소에서는 이주민 자\\n녀의 경우 정규교육과정을 받지 못한다는 증언도 있었다. 정치범수\\n용소에도 소학교와 중학교가 있지만 일반 학교와는 달리 학생들이 \\n책가방 대신 지게를 지고 출석하고 학교에서 농사짓는 법에 대해 배\\n운다고 한다. \\n북한에서는 대학 진학 시에도 출신성분에 따른 차별이 존재하는 \\n것으로 나타났다. 한 증언자는 2019년에 고급중학교를 졸업하고 대\\n학에 진학하려고 했는데, 본인 문건에 어머니가 행방불명으로 되어 \\n있어 출신성분이 나쁘다는 이유로 대학에 진학할 수 없었다고 한다. \\n이러한 차별행위는 교육부의 정책에 따른 것이라고 한다. 다른 증\\n언자는 2018년에 의학대학에 진학하고 싶었는데, 교육과장과 면담\\n하는 과정에서 ‘어머니가 행방불명이라 너 같은 아이는 대학에 가기 \\n어렵다.’는 이야기를 듣고 대학 진학을 포기했다고 한다. 중학교 졸\\n업 후 농민의 자식이라는 이유로 일반 대학뿐만 아니라 공업전문학\\n교도 진학할 수 없었다는 증언도 있었다. \\n \\n(2) 경제력에 따른 차별 \\n북한에서는 교육기회에 있어 경제력에 따른 차별이 존재하는 것\\n으로 보인다. 수집된 증언에 따르면 무상교육제가 유명무실해진 상\\n황에서 교육비 부담으로 경제적 취약계층의 아동들이 장기간 결석하\\n거나 중도에 학교를 그만두는 것으로 나타났다. 한 증언자는 2018년\\n에 아들이 소학교 학생이었는데, 당시 학급 정원의 25% 정도가 경제'), 0.8262056262407061)\n",
            "----------------------------------------------------------------------------------------------------\n"
          ]
        }
      ]
    },
    {
      "cell_type": "markdown",
      "source": [
        "## 2. Faiss"
      ],
      "metadata": {
        "id": "eMz4n16BkhXo"
      }
    },
    {
      "cell_type": "code",
      "source": [
        "faiss_db = FAISS.from_documents(splitted_docs, OpenAIEmbeddings(chunk_size = 100))\n",
        "print('문서의 수:', faiss_db.index.ntotal)"
      ],
      "metadata": {
        "colab": {
          "base_uri": "https://localhost:8080/"
        },
        "id": "csDY3xsdkVIf",
        "outputId": "efb88f80-12e0-48a0-c578-9e1fda1c9a08"
      },
      "execution_count": 38,
      "outputs": [
        {
          "output_type": "stream",
          "name": "stdout",
          "text": [
            "문서의 수: 497\n"
          ]
        }
      ]
    },
    {
      "cell_type": "code",
      "source": [
        "#파이스 벡터 데이터베이스 파일로 저장\n",
        "faiss_db.save_local(\"faiss_index\")\n",
        "#데이터 베이스 로드\n",
        "new_db_faiss = FAISS.load_local(\"faiss_index\", OpenAIEmbeddings(), allow_dangerous_deserialization=True)"
      ],
      "metadata": {
        "id": "ZxaDUvr0kzpi"
      },
      "execution_count": 39,
      "outputs": []
    },
    {
      "cell_type": "code",
      "source": [
        "question = \"북한의 교육과정\"\n",
        "docs = new_db_faiss.similarity_search(question)\n",
        "\n",
        "for doc in docs:\n",
        "    print(doc)\n",
        "    print('--' * 50)"
      ],
      "metadata": {
        "colab": {
          "base_uri": "https://localhost:8080/"
        },
        "id": "BPigGTYknGU6",
        "outputId": "cfb0d23f-3507-408f-de18-2418b6dfd9b3"
      },
      "execution_count": 41,
      "outputs": [
        {
          "output_type": "stream",
          "name": "stdout",
          "text": [
            "page_content='2023 북한인권보고서\n",
            "40\n",
            "명목의 교육비용이 전가되고 있는 것으로 나타났다. 교과서는 ‘교과\n",
            "서 요금’이라는 명목으로 일정 금액을 내야하는 경우가 많으며, 교\n",
            "과서가 모든 학생에게 충분히 제공되지 않고 학년을 마치면 다음 학\n",
            "년에 교과서를 물려주어야 했다는 사례가 다수 수집되었다. 소학교\n",
            "부터 학교운영비, 꼬마계획 등의 비용을 내야했다는 진술이 꾸준히 \n",
            "수집되고 있는데, 학교시설 현대화 작업이 진행되면서 학교꾸리기 \n",
            "비용이 증가했다고 한다. 학교에서 요구하는 돈이나 물품은 교원에 \n",
            "의해 사실상 강제되고 있었는데, 비용을 내지 못하는 경우 동급생들 \n",
            "앞에서 망신을 주거나 비판하여 형편이 어려운 학생들은 학교를 그\n",
            "만두는 선택을 하는 경우가 많다고 한다. 또한 도시와 농촌 간 교육\n",
            "환경의 차이가 크며 대학입학에서 출신성분에 의한 차별이 있고, 교\n",
            "육기회의 제공에도 경제력이 영향을 미치고 있어 성분·지역·경제\n",
            "력에 따른 차별이 존재하는 것으로 나타났다. 교육환경도 열악한데, \n",
            "학교시설의 현대화 작업에도 불구하고 양호실, 도서관, 위생시설이 \n",
            "없는 학교도 많은 것으로 보인다. 교원에 대한 경제적 보상도 적절\n",
            "히 이루어지지 않아, 교원들은 생계를 유지하기 위해 잘사는 학부모\n",
            "의 원조를 받거나 자신의 텃밭에 학생을 동원시키고 있어 학생들은 \n",
            "제대로 된 교육여건을 보장받지 못하고 있는 것으로 나타났다. 또\n",
            "한, 일반교육보다 정치사상교육을 앞세우고 있으며 교과과정에 실\n",
            "탄사격을 하는 군사훈련을 편성하여 학생들을 의무적으로 참석하게 \n",
            "하고 있다.\n",
            "북한의 사회보장 제도로는 연로연금, 노동능력상실 연금, 유가족 \n",
            "연금 등 생계가 결핍된 경우 기초적인 생계를 보장하기 위한 연금제\n",
            "도가 있으며, 사회보험금의 성격을 지닌 보조금 제도가 있다. 연로' metadata={'producer': 'Adobe PDF Library 10.0.1', 'creator': 'Adobe InDesign CS6 (Windows)', 'creationdate': '2023-07-31T13:50:27+09:00', 'moddate': '2023-07-31T13:57:54+09:00', 'trapped': '/False', 'source': '2023_북한인권보고서.pdf', 'total_pages': 448, 'page': 41, 'page_label': '42'}\n",
            "----------------------------------------------------------------------------------------------------\n",
            "page_content='309\t\t북한의\t학제는\t2012년\t전반적\t의무교육(유치원\t1년,\t소학교\t5년,\t초급중학교\t3년,\t고급중학교\t3년)으로\t\n",
            "개편되었는데,\t학제개편\t이전에는\t초급중학교와\t고급중학교를\t통합하여\t중학교\t6년\t과정(1972년~2011\n",
            "년)으로\t운영하였고,\t중학교\t또는\t고등중학교라고\t칭하였다.(통일부\t국립통일교육원,\t『북한의\t이해』,\t\n",
            "2022)' metadata={'producer': 'Adobe PDF Library 10.0.1', 'creator': 'Adobe InDesign CS6 (Windows)', 'creationdate': '2023-07-31T13:50:27+09:00', 'moddate': '2023-07-31T13:57:54+09:00', 'trapped': '/False', 'source': '2023_북한인권보고서.pdf', 'total_pages': 448, 'page': 283, 'page_label': '284'}\n",
            "----------------------------------------------------------------------------------------------------\n",
            "page_content='2023 북한인권보고서\n",
            "342\n",
            "2018년에 학교에서 추천하여 소년궁전 스키부에 선발되었으나, 체\n",
            "육종합지도원이 자신의 출신성분이 좋지 않다는 이유로 선발명단에\n",
            "서 자신을 제외했다고 진술하였다. 정치범수용소에서는 이주민 자\n",
            "녀의 경우 정규교육과정을 받지 못한다는 증언도 있었다. 정치범수\n",
            "용소에도 소학교와 중학교가 있지만 일반 학교와는 달리 학생들이 \n",
            "책가방 대신 지게를 지고 출석하고 학교에서 농사짓는 법에 대해 배\n",
            "운다고 한다. \n",
            "북한에서는 대학 진학 시에도 출신성분에 따른 차별이 존재하는 \n",
            "것으로 나타났다. 한 증언자는 2019년에 고급중학교를 졸업하고 대\n",
            "학에 진학하려고 했는데, 본인 문건에 어머니가 행방불명으로 되어 \n",
            "있어 출신성분이 나쁘다는 이유로 대학에 진학할 수 없었다고 한다. \n",
            "이러한 차별행위는 교육부의 정책에 따른 것이라고 한다. 다른 증\n",
            "언자는 2018년에 의학대학에 진학하고 싶었는데, 교육과장과 면담\n",
            "하는 과정에서 ‘어머니가 행방불명이라 너 같은 아이는 대학에 가기 \n",
            "어렵다.’는 이야기를 듣고 대학 진학을 포기했다고 한다. 중학교 졸\n",
            "업 후 농민의 자식이라는 이유로 일반 대학뿐만 아니라 공업전문학\n",
            "교도 진학할 수 없었다는 증언도 있었다. \n",
            " \n",
            "(2) 경제력에 따른 차별 \n",
            "북한에서는 교육기회에 있어 경제력에 따른 차별이 존재하는 것\n",
            "으로 보인다. 수집된 증언에 따르면 무상교육제가 유명무실해진 상\n",
            "황에서 교육비 부담으로 경제적 취약계층의 아동들이 장기간 결석하\n",
            "거나 중도에 학교를 그만두는 것으로 나타났다. 한 증언자는 2018년\n",
            "에 아들이 소학교 학생이었는데, 당시 학급 정원의 25% 정도가 경제' metadata={'producer': 'Adobe PDF Library 10.0.1', 'creator': 'Adobe InDesign CS6 (Windows)', 'creationdate': '2023-07-31T13:50:27+09:00', 'moddate': '2023-07-31T13:57:54+09:00', 'trapped': '/False', 'source': '2023_북한인권보고서.pdf', 'total_pages': 448, 'page': 343, 'page_label': '344'}\n",
            "----------------------------------------------------------------------------------------------------\n",
            "page_content='2023 북한인권보고서\n",
            "184\n",
            "데, 당국이 실시하는 반종교 교육을 통해 기독교를 접한 경우였다. 기\n",
            "독교 관련 북한당국의 반종교 교육은 학교 교과과정에서 뿐만 아니\n",
            "라 졸업 후 조직생활을 통해서도 이루어지고 있었다. 수집된 증언에 \n",
            "따르면 북한에서 반종교 교육을 받고 종교에 대한 부정적 인식이 증\n",
            "가했다고 한다. 기독교를 믿는 사람을 반동분자로 인식하고 있었다\n",
            "는 증언들도 있었다. 한 증언자는 2015년에 계급교양관을 1달에 1번\n",
            "씩 참관해야 했는데, 거기서 ‘종교는 침략자들이 북한에 가져온 것으\n",
            "로 그들이 성경도 가져왔다’는 내용이 포함된 반종교 교육을 받았다\n",
            "고 한다. 기독교인들은 제국주의적 침략의 앞잡이이므로 반민족적·\n",
            "반혁명적 적대계층이라는 내용도 있었다고 한다. 다른 증언자는 교육\n",
            "기관, 사회기관, 법기관에서 ‘종교는 허황된 것이고 거짓’이며 선교사\n",
            "는 악한 자라고 세뇌가 될 정도로 지속적으로 교육하기 때문에 감히 \n",
            "종교에 관심을 가질 생각도 하지 못했고 ‘선교사’라는 단어를 들으면 \n",
            "지금도 무섭다고 한다. 인민반 강연 등에서 기독교를 믿는 사람은 반\n",
            "동분자라고 하면서 이들을 보면 신고하라고 했다는 증언도 있었다. \n",
            "“주민들을 모아 놓고 교양하는 때가 있었는데, 그 때 처음 ‘성경책 \n",
            "사진, 예배하는 모습의 사진’을 본 적이 있습니다. 반동조직이라고 \n",
            "교육하면서 성경에는 미신에 관한 것이 적혀있어 이것을 읽게 되면 \n",
            "사상이 변질되니 이런 책을 주변에서 보게 되면 신고하라고 했습니\n",
            "다. 이들은 국가 반역자로 이 땅에서 사라져야 한다고 선전했습니\n",
            "다. 그래서 재북시 저 뿐만이 아니라 북한 주민들은 성경책이 북한 \n",
            "제도에 대해 안 좋게 적어놓은 책으로 알고 있었고 이를 소지하면 \n",
            "죽임을 당한다고 알고 있었습니다. ”\n",
            "북한에서 기독교를 탄압하는 이유는 기독교의 유일신 사상이 수\n",
            "령 우상화 정책과 주체사상에 반하기 때문이라고 한다. 한 증언자는' metadata={'producer': 'Adobe PDF Library 10.0.1', 'creator': 'Adobe InDesign CS6 (Windows)', 'creationdate': '2023-07-31T13:50:27+09:00', 'moddate': '2023-07-31T13:57:54+09:00', 'trapped': '/False', 'source': '2023_북한인권보고서.pdf', 'total_pages': 448, 'page': 185, 'page_label': '186'}\n",
            "----------------------------------------------------------------------------------------------------\n"
          ]
        }
      ]
    },
    {
      "cell_type": "code",
      "source": [
        "question = \"북한의 교육과정\"\n",
        "top_three = new_db_faiss.similarity_search_with_relevance_scores(question, k=2)\n",
        "\n",
        "for doc in top_three:\n",
        "    print(doc)\n",
        "    print('--' * 50)"
      ],
      "metadata": {
        "colab": {
          "base_uri": "https://localhost:8080/"
        },
        "id": "OY_1AWUynTzO",
        "outputId": "ac74410b-83aa-4c45-cc07-72ee62cc47d7"
      },
      "execution_count": 42,
      "outputs": [
        {
          "output_type": "stream",
          "name": "stdout",
          "text": [
            "(Document(id='f9e6736a-5195-49e1-8a4a-a7f2d5e5c03d', metadata={'producer': 'Adobe PDF Library 10.0.1', 'creator': 'Adobe InDesign CS6 (Windows)', 'creationdate': '2023-07-31T13:50:27+09:00', 'moddate': '2023-07-31T13:57:54+09:00', 'trapped': '/False', 'source': '2023_북한인권보고서.pdf', 'total_pages': 448, 'page': 41, 'page_label': '42'}, page_content='2023 북한인권보고서\\n40\\n명목의 교육비용이 전가되고 있는 것으로 나타났다. 교과서는 ‘교과\\n서 요금’이라는 명목으로 일정 금액을 내야하는 경우가 많으며, 교\\n과서가 모든 학생에게 충분히 제공되지 않고 학년을 마치면 다음 학\\n년에 교과서를 물려주어야 했다는 사례가 다수 수집되었다. 소학교\\n부터 학교운영비, 꼬마계획 등의 비용을 내야했다는 진술이 꾸준히 \\n수집되고 있는데, 학교시설 현대화 작업이 진행되면서 학교꾸리기 \\n비용이 증가했다고 한다. 학교에서 요구하는 돈이나 물품은 교원에 \\n의해 사실상 강제되고 있었는데, 비용을 내지 못하는 경우 동급생들 \\n앞에서 망신을 주거나 비판하여 형편이 어려운 학생들은 학교를 그\\n만두는 선택을 하는 경우가 많다고 한다. 또한 도시와 농촌 간 교육\\n환경의 차이가 크며 대학입학에서 출신성분에 의한 차별이 있고, 교\\n육기회의 제공에도 경제력이 영향을 미치고 있어 성분·지역·경제\\n력에 따른 차별이 존재하는 것으로 나타났다. 교육환경도 열악한데, \\n학교시설의 현대화 작업에도 불구하고 양호실, 도서관, 위생시설이 \\n없는 학교도 많은 것으로 보인다. 교원에 대한 경제적 보상도 적절\\n히 이루어지지 않아, 교원들은 생계를 유지하기 위해 잘사는 학부모\\n의 원조를 받거나 자신의 텃밭에 학생을 동원시키고 있어 학생들은 \\n제대로 된 교육여건을 보장받지 못하고 있는 것으로 나타났다. 또\\n한, 일반교육보다 정치사상교육을 앞세우고 있으며 교과과정에 실\\n탄사격을 하는 군사훈련을 편성하여 학생들을 의무적으로 참석하게 \\n하고 있다.\\n북한의 사회보장 제도로는 연로연금, 노동능력상실 연금, 유가족 \\n연금 등 생계가 결핍된 경우 기초적인 생계를 보장하기 위한 연금제\\n도가 있으며, 사회보험금의 성격을 지닌 보조금 제도가 있다. 연로'), np.float32(0.82740647))\n",
            "----------------------------------------------------------------------------------------------------\n",
            "(Document(id='400d6727-51f1-4459-970e-f8185c21893c', metadata={'producer': 'Adobe PDF Library 10.0.1', 'creator': 'Adobe InDesign CS6 (Windows)', 'creationdate': '2023-07-31T13:50:27+09:00', 'moddate': '2023-07-31T13:57:54+09:00', 'trapped': '/False', 'source': '2023_북한인권보고서.pdf', 'total_pages': 448, 'page': 283, 'page_label': '284'}, page_content='309\\t\\t북한의\\t학제는\\t2012년\\t전반적\\t의무교육(유치원\\t1년,\\t소학교\\t5년,\\t초급중학교\\t3년,\\t고급중학교\\t3년)으로\\t\\n개편되었는데,\\t학제개편\\t이전에는\\t초급중학교와\\t고급중학교를\\t통합하여\\t중학교\\t6년\\t과정(1972년~2011\\n년)으로\\t운영하였고,\\t중학교\\t또는\\t고등중학교라고\\t칭하였다.(통일부\\t국립통일교육원,\\t『북한의\\t이해』,\\t\\n2022)'), np.float32(0.8273746))\n",
            "----------------------------------------------------------------------------------------------------\n"
          ]
        }
      ]
    },
    {
      "cell_type": "code",
      "source": [],
      "metadata": {
        "id": "N60QvLBRnuFi"
      },
      "execution_count": null,
      "outputs": []
    }
  ]
}