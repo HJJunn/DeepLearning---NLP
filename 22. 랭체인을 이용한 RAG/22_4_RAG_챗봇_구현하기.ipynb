{
  "nbformat": 4,
  "nbformat_minor": 0,
  "metadata": {
    "colab": {
      "provenance": []
    },
    "kernelspec": {
      "name": "python3",
      "display_name": "Python 3"
    },
    "language_info": {
      "name": "python"
    }
  },
  "cells": [
    {
      "cell_type": "code",
      "execution_count": 1,
      "metadata": {
        "colab": {
          "base_uri": "https://localhost:8080/"
        },
        "id": "GO8grXDAoVgn",
        "outputId": "582dcc55-e3e6-4118-a646-76a416aa29bc"
      },
      "outputs": [
        {
          "output_type": "stream",
          "name": "stdout",
          "text": [
            "Collecting langchain_openai\n",
            "  Downloading langchain_openai-0.3.27-py3-none-any.whl.metadata (2.3 kB)\n",
            "Collecting langchain_community\n",
            "  Downloading langchain_community-0.3.27-py3-none-any.whl.metadata (2.9 kB)\n",
            "Collecting pypdf\n",
            "  Downloading pypdf-5.7.0-py3-none-any.whl.metadata (7.2 kB)\n",
            "Collecting chromadb\n",
            "  Downloading chromadb-1.0.15-cp39-abi3-manylinux_2_17_x86_64.manylinux2014_x86_64.whl.metadata (7.0 kB)\n",
            "Requirement already satisfied: langchain-core<1.0.0,>=0.3.66 in /usr/local/lib/python3.11/dist-packages (from langchain_openai) (0.3.67)\n",
            "Requirement already satisfied: openai<2.0.0,>=1.86.0 in /usr/local/lib/python3.11/dist-packages (from langchain_openai) (1.93.0)\n",
            "Requirement already satisfied: tiktoken<1,>=0.7 in /usr/local/lib/python3.11/dist-packages (from langchain_openai) (0.9.0)\n",
            "Requirement already satisfied: langchain<1.0.0,>=0.3.26 in /usr/local/lib/python3.11/dist-packages (from langchain_community) (0.3.26)\n",
            "Requirement already satisfied: SQLAlchemy<3,>=1.4 in /usr/local/lib/python3.11/dist-packages (from langchain_community) (2.0.41)\n",
            "Requirement already satisfied: requests<3,>=2 in /usr/local/lib/python3.11/dist-packages (from langchain_community) (2.32.3)\n",
            "Requirement already satisfied: PyYAML>=5.3 in /usr/local/lib/python3.11/dist-packages (from langchain_community) (6.0.2)\n",
            "Requirement already satisfied: aiohttp<4.0.0,>=3.8.3 in /usr/local/lib/python3.11/dist-packages (from langchain_community) (3.11.15)\n",
            "Requirement already satisfied: tenacity!=8.4.0,<10,>=8.1.0 in /usr/local/lib/python3.11/dist-packages (from langchain_community) (8.5.0)\n",
            "Collecting dataclasses-json<0.7,>=0.5.7 (from langchain_community)\n",
            "  Downloading dataclasses_json-0.6.7-py3-none-any.whl.metadata (25 kB)\n",
            "Collecting pydantic-settings<3.0.0,>=2.4.0 (from langchain_community)\n",
            "  Downloading pydantic_settings-2.10.1-py3-none-any.whl.metadata (3.4 kB)\n",
            "Requirement already satisfied: langsmith>=0.1.125 in /usr/local/lib/python3.11/dist-packages (from langchain_community) (0.4.4)\n",
            "Collecting httpx-sse<1.0.0,>=0.4.0 (from langchain_community)\n",
            "  Downloading httpx_sse-0.4.1-py3-none-any.whl.metadata (9.4 kB)\n",
            "Requirement already satisfied: numpy>=1.26.2 in /usr/local/lib/python3.11/dist-packages (from langchain_community) (2.0.2)\n",
            "Requirement already satisfied: build>=1.0.3 in /usr/local/lib/python3.11/dist-packages (from chromadb) (1.2.2.post1)\n",
            "Requirement already satisfied: pydantic>=1.9 in /usr/local/lib/python3.11/dist-packages (from chromadb) (2.11.7)\n",
            "Collecting pybase64>=1.4.1 (from chromadb)\n",
            "  Downloading pybase64-1.4.1-cp311-cp311-manylinux_2_5_x86_64.manylinux1_x86_64.manylinux_2_17_x86_64.manylinux2014_x86_64.whl.metadata (8.4 kB)\n",
            "Requirement already satisfied: uvicorn>=0.18.3 in /usr/local/lib/python3.11/dist-packages (from uvicorn[standard]>=0.18.3->chromadb) (0.35.0)\n",
            "Collecting posthog<6.0.0,>=2.4.0 (from chromadb)\n",
            "  Downloading posthog-5.4.0-py3-none-any.whl.metadata (5.7 kB)\n",
            "Requirement already satisfied: typing-extensions>=4.5.0 in /usr/local/lib/python3.11/dist-packages (from chromadb) (4.14.0)\n",
            "Collecting onnxruntime>=1.14.1 (from chromadb)\n",
            "  Downloading onnxruntime-1.22.0-cp311-cp311-manylinux_2_27_x86_64.manylinux_2_28_x86_64.whl.metadata (4.5 kB)\n",
            "Collecting opentelemetry-api>=1.2.0 (from chromadb)\n",
            "  Downloading opentelemetry_api-1.34.1-py3-none-any.whl.metadata (1.5 kB)\n",
            "Collecting opentelemetry-exporter-otlp-proto-grpc>=1.2.0 (from chromadb)\n",
            "  Downloading opentelemetry_exporter_otlp_proto_grpc-1.34.1-py3-none-any.whl.metadata (2.4 kB)\n",
            "Collecting opentelemetry-sdk>=1.2.0 (from chromadb)\n",
            "  Downloading opentelemetry_sdk-1.34.1-py3-none-any.whl.metadata (1.6 kB)\n",
            "Requirement already satisfied: tokenizers>=0.13.2 in /usr/local/lib/python3.11/dist-packages (from chromadb) (0.21.2)\n",
            "Collecting pypika>=0.48.9 (from chromadb)\n",
            "  Downloading PyPika-0.48.9.tar.gz (67 kB)\n",
            "\u001b[2K     \u001b[90m━━━━━━━━━━━━━━━━━━━━━━━━━━━━━━━━━━━━━━━━\u001b[0m \u001b[32m67.3/67.3 kB\u001b[0m \u001b[31m2.1 MB/s\u001b[0m eta \u001b[36m0:00:00\u001b[0m\n",
            "\u001b[?25h  Installing build dependencies ... \u001b[?25l\u001b[?25hdone\n",
            "  Getting requirements to build wheel ... \u001b[?25l\u001b[?25hdone\n",
            "  Preparing metadata (pyproject.toml) ... \u001b[?25l\u001b[?25hdone\n",
            "Requirement already satisfied: tqdm>=4.65.0 in /usr/local/lib/python3.11/dist-packages (from chromadb) (4.67.1)\n",
            "Collecting overrides>=7.3.1 (from chromadb)\n",
            "  Downloading overrides-7.7.0-py3-none-any.whl.metadata (5.8 kB)\n",
            "Requirement already satisfied: importlib-resources in /usr/local/lib/python3.11/dist-packages (from chromadb) (6.5.2)\n",
            "Requirement already satisfied: grpcio>=1.58.0 in /usr/local/lib/python3.11/dist-packages (from chromadb) (1.73.1)\n",
            "Collecting bcrypt>=4.0.1 (from chromadb)\n",
            "  Downloading bcrypt-4.3.0-cp39-abi3-manylinux_2_34_x86_64.whl.metadata (10 kB)\n",
            "Requirement already satisfied: typer>=0.9.0 in /usr/local/lib/python3.11/dist-packages (from chromadb) (0.16.0)\n",
            "Collecting kubernetes>=28.1.0 (from chromadb)\n",
            "  Downloading kubernetes-33.1.0-py2.py3-none-any.whl.metadata (1.7 kB)\n",
            "Collecting mmh3>=4.0.1 (from chromadb)\n",
            "  Downloading mmh3-5.1.0-cp311-cp311-manylinux_2_5_x86_64.manylinux1_x86_64.manylinux_2_17_x86_64.manylinux2014_x86_64.whl.metadata (16 kB)\n",
            "Requirement already satisfied: orjson>=3.9.12 in /usr/local/lib/python3.11/dist-packages (from chromadb) (3.10.18)\n",
            "Requirement already satisfied: httpx>=0.27.0 in /usr/local/lib/python3.11/dist-packages (from chromadb) (0.28.1)\n",
            "Requirement already satisfied: rich>=10.11.0 in /usr/local/lib/python3.11/dist-packages (from chromadb) (13.9.4)\n",
            "Requirement already satisfied: jsonschema>=4.19.0 in /usr/local/lib/python3.11/dist-packages (from chromadb) (4.24.0)\n",
            "Requirement already satisfied: aiohappyeyeballs>=2.3.0 in /usr/local/lib/python3.11/dist-packages (from aiohttp<4.0.0,>=3.8.3->langchain_community) (2.6.1)\n",
            "Requirement already satisfied: aiosignal>=1.1.2 in /usr/local/lib/python3.11/dist-packages (from aiohttp<4.0.0,>=3.8.3->langchain_community) (1.3.2)\n",
            "Requirement already satisfied: attrs>=17.3.0 in /usr/local/lib/python3.11/dist-packages (from aiohttp<4.0.0,>=3.8.3->langchain_community) (25.3.0)\n",
            "Requirement already satisfied: frozenlist>=1.1.1 in /usr/local/lib/python3.11/dist-packages (from aiohttp<4.0.0,>=3.8.3->langchain_community) (1.7.0)\n",
            "Requirement already satisfied: multidict<7.0,>=4.5 in /usr/local/lib/python3.11/dist-packages (from aiohttp<4.0.0,>=3.8.3->langchain_community) (6.6.3)\n",
            "Requirement already satisfied: propcache>=0.2.0 in /usr/local/lib/python3.11/dist-packages (from aiohttp<4.0.0,>=3.8.3->langchain_community) (0.3.2)\n",
            "Requirement already satisfied: yarl<2.0,>=1.17.0 in /usr/local/lib/python3.11/dist-packages (from aiohttp<4.0.0,>=3.8.3->langchain_community) (1.20.1)\n",
            "Requirement already satisfied: packaging>=19.1 in /usr/local/lib/python3.11/dist-packages (from build>=1.0.3->chromadb) (24.2)\n",
            "Requirement already satisfied: pyproject_hooks in /usr/local/lib/python3.11/dist-packages (from build>=1.0.3->chromadb) (1.2.0)\n",
            "Collecting marshmallow<4.0.0,>=3.18.0 (from dataclasses-json<0.7,>=0.5.7->langchain_community)\n",
            "  Downloading marshmallow-3.26.1-py3-none-any.whl.metadata (7.3 kB)\n",
            "Collecting typing-inspect<1,>=0.4.0 (from dataclasses-json<0.7,>=0.5.7->langchain_community)\n",
            "  Downloading typing_inspect-0.9.0-py3-none-any.whl.metadata (1.5 kB)\n",
            "Requirement already satisfied: anyio in /usr/local/lib/python3.11/dist-packages (from httpx>=0.27.0->chromadb) (4.9.0)\n",
            "Requirement already satisfied: certifi in /usr/local/lib/python3.11/dist-packages (from httpx>=0.27.0->chromadb) (2025.6.15)\n",
            "Requirement already satisfied: httpcore==1.* in /usr/local/lib/python3.11/dist-packages (from httpx>=0.27.0->chromadb) (1.0.9)\n",
            "Requirement already satisfied: idna in /usr/local/lib/python3.11/dist-packages (from httpx>=0.27.0->chromadb) (3.10)\n",
            "Requirement already satisfied: h11>=0.16 in /usr/local/lib/python3.11/dist-packages (from httpcore==1.*->httpx>=0.27.0->chromadb) (0.16.0)\n",
            "Requirement already satisfied: jsonschema-specifications>=2023.03.6 in /usr/local/lib/python3.11/dist-packages (from jsonschema>=4.19.0->chromadb) (2025.4.1)\n",
            "Requirement already satisfied: referencing>=0.28.4 in /usr/local/lib/python3.11/dist-packages (from jsonschema>=4.19.0->chromadb) (0.36.2)\n",
            "Requirement already satisfied: rpds-py>=0.7.1 in /usr/local/lib/python3.11/dist-packages (from jsonschema>=4.19.0->chromadb) (0.26.0)\n",
            "Requirement already satisfied: six>=1.9.0 in /usr/local/lib/python3.11/dist-packages (from kubernetes>=28.1.0->chromadb) (1.17.0)\n",
            "Requirement already satisfied: python-dateutil>=2.5.3 in /usr/local/lib/python3.11/dist-packages (from kubernetes>=28.1.0->chromadb) (2.9.0.post0)\n",
            "Requirement already satisfied: google-auth>=1.0.1 in /usr/local/lib/python3.11/dist-packages (from kubernetes>=28.1.0->chromadb) (2.38.0)\n",
            "Requirement already satisfied: websocket-client!=0.40.0,!=0.41.*,!=0.42.*,>=0.32.0 in /usr/local/lib/python3.11/dist-packages (from kubernetes>=28.1.0->chromadb) (1.8.0)\n",
            "Requirement already satisfied: requests-oauthlib in /usr/local/lib/python3.11/dist-packages (from kubernetes>=28.1.0->chromadb) (2.0.0)\n",
            "Requirement already satisfied: oauthlib>=3.2.2 in /usr/local/lib/python3.11/dist-packages (from kubernetes>=28.1.0->chromadb) (3.3.1)\n",
            "Requirement already satisfied: urllib3>=1.24.2 in /usr/local/lib/python3.11/dist-packages (from kubernetes>=28.1.0->chromadb) (2.4.0)\n",
            "Collecting durationpy>=0.7 (from kubernetes>=28.1.0->chromadb)\n",
            "  Downloading durationpy-0.10-py3-none-any.whl.metadata (340 bytes)\n",
            "Requirement already satisfied: langchain-text-splitters<1.0.0,>=0.3.8 in /usr/local/lib/python3.11/dist-packages (from langchain<1.0.0,>=0.3.26->langchain_community) (0.3.8)\n",
            "Requirement already satisfied: jsonpatch<2.0,>=1.33 in /usr/local/lib/python3.11/dist-packages (from langchain-core<1.0.0,>=0.3.66->langchain_openai) (1.33)\n",
            "Requirement already satisfied: requests-toolbelt<2.0.0,>=1.0.0 in /usr/local/lib/python3.11/dist-packages (from langsmith>=0.1.125->langchain_community) (1.0.0)\n",
            "Requirement already satisfied: zstandard<0.24.0,>=0.23.0 in /usr/local/lib/python3.11/dist-packages (from langsmith>=0.1.125->langchain_community) (0.23.0)\n",
            "Collecting coloredlogs (from onnxruntime>=1.14.1->chromadb)\n",
            "  Downloading coloredlogs-15.0.1-py2.py3-none-any.whl.metadata (12 kB)\n",
            "Requirement already satisfied: flatbuffers in /usr/local/lib/python3.11/dist-packages (from onnxruntime>=1.14.1->chromadb) (25.2.10)\n",
            "Requirement already satisfied: protobuf in /usr/local/lib/python3.11/dist-packages (from onnxruntime>=1.14.1->chromadb) (5.29.5)\n",
            "Requirement already satisfied: sympy in /usr/local/lib/python3.11/dist-packages (from onnxruntime>=1.14.1->chromadb) (1.13.1)\n",
            "Requirement already satisfied: distro<2,>=1.7.0 in /usr/local/lib/python3.11/dist-packages (from openai<2.0.0,>=1.86.0->langchain_openai) (1.9.0)\n",
            "Requirement already satisfied: jiter<1,>=0.4.0 in /usr/local/lib/python3.11/dist-packages (from openai<2.0.0,>=1.86.0->langchain_openai) (0.10.0)\n",
            "Requirement already satisfied: sniffio in /usr/local/lib/python3.11/dist-packages (from openai<2.0.0,>=1.86.0->langchain_openai) (1.3.1)\n",
            "Requirement already satisfied: importlib-metadata<8.8.0,>=6.0 in /usr/local/lib/python3.11/dist-packages (from opentelemetry-api>=1.2.0->chromadb) (8.7.0)\n",
            "Requirement already satisfied: googleapis-common-protos~=1.52 in /usr/local/lib/python3.11/dist-packages (from opentelemetry-exporter-otlp-proto-grpc>=1.2.0->chromadb) (1.70.0)\n",
            "Collecting opentelemetry-exporter-otlp-proto-common==1.34.1 (from opentelemetry-exporter-otlp-proto-grpc>=1.2.0->chromadb)\n",
            "  Downloading opentelemetry_exporter_otlp_proto_common-1.34.1-py3-none-any.whl.metadata (1.9 kB)\n",
            "Collecting opentelemetry-proto==1.34.1 (from opentelemetry-exporter-otlp-proto-grpc>=1.2.0->chromadb)\n",
            "  Downloading opentelemetry_proto-1.34.1-py3-none-any.whl.metadata (2.4 kB)\n",
            "Collecting opentelemetry-semantic-conventions==0.55b1 (from opentelemetry-sdk>=1.2.0->chromadb)\n",
            "  Downloading opentelemetry_semantic_conventions-0.55b1-py3-none-any.whl.metadata (2.5 kB)\n",
            "Collecting backoff>=1.10.0 (from posthog<6.0.0,>=2.4.0->chromadb)\n",
            "  Downloading backoff-2.2.1-py3-none-any.whl.metadata (14 kB)\n",
            "Requirement already satisfied: annotated-types>=0.6.0 in /usr/local/lib/python3.11/dist-packages (from pydantic>=1.9->chromadb) (0.7.0)\n",
            "Requirement already satisfied: pydantic-core==2.33.2 in /usr/local/lib/python3.11/dist-packages (from pydantic>=1.9->chromadb) (2.33.2)\n",
            "Requirement already satisfied: typing-inspection>=0.4.0 in /usr/local/lib/python3.11/dist-packages (from pydantic>=1.9->chromadb) (0.4.1)\n",
            "Collecting python-dotenv>=0.21.0 (from pydantic-settings<3.0.0,>=2.4.0->langchain_community)\n",
            "  Downloading python_dotenv-1.1.1-py3-none-any.whl.metadata (24 kB)\n",
            "Requirement already satisfied: charset-normalizer<4,>=2 in /usr/local/lib/python3.11/dist-packages (from requests<3,>=2->langchain_community) (3.4.2)\n",
            "Requirement already satisfied: markdown-it-py>=2.2.0 in /usr/local/lib/python3.11/dist-packages (from rich>=10.11.0->chromadb) (3.0.0)\n",
            "Requirement already satisfied: pygments<3.0.0,>=2.13.0 in /usr/local/lib/python3.11/dist-packages (from rich>=10.11.0->chromadb) (2.19.2)\n",
            "Requirement already satisfied: greenlet>=1 in /usr/local/lib/python3.11/dist-packages (from SQLAlchemy<3,>=1.4->langchain_community) (3.2.3)\n",
            "Requirement already satisfied: regex>=2022.1.18 in /usr/local/lib/python3.11/dist-packages (from tiktoken<1,>=0.7->langchain_openai) (2024.11.6)\n",
            "Requirement already satisfied: huggingface-hub<1.0,>=0.16.4 in /usr/local/lib/python3.11/dist-packages (from tokenizers>=0.13.2->chromadb) (0.33.1)\n",
            "Requirement already satisfied: click>=8.0.0 in /usr/local/lib/python3.11/dist-packages (from typer>=0.9.0->chromadb) (8.2.1)\n",
            "Requirement already satisfied: shellingham>=1.3.0 in /usr/local/lib/python3.11/dist-packages (from typer>=0.9.0->chromadb) (1.5.4)\n",
            "Collecting httptools>=0.6.3 (from uvicorn[standard]>=0.18.3->chromadb)\n",
            "  Downloading httptools-0.6.4-cp311-cp311-manylinux_2_5_x86_64.manylinux1_x86_64.manylinux_2_17_x86_64.manylinux2014_x86_64.whl.metadata (3.6 kB)\n",
            "Collecting uvloop>=0.15.1 (from uvicorn[standard]>=0.18.3->chromadb)\n",
            "  Downloading uvloop-0.21.0-cp311-cp311-manylinux_2_17_x86_64.manylinux2014_x86_64.whl.metadata (4.9 kB)\n",
            "Collecting watchfiles>=0.13 (from uvicorn[standard]>=0.18.3->chromadb)\n",
            "  Downloading watchfiles-1.1.0-cp311-cp311-manylinux_2_17_x86_64.manylinux2014_x86_64.whl.metadata (4.9 kB)\n",
            "Requirement already satisfied: websockets>=10.4 in /usr/local/lib/python3.11/dist-packages (from uvicorn[standard]>=0.18.3->chromadb) (15.0.1)\n",
            "Requirement already satisfied: cachetools<6.0,>=2.0.0 in /usr/local/lib/python3.11/dist-packages (from google-auth>=1.0.1->kubernetes>=28.1.0->chromadb) (5.5.2)\n",
            "Requirement already satisfied: pyasn1-modules>=0.2.1 in /usr/local/lib/python3.11/dist-packages (from google-auth>=1.0.1->kubernetes>=28.1.0->chromadb) (0.4.2)\n",
            "Requirement already satisfied: rsa<5,>=3.1.4 in /usr/local/lib/python3.11/dist-packages (from google-auth>=1.0.1->kubernetes>=28.1.0->chromadb) (4.9.1)\n",
            "Requirement already satisfied: filelock in /usr/local/lib/python3.11/dist-packages (from huggingface-hub<1.0,>=0.16.4->tokenizers>=0.13.2->chromadb) (3.18.0)\n",
            "Requirement already satisfied: fsspec>=2023.5.0 in /usr/local/lib/python3.11/dist-packages (from huggingface-hub<1.0,>=0.16.4->tokenizers>=0.13.2->chromadb) (2025.3.2)\n",
            "Requirement already satisfied: hf-xet<2.0.0,>=1.1.2 in /usr/local/lib/python3.11/dist-packages (from huggingface-hub<1.0,>=0.16.4->tokenizers>=0.13.2->chromadb) (1.1.5)\n",
            "Requirement already satisfied: zipp>=3.20 in /usr/local/lib/python3.11/dist-packages (from importlib-metadata<8.8.0,>=6.0->opentelemetry-api>=1.2.0->chromadb) (3.23.0)\n",
            "Requirement already satisfied: jsonpointer>=1.9 in /usr/local/lib/python3.11/dist-packages (from jsonpatch<2.0,>=1.33->langchain-core<1.0.0,>=0.3.66->langchain_openai) (3.0.0)\n",
            "Requirement already satisfied: mdurl~=0.1 in /usr/local/lib/python3.11/dist-packages (from markdown-it-py>=2.2.0->rich>=10.11.0->chromadb) (0.1.2)\n",
            "Collecting mypy-extensions>=0.3.0 (from typing-inspect<1,>=0.4.0->dataclasses-json<0.7,>=0.5.7->langchain_community)\n",
            "  Downloading mypy_extensions-1.1.0-py3-none-any.whl.metadata (1.1 kB)\n",
            "Collecting humanfriendly>=9.1 (from coloredlogs->onnxruntime>=1.14.1->chromadb)\n",
            "  Downloading humanfriendly-10.0-py2.py3-none-any.whl.metadata (9.2 kB)\n",
            "Requirement already satisfied: mpmath<1.4,>=1.1.0 in /usr/local/lib/python3.11/dist-packages (from sympy->onnxruntime>=1.14.1->chromadb) (1.3.0)\n",
            "Requirement already satisfied: pyasn1<0.7.0,>=0.6.1 in /usr/local/lib/python3.11/dist-packages (from pyasn1-modules>=0.2.1->google-auth>=1.0.1->kubernetes>=28.1.0->chromadb) (0.6.1)\n",
            "Downloading langchain_openai-0.3.27-py3-none-any.whl (70 kB)\n",
            "\u001b[2K   \u001b[90m━━━━━━━━━━━━━━━━━━━━━━━━━━━━━━━━━━━━━━━━\u001b[0m \u001b[32m70.4/70.4 kB\u001b[0m \u001b[31m4.0 MB/s\u001b[0m eta \u001b[36m0:00:00\u001b[0m\n",
            "\u001b[?25hDownloading langchain_community-0.3.27-py3-none-any.whl (2.5 MB)\n",
            "\u001b[2K   \u001b[90m━━━━━━━━━━━━━━━━━━━━━━━━━━━━━━━━━━━━━━━━\u001b[0m \u001b[32m2.5/2.5 MB\u001b[0m \u001b[31m36.6 MB/s\u001b[0m eta \u001b[36m0:00:00\u001b[0m\n",
            "\u001b[?25hDownloading pypdf-5.7.0-py3-none-any.whl (305 kB)\n",
            "\u001b[2K   \u001b[90m━━━━━━━━━━━━━━━━━━━━━━━━━━━━━━━━━━━━━━━━\u001b[0m \u001b[32m305.5/305.5 kB\u001b[0m \u001b[31m17.4 MB/s\u001b[0m eta \u001b[36m0:00:00\u001b[0m\n",
            "\u001b[?25hDownloading chromadb-1.0.15-cp39-abi3-manylinux_2_17_x86_64.manylinux2014_x86_64.whl (19.5 MB)\n",
            "\u001b[2K   \u001b[90m━━━━━━━━━━━━━━━━━━━━━━━━━━━━━━━━━━━━━━━━\u001b[0m \u001b[32m19.5/19.5 MB\u001b[0m \u001b[31m66.2 MB/s\u001b[0m eta \u001b[36m0:00:00\u001b[0m\n",
            "\u001b[?25hDownloading bcrypt-4.3.0-cp39-abi3-manylinux_2_34_x86_64.whl (284 kB)\n",
            "\u001b[2K   \u001b[90m━━━━━━━━━━━━━━━━━━━━━━━━━━━━━━━━━━━━━━━━\u001b[0m \u001b[32m284.2/284.2 kB\u001b[0m \u001b[31m16.5 MB/s\u001b[0m eta \u001b[36m0:00:00\u001b[0m\n",
            "\u001b[?25hDownloading dataclasses_json-0.6.7-py3-none-any.whl (28 kB)\n",
            "Downloading httpx_sse-0.4.1-py3-none-any.whl (8.1 kB)\n",
            "Downloading kubernetes-33.1.0-py2.py3-none-any.whl (1.9 MB)\n",
            "\u001b[2K   \u001b[90m━━━━━━━━━━━━━━━━━━━━━━━━━━━━━━━━━━━━━━━━\u001b[0m \u001b[32m1.9/1.9 MB\u001b[0m \u001b[31m51.8 MB/s\u001b[0m eta \u001b[36m0:00:00\u001b[0m\n",
            "\u001b[?25hDownloading mmh3-5.1.0-cp311-cp311-manylinux_2_5_x86_64.manylinux1_x86_64.manylinux_2_17_x86_64.manylinux2014_x86_64.whl (101 kB)\n",
            "\u001b[2K   \u001b[90m━━━━━━━━━━━━━━━━━━━━━━━━━━━━━━━━━━━━━━━━\u001b[0m \u001b[32m101.6/101.6 kB\u001b[0m \u001b[31m6.8 MB/s\u001b[0m eta \u001b[36m0:00:00\u001b[0m\n",
            "\u001b[?25hDownloading onnxruntime-1.22.0-cp311-cp311-manylinux_2_27_x86_64.manylinux_2_28_x86_64.whl (16.4 MB)\n",
            "\u001b[2K   \u001b[90m━━━━━━━━━━━━━━━━━━━━━━━━━━━━━━━━━━━━━━━━\u001b[0m \u001b[32m16.4/16.4 MB\u001b[0m \u001b[31m70.7 MB/s\u001b[0m eta \u001b[36m0:00:00\u001b[0m\n",
            "\u001b[?25hDownloading opentelemetry_api-1.34.1-py3-none-any.whl (65 kB)\n",
            "\u001b[2K   \u001b[90m━━━━━━━━━━━━━━━━━━━━━━━━━━━━━━━━━━━━━━━━\u001b[0m \u001b[32m65.8/65.8 kB\u001b[0m \u001b[31m4.2 MB/s\u001b[0m eta \u001b[36m0:00:00\u001b[0m\n",
            "\u001b[?25hDownloading opentelemetry_exporter_otlp_proto_grpc-1.34.1-py3-none-any.whl (18 kB)\n",
            "Downloading opentelemetry_exporter_otlp_proto_common-1.34.1-py3-none-any.whl (18 kB)\n",
            "Downloading opentelemetry_proto-1.34.1-py3-none-any.whl (55 kB)\n",
            "\u001b[2K   \u001b[90m━━━━━━━━━━━━━━━━━━━━━━━━━━━━━━━━━━━━━━━━\u001b[0m \u001b[32m55.7/55.7 kB\u001b[0m \u001b[31m3.6 MB/s\u001b[0m eta \u001b[36m0:00:00\u001b[0m\n",
            "\u001b[?25hDownloading opentelemetry_sdk-1.34.1-py3-none-any.whl (118 kB)\n",
            "\u001b[2K   \u001b[90m━━━━━━━━━━━━━━━━━━━━━━━━━━━━━━━━━━━━━━━━\u001b[0m \u001b[32m118.5/118.5 kB\u001b[0m \u001b[31m8.5 MB/s\u001b[0m eta \u001b[36m0:00:00\u001b[0m\n",
            "\u001b[?25hDownloading opentelemetry_semantic_conventions-0.55b1-py3-none-any.whl (196 kB)\n",
            "\u001b[2K   \u001b[90m━━━━━━━━━━━━━━━━━━━━━━━━━━━━━━━━━━━━━━━━\u001b[0m \u001b[32m196.2/196.2 kB\u001b[0m \u001b[31m13.3 MB/s\u001b[0m eta \u001b[36m0:00:00\u001b[0m\n",
            "\u001b[?25hDownloading overrides-7.7.0-py3-none-any.whl (17 kB)\n",
            "Downloading posthog-5.4.0-py3-none-any.whl (105 kB)\n",
            "\u001b[2K   \u001b[90m━━━━━━━━━━━━━━━━━━━━━━━━━━━━━━━━━━━━━━━━\u001b[0m \u001b[32m105.4/105.4 kB\u001b[0m \u001b[31m7.8 MB/s\u001b[0m eta \u001b[36m0:00:00\u001b[0m\n",
            "\u001b[?25hDownloading pybase64-1.4.1-cp311-cp311-manylinux_2_5_x86_64.manylinux1_x86_64.manylinux_2_17_x86_64.manylinux2014_x86_64.whl (71 kB)\n",
            "\u001b[2K   \u001b[90m━━━━━━━━━━━━━━━━━━━━━━━━━━━━━━━━━━━━━━━━\u001b[0m \u001b[32m71.2/71.2 kB\u001b[0m \u001b[31m4.8 MB/s\u001b[0m eta \u001b[36m0:00:00\u001b[0m\n",
            "\u001b[?25hDownloading pydantic_settings-2.10.1-py3-none-any.whl (45 kB)\n",
            "\u001b[2K   \u001b[90m━━━━━━━━━━━━━━━━━━━━━━━━━━━━━━━━━━━━━━━━\u001b[0m \u001b[32m45.2/45.2 kB\u001b[0m \u001b[31m2.8 MB/s\u001b[0m eta \u001b[36m0:00:00\u001b[0m\n",
            "\u001b[?25hDownloading backoff-2.2.1-py3-none-any.whl (15 kB)\n",
            "Downloading durationpy-0.10-py3-none-any.whl (3.9 kB)\n",
            "Downloading httptools-0.6.4-cp311-cp311-manylinux_2_5_x86_64.manylinux1_x86_64.manylinux_2_17_x86_64.manylinux2014_x86_64.whl (459 kB)\n",
            "\u001b[2K   \u001b[90m━━━━━━━━━━━━━━━━━━━━━━━━━━━━━━━━━━━━━━━━\u001b[0m \u001b[32m459.8/459.8 kB\u001b[0m \u001b[31m25.1 MB/s\u001b[0m eta \u001b[36m0:00:00\u001b[0m\n",
            "\u001b[?25hDownloading marshmallow-3.26.1-py3-none-any.whl (50 kB)\n",
            "\u001b[2K   \u001b[90m━━━━━━━━━━━━━━━━━━━━━━━━━━━━━━━━━━━━━━━━\u001b[0m \u001b[32m50.9/50.9 kB\u001b[0m \u001b[31m3.6 MB/s\u001b[0m eta \u001b[36m0:00:00\u001b[0m\n",
            "\u001b[?25hDownloading python_dotenv-1.1.1-py3-none-any.whl (20 kB)\n",
            "Downloading typing_inspect-0.9.0-py3-none-any.whl (8.8 kB)\n",
            "Downloading uvloop-0.21.0-cp311-cp311-manylinux_2_17_x86_64.manylinux2014_x86_64.whl (4.0 MB)\n",
            "\u001b[2K   \u001b[90m━━━━━━━━━━━━━━━━━━━━━━━━━━━━━━━━━━━━━━━━\u001b[0m \u001b[32m4.0/4.0 MB\u001b[0m \u001b[31m70.3 MB/s\u001b[0m eta \u001b[36m0:00:00\u001b[0m\n",
            "\u001b[?25hDownloading watchfiles-1.1.0-cp311-cp311-manylinux_2_17_x86_64.manylinux2014_x86_64.whl (453 kB)\n",
            "\u001b[2K   \u001b[90m━━━━━━━━━━━━━━━━━━━━━━━━━━━━━━━━━━━━━━━━\u001b[0m \u001b[32m453.1/453.1 kB\u001b[0m \u001b[31m27.3 MB/s\u001b[0m eta \u001b[36m0:00:00\u001b[0m\n",
            "\u001b[?25hDownloading coloredlogs-15.0.1-py2.py3-none-any.whl (46 kB)\n",
            "\u001b[2K   \u001b[90m━━━━━━━━━━━━━━━━━━━━━━━━━━━━━━━━━━━━━━━━\u001b[0m \u001b[32m46.0/46.0 kB\u001b[0m \u001b[31m3.4 MB/s\u001b[0m eta \u001b[36m0:00:00\u001b[0m\n",
            "\u001b[?25hDownloading humanfriendly-10.0-py2.py3-none-any.whl (86 kB)\n",
            "\u001b[2K   \u001b[90m━━━━━━━━━━━━━━━━━━━━━━━━━━━━━━━━━━━━━━━━\u001b[0m \u001b[32m86.8/86.8 kB\u001b[0m \u001b[31m7.1 MB/s\u001b[0m eta \u001b[36m0:00:00\u001b[0m\n",
            "\u001b[?25hDownloading mypy_extensions-1.1.0-py3-none-any.whl (5.0 kB)\n",
            "Building wheels for collected packages: pypika\n",
            "  Building wheel for pypika (pyproject.toml) ... \u001b[?25l\u001b[?25hdone\n",
            "  Created wheel for pypika: filename=pypika-0.48.9-py2.py3-none-any.whl size=53803 sha256=fb1df9078775337600c357ec58752fb309be88ea15b6b034d270c137c0033a2f\n",
            "  Stored in directory: /root/.cache/pip/wheels/a3/01/bd/4c40ceb9d5354160cb186dcc153360f4ab7eb23e2b24daf96d\n",
            "Successfully built pypika\n",
            "Installing collected packages: pypika, durationpy, uvloop, python-dotenv, pypdf, pybase64, overrides, opentelemetry-proto, mypy-extensions, mmh3, marshmallow, humanfriendly, httpx-sse, httptools, bcrypt, backoff, watchfiles, typing-inspect, posthog, opentelemetry-exporter-otlp-proto-common, opentelemetry-api, coloredlogs, pydantic-settings, opentelemetry-semantic-conventions, onnxruntime, kubernetes, dataclasses-json, opentelemetry-sdk, opentelemetry-exporter-otlp-proto-grpc, langchain_openai, chromadb, langchain_community\n",
            "Successfully installed backoff-2.2.1 bcrypt-4.3.0 chromadb-1.0.15 coloredlogs-15.0.1 dataclasses-json-0.6.7 durationpy-0.10 httptools-0.6.4 httpx-sse-0.4.1 humanfriendly-10.0 kubernetes-33.1.0 langchain_community-0.3.27 langchain_openai-0.3.27 marshmallow-3.26.1 mmh3-5.1.0 mypy-extensions-1.1.0 onnxruntime-1.22.0 opentelemetry-api-1.34.1 opentelemetry-exporter-otlp-proto-common-1.34.1 opentelemetry-exporter-otlp-proto-grpc-1.34.1 opentelemetry-proto-1.34.1 opentelemetry-sdk-1.34.1 opentelemetry-semantic-conventions-0.55b1 overrides-7.7.0 posthog-5.4.0 pybase64-1.4.1 pydantic-settings-2.10.1 pypdf-5.7.0 pypika-0.48.9 python-dotenv-1.1.1 typing-inspect-0.9.0 uvloop-0.21.0 watchfiles-1.1.0\n"
          ]
        }
      ],
      "source": [
        "!pip install langchain_openai langchain_community pypdf chromadb"
      ]
    },
    {
      "cell_type": "markdown",
      "source": [
        "# 1) 환경설정 및 데이터 셋 로드"
      ],
      "metadata": {
        "id": "bG9I8R0BovB_"
      }
    },
    {
      "cell_type": "code",
      "source": [
        "import os\n",
        "from langchain_openai import ChatOpenAI\n",
        "from langchain.prompts import PromptTemplate\n",
        "from langchain.vectorstores import Chroma\n",
        "from langchain.embeddings import OpenAIEmbeddings\n",
        "from langchain.chains import RetrievalQA\n",
        "from langchain.document_loaders import PyPDFLoader\n",
        "import urllib.request\n",
        "import gradio as gr\n"
      ],
      "metadata": {
        "id": "nEGhvRvJosJs"
      },
      "execution_count": 2,
      "outputs": []
    },
    {
      "cell_type": "code",
      "source": [
        "urllib.request.urlretrieve(\"https://github.com/chatgpt-kr/openai-api-tutorial/raw/main/ch07/2020_%EA%B2%BD%EC%A0%9C%EA%B8%88%EC%9C%B5%EC%9A%A9%EC%96%B4%20700%EC%84%A0_%EA%B2%8C%EC%8B%9C.pdf\", filename=\"2020_경제금융용어 700선_게시.pdf\")"
      ],
      "metadata": {
        "colab": {
          "base_uri": "https://localhost:8080/"
        },
        "id": "v98FpNLio4Wd",
        "outputId": "69996a84-2f2b-4351-e351-64ac0a5f1fb0"
      },
      "execution_count": 4,
      "outputs": [
        {
          "output_type": "execute_result",
          "data": {
            "text/plain": [
              "('2020_경제금융용어 700선_게시.pdf', <http.client.HTTPMessage at 0x7d7ab737d450>)"
            ]
          },
          "metadata": {},
          "execution_count": 4
        }
      ]
    },
    {
      "cell_type": "code",
      "source": [
        "loader =PyPDFLoader(\"2020_경제금융용어 700선_게시.pdf\")\n",
        "texts = loader.load_and_split()\n",
        "print(\"문서의 수:\", len(texts))"
      ],
      "metadata": {
        "colab": {
          "base_uri": "https://localhost:8080/"
        },
        "id": "aA9StyYIo9Cn",
        "outputId": "f43c8267-2ec9-4b10-9489-776303474b91"
      },
      "execution_count": 13,
      "outputs": [
        {
          "output_type": "stream",
          "name": "stdout",
          "text": [
            "문서의 수: 366\n"
          ]
        }
      ]
    },
    {
      "cell_type": "code",
      "source": [
        "texts[14]"
      ],
      "metadata": {
        "colab": {
          "base_uri": "https://localhost:8080/"
        },
        "id": "hwpfMkk7pMSh",
        "outputId": "a0aebf2f-c0a1-43fc-e27c-5eab0ffcccd7"
      },
      "execution_count": 14,
      "outputs": [
        {
          "output_type": "execute_result",
          "data": {
            "text/plain": [
              "Document(metadata={'producer': 'Smart PDF Imposition 1.0', 'creator': 'Smart PDF Imposition 1.0', 'creationdate': 'January 31, 2018 16:21', 'author': 'INSUNG DATA INC.', 'creationdate--text': 'January 31, 2018 16:21', 'moddate': 'January 31, 2018 16:21', 'moddate--text': 'January 31, 2018 16:21', 'subject': 'CoreImposition PDF 1.0 Output', 'title': '°æÁ¦±ÝÀ¶¿ë¾î 700¼±-ÃÖÁ¾.PDF', 'source': '2020_경제금융용어 700선_게시.pdf', 'total_pages': 371, 'page': 18, 'page_label': '19'}, page_content='2\\n경제금융용어 700선\\n흑자를 냈다면 그 가정은 벌어들인 수입 일부만을 사용했다는 것을 의미하며, 적자를 \\n냈다면 수입 외에 빚을 추가로 얻어 사용한 것이라고 보아야 한다. 우리나라는 통계청에\\n서 가계의 수입과 지출을 조사하여 국민의 소득수준 및 생활실태를 파악하기 위해 \\n표본으로 선정된 가계에 가계부를 나누어 주고 한 달간의 소득과 지출을 기록하도록 \\n한 다음 이를 토대로 가계수지 통계를 작성하여 발표하고 있다. 가계부의 소득항목에는 \\n근로소득･사업소득･재산소득･이전소득 항목이 있고, 비용항목에는 식료품비･주거비･\\n수도광열비･보건의료비･교육비 항목이 있다 .\\n 연관검색어 : 경상수지, 재정수지 \\n가계순저축률\\n일반적으로 저축률은 저축액을 처분가능소득으로 나눈 비율을 말한다. 마찬가지로 \\n가계순저축률은 가계부문의 순저축액을 가계순처분가능소득과 정부로부터 받은 사회적 \\n현물이전 금액, 연금기금의 가계순지분 증감조정액을 합계한 금액으로 나눈 비율이다. \\n여기서 사회적 현물이전(social transfer in kind)이란 정부 등이 가계에 현물이전의 \\n형태로 제공하는 재화 및 서비스로서 무상교육, 보건소의 무상진료 등이 해당된다 . \\n또한 연금기금의 가계순지분 증감조정액을 분모에 더하는 이유는 퇴직연금 등과 같이 \\n가계가 납부한 연금부담금과 연금수취액의 차액을 반영해야 가계부문의 저축액을 정확\\n히 구할 수 있기 때문이다. 가계순저축률은 가계부문의 저축성향을 가장 잘 나타내주는 \\n지표라고 할 수 있다 .\\n가계순저축률 \\ue044\\ue042\\ue045\\ue047 \\ue04b가계부문순저축 \\ue054\\ue044가계순처분가능소득 \\ue048사회적현물이전수취\\n\\ue048연금기금의가계순지분증감조정 \\ue045\\ue04c×\\ue034\\ue03d\\ue03d\\n 연관검색어 : 가계처분가능소득, 저축률/총저축/평균소비성향/ 평균저축성향\\n가계신용통계\\n가계신용통계는 가계부문에 대한 신용공급 규모를 나타내는 통계이다. 가계신용은 \\n금융기관뿐 아니라 정부, 판매회사 등 기타기관이 가계에 제공한 대출과 외상구매 관련')"
            ]
          },
          "metadata": {},
          "execution_count": 14
        }
      ]
    },
    {
      "cell_type": "code",
      "source": [
        "print(texts[14].page_content)"
      ],
      "metadata": {
        "colab": {
          "base_uri": "https://localhost:8080/"
        },
        "id": "go6uD1M8pT1X",
        "outputId": "292527c5-b641-4506-cb0e-6c096d327d20"
      },
      "execution_count": 15,
      "outputs": [
        {
          "output_type": "stream",
          "name": "stdout",
          "text": [
            "2\n",
            "경제금융용어 700선\n",
            "흑자를 냈다면 그 가정은 벌어들인 수입 일부만을 사용했다는 것을 의미하며, 적자를 \n",
            "냈다면 수입 외에 빚을 추가로 얻어 사용한 것이라고 보아야 한다. 우리나라는 통계청에\n",
            "서 가계의 수입과 지출을 조사하여 국민의 소득수준 및 생활실태를 파악하기 위해 \n",
            "표본으로 선정된 가계에 가계부를 나누어 주고 한 달간의 소득과 지출을 기록하도록 \n",
            "한 다음 이를 토대로 가계수지 통계를 작성하여 발표하고 있다. 가계부의 소득항목에는 \n",
            "근로소득･사업소득･재산소득･이전소득 항목이 있고, 비용항목에는 식료품비･주거비･\n",
            "수도광열비･보건의료비･교육비 항목이 있다 .\n",
            " 연관검색어 : 경상수지, 재정수지 \n",
            "가계순저축률\n",
            "일반적으로 저축률은 저축액을 처분가능소득으로 나눈 비율을 말한다. 마찬가지로 \n",
            "가계순저축률은 가계부문의 순저축액을 가계순처분가능소득과 정부로부터 받은 사회적 \n",
            "현물이전 금액, 연금기금의 가계순지분 증감조정액을 합계한 금액으로 나눈 비율이다. \n",
            "여기서 사회적 현물이전(social transfer in kind)이란 정부 등이 가계에 현물이전의 \n",
            "형태로 제공하는 재화 및 서비스로서 무상교육, 보건소의 무상진료 등이 해당된다 . \n",
            "또한 연금기금의 가계순지분 증감조정액을 분모에 더하는 이유는 퇴직연금 등과 같이 \n",
            "가계가 납부한 연금부담금과 연금수취액의 차액을 반영해야 가계부문의 저축액을 정확\n",
            "히 구할 수 있기 때문이다. 가계순저축률은 가계부문의 저축성향을 가장 잘 나타내주는 \n",
            "지표라고 할 수 있다 .\n",
            "가계순저축률  가계부문순저축 가계순처분가능소득 사회적현물이전수취\n",
            "연금기금의가계순지분증감조정 ×\n",
            " 연관검색어 : 가계처분가능소득, 저축률/총저축/평균소비성향/ 평균저축성향\n",
            "가계신용통계\n",
            "가계신용통계는 가계부문에 대한 신용공급 규모를 나타내는 통계이다. 가계신용은 \n",
            "금융기관뿐 아니라 정부, 판매회사 등 기타기관이 가계에 제공한 대출과 외상구매 관련\n"
          ]
        }
      ]
    },
    {
      "cell_type": "markdown",
      "source": [
        "# 2) 데이터셋 전처리"
      ],
      "metadata": {
        "id": "W5eMRC3-pe-9"
      }
    },
    {
      "cell_type": "code",
      "source": [
        "#머리말\n",
        "print(texts[0].page_content)"
      ],
      "metadata": {
        "colab": {
          "base_uri": "https://localhost:8080/"
        },
        "id": "GoBlv_q7pch5",
        "outputId": "98f2c41f-e3a1-45c6-eaa0-60f615d8864c"
      },
      "execution_count": 16,
      "outputs": [
        {
          "output_type": "stream",
          "name": "stdout",
          "text": [
            "iii\n",
            "찾아보기\n",
            "한국은행은 국민들이 경제 및 금융에 대한 이해도를 높이고 경제에 관한 합리적인 \n",
            "의사결정 능력을 키울 수 있도록 현장 경제교육, 온라인 경제교육, 경제교육 콘텐츠 \n",
            "개발 등 대국민 경제교육을 다양하게 수행해 오고 있습니다 . \n",
            "이의 일환으로 2018년 \n",
            " 경제금융용어 700선\n",
            " 을 발간하였는데 그간 동 책자에 대한 \n",
            "수요가 꾸준히 늘어남에 따라 이번에 추가로 발간하게 되었습니다 .\n",
            "지난번 내용과 같이 통화정책, 실물경제, 금융안정, 지급결제 등 한국은행 주요 \n",
            "업무를 이해하는데 필요한 전문 용어와 경제·금융 흐름을 이해하는데 도움이 되는 \n",
            "시사 경제금융 용어들을 수록하였습니다. 용어해설은 개념과 도입 배경, 의미, 적용 \n",
            "사례 등을 담아 쉽게 이해할 수 있도록 하였습니다. 또한 e-book으로도 제작하여 \n",
            "독자들의 편의성과 가독성을 높였습니다 . \n",
            "코로나 19로 이전에 경험하지 못한 경제위기를 겪으면서 경제·금융 현상에 대한 \n",
            "일반인들의 관심도가 이전에 비해 높아졌습니다. 아무쪼록 이 책자가 한국은행의 주요 \n",
            "정책과 국내외 경제를 이해하는 데 조금이나마 도움이 되기를 바라겠습니다. 끝으로 \n",
            "경제금융용어 700선\n",
            "  집필에 참여해주신 경제교육실 교수님들과 용어 집필에 좋은 \n",
            "의견을 주신 관련부서 여러분께 감사드립니다 .\n",
            "2020년 8월\n",
            "한국은행 경제교육실장 박 철 원\n",
            "머 리 말\n"
          ]
        }
      ]
    },
    {
      "cell_type": "code",
      "source": [
        "#목차\n",
        "print(texts[5].page_content)"
      ],
      "metadata": {
        "colab": {
          "base_uri": "https://localhost:8080/"
        },
        "id": "aiEZfq2PppGq",
        "outputId": "61811a73-ec32-44f3-b972-830760173cd9"
      },
      "execution_count": 17,
      "outputs": [
        {
          "output_type": "stream",
          "name": "stdout",
          "text": [
            "vi\n",
            "경제금융용어 700선\n",
            "ㅂ\n",
            "바이오인증 ・ ・ ・ ・ ・ ・ ・ ・ ・ ・ ・ ・ ・ ・ ・ ・ ・ ・ ・ ・ ・ ・ ・ ・ ・ ・ ・ ・ ・ ・ ・ ・ ・ ・ ・ ・ ・ ・ ・ ・ ・ ・118\n",
            "바젤은행감독위원회/\n",
            "바젤위원회(BCBS) ・ ・ ・ ・ ・ ・ ・ ・ ・ ・ ・ ・ ・ ・ ・ ・ ・ ・ ・ ・ ・ ・ ・ ・ ・ ・118\n",
            "발행시장 ・・・・・・・・・・・・・・・・・・・・・・・・・・・・・・・・・・・・・・・・・・・・・・119\n",
            "발행중지화폐/유통정지화폐 ・・・・・・・・・・・・・・・120\n",
            "방카슈랑스 ・ ・ ・ ・ ・ ・ ・ ・ ・ ・ ・ ・ ・ ・ ・ ・ ・ ・ ・ ・ ・ ・ ・ ・ ・ ・ ・ ・ ・ ・ ・ ・ ・ ・ ・ ・ ・ ・ ・ ・ ・ ・120\n",
            "배당할인모형 ・・・・・・・・・・・・・・・・・・・・・・・・・・・・・・・・・・・・・・・121\n",
            "밴드웨건효과 ・・・・・・・・・・・・・・・・・・・・・・・・・・・・・・・・・・・・・・・121\n",
            "뱅 크 런 ・・・・・・・・・・・・・・・・・・・・・・・・・・・・・・・・・・・・・・・・・・・・・・・・・・122\n",
            "범위의 경제 ・ ・ ・ ・ ・ ・ ・ ・ ・ ・ ・ ・ ・ ・ ・ ・ ・ ・ ・ ・ ・ ・ ・ ・ ・ ・ ・ ・ ・ ・ ・ ・ ・ ・ ・ ・ ・ ・ ・ ・122\n",
            "법률리스크 ・ ・ ・ ・ ・ ・ ・ ・ ・ ・ ・ ・ ・ ・ ・ ・ ・ ・ ・ ・ ・ ・ ・ ・ ・ ・ ・ ・ ・ ・ ・ ・ ・ ・ ・ ・ ・ ・ ・ ・ ・ ・122\n",
            "베블런효과 ・ ・ ・ ・ ・ ・ ・ ・ ・ ・ ・ ・ ・ ・ ・ ・ ・ ・ ・ ・ ・ ・ ・ ・ ・ ・ ・ ・ ・ ・ ・ ・ ・ ・ ・ ・ ・ ・ ・ ・ ・ ・123\n",
            "변동금리 ・・・・・・・・・・・・・・・・・・・・・・・・・・・・・・・・・・・・・・・・・・・・・・123\n",
            "변동금리부채권(FRN) ・ ・ ・・・・・・・・・・・・・・・・・・・・・・・123\n",
            "보기화폐(견양화폐) ・ ・ ・ ・ ・ ・ ・ ・ ・ ・ ・ ・ ・ ・ ・ ・ ・ ・ ・ ・ ・ ・ ・ ・ ・ ・ ・ ・ ・124\n",
            "보완자본(Tier 2) ・・・・・・・・・・・・・・・・・・・・・・・・・・・・・・・・124\n",
            "보 완 재 ・・・・・・・・・・・・・・・・・・・・・・・・・・・・・・・・・・・・・・・・・・・・・・・・・・125\n",
            "보통주자본\n",
            "( C o m m o n  E q u i t y  T i e r  1 ) ・・・・・・・・・・・・125\n",
            "보호무역주의 ・・・・・・・・・・・・・・・・・・・・・・・・・・・・・・・・・・・・・・・125\n",
            "복수통화바스켓제도 ・ ・・・・・・・・・・・・・・・・・・・・・・・・・・・126\n",
            "본원소득 ・・・・・・・・・・・・・・・・・・・・・・・・・・・・・・・・・・・・・・・・・・・・・・127\n",
            "본원소득수지 ・・・・・・・・・・・・・・・・・・・・・・・・・・・・・・・・・・・・・・・127\n",
            "본원통화 ・・・・・・・・・・・・・・・・・・・・・・・・・・・・・・・・・・・・・・・・・・・・・・127\n",
            "볼 커 룰 ・・・・・・・・・・・・・・・・・・・・・・・・・・・・・・・・・・・・・・・・・・・・・・・・・・128\n",
            "부가가치 ・・・・・・・・・・・・・・・・・・・・・・・・・・・・・・・・・・・・・・・・・・・・・・128\n",
            "부가가치기준 무역(TiVA) ・ ・ ・ ・ ・ ・ ・ ・ ・ ・ ・ ・ ・ ・ ・ ・ ・ ・ ・129\n",
            "부가가치유발계수/부가가치계수 ・ ・・・・・・・129\n",
            "부동화/무권화 ・ ・ ・ ・ ・ ・ ・ ・ ・ ・ ・ ・ ・ ・ ・ ・ ・ ・ ・ ・ ・ ・ ・ ・ ・ ・ ・ ・ ・ ・ ・ ・ ・ ・ ・ ・ ・130\n",
            "부실채권정리기금 ・ ・ ・ ・・・・・・・・・・・・・・・・・・・・・・・・・・・・130\n",
            "부채담보부증권(CDO) ・・・・・・・・・・・・・・・・・・・・・・・・・130\n",
            "부채비율 ・・・・・・・・・・・・・・・・・・・・・・・・・・・・・・・・・・・・・・・・・・・・・・131\n",
            "북미자유무역협정(NAFTA) ・ ・ ・ ・ ・ ・ ・ ・ ・ ・ ・ ・ ・ ・ ・ ・ ・131\n",
            "분리결제 ・・・・・・・・・・・・・・・・・・・・・・・・・・・・・・・・・・・・・・・・・・・・・・132\n",
            "분산원장기술 ・ ・・・・・・・・・・・・・・・・・・・・・・・・・・・・・・・・・・・・・・132\n",
            "분수효과 ・・・・・・・・・・・・・・・・・・・・・・・・・・・・・・・・・・・・・・・・・・・・・・133\n",
            "불완전경쟁시장 ・・・・・・・・・・・・・・・・・・・・・・・・・・・・・・・・・・・133\n",
            "불태화정책 ・ ・ ・ ・ ・ ・ ・ ・ ・ ・ ・ ・ ・ ・ ・ ・ ・ ・ ・ ・ ・ ・ ・ ・ ・ ・ ・ ・ ・ ・ ・ ・ ・ ・ ・ ・ ・ ・ ・ ・ ・ ・134\n",
            "브레튼우즈체제 ・・・・・・・・・・・・・・・・・・・・・・・・・・・・・・・・・・・134\n",
            "브렉시트(Brexit) ・ ・ ・ ・ ・ ・ ・ ・ ・ ・ ・ ・ ・ ・ ・ ・ ・ ・ ・ ・ ・ ・ ・ ・ ・ ・ ・ ・ ・ ・ ・ ・ ・135\n",
            "브 릭 스 ・・・・・・・・・・・・・・・・・・・・・・・・・・・・・・・・・・・・・・・・・・・・・・・・・・135\n",
            "블록체인 ・・・・・・・・・・・・・・・・・・・・・・・・・・・・・・・・・・・・・・・・・・・・・・136\n",
            "블록체인과 탈중앙화 ・・・・・・・・・・・・・・・・・・・・・・・・・・136\n",
            "비관측경제(NOE) ・ ・ ・ ・ ・ ・ ・ ・ ・ ・ ・ ・ ・ ・ ・ ・ ・ ・ ・ ・ ・ ・ ・ ・ ・ ・ ・ ・ ・ ・ ・ ・137\n",
            "비교우위 ・・・・・・・・・・・・・・・・・・・・・・・・・・・・・・・・・・・・・・・・・・・・・・138\n",
            "비용인상 인플레이션 ・・・・・・・・・・・・・・・・・・・・・・・・・・138\n",
            "비트코인 ・・・・・・・・・・・・・・・・・・・・・・・・・・・・・・・・・・・・・・・・・・・・・・139\n",
            "빅데이터 ・・・・・・・・・・・・・・・・・・・・・・・・・・・・・・・・・・・・・・・・・・・・・・139\n",
            "빅맥지수 ・・・・・・・・・・・・・・・・・・・・・・・・・・・・・・・・・・・・・・・・・・・・・・140\n",
            "ㅅ\n",
            "사이버리스크 ・ ・・・・・・・・・・・・・・・・・・・・・・・・・・・・・・・・・・・・・・141\n",
            "사전담보제 ・ ・ ・ ・ ・ ・ ・ ・ ・ ・ ・ ・ ・ ・ ・ ・ ・ ・ ・ ・ ・ ・ ・ ・ ・ ・ ・ ・ ・ ・ ・ ・ ・ ・ ・ ・ ・ ・ ・ ・ ・ ・141\n",
            "사전적 정책방향 제시\n",
            "( f o r w a r d  g u i d a n c e ) ・・・・・・・・・・・・・・・・・・・・・・142\n",
            "4차 산업혁명 ・・・・・・・・・・・・・・・・・・・・・・・・・・・・・・・・・・・・・・143\n",
            "사회보장제도 ・ ・・・・・・・・・・・・・・・・・・・・・・・・・・・・・・・・・・・・・・143\n",
            "사회보험 ・・・・・・・・・・・・・・・・・・・・・・・・・・・・・・・・・・・・・・・・・・・・・・144\n",
            "산업연관표(I/O Tables) ・ ・ ・・・・・・・・・・・・・・・・・・・144\n",
            "삼불원칙 ・・・・・・・・・・・・・・・・・・・・・・・・・・・・・・・・・・・・・・・・・・・・・・145\n",
            "상계관세 ・・・・・・・・・・・・・・・・・・・・・・・・・・・・・・・・・・・・・・・・・・・・・・145\n",
            "상대적 빈곤율 ・・・・・・・・・・・・・・・・・・・・・・・・・・・・・・・・・・・・・146\n",
            "상시감시제도/상시감시전담데스크 ・・ ・・ 146\n"
          ]
        }
      ]
    },
    {
      "cell_type": "code",
      "source": [
        "print(texts[13].page_content)"
      ],
      "metadata": {
        "colab": {
          "base_uri": "https://localhost:8080/"
        },
        "id": "L33uPYLipvNR",
        "outputId": "837f7478-2cb7-4acb-b67a-e9db702cbf6c"
      },
      "execution_count": 18,
      "outputs": [
        {
          "output_type": "stream",
          "name": "stdout",
          "text": [
            "1\n",
            "ㄱ \n",
            "ㄱ\n",
            "가계부실위험지수(HDRI)\n",
            "가구의 소득 흐름은 물론 금융 및 실물 자산까지 종합적으로 고려하여 가계부채의 \n",
            "부실위험을 평가하는 지표로, 가계의 채무상환능력을 소득 측면에서 평가하는 원리금상\n",
            "환비율(DSR; Debt Service Ratio)과 자산 측면에서 평가하는 부채/자산비율(DTA; Debt \n",
            "To Asset Ratio)을 결합하여 산출한 지수이다. 가계부실위험지수는 가구의 DSR과 DTA가 \n",
            "각각 40%, 100%일 때 100의 값을 갖도록 설정되어 있으며, 동 지수가 100을 초과하는 \n",
            "가구를 ‘위험가구’로 분류한다. 위험가구는 소득 및 자산 측면에서 모두 취약한 ‘고위험가구’, \n",
            "자산 측면에서 취약한 ‘고DTA가구’, 소득 측면에서 취약한 ‘고DSR가구’로 구분할 수 있다. \n",
            "다만 위험 및 고위험 가구는 가구의 채무상환능력 취약성 정도를 평가하기 위한 것이며 \n",
            "이들 가구가 당장 채무상환 불이행, 즉 임계상황에 직면한 것을 의미하지 않는다 .\n",
            " 연관검색어 : 총부채원리금상환비율(DSR)\n",
            "가계수지\n",
            "가정에서 일정 기간의 수입(명목소득)과 지출을 비교해서 남았는지 모자랐는지를 \n",
            "표시한 것을 가계수지(household's total income and expenditure)라 한다. 가계수지가 \n",
            "가계수지 ∙\n"
          ]
        }
      ]
    },
    {
      "cell_type": "code",
      "source": [
        "#0번부터 12번 texts 삭제, 마지막 청크 삭제\n",
        "texts = texts[13:-1]\n",
        "print(len(texts))"
      ],
      "metadata": {
        "colab": {
          "base_uri": "https://localhost:8080/"
        },
        "id": "9dyai0Nsp2P9",
        "outputId": "0138697a-2752-4254-e0b3-cdc6db1c3389"
      },
      "execution_count": 19,
      "outputs": [
        {
          "output_type": "stream",
          "name": "stdout",
          "text": [
            "352\n"
          ]
        }
      ]
    },
    {
      "cell_type": "markdown",
      "source": [
        "# 3) 임베딩 및 벡터 데이터베이스 적재"
      ],
      "metadata": {
        "id": "qbVNrQPTqZRR"
      }
    },
    {
      "cell_type": "code",
      "source": [
        "embedding = OpenAIEmbeddings(chunk_size = 100)\n",
        "#객체 생성\n",
        "vectordb = Chroma.from_documents(\n",
        "    documents = texts,\n",
        "    embedding = embedding\n",
        ")"
      ],
      "metadata": {
        "id": "H835Df3BqBx4"
      },
      "execution_count": 20,
      "outputs": []
    },
    {
      "cell_type": "code",
      "source": [
        "print(vectordb._collection.count())"
      ],
      "metadata": {
        "colab": {
          "base_uri": "https://localhost:8080/"
        },
        "id": "iGNirGwIqvmO",
        "outputId": "2500d944-8045-4999-f817-c30ff3214292"
      },
      "execution_count": 22,
      "outputs": [
        {
          "output_type": "stream",
          "name": "stdout",
          "text": [
            "352\n"
          ]
        }
      ]
    },
    {
      "cell_type": "code",
      "source": [
        "for key in vectordb._collection.get():\n",
        "    print(key)"
      ],
      "metadata": {
        "colab": {
          "base_uri": "https://localhost:8080/"
        },
        "id": "vXWKhLYpq0Tr",
        "outputId": "07822768-0eb2-41ce-f116-5b62803a353b"
      },
      "execution_count": 23,
      "outputs": [
        {
          "output_type": "stream",
          "name": "stdout",
          "text": [
            "ids\n",
            "embeddings\n",
            "documents\n",
            "uris\n",
            "included\n",
            "data\n",
            "metadatas\n"
          ]
        }
      ]
    },
    {
      "cell_type": "code",
      "source": [
        "documents = vectordb._collection.get()['documents']\n",
        "print(\"청크의 개수:\", len(documents))\n",
        "print(\"0번 청크:\", documents[0])"
      ],
      "metadata": {
        "colab": {
          "base_uri": "https://localhost:8080/"
        },
        "id": "oytc2gGdq74j",
        "outputId": "bd25f917-b6ad-409f-e843-8792cee187d9"
      },
      "execution_count": 24,
      "outputs": [
        {
          "output_type": "stream",
          "name": "stdout",
          "text": [
            "청크의 개수: 352\n",
            "0번 청크: 1\n",
            "ㄱ \n",
            "ㄱ\n",
            "가계부실위험지수(HDRI)\n",
            "가구의 소득 흐름은 물론 금융 및 실물 자산까지 종합적으로 고려하여 가계부채의 \n",
            "부실위험을 평가하는 지표로, 가계의 채무상환능력을 소득 측면에서 평가하는 원리금상\n",
            "환비율(DSR; Debt Service Ratio)과 자산 측면에서 평가하는 부채/자산비율(DTA; Debt \n",
            "To Asset Ratio)을 결합하여 산출한 지수이다. 가계부실위험지수는 가구의 DSR과 DTA가 \n",
            "각각 40%, 100%일 때 100의 값을 갖도록 설정되어 있으며, 동 지수가 100을 초과하는 \n",
            "가구를 ‘위험가구’로 분류한다. 위험가구는 소득 및 자산 측면에서 모두 취약한 ‘고위험가구’, \n",
            "자산 측면에서 취약한 ‘고DTA가구’, 소득 측면에서 취약한 ‘고DSR가구’로 구분할 수 있다. \n",
            "다만 위험 및 고위험 가구는 가구의 채무상환능력 취약성 정도를 평가하기 위한 것이며 \n",
            "이들 가구가 당장 채무상환 불이행, 즉 임계상황에 직면한 것을 의미하지 않는다 .\n",
            " 연관검색어 : 총부채원리금상환비율(DSR)\n",
            "가계수지\n",
            "가정에서 일정 기간의 수입(명목소득)과 지출을 비교해서 남았는지 모자랐는지를 \n",
            "표시한 것을 가계수지(household's total income and expenditure)라 한다. 가계수지가 \n",
            "가계수지 ∙\n"
          ]
        }
      ]
    },
    {
      "cell_type": "code",
      "source": [
        "#임베딩 벡터 값\n",
        "embeddings = vectordb._collection.get(include = ['embeddings'])['embeddings']\n",
        "print(\"임베딩 벡터 수:\", len(embeddings))\n",
        "print(\"0번 청크의 임베딩 값:\", embeddings[0])\n",
        "print(\"0번 청크의 임베딩 값의 길이:\", len(embeddings[0]))"
      ],
      "metadata": {
        "colab": {
          "base_uri": "https://localhost:8080/"
        },
        "id": "TcjntDjRrVfc",
        "outputId": "7e7d7f34-dc91-45f7-89a8-11fc16cad0df"
      },
      "execution_count": 26,
      "outputs": [
        {
          "output_type": "stream",
          "name": "stdout",
          "text": [
            "임베딩 벡터 수: 352\n",
            "0번 청크의 임베딩 값: [-0.0077088  -0.0075166   0.014182   ... -0.01861645 -0.00669286\n",
            " -0.00903364]\n",
            "0번 청크의 임베딩 값의 길이: 1536\n"
          ]
        }
      ]
    },
    {
      "cell_type": "code",
      "source": [
        "#메타데이터(출처) 호출\n",
        "metadatas = vectordb._collection.get()['metadatas']\n",
        "print(\"metadatas의 개수:\", len(metadatas))\n",
        "print(\"0번 청크의 출처:\", metadatas[0])"
      ],
      "metadata": {
        "colab": {
          "base_uri": "https://localhost:8080/"
        },
        "id": "yMBB2Y3XsHBA",
        "outputId": "fd5efaae-013c-48ba-c34d-fb6d8cd5e247"
      },
      "execution_count": 29,
      "outputs": [
        {
          "output_type": "stream",
          "name": "stdout",
          "text": [
            "metadatas의 개수: 352\n",
            "0번 청크의 출처: {'creationdate': 'January 31, 2018 16:21', 'moddate--text': 'January 31, 2018 16:21', 'subject': 'CoreImposition PDF 1.0 Output', 'page': 17, 'creator': 'Smart PDF Imposition 1.0', 'producer': 'Smart PDF Imposition 1.0', 'source': '2020_경제금융용어 700선_게시.pdf', 'total_pages': 371, 'author': 'INSUNG DATA INC.', 'page_label': '18', 'title': '°æÁ¦±ÝÀ¶¿ë¾î 700¼±-ÃÖÁ¾.PDF', 'moddate': 'January 31, 2018 16:21', 'creationdate--text': 'January 31, 2018 16:21'}\n"
          ]
        }
      ]
    },
    {
      "cell_type": "markdown",
      "source": [
        "\n",
        "\n",
        "*   as_retriever(): 입력된 텍스트로부터 유사한 텍스트 찾음\n",
        "*   get_relevant_documents(): 입력된 텍스트와 유사한 청크 찾음\n",
        "\n"
      ],
      "metadata": {
        "id": "tTnGwnGKs34q"
      }
    },
    {
      "cell_type": "code",
      "source": [
        "retriever = vectordb.as_retriever(search_kwargs = {'k':2}) # 유사도 순위 지정\n",
        "docs = retriever.get_relevant_documents(\"비트코인이 궁금해\")\n",
        "\n",
        "print(\"유사 문서 개수:\", len(docs))\n",
        "print(\"첫번째 유사 문서:\", docs[0])\n",
        "print(\"--\" * 50)\n",
        "print(\"두번째 유사 문서:\", docs[1])"
      ],
      "metadata": {
        "colab": {
          "base_uri": "https://localhost:8080/"
        },
        "id": "Y5Vesvs9smgx",
        "outputId": "593aa835-6c52-4f10-c566-cb670d48ba92"
      },
      "execution_count": 31,
      "outputs": [
        {
          "output_type": "stream",
          "name": "stdout",
          "text": [
            "유사 문서 개수: 2\n",
            "첫번째 유사 문서: page_content='139\n",
            "ㅂ \n",
            "비트코인\n",
            "비트코인(bitcoin)은 가상통화(암호통화)이자 디지털 지급시스템이다. 비트코인 시스템\n",
            "은 중앙 저장소 또는 단일 관리자가 없기 때문에 최초의 탈중앙화된 디지털통화라고 불린다. \n",
            "이는 사토시 나카모토라는 사람(집단)에 의해 만들어져서 2009년 개방형 소프트웨어로 \n",
            "배포되었다. 이 시스템은 공유형(peer-to-peer)이며, 거래는 중개자 없이 블록체인 소프트\n",
            "웨어를 이용하는 참여자(nodes) 사이에 직접 이뤄진다. 이런 거래들은 공유(P2P) 네트워크\n",
            "상 참여자의 작업증명(proof-of-work)을 통해 검증되고 공개된 분산원장인 블록체인에 \n",
            "기록된다. 승인된 거래의 새 그룹인 한 블록은 대략 10분에 한 번씩 만들어져서 블록체인에 \n",
            "추가되고 신속하게 모든 참여자에게 보내어진다. 비트코인은 대규모 전기를 사용하는 \n",
            "컴퓨터 처리 능력(power)을 활용해서 이뤄지는 기록보관 서비스인 채굴(mining)에 대한 \n",
            "보상으로 발행되고 있으며 다른 통화･상품･용역 등과 교환되어가고 있다. 중앙은행이 \n",
            "발행한 법정화폐가 아닌 비트코인은 비트코인 플랫폼에서 거래되며 투자대상으로서도 \n",
            "관심을 받고 있다. 하지만 급등한 가격 및 심한 변동 폭으로 거품논란이 크다. 또한 익명성으\n",
            "로 자금세탁 등 불법거래에 악용될 소지가 많아 중국 등 일부 국가에서 비트코인 등 가상통\n",
            "화의 거래를 규제하고 있다. 일본의 경우 비트코인의 거래이익에 대해 세금을 부과한다. \n",
            "비트코인은 추가되는 한 블록당 새로 12.5비트코인을 보상하는데(2016.7월 현재), 21만개\n",
            "가 채굴될 때(대략 4년)마다 그 보상이 반으로 줄어든다. 비트코인의 총량은 21백만개이며 \n",
            "2140년경 모두 채굴될 것으로 전망된다. 비트코인은 그 시스템의 설계시 그 수량을 한정시\n",
            "켜 놓았기 때문에 원칙적으로 인플레이션에 의해 가치가 떨어질 수 있는 화폐와 다른 \n",
            "속성을 지닌다. 한편 2017년 8월 1일 비트코인(classic bitcoin)에서 ‘비트코인캐시’(BCH)가, \n",
            "10월 25일 ‘비트코인골드’(BTG)가 하드포크(hard-fork)되어 별도로 거래되고 있다.\n",
            " 연관검색어 : 가상통화, 작업증명, 블록체인\n",
            "빅데이터\n",
            "빅데이터(big data)란 복잡하고 다양한 대규모 데이터세트 자체는 물론 이 데이터세트\n",
            "로부터 정보를 추출하고 결과를 분석하여 더 큰 가치를 창출하는 기술을 뜻한다. 수치 \n",
            "데이터 등 기존의 정형화된 정보뿐 아니라 텍스트 ･이미지･오디오･로그기록 등 여러 \n",
            "형태의 비정형 정보가 데이터로 활용된다. 최근 모바일기기와 SNS 이용 보편화, 사물인\n",
            "빅데이터 ∙' metadata={'moddate--text': 'January 31, 2018 16:21', 'producer': 'Smart PDF Imposition 1.0', 'creationdate--text': 'January 31, 2018 16:21', 'page': 155, 'moddate': 'January 31, 2018 16:21', 'author': 'INSUNG DATA INC.', 'creator': 'Smart PDF Imposition 1.0', 'creationdate': 'January 31, 2018 16:21', 'subject': 'CoreImposition PDF 1.0 Output', 'total_pages': 371, 'source': '2020_경제금융용어 700선_게시.pdf', 'page_label': '156', 'title': '°æÁ¦±ÝÀ¶¿ë¾î 700¼±-ÃÖÁ¾.PDF'}\n",
            "----------------------------------------------------------------------------------------------------\n",
            "두번째 유사 문서: page_content='136\n",
            "경제금융용어 700선\n",
            "간 대화의 깊이와 폭도 더욱 넓어지고 있다. 브릭스는 현재의 경제성장 속도와 앞으로의 \n",
            "발전 전망에 비추어 신흥 경제대국으로 발돋움할 가능성이 높은 나라들을 하나의 경제권으로 \n",
            "묶은 개념으로 볼 수 있는데, 실제로도 브릭스 국가들은 공통적으로 거대한 영토와 노동력, \n",
            "풍부한 지하자원 등 경제대국으로 성장할 수 있는 잠재력을 갖춘 것으로 평가되고 있다.\n",
            "블록체인\n",
            "블록체인(block chain)은 ① 일정 시간 동안 발생한 모든 거래정보를 블록 (block) \n",
            "단위로 기록하여 ② 모든 구성원들에게 전송하고 ③ 블록의 유효성이 확보될 경우 \n",
            "이 새 블록을 ④ 기존의 블록에 추가 연결(chain)하여 보관하는 방식의 알고리즘이다 . \n",
            "각 블록은 이전 블록에 대한 연결자인 해시포인터(a hash pointer, 위변조 점검 수단 ), \n",
            "시간표시 및 거래데이터를 포함한다. 블록체인은 효율적이고 검증 가능한 방식으로 \n",
            "거래를 기록할 수 있는 개방된 분산원장 즉, 데이터베이스 역할을 한다. 이는 참여자간 \n",
            "공유(peer to peer) 네트워크가 집단적으로 새 블록을 검증하기 위한 프로토콜에 따라 \n",
            "관리된다. 그래서 만약 누군가 거래기록을 조작하려면 참여자간 연결된 모든 블록을 \n",
            "새 블록 생성 이전에 조작해야한다. 즉 일정 시간 안에 수많은 블록을 모두 조작해야하는\n",
            "데, 이는 사실상 불가능하므로 보안성이 높은 것이다. 이 블록체인 덕분에 새로운 단위가\n",
            "치의 거래가 오직 한번만 이뤄짐으로써, 사기행위와 같은 이중 지급(double spending) \n",
            "문제를 해결할 수 있게 되었다. 또한 블록체인에서는 ‘제3의 기관’이 필요 없는 탈중앙화\n",
            "와 중개기관을 거치지 않는 탈중개화가 이뤄지기 때문에 거래비용이 획기적으로 낮아진\n",
            "다. 그래서 블록체인은 비트코인 ･이더리움(Etherium) 등 가상통화 운용의 기반이 될 \n",
            "뿐만 아니라 스마트계약, 증권 발행 및 거래, 해외송금 및 자금이체, 무역금융, 부동산 \n",
            "등기, 고가품(예: 다이아몬드)의 정품 인증, 디지털 ID 관리, 전자투표, 개인건강기록 \n",
            "관리 등 여러 분야에서 무한한 혁신 잠재력을 지니고 있다 . \n",
            " 연관검색어 : 분산원장기술, 스마트계약, 비트코인, 금융의 탈집중화, 금융의 탈중개화\n",
            "블록체인과 탈중앙화 \n",
            "블록체인은 공유 네트워크를 통해 데이터를 저장함으로써 데이터의 중앙 집중 보관에 \n",
            "따르는 리스크를 제거한다. 탈중앙화(decentralization)된 블록체인은 계획되지 않은' metadata={'creationdate--text': 'January 31, 2018 16:21', 'title': '°æÁ¦±ÝÀ¶¿ë¾î 700¼±-ÃÖÁ¾.PDF', 'subject': 'CoreImposition PDF 1.0 Output', 'creationdate': 'January 31, 2018 16:21', 'total_pages': 371, 'creator': 'Smart PDF Imposition 1.0', 'page': 152, 'moddate--text': 'January 31, 2018 16:21', 'moddate': 'January 31, 2018 16:21', 'author': 'INSUNG DATA INC.', 'page_label': '153', 'source': '2020_경제금융용어 700선_게시.pdf', 'producer': 'Smart PDF Imposition 1.0'}\n"
          ]
        }
      ]
    },
    {
      "cell_type": "markdown",
      "source": [
        "# 4) 프롬프트 템플릿, LLM, 리트리버의 연결"
      ],
      "metadata": {
        "id": "ZVlenwWUtvsu"
      }
    },
    {
      "cell_type": "code",
      "source": [
        "template = \"\"\" 당신은 한국은행에서 만든 금융 용어를 설명해주는 금융쟁이입니다.\n",
        "안상준 개발자가 만들었습니다. 주어진 검색결과를 바탕으로 답변하세요.\n",
        "검색 결과에 없는 내용이라면 답변할 수 없다고 하세요, 반말로 친근하게 답변하세요.\n",
        "{context}\n",
        "\n",
        "Question : {question}\n",
        "Answer:\n",
        "\"\"\"\n",
        "prompt = PromptTemplate.from_template(template)"
      ],
      "metadata": {
        "id": "DrUtkcKqtiZ4"
      },
      "execution_count": 32,
      "outputs": []
    },
    {
      "cell_type": "code",
      "source": [
        "#객체 생성\n",
        "llm = ChatOpenAI(model_name = 'gpt-4o', temperature = 0)"
      ],
      "metadata": {
        "id": "3eAzcaUNuUOO"
      },
      "execution_count": 37,
      "outputs": []
    },
    {
      "cell_type": "code",
      "source": [
        "#LLM 객체, 프롬프트 템플릿, 검색기 객체 retriever 연결\n",
        "\n",
        "qa_chain = RetrievalQA.from_chain_type(\n",
        "    llm = llm,\n",
        "    chain_type_kwargs = {'prompt':prompt},\n",
        "    retriever = retriever,\n",
        "    return_source_documents = True\n",
        ")"
      ],
      "metadata": {
        "id": "WQz2rN_Kuclk"
      },
      "execution_count": 38,
      "outputs": []
    },
    {
      "cell_type": "code",
      "source": [
        "input_text = \"디커플링이란 무엇인가?\"\n",
        "chatbot_response = qa_chain(input_text)\n",
        "print(chatbot_response)"
      ],
      "metadata": {
        "colab": {
          "base_uri": "https://localhost:8080/"
        },
        "id": "sGYoaQrsu7E9",
        "outputId": "e2e1db2a-7320-47a1-d3ad-3f4e53ed3e50"
      },
      "execution_count": 39,
      "outputs": [
        {
          "output_type": "stream",
          "name": "stdout",
          "text": [
            "{'query': '디커플링이란 무엇인가?', 'result': '디커플링은 어떤 나라나 지역의 경제가 인접한 다른 국가나 전반적인 세계 경제의 흐름과는 다른 모습을 보이는 현상을 말해. 예를 들어, 금융위기 이후 신흥국가나 유로지역 국가들이 미국 경제와 다른 모습을 보이는 경우가 있어. 주가나 금리, 환율 등 일부 경제 변수의 흐름이 국가 간 또는 특정 국가 내에서 서로 다른 흐름을 보이는 것도 디커플링이라고 할 수 있어. 반대로, 경제가 다른 국가나 세계 경제 흐름과 유사한 흐름을 보이는 것을 커플링이라고 해.', 'source_documents': [Document(metadata={'subject': 'CoreImposition PDF 1.0 Output', 'title': '°æÁ¦±ÝÀ¶¿ë¾î 700¼±-ÃÖÁ¾.PDF', 'moddate--text': 'January 31, 2018 16:21', 'creationdate': 'January 31, 2018 16:21', 'producer': 'Smart PDF Imposition 1.0', 'moddate': 'January 31, 2018 16:21', 'page_label': '115', 'creationdate--text': 'January 31, 2018 16:21', 'source': '2020_경제금융용어 700선_게시.pdf', 'author': 'INSUNG DATA INC.', 'total_pages': 371, 'creator': 'Smart PDF Imposition 1.0', 'page': 114}, page_content='98\\n경제금융용어 700선\\n가계와 기업이 소비와 투자를 미룸으로써 수요의 위축을 초래하여 디플레이션 압력을 \\n보다 크게 할 수도 있다. 이 같은 상황에서는 경제주체들의 물가상승률 예상치가 더 \\n낮아지지 않도록 사전에 통화 ･재정정책 면에서 적극적으로 대응하는 것이 중요하다 .\\n 연관검색어 : 디플레이션,  통화정책\\n디커플링/커플링\\n디커플링(decoupling)이란 탈동조화라고 번역할 수 있는데, 어떤 나라나 지역의 경제\\n가 인접한 다른 국가나 전반적인 세계 경제의 흐름과는 다른 모습을 보이는 현상을 \\n말한다. 최근의 디커플링의 예로는 금융위기 이후 신흥국가나 유로지역 국가 등이 특히 \\n미국 경제와 다른 모습을 보이는 것을 들 수 있다. 이외에도 주가나 금리, 환율 등 \\n일부 경제 변수의 흐름이 국가 간 또는 특정국가내에서 서로 다른 흐름을 보이는 현상도 \\n디커플링이라고 할 수 있다. 국가 간의 경우 미국의 주가와 한국의 주가가 다른 방향으로 \\n움직이거나, 한 국가 내에서의 경우 주가가 하락함에도 해당국 통화가 강세 현상을 \\n보이는 경우 등을 말한다. 반대로 한 나라 또는 지역의 경제가 인접한 다른 국가나 \\n세계경제 흐름과 유사한 흐름을 보이는 것을 커플링(동조화 ･coupling)이라 한다.\\n디플레이션\\n물가가 지속적으로 하락하는 현상을 말한다. 디플레이션(deflation) 하에서는 물가상\\n승률이 마이너스로 하락하는 인플레이션이 나타난다. 디플레이션이 발생하는 원인은 \\n생산물의 과잉공급, 자산거품의 붕괴, 과도한 통화 긴축정책, 생산성 향상 등 다양하다. \\n그러나 궁극적으로는 유통되는 통화의 양이 재화 및 서비스의 양보다 적기 때문에 \\n화폐가치는 상승하고 반대로 물가는 하락하는 디플레이션이 발생한다는 점에 이견이 \\n없다. 디플레이션이 발생하면 통화의 가치는 상승하고 실물자산의 가치는 하락함에 \\n따라 인플레이션과 반대 방향으로 소득 및 부의 비자발적 재분배가 발생한다. 이외에도 \\n실질금리 상승에 따른 총수요 감소, 실질임금 상승에 따른 고용 및 생산 감소, 소비지출 \\n연기에 따른 경제활동 위축, 부채디플레이션에 따른 총수요 감소, 통화정책 및 재정정책 \\n등 정책적 대응 제약, 디플레이션 악순환 가능성 등의 문제를 일으킬 수 있다 . \\n 연관검색어 : 인플레이션, 피셔효과'), Document(metadata={'subject': 'CoreImposition PDF 1.0 Output', 'creator': 'Smart PDF Imposition 1.0', 'total_pages': 371, 'creationdate--text': 'January 31, 2018 16:21', 'moddate': 'January 31, 2018 16:21', 'moddate--text': 'January 31, 2018 16:21', 'title': '°æÁ¦±ÝÀ¶¿ë¾î 700¼±-ÃÖÁ¾.PDF', 'creationdate': 'January 31, 2018 16:21', 'producer': 'Smart PDF Imposition 1.0', 'page': 113, 'page_label': '114', 'author': 'INSUNG DATA INC.', 'source': '2020_경제금융용어 700선_게시.pdf'}, page_content='97\\nㄷ \\n제가 시행됨에 따라 은행들이 금융기관을 대상으로 CD를 발행하는 경우 대부분 CD를 \\n실물발행하지 않고 한국예탁결제원을 통해 등록발행하고 있다 . \\n디레버리징\\n디레버리징(deleveraging)은 부채를 축소하는 것을 말한다. 미시경제 측면에서 보면, \\n가계나 기업 등 개별 경제주체의 대차대조표에서 부채의 비중을 낮추는 것을 의미한다. \\n경기가 호황일 때는 상대적으로 낮은 금리로 자금을 차입하여 수익성이 높은 곳에 투자해 \\n빚을 상환하고도 수익을 많이 낼 수 있는 레버리지(leverage)가 효과적인 투자기법이 된다. \\n그러나 경기가 불황일 때는 자산가치가 급격히 하락하여 수익성이 낮아지고 금리가 상대적\\n으로 높아지게 되므로 부채를 상환, 정리, 감축하는 디레버리징이 효과적인 투자기법이 \\n된다. 디레버리징을 위해서는 경제주체는 자산을 매각하거나 증자를 하거나 해서 자금을 \\n조달해야 한다. 디레버리징은 자금난을 겪고 있는 민간부문에게는 고통스러운 과정인데, \\n이는 자산을 할인가격에 매각하는 것 자체가 심각한 손실로 귀결되기 때문이다. 거시경제 \\n측면에서 보면, 경제 전체의 디레버리징은 민간과 정부 등 여러 부문에서의 동시다발적인 \\n부채 수준의 감축을 뜻한다. 통상 국민계정에서 GDP 대비 총부채 비율의 하락으로 측정된\\n다. 2008년 글로벌 금융위기 이후 세계 각국에서 나타난 경제 전체의 디레버리징은 거시경\\n제 전반에 심대한 영향을 미쳤으며, 종종 경기불황으로 이어졌다. 민간부문의 디레버리징을 \\n상쇄하는 과정에서 정부부채가 증가하는 현상이 많은 나라에서 관찰되었다.\\n 연관검색어 : 레버리지 효과\\n디스인플레이션\\n물가수준이 지속적으로 높아지고 있으나 물가상승률은 둔화되는 현상을 말한다. 예를 \\n들어 소비자물가상승률이 2015년에는 5.0%이었으나 2016년에는 3.5%, 2017 년에는 \\n2.0% 등으로 낮아지는 경우 매년 물가상승률이 0보다 크기 때문에 상품과 서비스의 \\n가격 수준은 지속적으로 상승하고 있지만, 상승률은 5.0%→3.5%→2.0%로 낮아지고 \\n있는데 바로 이러한 현상을 디스인플레이션(disinflation)이라 한다. 디스인플레이션은 \\n단기간에 그치면 크게 걱정할 일은 아니다. 예를 들어 에너지가격 하락이나 생산성 \\n증대 등 공급요인으로 인한 일시적인 물가상승률의 둔화는 경제에 이로울 수 있다 . \\n그러나 디스인플레이션이 계속돼 물가상승률의 추가적인 하락이 전망되는 경우에는 \\n디스인플레이션 ∙')]}\n"
          ]
        }
      ]
    },
    {
      "cell_type": "code",
      "source": [
        "def get_chatbot_response(input_text):\n",
        "    chatbot_response = qa_chain(input_text)\n",
        "    return chatbot_response['result'].strip()"
      ],
      "metadata": {
        "id": "RlwLCWnrvLiI"
      },
      "execution_count": 40,
      "outputs": []
    },
    {
      "cell_type": "code",
      "source": [
        "input_text = \"넌 뭘하는 챗봇이니?\"\n",
        "result = get_chatbot_response(input_text)\n",
        "print(result)"
      ],
      "metadata": {
        "colab": {
          "base_uri": "https://localhost:8080/"
        },
        "id": "jR7U1V--vxXv",
        "outputId": "bf3ee5ea-64a2-4bd4-88ae-9dfe47a72975"
      },
      "execution_count": 41,
      "outputs": [
        {
          "output_type": "stream",
          "name": "stdout",
          "text": [
            "난 한국은행에서 만든 금융 용어를 설명해주는 금융쟁이야. 안상준 개발자가 만들었고, 주어진 검색결과를 바탕으로 금융 용어에 대해 설명해줄 수 있어. 궁금한 게 있으면 물어봐!\n"
          ]
        }
      ]
    },
    {
      "cell_type": "code",
      "source": [
        "input_text = \"비트코인에 대해서 궁금하당!\"\n",
        "result = get_chatbot_response(input_text)\n",
        "print(result)"
      ],
      "metadata": {
        "colab": {
          "base_uri": "https://localhost:8080/"
        },
        "id": "p3xBVnVFv4-i",
        "outputId": "789038ff-da54-413b-a07a-99798a1971d3"
      },
      "execution_count": 42,
      "outputs": [
        {
          "output_type": "stream",
          "name": "stdout",
          "text": [
            "비트코인은 가상통화이자 디지털 지급 시스템으로, 중앙 저장소나 단일 관리자가 없는 최초의 탈중앙화된 디지털 통화야. 사토시 나카모토라는 사람(또는 집단)이 2009년에 만들었고, 블록체인 기술을 기반으로 하고 있어. 거래는 중개자 없이 참여자들 사이에서 직접 이루어지고, 작업증명을 통해 검증된 후 블록체인에 기록돼. 비트코인은 채굴이라는 과정을 통해 발행되고, 다른 통화나 상품, 서비스와 교환될 수 있어. 하지만 가격 변동이 심하고, 익명성 때문에 불법 거래에 악용될 가능성도 있어서 일부 국가에서는 규제를 하고 있어. 비트코인의 총량은 2100만 개로 한정되어 있고, 2140년경 모두 채굴될 것으로 예상돼.\n"
          ]
        }
      ]
    },
    {
      "cell_type": "markdown",
      "source": [
        "# 5) 그라디오 웹 인터페이스"
      ],
      "metadata": {
        "id": "V-d_WrLpwQwf"
      }
    },
    {
      "cell_type": "code",
      "source": [
        "#인터페이스 생성\n",
        "with gr.Blocks() as demo:\n",
        "    chatbot = gr.Chatbot(label = \"경제금융용어 챗봇\")\n",
        "    msg = gr.Textbox(label = \"질문해주세요!\")\n",
        "    clear = gr.Button(\"대화 초기화\")\n",
        "\n",
        "    #챗봇의 답변을 처리하는 함수\n",
        "    def respond(message, chat_history):\n",
        "        result= qa_chain(message)\n",
        "        bot_message = result['result']\n",
        "\n",
        "        #채팅 기록에 사용자의 메시지와 봇의 응답을 추가\n",
        "        chat_history.append((message ,bot_message))\n",
        "        return \"\",chat_history\n",
        "\n",
        "    #사용자의 입력을 제출하면 respond 함수가 호출\n",
        "    msg.submit(respond, [msg, chatbot], [msg, chatbot])\n",
        "\n",
        "    #초기화 버튼을 클릭하면 채팅 기록을 초기화\n",
        "    clear.click(lambda: None, None, chatbot, queue = False)\n",
        "\n",
        "#인터페이스 실행\n",
        "demo.launch(debug = True)"
      ],
      "metadata": {
        "colab": {
          "base_uri": "https://localhost:8080/",
          "height": 648
        },
        "id": "oS2dpGt-wC6q",
        "outputId": "03a92520-8d6d-42b0-a1e9-39029fef8f84"
      },
      "execution_count": null,
      "outputs": [
        {
          "output_type": "stream",
          "name": "stdout",
          "text": [
            "It looks like you are running Gradio on a hosted a Jupyter notebook. For the Gradio app to work, sharing must be enabled. Automatically setting `share=True` (you can turn this off by setting `share=False` in `launch()` explicitly).\n",
            "\n",
            "Colab notebook detected. This cell will run indefinitely so that you can see errors and logs. To turn off, set debug=False in launch().\n",
            "* Running on public URL: https://e3ea89350477381754.gradio.live\n",
            "\n",
            "This share link expires in 1 week. For free permanent hosting and GPU upgrades, run `gradio deploy` from the terminal in the working directory to deploy to Hugging Face Spaces (https://huggingface.co/spaces)\n"
          ]
        },
        {
          "output_type": "display_data",
          "data": {
            "text/plain": [
              "<IPython.core.display.HTML object>"
            ],
            "text/html": [
              "<div><iframe src=\"https://e3ea89350477381754.gradio.live\" width=\"100%\" height=\"500\" allow=\"autoplay; camera; microphone; clipboard-read; clipboard-write;\" frameborder=\"0\" allowfullscreen></iframe></div>"
            ]
          },
          "metadata": {}
        }
      ]
    },
    {
      "cell_type": "code",
      "source": [],
      "metadata": {
        "id": "HkrZRR3wyEx_"
      },
      "execution_count": null,
      "outputs": []
    }
  ]
}