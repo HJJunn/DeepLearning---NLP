{
  "cells": [
    {
      "cell_type": "markdown",
      "metadata": {
        "id": "ngCyF3fIshk6"
      },
      "source": [
        "# 1. 환경 설정 및 패키지 설치"
      ]
    },
    {
      "cell_type": "code",
      "execution_count": 1,
      "metadata": {
        "colab": {
          "base_uri": "https://localhost:8080/"
        },
        "id": "jSgPtYBhtZmX",
        "outputId": "e63ab678-85b7-47ac-c48c-e70003f842f0"
      },
      "outputs": [
        {
          "name": "stdout",
          "output_type": "stream",
          "text": [
            "\u001b[33mWARNING: Running pip as the 'root' user can result in broken permissions and conflicting behaviour with the system package manager. It is recommended to use a virtual environment instead: https://pip.pypa.io/warnings/venv\u001b[0m\u001b[33m\n",
            "\u001b[0m\n",
            "\u001b[1m[\u001b[0m\u001b[34;49mnotice\u001b[0m\u001b[1;39;49m]\u001b[0m\u001b[39;49m A new release of pip is available: \u001b[0m\u001b[31;49m23.3.1\u001b[0m\u001b[39;49m -> \u001b[0m\u001b[32;49m25.2\u001b[0m\n",
            "\u001b[1m[\u001b[0m\u001b[34;49mnotice\u001b[0m\u001b[1;39;49m]\u001b[0m\u001b[39;49m To update, run: \u001b[0m\u001b[32;49mpython -m pip install --upgrade pip\u001b[0m\n",
            "Note: you may need to restart the kernel to use updated packages.\n",
            "\u001b[33mWARNING: Running pip as the 'root' user can result in broken permissions and conflicting behaviour with the system package manager. It is recommended to use a virtual environment instead: https://pip.pypa.io/warnings/venv\u001b[0m\u001b[33m\n",
            "\u001b[0m\n",
            "\u001b[1m[\u001b[0m\u001b[34;49mnotice\u001b[0m\u001b[1;39;49m]\u001b[0m\u001b[39;49m A new release of pip is available: \u001b[0m\u001b[31;49m23.3.1\u001b[0m\u001b[39;49m -> \u001b[0m\u001b[32;49m25.2\u001b[0m\n",
            "\u001b[1m[\u001b[0m\u001b[34;49mnotice\u001b[0m\u001b[1;39;49m]\u001b[0m\u001b[39;49m To update, run: \u001b[0m\u001b[32;49mpython -m pip install --upgrade pip\u001b[0m\n",
            "Note: you may need to restart the kernel to use updated packages.\n",
            "Requirement already satisfied: Pillow>=9.4.0 in /usr/local/lib/python3.10/dist-packages (11.3.0)\n",
            "\u001b[33mWARNING: Running pip as the 'root' user can result in broken permissions and conflicting behaviour with the system package manager. It is recommended to use a virtual environment instead: https://pip.pypa.io/warnings/venv\u001b[0m\u001b[33m\n",
            "\u001b[0m\n",
            "\u001b[1m[\u001b[0m\u001b[34;49mnotice\u001b[0m\u001b[1;39;49m]\u001b[0m\u001b[39;49m A new release of pip is available: \u001b[0m\u001b[31;49m23.3.1\u001b[0m\u001b[39;49m -> \u001b[0m\u001b[32;49m25.2\u001b[0m\n",
            "\u001b[1m[\u001b[0m\u001b[34;49mnotice\u001b[0m\u001b[1;39;49m]\u001b[0m\u001b[39;49m To update, run: \u001b[0m\u001b[32;49mpython -m pip install --upgrade pip\u001b[0m\n",
            "Note: you may need to restart the kernel to use updated packages.\n",
            "Requirement already satisfied: scikit-learn in /usr/local/lib/python3.10/dist-packages (1.7.1)\n",
            "Requirement already satisfied: numpy>=1.22.0 in /usr/local/lib/python3.10/dist-packages (from scikit-learn) (1.24.1)\n",
            "Requirement already satisfied: scipy>=1.8.0 in /usr/local/lib/python3.10/dist-packages (from scikit-learn) (1.15.3)\n",
            "Requirement already satisfied: joblib>=1.2.0 in /usr/local/lib/python3.10/dist-packages (from scikit-learn) (1.5.2)\n",
            "Requirement already satisfied: threadpoolctl>=3.1.0 in /usr/local/lib/python3.10/dist-packages (from scikit-learn) (3.6.0)\n",
            "\u001b[33mWARNING: Running pip as the 'root' user can result in broken permissions and conflicting behaviour with the system package manager. It is recommended to use a virtual environment instead: https://pip.pypa.io/warnings/venv\u001b[0m\u001b[33m\n",
            "\u001b[0m\n",
            "\u001b[1m[\u001b[0m\u001b[34;49mnotice\u001b[0m\u001b[1;39;49m]\u001b[0m\u001b[39;49m A new release of pip is available: \u001b[0m\u001b[31;49m23.3.1\u001b[0m\u001b[39;49m -> \u001b[0m\u001b[32;49m25.2\u001b[0m\n",
            "\u001b[1m[\u001b[0m\u001b[34;49mnotice\u001b[0m\u001b[1;39;49m]\u001b[0m\u001b[39;49m To update, run: \u001b[0m\u001b[32;49mpython -m pip install --upgrade pip\u001b[0m\n",
            "Note: you may need to restart the kernel to use updated packages.\n"
          ]
        }
      ],
      "source": [
        " # Install Pytorch & other libraries\n",
        " %pip install -q tensorboard wandb\n",
        " # Install Hugging Face libraries\n",
        " %pip install -q --upgrade \\\n",
        "    \"transformers==4.45.1\" \\\n",
        "    \"datasets==3.0.1\" \\\n",
        "    \"accelerate==0.34.2\" \\\n",
        "    \"evaluate==0.4.3\" \\\n",
        "    \"bitsandbytes==0.44.0\" \\\n",
        "    \"trl==0.11.1\" \\\n",
        "    \"peft==0.13.0\" \\\n",
        "    \"qwen-vl-utils\"\n",
        " %pip install \"Pillow>=9.4.0\"\n",
        " %pip install scikit-learn"
      ]
    },
    {
      "cell_type": "code",
      "execution_count": 2,
      "metadata": {
        "colab": {
          "base_uri": "https://localhost:8080/",
          "height": 75
        },
        "id": "1Gl9-zVluHVK",
        "outputId": "f3c4cc0c-1b8a-4cbb-ab89-83a98c6287f8"
      },
      "outputs": [
        {
          "data": {
            "text/html": [
              "<button onClick=\"this.nextSibling.style.display='block';this.style.display='none';\">Display W&B run</button><iframe src='https://wandb.ai/dummy/dummy/runs/3t063nyp?jupyter=true' style='border:none;width:100%;height:420px;display:none;'></iframe>"
            ],
            "text/plain": [
              "<wandb.sdk.wandb_run.Run at 0x7bf65790ad10>"
            ]
          },
          "execution_count": 2,
          "metadata": {},
          "output_type": "execute_result"
        }
      ],
      "source": [
        "import io\n",
        "import json\n",
        "import torch\n",
        "from PIL import Image # 이미지 처리 위한 라이브러리\n",
        "from datasets import load_dataset\n",
        "from sklearn.model_selection import train_test_split\n",
        "from transformers import AutoModelForVision2Seq, AutoProcessor # 이미지와 텍스트를 함께 처리하는 모델, 특정 모델에 맞는 전처리기를 자동으로 불러옴\n",
        "from trl import SFTConfig, SFTTrainer\n",
        "from transformers import Qwen2VLProcessor # Qwen2-VL 모델 전용 전처리기\n",
        "from qwen_vl_utils import process_vision_info # 비전 정보를 처리\n",
        "from peft import LoraConfig\n",
        "import wandb\n",
        "\n",
        "wandb.init(mode= 'disabled')"
      ]
    },
    {
      "cell_type": "markdown",
      "metadata": {
        "id": "nNHK1BHlshhi"
      },
      "source": [
        "# 2. 시스템 프롬프트 및 사용자 프롬프트 정의"
      ]
    },
    {
      "cell_type": "code",
      "execution_count": 3,
      "metadata": {
        "id": "IQIVB57rvJBk"
      },
      "outputs": [],
      "source": [
        "system_message = \"당신은 이미지와 제품명(name)으로부터 패션/ 스타일 정보를 추론하는 분류 모델입니다.\"\n",
        "\n",
        "#실제로 사용자 입력 -> 모델이 답해야 하는 프롬프트\n",
        "prompt = \"\"\" 입력 정보:\n",
        "- name : {name}\n",
        "- image : [image]\n",
        "\n",
        "위 정보를 바탕으로, 아래 7가지 key에 대한 값을 JSON 형태로 추론해 주세요 :\n",
        "1) gender\n",
        "2) masterCategory\n",
        "3) subCategory\n",
        "4) season\n",
        "5) usage\n",
        "6) baseColour\n",
        "7) articleType\n",
        "\n",
        "출력 시 ** 아래 JSON 예시 형태**를 반드시 지키세요:\n",
        "{{\n",
        "    \"gender\" : \"예시 값\",\n",
        "    \"masterCategory\" : \"예시 값\",\n",
        "    \"subCategory\" : \"예시 값\",\n",
        "    \"season\" : \"예시 값\",\n",
        "    \"usage\" : \"예시 값\",\n",
        "    \"baseColour\" : \"예시 값\",\n",
        "    \"articleType\" : \"예시 값\",\n",
        "}}\n",
        "\n",
        "#예시\n",
        "{{\n",
        "    \"gender\" : \"Men\",\n",
        "    \"masterCategory\" : \"Accessories\",\n",
        "    \"subCategory\" : \"Eyewear\",\n",
        "    \"season\" : \"Winter\",\n",
        "    \"usage\" : \"Causal\",\n",
        "    \"baseColour\" : \"Blue\",\n",
        "    \"articleType\" : \"Sunglasses\",\n",
        "}}\n",
        "#주의\n",
        "- 7개 항목 이외의 정보(텍스트, 문장 등)는 절대 포함하지 마세요.\n",
        "\"\"\""
      ]
    },
    {
      "cell_type": "markdown",
      "metadata": {
        "id": "wrdrqE6jshdq"
      },
      "source": [
        "# 3. 데이터 전처리 함수 정의"
      ]
    },
    {
      "cell_type": "code",
      "execution_count": 4,
      "metadata": {
        "id": "58n6hATk-vBS"
      },
      "outputs": [],
      "source": [
        "def combine_cols_to_label(example):  # 여러 칼럼에 분산된 패션 속성 정보를 하나의 JSON 형태 레이블로 통합\n",
        "    # 실제 컬럼명에 맞게 수정\n",
        "    label_dict = {\n",
        "        \"gender\" : example[\"gender\"],\n",
        "        \"masterCategory\" : example[\"masterCategory\"],\n",
        "        \"subCategory\" : example[\"subCategory\"],\n",
        "        \"season\" : example[\"season\"],\n",
        "        \"usage\" : example[\"usage\"],\n",
        "        \"baseColour\" : example[\"baseColour\"],\n",
        "        \"articleType\" : example[\"articleType\"],\n",
        "    }\n",
        "    example[\"label\"] = json.dumps(label_dict, ensure_ascii = False) # json.dumps() -> dict, list 등을 JSON 문자열로 변환\n",
        "    return example\n",
        "\n",
        "def format_data(sample):  #OpenAI 형식의 대화 구조로 변환\n",
        "    #Image.Image를 PngImageFile로 변환\n",
        "    buffer = io.BytesIO()       # 메모리 상에서 이미지를 PNG 형태로 변환한 후 다시 로드\n",
        "    sample[\"image\"].save(buffer, format = \"PNG\")\n",
        "    buffer.seek(0)\n",
        "    image = Image.open(buffer)\n",
        "\n",
        "    return {\n",
        "        \"messages\" : [\n",
        "            {\"role\" : \"system\",\n",
        "             \"content\" : [\n",
        "                 {\n",
        "                     \"type\" : \"text\",\n",
        "                     \"text\" : system_message\n",
        "                 }\n",
        "             ],\n",
        "            },\n",
        "            {\"role\" : \"user\",\n",
        "             \"content\" : [\n",
        "                 {\n",
        "                     \"type\" : \"text\",\n",
        "                     \"text\" : prompt.format(name = sample[\"productDisplayName\"]),\n",
        "                 },\n",
        "                 {\n",
        "                     \"type\" : \"image\",\n",
        "                     \"image\" : image,\n",
        "                 }\n",
        "            ],\n",
        "            },\n",
        "            {\n",
        "                \"rple\" : \"assistant\",\n",
        "                \"content\" : [\n",
        "                    {\n",
        "                        \"type\" : \"text\",\n",
        "                        \"text\" : sample[\"label\"],\n",
        "                    }\n",
        "                ]\n",
        "            }\n",
        "        ]\n",
        "    }"
      ]
    },
    {
      "cell_type": "markdown",
      "metadata": {
        "id": "q6MQDVyFshac"
      },
      "source": [
        "# 4. 데이터 셋 로드 및 전처리"
      ]
    },
    {
      "cell_type": "code",
      "execution_count": 5,
      "metadata": {
        "id": "2zXXNGq9FWdX"
      },
      "outputs": [],
      "source": [
        "dataset = load_dataset(\"ashraq/fashion-product-images-small\", split = \"train\")\n",
        "dataset_add_label = dataset.map(combine_cols_to_label)\n",
        "dataset_add_label = dataset_add_label.shuffle(seed = 4242)"
      ]
    },
    {
      "cell_type": "code",
      "execution_count": 6,
      "metadata": {
        "colab": {
          "base_uri": "https://localhost:8080/"
        },
        "id": "1KqCR4anFzIS",
        "outputId": "6844de6a-c22f-4621-e245-632b4e8dd479"
      },
      "outputs": [
        {
          "data": {
            "text/plain": [
              "{'id': 15516,\n",
              " 'gender': 'Men',\n",
              " 'masterCategory': 'Footwear',\n",
              " 'subCategory': 'Flip Flops',\n",
              " 'articleType': 'Flip Flops',\n",
              " 'baseColour': 'Navy Blue',\n",
              " 'season': 'Fall',\n",
              " 'year': 2011.0,\n",
              " 'usage': 'Casual',\n",
              " 'productDisplayName': 'Rockport Men Altrezlp Navy Blue Flip Flops',\n",
              " 'image': <PIL.Image.Image image mode=RGB size=60x80>,\n",
              " 'label': '{\"gender\": \"Men\", \"masterCategory\": \"Footwear\", \"subCategory\": \"Flip Flops\", \"season\": \"Fall\", \"usage\": \"Casual\", \"baseColour\": \"Navy Blue\", \"articleType\": \"Flip Flops\"}'}"
            ]
          },
          "execution_count": 6,
          "metadata": {},
          "output_type": "execute_result"
        }
      ],
      "source": [
        "dataset_add_label[0]"
      ]
    },
    {
      "cell_type": "code",
      "execution_count": 7,
      "metadata": {
        "id": "XbgCvbbAGEzK"
      },
      "outputs": [],
      "source": [
        "# OpenAI 형식으로 변환\n",
        "formatted_dataset = [format_data(row) for row in dataset_add_label]"
      ]
    },
    {
      "cell_type": "code",
      "execution_count": 8,
      "metadata": {
        "colab": {
          "base_uri": "https://localhost:8080/"
        },
        "id": "oybKyKO0J8x8",
        "outputId": "fe684eb1-aeee-4137-83c3-ef4d373671bc"
      },
      "outputs": [
        {
          "data": {
            "text/plain": [
              "{'messages': [{'role': 'system',\n",
              "   'content': [{'type': 'text',\n",
              "     'text': '당신은 이미지와 제품명(name)으로부터 패션/ 스타일 정보를 추론하는 분류 모델입니다.'}]},\n",
              "  {'role': 'user',\n",
              "   'content': [{'type': 'text',\n",
              "     'text': ' 입력 정보:\\n- name : Rockport Men Altrezlp Navy Blue Flip Flops\\n- image : [image]\\n\\n위 정보를 바탕으로, 아래 7가지 key에 대한 값을 JSON 형태로 추론해 주세요 :\\n1) gender\\n2) masterCategory\\n3) subCategory\\n4) season\\n5) usage\\n6) baseColour\\n7) articleType\\n\\n출력 시 ** 아래 JSON 예시 형태**를 반드시 지키세요:\\n{\\n    \"gender\" : \"예시 값\",\\n    \"masterCategory\" : \"예시 값\",\\n    \"subCategory\" : \"예시 값\",\\n    \"season\" : \"예시 값\",\\n    \"usage\" : \"예시 값\",\\n    \"baseColour\" : \"예시 값\",\\n    \"articleType\" : \"예시 값\",\\n}\\n\\n#예시\\n{\\n    \"gender\" : \"Men\",\\n    \"masterCategory\" : \"Accessories\",\\n    \"subCategory\" : \"Eyewear\",\\n    \"season\" : \"Winter\",\\n    \"usage\" : \"Causal\",\\n    \"baseColour\" : \"Blue\",\\n    \"articleType\" : \"Sunglasses\",\\n}\\n#주의\\n- 7개 항목 이외의 정보(텍스트, 문장 등)는 절대 포함하지 마세요.\\n'},\n",
              "    {'type': 'image',\n",
              "     'image': <PIL.PngImagePlugin.PngImageFile image mode=RGB size=60x80>}]},\n",
              "  {'rple': 'assistant',\n",
              "   'content': [{'type': 'text',\n",
              "     'text': '{\"gender\": \"Men\", \"masterCategory\": \"Footwear\", \"subCategory\": \"Flip Flops\", \"season\": \"Fall\", \"usage\": \"Casual\", \"baseColour\": \"Navy Blue\", \"articleType\": \"Flip Flops\"}'}]}]}"
            ]
          },
          "execution_count": 8,
          "metadata": {},
          "output_type": "execute_result"
        }
      ],
      "source": [
        "formatted_dataset[0]"
      ]
    },
    {
      "cell_type": "markdown",
      "metadata": {
        "id": "gCR3xRXcshW5"
      },
      "source": [
        "# 5. 학습/테스트 데이터 분할"
      ]
    },
    {
      "cell_type": "code",
      "execution_count": 9,
      "metadata": {
        "id": "zupoNwG2KAoV"
      },
      "outputs": [],
      "source": [
        "train_dataset, test_dataset = train_test_split(formatted_dataset, test_size = 0.9, random_state = 42)"
      ]
    },
    {
      "cell_type": "code",
      "execution_count": 10,
      "metadata": {
        "colab": {
          "base_uri": "https://localhost:8080/"
        },
        "id": "dU0HK3SfKqPI",
        "outputId": "86d62ca3-9bf6-4020-ba1c-2e6de872f847"
      },
      "outputs": [
        {
          "name": "stdout",
          "output_type": "stream",
          "text": [
            "학습 데이터의 개수: 4407\n",
            "테스트 데이터의 개수: 39665\n"
          ]
        }
      ],
      "source": [
        "print(\"학습 데이터의 개수:\", len(train_dataset))\n",
        "print(\"테스트 데이터의 개수:\", len(test_dataset))"
      ]
    },
    {
      "cell_type": "markdown",
      "metadata": {
        "id": "fXJt2vuDshTX"
      },
      "source": [
        "# 6. 모델 및 프로세서 로드"
      ]
    },
    {
      "cell_type": "code",
      "execution_count": 11,
      "metadata": {
        "colab": {
          "base_uri": "https://localhost:8080/",
          "height": 583,
          "referenced_widgets": [
            "2ab6081d7bba49c4b2779ca33a78ec14",
            "d307fa7de09c4c2e884c6a8fee61d501",
            "6462d4ae0de34bcc99a9820b987680ac",
            "68cdc9d962f04d09b246d8494fc8ed93",
            "063439d1ebcf439da3c1044efee2e253",
            "82be3f67a8d94f06a9892440835b7e7f",
            "23843da8678f4cd686d5612e44e3e78c",
            "535e0ff3c18f4fbdb152e8f7dd913d9b",
            "4a54e945d6fe484991b446fe7cd3ed54",
            "c15d2415a0a44d749cf5efcf216c86da",
            "8e27817d04fd48349641c9d4318d23fd",
            "af069ddefa80495d8ce83a20c5b54a26",
            "4bbf4b9bd3554d8d9681d00bf9d87831",
            "54549a22e33d409382047a37e4674249",
            "4828957756934e4291925a2bd91051a3",
            "a387466344214e26b6c12d4281ca452d",
            "044c0c45ff134fb386cab7a742d63fad",
            "a888c2d0d04a4d8c9bb863dc849116ce",
            "bc0cb1673406436caad19280bb820fbb",
            "c870c5640eb843a5b290af49cae8729c",
            "e7018fb6fca74a6db044104e92e1296b",
            "36322ce99edd47e297de18adf76bdbf5",
            "7c0ed697478f4e93a0eb7aeec36ed023",
            "ed0215e33e154154b17eef32c207cef3",
            "070410871e4340c2bb980d654a493119",
            "473fde2fae184497ac6aec36d504fac5",
            "33b60cf78ac544f8b9dcb11a84e5eca0",
            "2fbb5b9d15ce4a3799bf24753bc9653f",
            "3b94ad4fece040acade73206af847dbc",
            "7e3523530f6b47bdaf9cf198b3c467f6",
            "954f92b6eae440619dd40c6b2dd888c1",
            "fd933b54657549caa5b1db18cd4d02c3",
            "be28f9946224404084b07195c39346a1",
            "c930575cd6de4fe7b7e1975851b94090",
            "8fc5d4e5261943b293b7228a945949a2",
            "4617fb927ad54702b7a499ed7e56edbc",
            "e404a151bb5e4f34b8f92892eb7c050f",
            "284ec6816be84087bcfa61acf0653462",
            "ca34a1041f4c4732bcbbbd0bdd2dc26e",
            "37e2a636818f4f43b5f01c5448876c33",
            "0dfa904df1b8447bbe003ac892997657",
            "1f142feb7cb94c398a07d110a810b6ae",
            "7950340cd80541a280cebdb9587ff8d8",
            "fd091466e3494b5b987359779f375f4b",
            "4cff42eee6ab4ea5ba0f46ff67f88169",
            "2f0ddae6d9b14678a1d16b58ee037c97",
            "068753c365f24d2589331ec64e6fc7f6",
            "e337f4097d3f42c0bf64e9848565fe28",
            "6635566152384d4391fdd1940504f815",
            "335e547a95384f2b8283fdb8cd91416a",
            "ac65d22e4e5746e4be5d6c468fb19ea1",
            "590c847ec9774019a8385d43f226f33b",
            "176477acf8354a05a24523398f2e0895",
            "43e629b5d91c4757a4db78e2772dd508",
            "adfd1c0bdc024abf90a0fec7d774dfff",
            "8e1e471243ff4c7cbf4a946a4a46ff21",
            "e1c31550c0b1466e8478cf8bfc3feeb4",
            "c1f13a62b1fd454b8fcb0fa88ffe891b",
            "0f06a8b532e6467784b1f0624f4fe191",
            "a6f093fc3d9544fbb96e9bf715a91cfc",
            "0a134b040d3d492cadea67261b236b2b",
            "c798af7c42de433d87beba012b2552a4",
            "7f4b29e6dcf747cf9bbc2e978360136e",
            "e1a835a837dd423e97256546edb0dbb1",
            "1991a77f59674859a27be5c796153b42",
            "5a692567714f4d63a298f4816442968f",
            "5eca4dbe16104f08b165359081423fc6",
            "838e572b2edb4801ab28e6f31fda0564",
            "65b2de2e7152479f9c431091ded4efd4",
            "98c5a7474a1b4e43aca0c4a8da1c94e0",
            "b22d18bec3e140f29f22be62f8169595",
            "5fa9f5da548e4cf7a181f2d1b9e1ed90",
            "a7735e6d2a8d4418a7421645707b286d",
            "d19b4a4e4325487ab57b103ef088eecc",
            "49135fb9dc744f71981f6f6544885d6b",
            "ae8daf1854984ba0a0e490c655e08a5b",
            "4ca0e008523f44838fe21c55164e5aaa",
            "ecff70baebd9498493248c3940b1012f",
            "003afc67a9ef44bd8b439172306261bb",
            "4250b18946bc43bb97fd6e291a369521",
            "9992c3c5155a4864b211178b84f429fe",
            "1904674c2c374874b9bb1075902a669c",
            "1666de53fdba4030ab78679d14d14a03",
            "c07bcae4118a41b4861472914e2c24a8",
            "b2171e9212e84180a6ac8769b2418820",
            "a98396e5b12b43989744c72da871c138",
            "1f25d81d4f92450b99b4eabd14d3bb49",
            "77276b8276c04deea4b24c62b8c4d4b9",
            "e775c5ddb4c74ab790ab2fa78b018398",
            "9fa5488ff7574339a521778188b45a9c",
            "3ee5976a2a0b4ec6aac8dd666f87a261",
            "596f0d9ee9a44642bda702182f94c59a",
            "f2c735a3ef6b487a8620d2afada2f2f1",
            "a774aa6c796548b5b0469a454ecff117",
            "ba28a692cfe342e0a3d4a91d3478a7d2",
            "ce0f8aef6ae54f859a0b32ff0fb152a4",
            "b2a8fc981448409d9ca2269b9684ae10",
            "4826ce69a51c43698e0c820d2473fdc1",
            "14ada895962a47efbfe39d8355628e4d",
            "f4d0d7dcfdab42168e483ac616f29ecf",
            "9a821d5b069a43f6a83541622625a836",
            "0bc7551051484f8c9f0ff0fbc6b04283",
            "92c484ac207a486d8385701ded1feb01",
            "2dd75f0e127742c7a5ff1bb02534ef16",
            "9837ebe7ab644fa692d53f6d95b974cf",
            "fbc725de8c364ae096cc364a30177766",
            "e48d1c47e7944226888c0c393bf5449f",
            "1ef1ad66a9314d99bbfc90daeebccce5",
            "c9e73f6f6c624b4086778b4369a9627f",
            "483be0a6110341a99bb61f57b7e02d21",
            "96a323939deb46f5904495e366762509",
            "37d1cbec84bd41bdb15d06017624b302",
            "57dae14570be4e518bc60ddfb53132bd",
            "37a1fed0db494081b09e35d008f6017e",
            "9dd430df97b947e4a5a0cd59ce87dfb9",
            "a3660f37e7604727bd8bcf7f7a0efaa7",
            "233a3299852b41ebab841af2ef701447",
            "f195578250f448c7957e321746039e73",
            "31049223bafd4b7783feb05ad5c70990",
            "188386f75ae842e0bf921d4b697101c7",
            "5f502641b174465882ecdb36b109d6e4",
            "87a0cc1a8d0340138f60f71510c6eefc",
            "1f964f844d2f4e0485ef454d46ec44b0",
            "ea424c99b2014dceb2a2df5ee6f78879",
            "42003677ed16417db0faeb563fc0d12c",
            "787a4fd226d9436097dc5682ea947dcd",
            "d6ce6beed3904ec9bf7daf8bcbea7bba",
            "e0023fad200f466ba438441597051812",
            "91ca987ff15e4f1b8b289916582d3fa4",
            "7a92fbf059204c379a224c69851ed54c",
            "2c978a8a83744988ab94af105d33b8b0",
            "f7091c21dc9a4b97a990bfe69b92c849",
            "1926e52aa86849e8ab7a4c0beeb8e3fb",
            "55cfbe521d0f46e5b28aeb2319bd57cd",
            "e3cc37c27ddf45e982e046c04174459b",
            "8492c52ce9024fd19a87b0e0fb371cae",
            "30cd6688fc4f4c84a0f3d3d8c60aafff",
            "dcd6d412787d4e018bd26d98039e64aa",
            "c5d0184a106f41b4ab48ffa9f85ef041",
            "88c7c52bd4384c84b6566a42b38f8cbe",
            "dff2ac6f7b5e45a0a8ea016a3e2d32f7",
            "e528b4e294744181b5b5bb1c96fa017b",
            "56e098c93deb4bc4a3e8ed72e808cd3d",
            "7a9430fe65aa49748a839b319cbda8ef",
            "19d7a41c32a74adda2d514194a1abefc",
            "fbb09b52f6414cbd92c796cd58c86015",
            "b3fbc3e366534d479357901535e16061",
            "e138bf2e90b9428f90a6979efaa3fef7",
            "4bd37a1deae4458da8618bee01fe57c2",
            "3f18bfbbcea14663828114df8e9225c3",
            "288418718741408cab81d12096158e2b",
            "ee11ee1bdef4482f8d4a574f65e3f361",
            "e25b9c0508ff4097bd774c0089d167ba",
            "55a74ea14a1b449dbfa037a54d5cc662",
            "810b755e618d4846b6dc06d48ebfb2b0",
            "da01bf426d714337a425351642748a5e",
            "170f1206362f438bbfe5dbef14998b36",
            "6b2b2caefbc24139a30b51dd2ee9b407",
            "fae2f98c69224f9fb975d188f25142bc",
            "a76e9dcbdc5e4b949db1fb31b928f41b",
            "359f7838588c44a1933705fb5b2180a8",
            "49e543fde73945a191806f6175d7aa1b",
            "d9d27199355946979b9d9f6e0171ad52",
            "2b644636c54b4362aa4a1af618b731e0",
            "676b05e9b7204442bb23a24a3b684792",
            "cc94b080e4614b8b84afef7fe62cd68b",
            "07f4c2899d3e4c2899e3ad977e2e8063",
            "4e156f49bbc745aa89d623e3f78a2570",
            "988e79302d1845eea0e9a815adc70002",
            "ba6d8233c13b4a8ca48bd4538d90b4d5",
            "c65fdb1db2b94e16b7c1aab8283a33e6",
            "c931df06c9ff4f37b0400a05638d76d7",
            "ddd1f74233f14f108e206d6d95ff8336",
            "3f7dfb33bdbf4459ac06ad48e09fcb7d",
            "267942d0c0f2420e98acb421e9afbbc5",
            "2d8bcf6df5ff43e0b23f48bb9104cc1f"
          ]
        },
        "id": "WZSA7A8YK6MK",
        "outputId": "46f05f08-e924-4acf-b984-1b6808806dcc"
      },
      "outputs": [
        {
          "data": {
            "application/vnd.jupyter.widget-view+json": {
              "model_id": "9f78e9bf53e34e4d8df6514a43318b4f",
              "version_major": 2,
              "version_minor": 0
            },
            "text/plain": [
              "config.json: 0.00B [00:00, ?B/s]"
            ]
          },
          "metadata": {},
          "output_type": "display_data"
        },
        {
          "name": "stderr",
          "output_type": "stream",
          "text": [
            "Unrecognized keys in `rope_scaling` for 'rope_type'='default': {'mrope_section'}\n"
          ]
        },
        {
          "data": {
            "application/vnd.jupyter.widget-view+json": {
              "model_id": "a41f9e2877ad476e930c56e9362dd2f0",
              "version_major": 2,
              "version_minor": 0
            },
            "text/plain": [
              "model.safetensors.index.json: 0.00B [00:00, ?B/s]"
            ]
          },
          "metadata": {},
          "output_type": "display_data"
        },
        {
          "data": {
            "application/vnd.jupyter.widget-view+json": {
              "model_id": "f25b281880d74ff6847c18c2916568d8",
              "version_major": 2,
              "version_minor": 0
            },
            "text/plain": [
              "Downloading shards:   0%|          | 0/5 [00:00<?, ?it/s]"
            ]
          },
          "metadata": {},
          "output_type": "display_data"
        },
        {
          "data": {
            "application/vnd.jupyter.widget-view+json": {
              "model_id": "0560012d16a148be8adbf5a08d2d6cec",
              "version_major": 2,
              "version_minor": 0
            },
            "text/plain": [
              "model-00001-of-00005.safetensors:   0%|          | 0.00/3.90G [00:00<?, ?B/s]"
            ]
          },
          "metadata": {},
          "output_type": "display_data"
        },
        {
          "data": {
            "application/vnd.jupyter.widget-view+json": {
              "model_id": "614bf3e60b2f47869e22aacc75188d66",
              "version_major": 2,
              "version_minor": 0
            },
            "text/plain": [
              "model-00002-of-00005.safetensors:   0%|          | 0.00/3.86G [00:00<?, ?B/s]"
            ]
          },
          "metadata": {},
          "output_type": "display_data"
        },
        {
          "data": {
            "application/vnd.jupyter.widget-view+json": {
              "model_id": "b5f1ac3f5a264bf3bdc00655e661e98d",
              "version_major": 2,
              "version_minor": 0
            },
            "text/plain": [
              "model-00003-of-00005.safetensors:   0%|          | 0.00/3.86G [00:00<?, ?B/s]"
            ]
          },
          "metadata": {},
          "output_type": "display_data"
        },
        {
          "data": {
            "application/vnd.jupyter.widget-view+json": {
              "model_id": "aeb7ded3865b4f15a039461b8379c9ef",
              "version_major": 2,
              "version_minor": 0
            },
            "text/plain": [
              "model-00004-of-00005.safetensors:   0%|          | 0.00/3.86G [00:00<?, ?B/s]"
            ]
          },
          "metadata": {},
          "output_type": "display_data"
        },
        {
          "data": {
            "application/vnd.jupyter.widget-view+json": {
              "model_id": "417f0aa891a849e78356aceade5f98ca",
              "version_major": 2,
              "version_minor": 0
            },
            "text/plain": [
              "model-00005-of-00005.safetensors:   0%|          | 0.00/1.09G [00:00<?, ?B/s]"
            ]
          },
          "metadata": {},
          "output_type": "display_data"
        },
        {
          "name": "stderr",
          "output_type": "stream",
          "text": [
            "`Qwen2VLRotaryEmbedding` can now be fully parameterized by passing the model config through the `config` argument. All other arguments will be removed in v4.46\n"
          ]
        },
        {
          "data": {
            "application/vnd.jupyter.widget-view+json": {
              "model_id": "bf760607cf124fc5ab985763b22d2a8a",
              "version_major": 2,
              "version_minor": 0
            },
            "text/plain": [
              "Loading checkpoint shards:   0%|          | 0/5 [00:00<?, ?it/s]"
            ]
          },
          "metadata": {},
          "output_type": "display_data"
        },
        {
          "data": {
            "application/vnd.jupyter.widget-view+json": {
              "model_id": "02291641bee94a45a490c7317ef8e6e1",
              "version_major": 2,
              "version_minor": 0
            },
            "text/plain": [
              "generation_config.json:   0%|          | 0.00/244 [00:00<?, ?B/s]"
            ]
          },
          "metadata": {},
          "output_type": "display_data"
        },
        {
          "data": {
            "application/vnd.jupyter.widget-view+json": {
              "model_id": "3a776a45abd7413d881708c77684ed10",
              "version_major": 2,
              "version_minor": 0
            },
            "text/plain": [
              "preprocessor_config.json:   0%|          | 0.00/347 [00:00<?, ?B/s]"
            ]
          },
          "metadata": {},
          "output_type": "display_data"
        },
        {
          "data": {
            "application/vnd.jupyter.widget-view+json": {
              "model_id": "d158b756e9114114ad0354d21750e009",
              "version_major": 2,
              "version_minor": 0
            },
            "text/plain": [
              "tokenizer_config.json: 0.00B [00:00, ?B/s]"
            ]
          },
          "metadata": {},
          "output_type": "display_data"
        },
        {
          "data": {
            "application/vnd.jupyter.widget-view+json": {
              "model_id": "7ff99495ffff427ea70e16cde3d20eae",
              "version_major": 2,
              "version_minor": 0
            },
            "text/plain": [
              "vocab.json: 0.00B [00:00, ?B/s]"
            ]
          },
          "metadata": {},
          "output_type": "display_data"
        },
        {
          "data": {
            "application/vnd.jupyter.widget-view+json": {
              "model_id": "57ab1e2d7e6c4ad2b93495250c9daae9",
              "version_major": 2,
              "version_minor": 0
            },
            "text/plain": [
              "merges.txt: 0.00B [00:00, ?B/s]"
            ]
          },
          "metadata": {},
          "output_type": "display_data"
        },
        {
          "data": {
            "application/vnd.jupyter.widget-view+json": {
              "model_id": "0e8fd11cc4c844a998e3ebbc90f0bf51",
              "version_major": 2,
              "version_minor": 0
            },
            "text/plain": [
              "tokenizer.json: 0.00B [00:00, ?B/s]"
            ]
          },
          "metadata": {},
          "output_type": "display_data"
        },
        {
          "data": {
            "application/vnd.jupyter.widget-view+json": {
              "model_id": "34b2b212689348d2b2c65cef5d60eb5b",
              "version_major": 2,
              "version_minor": 0
            },
            "text/plain": [
              "chat_template.json: 0.00B [00:00, ?B/s]"
            ]
          },
          "metadata": {},
          "output_type": "display_data"
        }
      ],
      "source": [
        "# 허깅페이스 모델 ID\n",
        "model_id = \"Qwen/Qwen2-VL-7B-Instruct\"\n",
        "\n",
        "#모델과 프로세소 로드\n",
        "model=  AutoModelForVision2Seq.from_pretrained(\n",
        "    model_id,\n",
        "    device_map = \"auto\",\n",
        "    torch_dtype = torch.bfloat16,\n",
        ")\n",
        "processor = AutoProcessor.from_pretrained(model_id)"
      ]
    },
    {
      "cell_type": "markdown",
      "metadata": {
        "id": "9rYf7GMOPBDP"
      },
      "source": [
        "VLM 에서는 **토크나이저** 대신 **프로세서** 사용"
      ]
    },
    {
      "cell_type": "markdown",
      "metadata": {
        "id": "VnTMQbyls7Yo"
      },
      "source": [
        "# 7. 챗 템플릿 적용 확인"
      ]
    },
    {
      "cell_type": "code",
      "execution_count": 12,
      "metadata": {
        "colab": {
          "base_uri": "https://localhost:8080/"
        },
        "id": "X5hM8SJGPQix",
        "outputId": "73506adb-aac2-4dc3-a0a5-896147360201"
      },
      "outputs": [
        {
          "name": "stdout",
          "output_type": "stream",
          "text": [
            "<|im_start|>system\n",
            "당신은 이미지와 제품명(name)으로부터 패션/ 스타일 정보를 추론하는 분류 모델입니다.<|im_end|>\n",
            "<|im_start|>user\n",
            " 입력 정보:\n",
            "- name : Mr.Men Men's Charcoal White T-shirt\n",
            "- image : [image]\n",
            "\n",
            "위 정보를 바탕으로, 아래 7가지 key에 대한 값을 JSON 형태로 추론해 주세요 :\n",
            "1) gender\n",
            "2) masterCategory\n",
            "3) subCategory\n",
            "4) season\n",
            "5) usage\n",
            "6) baseColour\n",
            "7) articleType\n",
            "\n",
            "출력 시 ** 아래 JSON 예시 형태**를 반드시 지키세요:\n",
            "{\n",
            "    \"gender\" : \"예시 값\",\n",
            "    \"masterCategory\" : \"예시 값\",\n",
            "    \"subCategory\" : \"예시 값\",\n",
            "    \"season\" : \"예시 값\",\n",
            "    \"usage\" : \"예시 값\",\n",
            "    \"baseColour\" : \"예시 값\",\n",
            "    \"articleType\" : \"예시 값\",\n",
            "}\n",
            "\n",
            "#예시\n",
            "{\n",
            "    \"gender\" : \"Men\",\n",
            "    \"masterCategory\" : \"Accessories\",\n",
            "    \"subCategory\" : \"Eyewear\",\n",
            "    \"season\" : \"Winter\",\n",
            "    \"usage\" : \"Causal\",\n",
            "    \"baseColour\" : \"Blue\",\n",
            "    \"articleType\" : \"Sunglasses\",\n",
            "}\n",
            "#주의\n",
            "- 7개 항목 이외의 정보(텍스트, 문장 등)는 절대 포함하지 마세요.\n",
            "<|vision_start|><|image_pad|><|vision_end|><|im_end|>\n",
            "<|im_start|>\n",
            "{\"gender\": \"Men\", \"masterCategory\": \"Apparel\", \"subCategory\": \"Topwear\", \"season\": \"Fall\", \"usage\": \"Casual\", \"baseColour\": \"Grey\", \"articleType\": \"Tshirts\"}<|im_end|>\n",
            "\n"
          ]
        }
      ],
      "source": [
        "text = processor.apply_chat_template(\n",
        "    train_dataset[0][\"messages\"], tokenizer = False, add_generation_prompt = False\n",
        ")\n",
        "print(text)"
      ]
    },
    {
      "cell_type": "markdown",
      "metadata": {
        "id": "TNsNquqftBx-"
      },
      "source": [
        "# 8. LoRA 설정"
      ]
    },
    {
      "cell_type": "code",
      "execution_count": 13,
      "metadata": {
        "id": "7XioTn_LPmcK"
      },
      "outputs": [],
      "source": [
        "peft_config = LoraConfig(\n",
        "    # 모델 가중치에 LoRA 업데이트를 적용하는 정도를 조절하는 스케일링 계수\n",
        "    lora_alpha = 128,\n",
        "    # 과적합을 방지하기 위한 드롭아웃 비율 설정\n",
        "    lora_dropout = 0.05,\n",
        "    #LoRA의 순위(rank) - 저차원 행렬의 차원을 결정\n",
        "    r = 256,\n",
        "    # 편향 업데이트 여부 - 'none'은 편향을 업데이트 하지 않음\n",
        "    bias = \"none\",\n",
        "    # LoRA를 적용할 대상 모듈들 - 트랜스포머 모델의 주요 투영 레이어들\n",
        "    target_modules = [\n",
        "        \"q_proj\", # Query 투영 레이어\n",
        "        \"k_proj\", # Key 투영 레이어\n",
        "        \"v_proj\", # Value 투영 레이어\n",
        "        \"o_proj\", # Output 투영 레이어\n",
        "        \"gate_proj\", # FFN 게이트 투영 레이어\n",
        "        \"up_proj\",  # FFN 상향 투영 레이어\n",
        "        \"down_proj\", # FFN 하향 투영 레이어\n",
        "\n",
        "    ],\n",
        "    # 작업 유형 지정 - 인과적 언어 모델링(다음 토큰 예측)\n",
        "    task_type = \"CAUSAL_LM\"\n",
        ")"
      ]
    },
    {
      "cell_type": "markdown",
      "metadata": {
        "id": "BVWuANyntBlV"
      },
      "source": [
        "# 9. 학습 설정"
      ]
    },
    {
      "cell_type": "code",
      "execution_count": 14,
      "metadata": {
        "id": "IyAN-OH3RBBo"
      },
      "outputs": [],
      "source": [
        "args = SFTConfig(\n",
        "    output_dir = \"output_dir\",\n",
        "    num_train_epochs = 2,\n",
        "    per_device_train_batch_size = 16,\n",
        "    gradient_accumulation_steps = 8,\n",
        "    gradient_checkpointing = True,\n",
        "    optim = \"adamw_torch_fused\",        #최적화기\n",
        "    logging_steps = 10,\n",
        "    save_strategy = \"steps\",\n",
        "    save_steps = 50,\n",
        "    bf16 = True,\n",
        "    learning_rate = 1e-4,\n",
        "    max_grad_norm = 0.3,                #그레디언트 클리핑\n",
        "    warmup_ratio = 0.03,\n",
        "    lr_scheduler_type = \"constant\",     # 고정 학습률\n",
        "    push_to_hub = False,\n",
        "    remove_unused_columns = False,\n",
        "    dataset_kwargs = {\"skip_prepare_dataset\" : True},\n",
        "    report_to = None\n",
        ")"
      ]
    },
    {
      "cell_type": "markdown",
      "metadata": {
        "id": "JyAt-FsrtBDq"
      },
      "source": [
        "# 10. 데이터 콜레이터 함수 정의"
      ]
    },
    {
      "cell_type": "code",
      "execution_count": 15,
      "metadata": {
        "id": "iC3-5R0QSi9B"
      },
      "outputs": [],
      "source": [
        "def collate_fn(examples):\n",
        "    \"\"\"\n",
        "    텍스트와 이미지가 포함된 대화 데이터를 모델 학습에 적합한 형태로 변환하는 함수\n",
        "\n",
        "    Args:\n",
        "        examples : 각각 \"messages\" 키를 가진 딕셔너리들의 리스트\n",
        "                messages는 role(system/user/assistant)과 content를 포함하는 대화 형태\n",
        "\n",
        "    Returns:\n",
        "        batch : 모델 학습에 사용할 수 있는 토큰화된 텍스트, 이미지, 라벨이 포함된 배치\n",
        "    \"\"\"\n",
        "\n",
        "    # 1단계 : 텍스트 전처리 - 채팅 템플릿 적용\n",
        "    # 각 예제의 messages를 모델 고유의 채팅 형식으롭 변환\n",
        "    # 모델마다 다른 특수 토큰과 형식을 사용 (예 : <|im_start|>, <|system|> 등)\n",
        "    texts = [processor.apply_chat_template(example[\"messages\"], tokenize = False) for example in examples]\n",
        "\n",
        "    # 2단계 : 이미지 데이터 추출 및 전처리\n",
        "    # messages에서 이미지 정보를 추출하여 모델이 처리할 수 있는 형태로 변환\n",
        "    # process_vision_info()는 messages에서 이미지를 찾아 적절한 형태로 변환해주는 함수\n",
        "    image_inputs = [process_vision_info(example[\"messages\"])[0] for example in examples]\n",
        "\n",
        "    # 3단계 : 텍스트 토크나이징 + 이미지 인코딩\n",
        "    # 텍스트를 토큰으로 변환하고 이미지를 인코딩하여 하나의 배치로 묶음\n",
        "    # return_tensors = \"pt\" : PyTorch 텐서 형태로 변환\n",
        "    # padding = True :  배치 내 모든 시퀀스를 같은 길이로 맞춤\n",
        "    batch = processor(text = texts, images = image_inputs, padding = True, return_tensors = \"pt\")\n",
        "\n",
        "    # 4단계 : 라벨 생성(손실 계산용)\n",
        "    # input_ids를 복사하여 라벨로 사용(다음 토큰 예측 학습을 위함)\n",
        "    labels = batch[\"input_ids\"].clone()\n",
        "\n",
        "    # 5단계 : 패딩 토큰 손실 계산에서 제외\n",
        "    # 패딩된 부분은 실제 데이터가 아니므로 손실 계산에서 제외\n",
        "    # -100으로 설정하면 CrossEntropyLoss에서 자동으로 무시됨\n",
        "    labels[labels == processor.tokenizer.pad_token_id] = -100\n",
        "\n",
        "    # 6단계 : 이미지 토큰 손실 계산에서 제외\n",
        "    # 이미지 토큰은 예측 대상이 아니므로 손실 계산에서 제외\n",
        "    if isinstance(processor, Qwen2VLProcessor):\n",
        "        # Qwen2VL 모델에서 사용하는 특수 이미지 토큰들의 ID\n",
        "        # 151652 : 이미지 시작 토큰, 151633: 이미지 종료 토큰, 151655: 이미지 패치 토큰\n",
        "        image_tokens = [151652,151633,151655]\n",
        "    else:\n",
        "        # 다른 비전 - 언어 모델의 이미지 토큰 ID 추출\n",
        "        image_tokens = [processor.tokenizer.convert_tokens_to_ids(processor.image_token)]\n",
        "\n",
        "    # 이미지 토큰들을 손실 계산에서 제외(-100으로 설정)\n",
        "    for image_token_id in image_tokens:\n",
        "        labels[labels == image_token_id] = -100\n",
        "\n",
        "    # 7단계 : 최종 배치에 라벨 추가\n",
        "    # 모델 학습 시 손실 계산에 사용될 라벨을 배치에 추가\n",
        "    batch[\"labels\"] = labels\n",
        "\n",
        "    return batch"
      ]
    },
    {
      "cell_type": "code",
      "execution_count": 16,
      "metadata": {
        "colab": {
          "base_uri": "https://localhost:8080/"
        },
        "id": "m78iTMn9WVg_",
        "outputId": "f8cb98cf-7766-43ac-f733-3e59b9f1196d"
      },
      "outputs": [
        {
          "name": "stdout",
          "output_type": "stream",
          "text": [
            "단일 예시 데이터:\n",
            "{'messages': [{'role': 'system', 'content': [{'type': 'text', 'text': '당신은 이미지와 제품명(name)으로부터 패션/ 스타일 정보를 추론하는 분류 모델입니다.'}]}, {'role': 'user', 'content': [{'type': 'text', 'text': ' 입력 정보:\\n- name : Mr.Men Men\\'s Charcoal White T-shirt\\n- image : [image]\\n\\n위 정보를 바탕으로, 아래 7가지 key에 대한 값을 JSON 형태로 추론해 주세요 :\\n1) gender\\n2) masterCategory\\n3) subCategory\\n4) season\\n5) usage\\n6) baseColour\\n7) articleType\\n\\n출력 시 ** 아래 JSON 예시 형태**를 반드시 지키세요:\\n{\\n    \"gender\" : \"예시 값\",\\n    \"masterCategory\" : \"예시 값\",\\n    \"subCategory\" : \"예시 값\",\\n    \"season\" : \"예시 값\",\\n    \"usage\" : \"예시 값\",\\n    \"baseColour\" : \"예시 값\",\\n    \"articleType\" : \"예시 값\",\\n}\\n\\n#예시\\n{\\n    \"gender\" : \"Men\",\\n    \"masterCategory\" : \"Accessories\",\\n    \"subCategory\" : \"Eyewear\",\\n    \"season\" : \"Winter\",\\n    \"usage\" : \"Causal\",\\n    \"baseColour\" : \"Blue\",\\n    \"articleType\" : \"Sunglasses\",\\n}\\n#주의\\n- 7개 항목 이외의 정보(텍스트, 문장 등)는 절대 포함하지 마세요.\\n'}, {'type': 'image', 'image': <PIL.PngImagePlugin.PngImageFile image mode=RGB size=60x80 at 0x7BF59754CDF0>}]}, {'rple': 'assistant', 'content': [{'type': 'text', 'text': '{\"gender\": \"Men\", \"masterCategory\": \"Apparel\", \"subCategory\": \"Topwear\", \"season\": \"Fall\", \"usage\": \"Casual\", \"baseColour\": \"Grey\", \"articleType\": \"Tshirts\"}'}]}]}\n",
            "\n",
            "처리된 배치 데이터:\n",
            "입력 ID 형태: torch.Size([1, 378])\n",
            "어텐션 마스크 형태: torch.Size([1, 378])\n",
            "이미지 픽셀 형태: torch.Size([24, 1176])\n",
            "레이블 형태: torch.Size([1, 378])\n"
          ]
        }
      ],
      "source": [
        "# 단일 예시 확인\n",
        "example = train_dataset[0]\n",
        "print(\"단일 예시 데이터:\")\n",
        "print(example)\n",
        "\n",
        "#collate_fn 테스트(배치 크기 1로)\n",
        "batch = collate_fn([example])\n",
        "print(\"\\n처리된 배치 데이터:\")\n",
        "print(\"입력 ID 형태:\", batch[\"input_ids\"].shape)\n",
        "print(\"어텐션 마스크 형태:\", batch[\"attention_mask\"].shape)\n",
        "print(\"이미지 픽셀 형태:\", batch[\"pixel_values\"].shape)\n",
        "print(\"레이블 형태:\", batch[\"labels\"].shape)"
      ]
    },
    {
      "cell_type": "code",
      "execution_count": 17,
      "metadata": {
        "colab": {
          "base_uri": "https://localhost:8080/"
        },
        "id": "oFG1WfH8XN6u",
        "outputId": "387f4e62-863b-4bc2-b36c-0eb62019afb0"
      },
      "outputs": [
        {
          "name": "stdout",
          "output_type": "stream",
          "text": [
            "입력에 대한 정수 인코딩 결과:\n",
            "tensor([151644,   8948,    198,  64795,  82528,  33704,  90667,  21329,  80573,\n",
            "        138017,  79632,   3153,      8,  42039, 126558,  45104,    101,  92031,\n",
            "            14,  79207,  44680,    225,    222,  32077,  60039,  18411,  57835,\n",
            "        126605,  42905, 128618,  97929,  54070, 142713,  78952,     13, 151645,\n",
            "           198, 151644,    872,    198,  42349,  60039,    510,     12,    829,\n",
            "           549,   4392,   1321,    268,  11012,    594,   4864,  40465,   5807,\n",
            "           350,  33668,    198,     12,   2168,    549,    508,   1805,   2533,\n",
            "         80901,  60039,  18411,  81718, 144059,  42039,     11, 136646,    220,\n",
            "            22,  19969,  21329,   1376,  19391, 128605,  93668,   4718, 141966,\n",
            "         17380,  57835, 126605,  33883,  55673,  50302,   6260,     16,      8,\n",
            "          9825,    198,     17,      8,   7341,   6746,    198,     18,      8,\n",
            "          1186,   6746,    198,     19,      8,   3200,    198,     20,      8,\n",
            "         10431,    198,     21,      8,   2331,  33281,    198,     22,      8,\n",
            "          4549,    929,    271,  53496,  57133,  44518,   3070, 136646,   4718,\n",
            "         95617,  29326, 141966,    334,  18411, 141762,  66790, 126896,  50302,\n",
            "           510,    515,    262,    330,  12968,      1,    549,    330, 127027,\n",
            "         29326,  45563,    756,    262,    330,  13629,   6746,      1,    549,\n",
            "           330, 127027,  29326,  45563,    756,    262,    330,   1966,   6746,\n",
            "             1,    549,    330, 127027,  29326,  45563,    756,    262,    330,\n",
            "         16798,      1,    549,    330, 127027,  29326,  45563,    756,    262,\n",
            "           330,  17698,      1,    549,    330, 127027,  29326,  45563,    756,\n",
            "           262,    330,   3152,  33281,      1,    549,    330, 127027,  29326,\n",
            "         45563,    756,    262,    330,   7058,    929,      1,    549,    330,\n",
            "        127027,  29326,  45563,    756,    630,      2, 127027,  29326,    198,\n",
            "           515,    262,    330,  12968,      1,    549,    330,  28719,    756,\n",
            "           262,    330,  13629,   6746,      1,    549,    330,   6054,   2433,\n",
            "           756,    262,    330,   1966,   6746,      1,    549,    330,  97454,\n",
            "         98128,    756,    262,    330,  16798,      1,    549,    330,  66188,\n",
            "           756,    262,    330,  17698,      1,    549,    330,     34,  79074,\n",
            "           756,    262,    330,   3152,  33281,      1,    549,    330,  10331,\n",
            "           756,    262,    330,   7058,    929,      1,    549,    330,     50,\n",
            "          2185,  33868,    756,    532,      2, 130788,    198,     12,    220,\n",
            "            22,  59761, 142654,  87608,  23084, 128792,  20401,  60039,      7,\n",
            "        144153,  53189,     11,  53435,  40853,  77002,      8,  16560,  18585,\n",
            "           230,  66845, 133970,  87425,  95577,  50302,    624, 151652, 151655,\n",
            "        151655, 151655, 151655, 151655, 151655, 151653, 151645,    198, 151644,\n",
            "           198,   4913,  12968,    788,    330,  28719,    497,    330,  13629,\n",
            "          6746,    788,    330,   2164,  30431,    497,    330,   1966,   6746,\n",
            "           788,    330,   5366,  22744,    497,    330,  16798,    788,    330,\n",
            "         49772,    497,    330,  17698,    788,    330,  49242,    928,    497,\n",
            "           330,   3152,  33281,    788,    330,  59165,    497,    330,   7058,\n",
            "           929,    788,    330,     51,    927,  19666,   9207, 151645,    198])\n"
          ]
        }
      ],
      "source": [
        "print(\"입력에 대한 정수 인코딩 결과:\")\n",
        "print(batch[\"input_ids\"][0])"
      ]
    },
    {
      "cell_type": "code",
      "execution_count": 18,
      "metadata": {
        "colab": {
          "base_uri": "https://localhost:8080/"
        },
        "id": "VUX5CfnbXiGo",
        "outputId": "bd2ee47d-6d37-4d79-e53f-4c9f201fda8c"
      },
      "outputs": [
        {
          "name": "stdout",
          "output_type": "stream",
          "text": [
            "레이블에 대한 정수 인코딩 결과:\n",
            "tensor([151644,   8948,    198,  64795,  82528,  33704,  90667,  21329,  80573,\n",
            "        138017,  79632,   3153,      8,  42039, 126558,  45104,    101,  92031,\n",
            "            14,  79207,  44680,    225,    222,  32077,  60039,  18411,  57835,\n",
            "        126605,  42905, 128618,  97929,  54070, 142713,  78952,     13, 151645,\n",
            "           198, 151644,    872,    198,  42349,  60039,    510,     12,    829,\n",
            "           549,   4392,   1321,    268,  11012,    594,   4864,  40465,   5807,\n",
            "           350,  33668,    198,     12,   2168,    549,    508,   1805,   2533,\n",
            "         80901,  60039,  18411,  81718, 144059,  42039,     11, 136646,    220,\n",
            "            22,  19969,  21329,   1376,  19391, 128605,  93668,   4718, 141966,\n",
            "         17380,  57835, 126605,  33883,  55673,  50302,   6260,     16,      8,\n",
            "          9825,    198,     17,      8,   7341,   6746,    198,     18,      8,\n",
            "          1186,   6746,    198,     19,      8,   3200,    198,     20,      8,\n",
            "         10431,    198,     21,      8,   2331,  33281,    198,     22,      8,\n",
            "          4549,    929,    271,  53496,  57133,  44518,   3070, 136646,   4718,\n",
            "         95617,  29326, 141966,    334,  18411, 141762,  66790, 126896,  50302,\n",
            "           510,    515,    262,    330,  12968,      1,    549,    330, 127027,\n",
            "         29326,  45563,    756,    262,    330,  13629,   6746,      1,    549,\n",
            "           330, 127027,  29326,  45563,    756,    262,    330,   1966,   6746,\n",
            "             1,    549,    330, 127027,  29326,  45563,    756,    262,    330,\n",
            "         16798,      1,    549,    330, 127027,  29326,  45563,    756,    262,\n",
            "           330,  17698,      1,    549,    330, 127027,  29326,  45563,    756,\n",
            "           262,    330,   3152,  33281,      1,    549,    330, 127027,  29326,\n",
            "         45563,    756,    262,    330,   7058,    929,      1,    549,    330,\n",
            "        127027,  29326,  45563,    756,    630,      2, 127027,  29326,    198,\n",
            "           515,    262,    330,  12968,      1,    549,    330,  28719,    756,\n",
            "           262,    330,  13629,   6746,      1,    549,    330,   6054,   2433,\n",
            "           756,    262,    330,   1966,   6746,      1,    549,    330,  97454,\n",
            "         98128,    756,    262,    330,  16798,      1,    549,    330,  66188,\n",
            "           756,    262,    330,  17698,      1,    549,    330,     34,  79074,\n",
            "           756,    262,    330,   3152,  33281,      1,    549,    330,  10331,\n",
            "           756,    262,    330,   7058,    929,      1,    549,    330,     50,\n",
            "          2185,  33868,    756,    532,      2, 130788,    198,     12,    220,\n",
            "            22,  59761, 142654,  87608,  23084, 128792,  20401,  60039,      7,\n",
            "        144153,  53189,     11,  53435,  40853,  77002,      8,  16560,  18585,\n",
            "           230,  66845, 133970,  87425,  95577,  50302,    624,   -100,   -100,\n",
            "          -100,   -100,   -100,   -100,   -100, 151653, 151645,    198, 151644,\n",
            "           198,   4913,  12968,    788,    330,  28719,    497,    330,  13629,\n",
            "          6746,    788,    330,   2164,  30431,    497,    330,   1966,   6746,\n",
            "           788,    330,   5366,  22744,    497,    330,  16798,    788,    330,\n",
            "         49772,    497,    330,  17698,    788,    330,  49242,    928,    497,\n",
            "           330,   3152,  33281,    788,    330,  59165,    497,    330,   7058,\n",
            "           929,    788,    330,     51,    927,  19666,   9207, 151645,    198])\n"
          ]
        }
      ],
      "source": [
        "print(\"레이블에 대한 정수 인코딩 결과:\")\n",
        "print(batch[\"labels\"][0])"
      ]
    },
    {
      "cell_type": "code",
      "execution_count": 19,
      "metadata": {
        "colab": {
          "base_uri": "https://localhost:8080/"
        },
        "id": "ChF6GfDGYBbM",
        "outputId": "2d8463f8-536c-4473-c9d6-3971b8a8665c"
      },
      "outputs": [
        {
          "name": "stdout",
          "output_type": "stream",
          "text": [
            "디코딩된 텍스트:\n",
            "<|im_start|>system\n",
            "당신은 이미지와 제품명(name)으로부터 패션/ 스타일 정보를 추론하는 분류 모델입니다.<|im_end|>\n",
            "<|im_start|>user\n",
            " 입력 정보:\n",
            "- name : Mr.Men Men's Charcoal White T-shirt\n",
            "- image : [image]\n",
            "\n",
            "위 정보를 바탕으로, 아래 7가지 key에 대한 값을 JSON 형태로 추론해 주세요 :\n",
            "1) gender\n",
            "2) masterCategory\n",
            "3) subCategory\n",
            "4) season\n",
            "5) usage\n",
            "6) baseColour\n",
            "7) articleType\n",
            "\n",
            "출력 시 ** 아래 JSON 예시 형태**를 반드시 지키세요:\n",
            "{\n",
            "    \"gender\" : \"예시 값\",\n",
            "    \"masterCategory\" : \"예시 값\",\n",
            "    \"subCategory\" : \"예시 값\",\n",
            "    \"season\" : \"예시 값\",\n",
            "    \"usage\" : \"예시 값\",\n",
            "    \"baseColour\" : \"예시 값\",\n",
            "    \"articleType\" : \"예시 값\",\n",
            "}\n",
            "\n",
            "#예시\n",
            "{\n",
            "    \"gender\" : \"Men\",\n",
            "    \"masterCategory\" : \"Accessories\",\n",
            "    \"subCategory\" : \"Eyewear\",\n",
            "    \"season\" : \"Winter\",\n",
            "    \"usage\" : \"Causal\",\n",
            "    \"baseColour\" : \"Blue\",\n",
            "    \"articleType\" : \"Sunglasses\",\n",
            "}\n",
            "#주의\n",
            "- 7개 항목 이외의 정보(텍스트, 문장 등)는 절대 포함하지 마세요.\n",
            "<|vision_start|><|image_pad|><|image_pad|><|image_pad|><|image_pad|><|image_pad|><|image_pad|><|vision_end|><|im_end|>\n",
            "<|im_start|>\n",
            "{\"gender\": \"Men\", \"masterCategory\": \"Apparel\", \"subCategory\": \"Topwear\", \"season\": \"Fall\", \"usage\": \"Casual\", \"baseColour\": \"Grey\", \"articleType\": \"Tshirts\"}<|im_end|>\n",
            "\n"
          ]
        }
      ],
      "source": [
        "# 토큰 디코딩 예시 (입력 텍스트가 어떻게 변환되었는지 확인)\n",
        "decoded_text = processor.tokenizer.decode(batch[\"input_ids\"][0])\n",
        "print(\"디코딩된 텍스트:\")\n",
        "print(decoded_text)"
      ]
    },
    {
      "cell_type": "markdown",
      "metadata": {
        "id": "a3TpGgyQtXfM"
      },
      "source": [
        "# 11. 학습 시작"
      ]
    },
    {
      "cell_type": "code",
      "execution_count": 20,
      "metadata": {
        "colab": {
          "base_uri": "https://localhost:8080/",
          "height": 588
        },
        "id": "wVj1RC5Msf7-",
        "outputId": "e6db254d-7fae-4e61-b070-d24c99fb9439"
      },
      "outputs": [
        {
          "name": "stderr",
          "output_type": "stream",
          "text": [
            "/usr/local/lib/python3.10/dist-packages/trl/trainer/sft_trainer.py:292: UserWarning: You didn't pass a `max_seq_length` argument to the SFTTrainer, this will default to 1024\n",
            "  warnings.warn(\n",
            "/usr/local/lib/python3.10/dist-packages/trl/trainer/sft_trainer.py:396: UserWarning: You passed a tokenizer with `padding_side` not equal to `right` to the SFTTrainer. This might lead to some unexpected behaviour due to overflow issues when training a model in half-precision. You might consider adding `tokenizer.padding_side = 'right'` to your code.\n",
            "  warnings.warn(\n"
          ]
        }
      ],
      "source": [
        "trainer = SFTTrainer(\n",
        "    model = model,\n",
        "    args = args,\n",
        "    train_dataset = train_dataset,\n",
        "    data_collator = collate_fn,\n",
        "    peft_config = peft_config,\n",
        "    tokenizer = processor.tokenizer\n",
        ")"
      ]
    },
    {
      "cell_type": "code",
      "execution_count": 21,
      "metadata": {
        "id": "41tmMQ51Yibs"
      },
      "outputs": [
        {
          "name": "stderr",
          "output_type": "stream",
          "text": [
            "\u001b[34m\u001b[1mwandb\u001b[0m: \u001b[33mWARNING\u001b[0m The `run_name` is currently set to the same value as `TrainingArguments.output_dir`. If this was not intended, please specify a different run name by setting the `TrainingArguments.run_name` parameter.\n",
            "`use_cache=True` is incompatible with gradient checkpointing. Setting `use_cache=False`...\n"
          ]
        },
        {
          "data": {
            "text/html": [
              "\n",
              "    <div>\n",
              "      \n",
              "      <progress value='68' max='68' style='width:300px; height:20px; vertical-align: middle;'></progress>\n",
              "      [68/68 22:26, Epoch 1/2]\n",
              "    </div>\n",
              "    <table border=\"1\" class=\"dataframe\">\n",
              "  <thead>\n",
              " <tr style=\"text-align: left;\">\n",
              "      <th>Step</th>\n",
              "      <th>Training Loss</th>\n",
              "    </tr>\n",
              "  </thead>\n",
              "  <tbody>\n",
              "    <tr>\n",
              "      <td>10</td>\n",
              "      <td>0.580600</td>\n",
              "    </tr>\n",
              "    <tr>\n",
              "      <td>20</td>\n",
              "      <td>0.095100</td>\n",
              "    </tr>\n",
              "    <tr>\n",
              "      <td>30</td>\n",
              "      <td>0.079500</td>\n",
              "    </tr>\n",
              "    <tr>\n",
              "      <td>40</td>\n",
              "      <td>0.073500</td>\n",
              "    </tr>\n",
              "    <tr>\n",
              "      <td>50</td>\n",
              "      <td>0.068500</td>\n",
              "    </tr>\n",
              "    <tr>\n",
              "      <td>60</td>\n",
              "      <td>0.066100</td>\n",
              "    </tr>\n",
              "  </tbody>\n",
              "</table><p>"
            ],
            "text/plain": [
              "<IPython.core.display.HTML object>"
            ]
          },
          "metadata": {},
          "output_type": "display_data"
        },
        {
          "name": "stderr",
          "output_type": "stream",
          "text": [
            "Unrecognized keys in `rope_scaling` for 'rope_type'='default': {'mrope_section'}\n",
            "Unrecognized keys in `rope_scaling` for 'rope_type'='default': {'mrope_section'}\n",
            "Unrecognized keys in `rope_scaling` for 'rope_type'='default': {'mrope_section'}\n"
          ]
        }
      ],
      "source": [
        "trainer.train()\n",
        "trainer.save_model()"
      ]
    }
  ],
  "metadata": {
    "colab": {
      "provenance": []
    },
    "kernelspec": {
      "display_name": "Python 3 (ipykernel)",
      "language": "python",
      "name": "python3"
    },
    "language_info": {
      "codemirror_mode": {
        "name": "ipython",
        "version": 3
      },
      "file_extension": ".py",
      "mimetype": "text/x-python",
      "name": "python",
      "nbconvert_exporter": "python",
      "pygments_lexer": "ipython3",
      "version": "3.10.12"
    }
  },
  "nbformat": 4,
  "nbformat_minor": 4
}
